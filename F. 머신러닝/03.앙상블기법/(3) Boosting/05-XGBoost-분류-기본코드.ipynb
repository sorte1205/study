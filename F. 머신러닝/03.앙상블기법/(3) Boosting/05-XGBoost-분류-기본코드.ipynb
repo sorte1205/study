{
 "cells": [
  {
   "cell_type": "markdown",
   "metadata": {},
   "source": [
    "# XGBoost 분류 기본 코드\n",
    "\n",
    "## #01. 기본 준비\n",
    "\n",
    "### [1] 패키지 가져오기\n",
    "\n",
    "기본 코드는 sklearn과 호환되지 않기 때문에 모듈화 해 둔 성능평가 함수( my_classification_result() )를 사용할 수 없다."
   ]
  },
  {
   "cell_type": "code",
   "execution_count": null,
   "metadata": {},
   "outputs": [],
   "source": [
    "# 연결된 모듈이 업데이트 되면 즉시 자동 로드함\n",
    "%load_ext autoreload\n",
    "%autoreload 2\n",
    "\n",
    "from hossam.util import *\n",
    "from hossam.plot import *\n",
    "from hossam.analysis import *\n",
    "from hossam.classification import *\n",
    "\n",
    "# xgboost\n",
    "import xgboost as xgb\n",
    "\n",
    "# 성능평가도구\n",
    "from sklearn.metrics import accuracy_score, precision_score, recall_score, f1_score, roc_auc_score"
   ]
  },
  {
   "cell_type": "markdown",
   "metadata": {},
   "source": [
    "### [2] 데이터 가져오기"
   ]
  },
  {
   "cell_type": "code",
   "execution_count": null,
   "metadata": {},
   "outputs": [],
   "source": [
    "origin = my_read_excel(\n",
    "    path=\"https://data.hossam.kr/mldata/pima_indians_diabetes.xlsx\",\n",
    "    categories=[\"Outcome\"],\n",
    "    info=False,\n",
    ")"
   ]
  },
  {
   "cell_type": "markdown",
   "metadata": {},
   "source": [
    "### [3] 기본 데이터 처리"
   ]
  },
  {
   "cell_type": "code",
   "execution_count": null,
   "metadata": {},
   "outputs": [],
   "source": [
    "# 정제 대상 필드명\n",
    "zero_features = [\"Glucose\", \"BloodPressure\", \"SkinThickness\", \"Insulin\", \"BMI\"]\n",
    "\n",
    "# 0값을 결측치로 대체후 평균으로 다시 치환\n",
    "df = origin.copy()\n",
    "df[zero_features] = df[zero_features].replace(0, np.nan)\n",
    "df2 = my_replace_missing_value(df)\n",
    "\n",
    "# 훈련/검증 데이터 분할 및 데이터 표준화\n",
    "x_train, x_test, y_train, y_test = my_train_test_split(df2, \"Outcome\", scalling=True)\n",
    "x_train.shape, x_test.shape, y_train.shape, y_test.shape"
   ]
  },
  {
   "cell_type": "markdown",
   "metadata": {},
   "source": [
    "## #02. XGBoost 훈련 모델 적합\n",
    "\n",
    "### [1] XGBoost 전용 데이터 생성\n",
    "\n",
    "사이킷런과 다른 점은 학습/테스트를 위한 `DMatrix`를 생성한다는 점이고, DMatrix는 numpy 입력 파라미터를 받아 만들어지는 XGBoost만의 전용 dataset이다. 주요 입력 파라미터는 data와 label이다.\n",
    "\n",
    "#### (1) DMatrix 형식으로 변환"
   ]
  },
  {
   "cell_type": "code",
   "execution_count": null,
   "metadata": {},
   "outputs": [],
   "source": [
    "dtrain = xgb.DMatrix(data=x_train , label=y_train, feature_names=list(x_train.columns))\n",
    "dtest = xgb.DMatrix(data=x_test , label=y_test, feature_names=list(x_test.columns))\n",
    "dtrain, dtest"
   ]
  },
  {
   "cell_type": "markdown",
   "metadata": {},
   "source": [
    "#### (2) 훈련데이터와 검증데이터를 2차원 리스트로 묶음\n",
    "\n",
    "`[(훈련데이터, 별칭), (검증데이터, 별칭)]` 형식으로 구성한다.\n",
    "\n",
    "train 데이터 세트는 'train', evaluation(test) 데이터 세트는 'eval' 로 명기한다. (고정이름)"
   ]
  },
  {
   "cell_type": "code",
   "execution_count": null,
   "metadata": {},
   "outputs": [],
   "source": [
    "wlist = [(dtrain,'train'), (dtest,'eval') ]\n",
    "wlist"
   ]
  },
  {
   "cell_type": "markdown",
   "metadata": {},
   "source": [
    "### [2] 학습 모델 적합\n",
    "\n",
    "하이퍼파라미터의 자세한 설명은 다음 예제에서 소개합니다."
   ]
  },
  {
   "cell_type": "code",
   "execution_count": null,
   "metadata": {},
   "outputs": [],
   "source": [
    "estimator = xgb.train(\n",
    "    params = {\n",
    "        'booster': \"gbtree\",\n",
    "        # 학습을 위한 디바이스 cpu, gpu, gpu:<숫자>, cuda, cuda:<숫자>\n",
    "        'device': 'cpu',\n",
    "        'eta': 0.1,     # 학습률,\n",
    "        'max_depth': 3, # 트리 깊이\n",
    "        # 목적함수(binary:logistic, multi:softmax, multi:softprob)\n",
    "        'objective': 'binary:logistic',\n",
    "        # 평가지표\n",
    "        'eval_metric': 'error',\n",
    "        'early_stoppings': 5\n",
    "    },\n",
    "    dtrain=dtrain,          # 학습 데이터\n",
    "    num_boost_round=400,    # 부스팅 반복 횟수\n",
    "    evals=wlist             # 성능 평가 데이터\n",
    ")"
   ]
  },
  {
   "cell_type": "markdown",
   "metadata": {},
   "source": [
    "### [3] 학습 결과 확인\n",
    "\n",
    "#### (1) 예측 확률"
   ]
  },
  {
   "cell_type": "code",
   "execution_count": null,
   "metadata": {},
   "outputs": [],
   "source": [
    "pred_probs = estimator.predict(dtest)\n",
    "print('predict( ) 수행 결과값을 10개만 표시, 예측 확률 값으로 표시됨')\n",
    "print(np.round(a=pred_probs[:10], decimals=3))"
   ]
  },
  {
   "cell_type": "markdown",
   "metadata": {},
   "source": [
    "#### (2) 예측값\n",
    "\n",
    "다소 불편하지만 예측값은 직접 계산해야 한다."
   ]
  },
  {
   "cell_type": "code",
   "execution_count": null,
   "metadata": {},
   "outputs": [],
   "source": [
    "# 예측 확률이 0.5 보다 크면 1 , 그렇지 않으면 0 으로 예측값 결정하여 List 객체인 preds에 저장 \n",
    "preds = [ 1 if x > 0.5 else 0 for x in pred_probs ]\n",
    "print('예측값 10개만 표시:',preds[:10])"
   ]
  },
  {
   "cell_type": "markdown",
   "metadata": {},
   "source": [
    "#### (3) 혼동행렬"
   ]
  },
  {
   "cell_type": "code",
   "execution_count": null,
   "metadata": {},
   "outputs": [],
   "source": [
    "my_confusion_matrix(y=y_test, y_pred=preds) "
   ]
  },
  {
   "cell_type": "markdown",
   "metadata": {},
   "source": [
    "#### (4) 성능평가 지표"
   ]
  },
  {
   "cell_type": "code",
   "execution_count": null,
   "metadata": {},
   "outputs": [],
   "source": [
    "accuracy = accuracy_score(y_test , preds)\n",
    "precision = precision_score(y_test , preds)\n",
    "recall = recall_score(y_test , preds)\n",
    "f1 = f1_score(y_test,preds)\n",
    "roc_auc = roc_auc_score(y_test, pred_probs)\n",
    "print('정확도: {0:.4f}, 정밀도: {1:.4f}, 재현율: {2:.4f}, F1: {3:.4f}, AUC:{4:.4f}'.format(accuracy, precision, recall, f1, roc_auc))"
   ]
  },
  {
   "cell_type": "markdown",
   "metadata": {},
   "source": [
    "#### (5) 각 변수별 중요도 확인"
   ]
  },
  {
   "cell_type": "code",
   "execution_count": null,
   "metadata": {},
   "outputs": [],
   "source": [
    "fig = plt.figure(figsize=(10, 4), dpi=100)\n",
    "ax = fig.gca()\n",
    "xgb.plot_importance(estimator, height=0.6, ax=ax)\n",
    "plt.show()\n",
    "plt.close()"
   ]
  },
  {
   "cell_type": "markdown",
   "metadata": {},
   "source": [
    "#### (6) 분류 과정 트리 확인"
   ]
  },
  {
   "cell_type": "code",
   "execution_count": null,
   "metadata": {},
   "outputs": [],
   "source": [
    "xgb.to_graphviz(estimator)"
   ]
  }
 ],
 "metadata": {
  "language_info": {
   "name": "python"
  }
 },
 "nbformat": 4,
 "nbformat_minor": 2
}
