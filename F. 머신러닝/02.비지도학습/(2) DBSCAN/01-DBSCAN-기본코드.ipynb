{
 "cells": [
  {
   "cell_type": "markdown",
   "metadata": {},
   "source": [
    "# DBSCAN 기본 코드\n",
    "\n",
    "Density-based spatial clustering of Application Noise (밀도 기반 데이터 클러스터링 알고리즘)\n",
    "\n",
    "클러스터의 개수를 미리 지정할 필요가 없다.\n",
    "\n",
    "복잡한 형상의 데이터 셋에도 무리 없이 적용 가능\n",
    "\n",
    "어떤 클래스에도 속하지 않는 포인트를 구분할 수 있다.\n",
    "\n",
    "속도는 다소 느리다.\n",
    "\n",
    "> scaling의 영향을 크게 받으며, standard_scaling이 필수\n",
    "\n",
    "## #01. 준비작업\n",
    "\n",
    "### [1] 패키지 가져오기"
   ]
  },
  {
   "cell_type": "code",
   "execution_count": 1,
   "metadata": {},
   "outputs": [],
   "source": [
    "# 연결된 모듈이 업데이트 되면 즉시 자동 로드함\n",
    "%load_ext autoreload\n",
    "%autoreload 2\n",
    "\n",
    "from hossam.util import *\n",
    "from hossam.plot import *\n",
    "from hossam.analysis import *\n",
    "\n",
    "from sklearn.cluster import DBSCAN\n",
    "from sklearn.neighbors import NearestNeighbors"
   ]
  },
  {
   "cell_type": "markdown",
   "metadata": {},
   "source": [
    "### [2] 데이터 가져오기 - 게임 유저 군집화"
   ]
  },
  {
   "cell_type": "code",
   "execution_count": 2,
   "metadata": {},
   "outputs": [
    {
     "name": "stdout",
     "output_type": "stream",
     "text": [
      "<class 'pandas.core.frame.DataFrame'>\n",
      "RangeIndex: 100 entries, 0 to 99\n",
      "Data columns (total 2 columns):\n",
      " #   Column      Non-Null Count  Dtype\n",
      "---  ------      --------------  -----\n",
      " 0   time spent  100 non-null    int64\n",
      " 1   game level  100 non-null    int64\n",
      "dtypes: int64(2)\n",
      "memory usage: 1.7 KB\n",
      "None\n",
      "\n",
      "데이터프레임 상위 5개 행\n",
      "+----+--------------+--------------+\n",
      "|    |   time spent |   game level |\n",
      "|----+--------------+--------------|\n",
      "|  0 |           39 |          944 |\n",
      "|  1 |           55 |          705 |\n",
      "|  2 |           29 |          757 |\n",
      "|  3 |           59 |          999 |\n",
      "|  4 |            7 |          109 |\n",
      "+----+--------------+--------------+\n",
      "\n",
      "데이터프레임 하위 5개 행\n",
      "+----+--------------+--------------+\n",
      "|    |   time spent |   game level |\n",
      "|----+--------------+--------------|\n",
      "| 95 |           47 |          939 |\n",
      "| 96 |           50 |          485 |\n",
      "| 97 |           13 |          916 |\n",
      "| 98 |           79 |          235 |\n",
      "| 99 |           48 |          338 |\n",
      "+----+--------------+--------------+\n",
      "\n",
      "기술통계\n",
      "+------------+---------+--------+---------+-------+-------+-------+-------+-------+-------+\n",
      "|            |   count |   mean |     std |   min |   25% |   50% |   75% |   max |   nan |\n",
      "|------------+---------+--------+---------+-------+-------+-------+-------+-------+-------|\n",
      "| time spent |     100 |  45.95 | 27.8584 |     1 | 23.75 |    45 |    70 |    96 |     0 |\n",
      "| game level |     100 | 538.04 |  276.65 |    13 | 278.5 |   560 | 770.5 |   999 |     0 |\n",
      "+------------+---------+--------+---------+-------+-------+-------+-------+-------+-------+\n"
     ]
    }
   ],
   "source": [
    "origin = my_read_excel(\"https://data.hossam.kr/mldata/game_usage.xlsx\")"
   ]
  },
  {
   "cell_type": "markdown",
   "metadata": {},
   "source": [
    "## #02. 데이터 전처리\n",
    "\n",
    "> DBSCAN은 성능이 데이터 스케일링에 매우 의존적이기 때문에 필수적으로 스케일링을 수행해야 한다.\n",
    "\n",
    "### [1] 데이터 표준화"
   ]
  },
  {
   "cell_type": "code",
   "execution_count": 3,
   "metadata": {},
   "outputs": [
    {
     "data": {
      "text/html": [
       "<div>\n",
       "<style scoped>\n",
       "    .dataframe tbody tr th:only-of-type {\n",
       "        vertical-align: middle;\n",
       "    }\n",
       "\n",
       "    .dataframe tbody tr th {\n",
       "        vertical-align: top;\n",
       "    }\n",
       "\n",
       "    .dataframe thead th {\n",
       "        text-align: right;\n",
       "    }\n",
       "</style>\n",
       "<table border=\"1\" class=\"dataframe\">\n",
       "  <thead>\n",
       "    <tr style=\"text-align: right;\">\n",
       "      <th></th>\n",
       "      <th>time spent</th>\n",
       "      <th>game level</th>\n",
       "    </tr>\n",
       "  </thead>\n",
       "  <tbody>\n",
       "    <tr>\n",
       "      <th>0</th>\n",
       "      <td>-0.250733</td>\n",
       "      <td>1.474805</td>\n",
       "    </tr>\n",
       "    <tr>\n",
       "      <th>1</th>\n",
       "      <td>0.326494</td>\n",
       "      <td>0.606546</td>\n",
       "    </tr>\n",
       "    <tr>\n",
       "      <th>2</th>\n",
       "      <td>-0.611500</td>\n",
       "      <td>0.795456</td>\n",
       "    </tr>\n",
       "    <tr>\n",
       "      <th>3</th>\n",
       "      <td>0.470801</td>\n",
       "      <td>1.674613</td>\n",
       "    </tr>\n",
       "    <tr>\n",
       "      <th>4</th>\n",
       "      <td>-1.405187</td>\n",
       "      <td>-1.558652</td>\n",
       "    </tr>\n",
       "    <tr>\n",
       "      <th>...</th>\n",
       "      <td>...</td>\n",
       "      <td>...</td>\n",
       "    </tr>\n",
       "    <tr>\n",
       "      <th>95</th>\n",
       "      <td>0.037881</td>\n",
       "      <td>1.456640</td>\n",
       "    </tr>\n",
       "    <tr>\n",
       "      <th>96</th>\n",
       "      <td>0.146111</td>\n",
       "      <td>-0.192688</td>\n",
       "    </tr>\n",
       "    <tr>\n",
       "      <th>97</th>\n",
       "      <td>-1.188727</td>\n",
       "      <td>1.373084</td>\n",
       "    </tr>\n",
       "    <tr>\n",
       "      <th>98</th>\n",
       "      <td>1.192335</td>\n",
       "      <td>-1.100909</td>\n",
       "    </tr>\n",
       "    <tr>\n",
       "      <th>99</th>\n",
       "      <td>0.073957</td>\n",
       "      <td>-0.726722</td>\n",
       "    </tr>\n",
       "  </tbody>\n",
       "</table>\n",
       "<p>100 rows × 2 columns</p>\n",
       "</div>"
      ],
      "text/plain": [
       "    time spent  game level\n",
       "0    -0.250733    1.474805\n",
       "1     0.326494    0.606546\n",
       "2    -0.611500    0.795456\n",
       "3     0.470801    1.674613\n",
       "4    -1.405187   -1.558652\n",
       "..         ...         ...\n",
       "95    0.037881    1.456640\n",
       "96    0.146111   -0.192688\n",
       "97   -1.188727    1.373084\n",
       "98    1.192335   -1.100909\n",
       "99    0.073957   -0.726722\n",
       "\n",
       "[100 rows x 2 columns]"
      ]
     },
     "execution_count": 3,
     "metadata": {},
     "output_type": "execute_result"
    }
   ],
   "source": [
    "df = my_standard_scaler(origin)\n",
    "df"
   ]
  },
  {
   "cell_type": "markdown",
   "metadata": {},
   "source": [
    "## #03. 군집화 모델 \n",
    "\n",
    "### [1] 하이퍼파라미터 설정\n",
    "\n",
    "| 하이퍼파라미터 | 설명 | 기본값 | 추천 | 가능한 값 |\n",
    "|----------------|--------------------------------|--------|-----------------------------------------------------------|---------------------------|\n",
    "| `eps`          | 최대 이웃 거리.                | `0.5`  | 밀도와 분포에 맞게 조정. **KNN 거리 그래프 사용 권장**.      | 양의 실수                 |\n",
    "| `min_samples`  | `eps` 내 최소 이웃 수. 일반적으로 `minPts`라고 함 | `5`    | 밀도 기준에 맞게 조정. 특성 수보다 크게 설정 권장.        | 양의 정수                 |\n",
    "| `metric`       | 거리 측정 방법.               | `'euclidean'` | 데이터 특성에 맞는 거리 측정 방식 선택.             | 'cityblock', 'euclidean', 등 |\n",
    "| `algorithm`    | 이웃 검색 알고리즘.           | `'auto'` | 데이터 크기/차원에 따라 `'kd_tree'`, `'ball_tree'`, 선택 권장. | 'auto', 'kd_tree', 등     |\n",
    "| `leaf_size`    | `'kd_tree'`나 `'ball_tree'`의 리프 크기. | `30`   | 검색 시간과 메모리 사용에 영향. 값 조정으로 성능 최적화 가능. | 양의 정수                 |"
   ]
  },
  {
   "cell_type": "code",
   "execution_count": 10,
   "metadata": {},
   "outputs": [
    {
     "data": {
      "text/plain": [
       "array([-1,  4, -1, -1, -1, -1, -1,  3,  2,  3, -1, -1,  0, -1, -1,  0, -1,\n",
       "        0,  1, -1, -1, -1,  5, -1,  0,  1, -1,  0,  2, -1, -1, -1,  2,  0,\n",
       "       -1, -1,  3,  2, -1,  1,  2, -1,  1, -1, -1,  4, -1,  3,  4, -1,  2,\n",
       "        5, -1, -1, -1, -1, -1, -1, -1, -1, -1,  4, -1,  3, -1,  4,  3, -1,\n",
       "        3, -1,  1, -1, -1,  2, -1,  5, -1,  4,  0, -1, -1, -1,  3,  1, -1,\n",
       "       -1,  1,  3,  0,  5,  4, -1,  2, -1, -1, -1, -1,  1,  5,  2],\n",
       "      dtype=int64)"
      ]
     },
     "execution_count": 10,
     "metadata": {},
     "output_type": "execute_result"
    }
   ],
   "source": [
    "# 모델 객체 생성\n",
    "estimator = DBSCAN(eps=0.3, min_samples=5, metric='euclidean', algorithm='kd_tree', leaf_size=30, n_jobs=-1)\n",
    "\n",
    "# 모델 학습\n",
    "estimator.fit(df)\n",
    "\n",
    "# 예측 -> predict() 메서드가 없음\n",
    "cluster = estimator.labels_\n",
    "cluster"
   ]
  },
  {
   "cell_type": "markdown",
   "metadata": {},
   "source": [
    "### [2] 결과를 포함하는 데이터프레임 생성"
   ]
  },
  {
   "cell_type": "code",
   "execution_count": 11,
   "metadata": {},
   "outputs": [
    {
     "data": {
      "text/html": [
       "<div>\n",
       "<style scoped>\n",
       "    .dataframe tbody tr th:only-of-type {\n",
       "        vertical-align: middle;\n",
       "    }\n",
       "\n",
       "    .dataframe tbody tr th {\n",
       "        vertical-align: top;\n",
       "    }\n",
       "\n",
       "    .dataframe thead th {\n",
       "        text-align: right;\n",
       "    }\n",
       "</style>\n",
       "<table border=\"1\" class=\"dataframe\">\n",
       "  <thead>\n",
       "    <tr style=\"text-align: right;\">\n",
       "      <th></th>\n",
       "      <th>time spent</th>\n",
       "      <th>game level</th>\n",
       "      <th>cluster</th>\n",
       "    </tr>\n",
       "  </thead>\n",
       "  <tbody>\n",
       "    <tr>\n",
       "      <th>0</th>\n",
       "      <td>-0.250733</td>\n",
       "      <td>1.474805</td>\n",
       "      <td>-1</td>\n",
       "    </tr>\n",
       "    <tr>\n",
       "      <th>1</th>\n",
       "      <td>0.326494</td>\n",
       "      <td>0.606546</td>\n",
       "      <td>4</td>\n",
       "    </tr>\n",
       "    <tr>\n",
       "      <th>2</th>\n",
       "      <td>-0.611500</td>\n",
       "      <td>0.795456</td>\n",
       "      <td>-1</td>\n",
       "    </tr>\n",
       "    <tr>\n",
       "      <th>3</th>\n",
       "      <td>0.470801</td>\n",
       "      <td>1.674613</td>\n",
       "      <td>-1</td>\n",
       "    </tr>\n",
       "    <tr>\n",
       "      <th>4</th>\n",
       "      <td>-1.405187</td>\n",
       "      <td>-1.558652</td>\n",
       "      <td>-1</td>\n",
       "    </tr>\n",
       "    <tr>\n",
       "      <th>...</th>\n",
       "      <td>...</td>\n",
       "      <td>...</td>\n",
       "      <td>...</td>\n",
       "    </tr>\n",
       "    <tr>\n",
       "      <th>95</th>\n",
       "      <td>0.037881</td>\n",
       "      <td>1.456640</td>\n",
       "      <td>-1</td>\n",
       "    </tr>\n",
       "    <tr>\n",
       "      <th>96</th>\n",
       "      <td>0.146111</td>\n",
       "      <td>-0.192688</td>\n",
       "      <td>-1</td>\n",
       "    </tr>\n",
       "    <tr>\n",
       "      <th>97</th>\n",
       "      <td>-1.188727</td>\n",
       "      <td>1.373084</td>\n",
       "      <td>1</td>\n",
       "    </tr>\n",
       "    <tr>\n",
       "      <th>98</th>\n",
       "      <td>1.192335</td>\n",
       "      <td>-1.100909</td>\n",
       "      <td>5</td>\n",
       "    </tr>\n",
       "    <tr>\n",
       "      <th>99</th>\n",
       "      <td>0.073957</td>\n",
       "      <td>-0.726722</td>\n",
       "      <td>2</td>\n",
       "    </tr>\n",
       "  </tbody>\n",
       "</table>\n",
       "<p>100 rows × 3 columns</p>\n",
       "</div>"
      ],
      "text/plain": [
       "    time spent  game level  cluster\n",
       "0    -0.250733    1.474805       -1\n",
       "1     0.326494    0.606546        4\n",
       "2    -0.611500    0.795456       -1\n",
       "3     0.470801    1.674613       -1\n",
       "4    -1.405187   -1.558652       -1\n",
       "..         ...         ...      ...\n",
       "95    0.037881    1.456640       -1\n",
       "96    0.146111   -0.192688       -1\n",
       "97   -1.188727    1.373084        1\n",
       "98    1.192335   -1.100909        5\n",
       "99    0.073957   -0.726722        2\n",
       "\n",
       "[100 rows x 3 columns]"
      ]
     },
     "execution_count": 11,
     "metadata": {},
     "output_type": "execute_result"
    }
   ],
   "source": [
    "df2 = df.copy()\n",
    "df2['cluster'] = cluster\n",
    "df2"
   ]
  },
  {
   "cell_type": "markdown",
   "metadata": {},
   "source": [
    "### [3] 결과 시각화"
   ]
  },
  {
   "cell_type": "code",
   "execution_count": 12,
   "metadata": {},
   "outputs": [
    {
     "data": {
      "image/png": "[encoded data removed]",
      "text/plain": [
       "<Figure size 1000x500 with 1 Axes>"
      ]
     },
     "metadata": {},
     "output_type": "display_data"
    }
   ],
   "source": [
    "my_convex_hull(df2, xname='time spent', yname='game level', hue='cluster')"
   ]
  },
  {
   "cell_type": "markdown",
   "metadata": {},
   "source": [
    "> 분류 결과가 좀 이상하다...?"
   ]
  },
  {
   "cell_type": "markdown",
   "metadata": {},
   "source": [
    "## #04. sorted-k-dist 그래프 (KNN 거리 그래프)\n",
    "\n",
    "- 클러스터링에 앞서 적절한 eps (epsilon) 값을 선택하는 데 중요한 역할을 하는 그래프\n",
    "- `eps`는 클러스터를 형성하는 데 사용되는 밀도 기준으로, 특정 점에서 이 거리 이내에 있는 이웃 점들이 같은 클러스터로 묶이게 된다.\n",
    "- KNN 거리 그래프는 각 데이터 포인트에 대해 K번째 가장 가까운 이웃까지의 거리를 플로팅하여, eps의 적절한 값을 추정하는 데 도움을 준다.\n",
    "\n",
    "### 의미\n",
    "\n",
    "1. 모든 데이터 포인트에 대한 K번째 가장 가까운 이웃까지의 거리를 Y축에 플로팅\n",
    "2. 데이터 포인트를 X축에 정렬\n",
    "\n",
    "데이터 세트 내의 밀도 변화를 시각화하여, 데이터 포인트들이 얼마나 밀집해 있는지를 보여준다. 이를 통해 데이터의 밀도 기반 클러스터링을 위한 eps 값을 선택할 수 있다.\n",
    "\n",
    "### 해석 방법\n",
    "\n",
    "#### 그래프의 형태 확인\n",
    "\n",
    "KNN 거리 그래프를 그리면 대개 급격히 상승하는 \"엘보\" 혹은 무릎처럼 보이는 지점이 나타난다. \n",
    "\n",
    "이 지점은 저밀도 지역(즉, 클러스터 외부 또는 잡음)으로의 전환을 나타내며, 이 지점의 거리 값을 eps로 선택할 수 있다.\n",
    "\n",
    "#### 감도 분석\n",
    "\n",
    "때때로 한 가지의 K값만 고려하기보다는 여러 K값에 대해 그래프를 그려보고 eps의 선택이 클러스터링 결과에 어떻게 영향을 미치는지 관찰하는 것이 좋다. \n",
    "\n",
    "이를 통해 더 안정적이고 의미 있는 클러스터링 결과를 얻을 수 있다.\n",
    "\n",
    "#### `NearestNeighbors(n_neighbors=k)`\n",
    "\n",
    "* `NearestNeighbors`의 n_neighbors 파라미터 : 가까운 이웃의 수(기본값=5)\n",
    "* `DBSCAN`의 MinPts : 핵심 포인트가 되기 위한 이웃의 수(기본값=5)\n",
    "\n",
    "```python\n",
    "n_neighbors == MinPts\n",
    "```\n",
    "\n",
    "### [1] k개의 최근접 이웃 만들기"
   ]
  },
  {
   "cell_type": "code",
   "execution_count": null,
   "metadata": {},
   "outputs": [],
   "source": [
    "k = 5\n",
    "\n",
    "neighbors = NearestNeighbors(n_neighbors=k)\n",
    "neighbors_fit = neighbors.fit(df)\n",
    "\n",
    "# 한 점의 최근접 이웃 찾기\n",
    "distance, indices = neighbors_fit.kneighbors(df)"
   ]
  },
  {
   "cell_type": "code",
   "execution_count": null,
   "metadata": {},
   "outputs": [],
   "source": [
    "distance\n"
   ]
  },
  {
   "cell_type": "code",
   "execution_count": null,
   "metadata": {},
   "outputs": [],
   "source": [
    "indices"
   ]
  },
  {
   "cell_type": "markdown",
   "metadata": {},
   "source": [
    "#### 가까운 순서대로 정렬"
   ]
  },
  {
   "cell_type": "code",
   "execution_count": null,
   "metadata": {},
   "outputs": [],
   "source": [
    "s_distance = np.sort(distance, axis=0)\n",
    "s_distance"
   ]
  },
  {
   "cell_type": "markdown",
   "metadata": {},
   "source": [
    "#### 각 데이터 포인트로부터의 거리\n",
    "\n",
    "이 리스트 하나하나가 각각의 데이터 포인트를 의미"
   ]
  },
  {
   "cell_type": "code",
   "execution_count": null,
   "metadata": {},
   "outputs": [],
   "source": [
    "target = s_distance[:, 1]\n",
    "target"
   ]
  },
  {
   "cell_type": "markdown",
   "metadata": {},
   "source": [
    "#### 시각화 확인\n",
    "\n",
    "x축에 데이터 포인트를 나열"
   ]
  },
  {
   "cell_type": "code",
   "execution_count": null,
   "metadata": {},
   "outputs": [],
   "source": [
    "my_lineplot(df=None, xname=range(0, len(target)), yname=target)"
   ]
  },
  {
   "cell_type": "markdown",
   "metadata": {},
   "source": [
    "> 시각화 결과 eps값을 0.4로 설정하여 군집 결과를 비교"
   ]
  },
  {
   "cell_type": "markdown",
   "metadata": {},
   "source": [
    "### [2] 결과를 기반으로 군집화 수행\n",
    "\n",
    "`eps`는 시각화 결과를 통해 `0.4`로 추정\n",
    "\n",
    "`minPts`는 `k`값과 동일하므로 5로 설정"
   ]
  },
  {
   "cell_type": "code",
   "execution_count": null,
   "metadata": {},
   "outputs": [],
   "source": [
    "estimator = DBSCAN(eps=0.4, min_samples=5, n_jobs=-1)\n",
    "estimator.fit(df)\n",
    "\n",
    "df2 = df.copy()\n",
    "df2['cluster'] = estimator.labels_\n",
    "my_convex_hull(df2, xname='time spent', yname='game level', hue='cluster')"
   ]
  },
  {
   "cell_type": "markdown",
   "metadata": {},
   "source": [
    "### [3] `k`를 3으로 설정하여 재시도\n",
    "\n",
    "#### (1) knn 거리 그래프"
   ]
  },
  {
   "cell_type": "code",
   "execution_count": null,
   "metadata": {},
   "outputs": [],
   "source": [
    "k = 3\n",
    "\n",
    "neighbors = NearestNeighbors(n_neighbors=k)\n",
    "neighbors_fit = neighbors.fit(df)\n",
    "distance, indices = neighbors_fit.kneighbors(df)\n",
    "\n",
    "s_distance = np.sort(distance, axis=0)\n",
    "target = s_distance[:, 1]\n",
    "my_lineplot(df=None, xname=range(0, len(target)), yname=target)"
   ]
  },
  {
   "cell_type": "markdown",
   "metadata": {},
   "source": [
    "#### (2) 군집화\n",
    "\n",
    "군집의 결과로 설정된 `label`값이 `-1`인 경우는 속한 집단이 없다고 해석해야 함.\n",
    "\n",
    "해당 데이터포인트가 잡음(Noise)로 분류되었음을 의미함.\n",
    "\n",
    "DBSCAN은 밀도 기반 클러스터링 알고리즘으로, 데이터 포인트들 사이의 밀집도를 기준으로 클러스터를 형성하는데 이 과정에서 일정 밀도 이상의 데이터 포인트들은 클러스터에 포함되지만, 그 기준을 만족하지 못하는 데이터 포인트들은 잡음으로 분류된다.\n",
    "\n",
    "잡음으로 분류된 노이즈 데이터는 이상치로 해석할 수 있다. 이를 해결하기 위해 (1) 이상치 정제후 다시 수행하거나 (2) `eps`와 `minPts`파라미터를 조정하여 클러스터링 결과를 개선 해야 한다."
   ]
  },
  {
   "cell_type": "code",
   "execution_count": null,
   "metadata": {},
   "outputs": [],
   "source": [
    "estimator = DBSCAN(eps=0.4, min_samples=k, n_jobs=-1)\n",
    "estimator.fit(df)\n",
    "\n",
    "df2 = df.copy()\n",
    "df2['cluster'] = estimator.labels_\n",
    "my_convex_hull(df2, xname='time spent', yname='game level', hue='cluster')"
   ]
  },
  {
   "cell_type": "markdown",
   "metadata": {},
   "source": [
    "> 이와 같이 k값을 변경해 가면서 eps지점을 확인하고 이를 DBSCAN에 반영하여 최적의 군집 형태를 찾아야 한다."
   ]
  }
 ],
 "metadata": {
  "kernelspec": {
   "display_name": "Python 3",
   "language": "python",
   "name": "python3"
  },
  "language_info": {
   "codemirror_mode": {
    "name": "ipython",
    "version": 3
   },
   "file_extension": ".py",
   "mimetype": "text/x-python",
   "name": "python",
   "nbconvert_exporter": "python",
   "pygments_lexer": "ipython3",
   "version": "3.11.7"
  }
 },
 "nbformat": 4,
 "nbformat_minor": 2
}
