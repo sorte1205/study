{
 "cells": [
  {
   "cell_type": "markdown",
   "metadata": {},
   "source": [
    "# 계층적 군집의 덴드로그램\n",
    "\n",
    "## #01. 준비작업\n",
    "\n",
    "### [1] 패키지 가져오기"
   ]
  },
  {
   "cell_type": "code",
   "execution_count": null,
   "metadata": {},
   "outputs": [],
   "source": [
    "# 연결된 모듈이 업데이트 되면 즉시 자동 로드함\n",
    "%load_ext autoreload\n",
    "%autoreload 2\n",
    "\n",
    "from hossam.util import *\n",
    "from hossam.plot import *\n",
    "from hossam.analysis import *\n",
    "\n",
    "from sklearn.cluster import AgglomerativeClustering\n",
    "\n",
    "from scipy.cluster.hierarchy import dendrogram, linkage"
   ]
  },
  {
   "cell_type": "markdown",
   "metadata": {},
   "source": [
    "### [2] 데이터 가져오기 + 스케일링"
   ]
  },
  {
   "cell_type": "code",
   "execution_count": null,
   "metadata": {},
   "outputs": [],
   "source": [
    "origin = my_read_excel(\"https://data.hossam.kr/mldata/game_usage.xlsx\", info=False)\n",
    "df = my_standard_scaler(origin)\n",
    "my_pretty_table(df.head())"
   ]
  },
  {
   "cell_type": "markdown",
   "metadata": {},
   "source": [
    "## #02. 군집 수행\n",
    "\n",
    "### [1] scipy 패키지를 사용한 계층적 군집\n",
    "\n",
    "#### (1) 군집 모형 구현\n",
    "\n",
    "scipy 패키지에서는 병합군집 기능을 제공한다.\n",
    "\n",
    "군집 결과를 2차원 배열로 리턴해 준다.\n",
    "\n",
    "> 여기서는 하이퍼파라미터는 모두 기본값 상태로 수행함"
   ]
  },
  {
   "cell_type": "code",
   "execution_count": null,
   "metadata": {},
   "outputs": [],
   "source": [
    "lnk = linkage(df)\n",
    "lnk"
   ]
  },
  {
   "cell_type": "markdown",
   "metadata": {},
   "source": [
    "#### (2) 군집 결과 시각화"
   ]
  },
  {
   "cell_type": "code",
   "execution_count": null,
   "metadata": {},
   "outputs": [],
   "source": [
    "fig = plt.figure(figsize=(21, 7), dpi=200)\n",
    "ax = fig.gca()\n",
    "\n",
    "dendrogram(lnk, ax=ax, \n",
    "           leaf_rotation=0, leaf_font_size=12, \n",
    "            # 각 노드 n에 대해 두 하위 링크가 표시되는 순서\n",
    "           # False: 아무것도 안함(기본값)\n",
    "           # 'ascending': 클러스터에 원본 개체수가 가장 적은 하위 객체가 먼저 출력\n",
    "           # `descending`: 클러스터에 원본 개체수가 가장 많은 하위 객체가 먼저 출력\n",
    "           count_sort='ascending', \n",
    "           # 각 노드 n에 대해 두 하위 링크가 표시되는 순서\n",
    "           # False: 아무것도 안함(기본값)\n",
    "           # 'ascending': 직계 자손의 사이의 거리가 최소인 하위 항목이 먼저 표시됨\n",
    "           # `descending`: 직계 자손의 사이의 거리가 최대인 하위 항목이 먼저 표시됨\n",
    "           distance_sort='ascending',\n",
    "           show_leaf_counts=True, # True: 맨 아래에 노드에 속한 개체 수 표시(k>1 경우만...)\n",
    ")\n",
    "\n",
    "ax.set_title(\"Dendrogram\")\n",
    "plt.show()\n",
    "plt.close()"
   ]
  },
  {
   "cell_type": "markdown",
   "metadata": {},
   "source": [
    "### [2] sklearn을 사용한 군집\n",
    "\n",
    "#### (1) 군집 모델 구현"
   ]
  },
  {
   "cell_type": "code",
   "execution_count": null,
   "metadata": {},
   "outputs": [],
   "source": [
    "estimator = AgglomerativeClustering(n_clusters=4,\n",
    "                                    # 노드간의 거리 계산값을 도출할지 여부 (시각화를 위해서는 필수 적용)\n",
    "                                    compute_distances=True)\n",
    "\n",
    "estimator.fit(df)\n",
    "\n",
    "result_df = origin.copy()\n",
    "result_df['cluster'] = estimator.labels_\n",
    "\n",
    "my_pretty_table(result_df.head(10))"
   ]
  },
  {
   "cell_type": "markdown",
   "metadata": {},
   "source": [
    "#### (3) 군집 결과 시각화\n",
    "\n",
    "`estimator`객체가 포함하고 있는 여러 프로퍼티들을 조합해서 scipy 패키지의 리턴값과 동일한 형태로 구성해주는 함수\n",
    "\n",
    "> 출처: https://scikit-learn.org/stable/auto_examples/cluster/plot_agglomerative_dendrogram.html"
   ]
  },
  {
   "cell_type": "code",
   "execution_count": null,
   "metadata": {},
   "outputs": [],
   "source": [
    "def my_dandrogram_source(estimator):\n",
    "    counts = np.zeros(estimator.children_.shape[0])\n",
    "    n_samples = len(estimator.labels_)\n",
    "\n",
    "    for i, merge in enumerate(estimator.children_):\n",
    "        current_count = 0\n",
    "        for child_idx in merge:\n",
    "            if child_idx < n_samples:\n",
    "                current_count += 1  # leaf node\n",
    "            else:\n",
    "                current_count += counts[child_idx - n_samples]\n",
    "        counts[i] = current_count\n",
    "\n",
    "    linkage_matrix = np.column_stack(\n",
    "        [estimator.children_, estimator.distances_, counts]\n",
    "    ).astype(float)\n",
    "    \n",
    "    # 시각화에 필요한 배열 리턴\n",
    "    return linkage_matrix"
   ]
  },
  {
   "cell_type": "markdown",
   "metadata": {},
   "source": [
    "#### (4) 함수를 통해 리턴받은 값을 시각화"
   ]
  },
  {
   "cell_type": "code",
   "execution_count": null,
   "metadata": {},
   "outputs": [],
   "source": [
    "data = my_dandrogram_source(estimator)\n",
    "\n",
    "fig = plt.figure(figsize=(21, 7), dpi=200)\n",
    "ax = fig.gca()\n",
    "\n",
    "dendrogram(data, show_leaf_counts=True, ax=ax, leaf_rotation=0, leaf_font_size=12, show_contracted=True)\n",
    "\n",
    "ax.set_title(\"Dendrogram\")\n",
    "\n",
    "plt.show()\n",
    "plt.close()"
   ]
  },
  {
   "cell_type": "code",
   "execution_count": null,
   "metadata": {},
   "outputs": [],
   "source": [
    "my_convex_hull(result_df, xname='time spent', yname='game level', hue='cluster', palette='Set1')"
   ]
  }
 ],
 "metadata": {
  "language_info": {
   "name": "python"
  }
 },
 "nbformat": 4,
 "nbformat_minor": 2
}
