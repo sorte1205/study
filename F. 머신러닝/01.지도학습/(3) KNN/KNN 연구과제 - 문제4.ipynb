{
 "cells": [
  {
   "cell_type": "markdown",
   "metadata": {},
   "source": [
    "# KNN 연구과제\n",
    "\n",
    "## 문제 4\n",
    "\n",
    "한 자동차 회사는 기존 제품(P1, P2, P3, P4, P5)으로 새로운 시장에 진출할 계획을 갖고 있습니다. 집중적인 시장 조사 후에 그들은 새로운 시장의 양상이 기존 시장과 유사하다는 것을 추론했습니다.\n",
    "\n",
    "기존 시장에서 영업팀은 모든 고객을 4개 그룹(A, B, C, D)으로 분류했습니다. 그런 다음 다양한 고객 그룹을 대상으로 세분화된 지원 및 커뮤니케이션을 수행했습니다. 이 전략은 그들에게 매우 효과적이었습니다. 그들은 새로운 시장에 동일한 전략을 사용할 계획이며 2627명의 새로운 잠재 고객을 식별했습니다.\n",
    "\n",
    "이를 활용하여 새로운 고객이 어떤 그룹에 속할지 예측한다면 그에 따른 세일즈 전략을 세울 수 있습니다.\n",
    "\n",
    "주어진 데이터를 통해 고객이 4개 그룹중 어떤 그룹에 속하는지 예측할 수 있는 모형을 로지스틱 모형과 KNN모형으로 구현하고 더 성능이 좋은 모델과 성능 평가 지표를 제시하시오.\n",
    "\n",
    "또한 자신에 대한 가상의 정보를 주입하여 자신이 어떤 그룹에 속할지 예측하시오.\n",
    "\n",
    "> https://data.hossam.kr/mldata/customer_segmentation.xlsx\n",
    "\n",
    "> https://www.kaggle.com/datasets/kaushiksuresh147/customer-segmentation\n",
    "\n",
    "| 변수 | 설명 |\n",
    "|---|---|\n",
    "| ID | 고유 ID |\n",
    "| Gender | 고객의 성별 |\n",
    "| Ever_Married | 고객의 결혼 상태 |\n",
    "| Age | 고객의 연령 |\n",
    "| Graduated | 고객이 졸업생인가요? |\n",
    "| Profession | 고객의 직업 |\n",
    "| Work_Experience | 수년간의 업무 경험 |\n",
    "| Spending_Score | 고객의 지출 점수 |\n",
    "| Family_Size | 고객의 가족 수(고객 포함) |\n",
    "| Var_1 | 고객의 익명 카테고리 |\n",
    "| Segmentation | (목적변수) 고객 분류 |"
   ]
  },
  {
   "cell_type": "code",
   "execution_count": 2,
   "metadata": {},
   "outputs": [],
   "source": [
    "import warnings\n",
    "warnings.filterwarnings(action='ignore')\n",
    "\n",
    "from hossam.util import *\n",
    "from hossam.plot import *\n",
    "from hossam.analysis import *\n",
    "from hossam.classification import *"
   ]
  },
  {
   "cell_type": "code",
   "execution_count": 3,
   "metadata": {},
   "outputs": [
    {
     "name": "stdout",
     "output_type": "stream",
     "text": [
      "<class 'pandas.core.frame.DataFrame'>\n",
      "RangeIndex: 10695 entries, 0 to 10694\n",
      "Data columns (total 11 columns):\n",
      " #   Column           Non-Null Count  Dtype  \n",
      "---  ------           --------------  -----  \n",
      " 0   ID               10695 non-null  int64  \n",
      " 1   Gender           10695 non-null  object \n",
      " 2   Ever_Married     10505 non-null  object \n",
      " 3   Age              10695 non-null  int64  \n",
      " 4   Graduated        10593 non-null  object \n",
      " 5   Profession       10533 non-null  object \n",
      " 6   Work_Experience  9597 non-null   float64\n",
      " 7   Spending_Score   10695 non-null  object \n",
      " 8   Family_Size      10247 non-null  float64\n",
      " 9   Var_1            10587 non-null  object \n",
      " 10  Segmentation     10695 non-null  object \n",
      "dtypes: float64(2), int64(2), object(7)\n",
      "memory usage: 919.2+ KB\n",
      "None\n",
      "\n",
      "데이터프레임 상위 5개 행\n",
      "+----+--------+----------+----------------+-------+-------------+---------------+-------------------+------------------+---------------+---------+----------------+\n",
      "|    |     ID | Gender   | Ever_Married   |   Age | Graduated   | Profession    |   Work_Experience | Spending_Score   |   Family_Size | Var_1   | Segmentation   |\n",
      "|----+--------+----------+----------------+-------+-------------+---------------+-------------------+------------------+---------------+---------+----------------|\n",
      "|  0 | 462809 | Male     | No             |    22 | No          | Healthcare    |                 1 | Low              |             4 | Cat_4   | D              |\n",
      "|  1 | 462643 | Female   | Yes            |    38 | Yes         | Engineer      |               nan | Average          |             3 | Cat_4   | A              |\n",
      "|  2 | 466315 | Female   | Yes            |    67 | Yes         | Engineer      |                 1 | Low              |             1 | Cat_6   | B              |\n",
      "|  3 | 461735 | Male     | Yes            |    67 | Yes         | Lawyer        |                 0 | High             |             2 | Cat_6   | B              |\n",
      "|  4 | 462669 | Female   | Yes            |    40 | Yes         | Entertainment |               nan | High             |             6 | Cat_6   | A              |\n",
      "+----+--------+----------+----------------+-------+-------------+---------------+-------------------+------------------+---------------+---------+----------------+\n",
      "\n",
      "데이터프레임 하위 5개 행\n",
      "+-------+--------+----------+----------------+-------+-------------+---------------+-------------------+------------------+---------------+---------+----------------+\n",
      "|       |     ID | Gender   | Ever_Married   |   Age | Graduated   | Profession    |   Work_Experience | Spending_Score   |   Family_Size | Var_1   | Segmentation   |\n",
      "|-------+--------+----------+----------------+-------+-------------+---------------+-------------------+------------------+---------------+---------+----------------|\n",
      "| 10690 | 467954 | Male     | No             |    29 | No          | Healthcare    |                 9 | Low              |             4 | Cat_6   | B              |\n",
      "| 10691 | 467958 | Female   | No             |    35 | Yes         | Doctor        |                 1 | Low              |             1 | Cat_6   | A              |\n",
      "| 10692 | 467960 | Female   | No             |    53 | Yes         | Entertainment |               nan | Low              |             2 | Cat_6   | C              |\n",
      "| 10693 | 467961 | Male     | Yes            |    47 | Yes         | Executive     |                 1 | High             |             5 | Cat_4   | C              |\n",
      "| 10694 | 467968 | Female   | No             |    43 | Yes         | Healthcare    |                 9 | Low              |             3 | Cat_7   | A              |\n",
      "+-------+--------+----------+----------------+-------+-------------+---------------+-------------------+------------------+---------------+---------+----------------+\n",
      "\n",
      "기술통계\n",
      "+-----------------+---------+---------+---------+--------+--------+--------+--------+--------+-------+\n",
      "|                 |   count |    mean |     std |    min |    25% |    50% |    75% |    max |   nan |\n",
      "|-----------------+---------+---------+---------+--------+--------+--------+--------+--------+-------|\n",
      "| ID              |   10695 |  463468 | 2600.97 | 458982 | 461220 | 463451 | 465734 | 467974 |     0 |\n",
      "| Age             |   10695 | 43.5118 | 16.7742 |     18 |     30 |     41 |     53 |     89 |     0 |\n",
      "| Work_Experience |    9597 | 2.61978 | 3.39079 |      0 |      0 |      1 |      4 |     14 |  1098 |\n",
      "| Family_Size     |   10247 | 2.84405 | 1.53643 |      1 |      2 |      3 |      4 |      9 |   448 |\n",
      "+-----------------+---------+---------+---------+--------+--------+--------+--------+--------+-------+\n",
      "+----+--------+----------+----------------+-------+-------------+---------------+-------------------+------------------+---------------+---------+----------------+\n",
      "|    |     ID | Gender   | Ever_Married   |   Age | Graduated   | Profession    |   Work_Experience | Spending_Score   |   Family_Size | Var_1   | Segmentation   |\n",
      "|----+--------+----------+----------------+-------+-------------+---------------+-------------------+------------------+---------------+---------+----------------|\n",
      "|  0 | 462809 | Male     | No             |    22 | No          | Healthcare    |                 1 | Low              |             4 | Cat_4   | D              |\n",
      "|  1 | 462643 | Female   | Yes            |    38 | Yes         | Engineer      |               nan | Average          |             3 | Cat_4   | A              |\n",
      "|  2 | 466315 | Female   | Yes            |    67 | Yes         | Engineer      |                 1 | Low              |             1 | Cat_6   | B              |\n",
      "|  3 | 461735 | Male     | Yes            |    67 | Yes         | Lawyer        |                 0 | High             |             2 | Cat_6   | B              |\n",
      "|  4 | 462669 | Female   | Yes            |    40 | Yes         | Entertainment |               nan | High             |             6 | Cat_6   | A              |\n",
      "+----+--------+----------+----------------+-------+-------------+---------------+-------------------+------------------+---------------+---------+----------------+\n"
     ]
    }
   ],
   "source": [
    "origin = my_read_excel('https://data.hossam.kr/mldata/customer_segmentation.xlsx')\n",
    "my_pretty_table(origin.head())"
   ]
  },
  {
   "cell_type": "markdown",
   "metadata": {},
   "source": [
    "### [2] 데이터 전처리\n",
    "\n",
    "1. 종속변수 라벨링\n",
    "3. 훈련/검증 데이터 분리 + 데이터 스케일링"
   ]
  }
 ],
 "metadata": {
  "kernelspec": {
   "display_name": "Python 3",
   "language": "python",
   "name": "python3"
  },
  "language_info": {
   "codemirror_mode": {
    "name": "ipython",
    "version": 3
   },
   "file_extension": ".py",
   "mimetype": "text/x-python",
   "name": "python",
   "nbconvert_exporter": "python",
   "pygments_lexer": "ipython3",
   "version": "3.11.7"
  }
 },
 "nbformat": 4,
 "nbformat_minor": 2
}
