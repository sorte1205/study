{
 "cells": [
  {
   "cell_type": "markdown",
   "metadata": {},
   "source": [
    "# SVM 연구과제\n",
    "\n",
    "## 문제 1\n",
    "\n",
    "위스콘신 유방암 데이터셋과 타이타닉 탑승자 데이터 셋, 사과의 품질 분류 데이터셋을 SVM 알고리즘으로 분류 분석을 수행하고 로지스틱, KNN의 경우와 결과를 비교하시오.\n",
    "\n",
    "각 데이터셋에 어떤 알고리즘을 적용하는 것이 더 좋은 성능을 기대할 수 있는지 결론을 내시오.\n",
    "\n",
    "- 위스콘신 유방암 데이터 셋: 수업 내용과 동일하게 전처리\n",
    "- 타이타닉 데이터 셋 : 수업 내용과 동일하게 전처리\n",
    "- 사과의 품질 분류 데이터 셋: 스케일링 외에 별다른 전처리 과정 없음"
   ]
  },
  {
   "cell_type": "markdown",
   "metadata": {},
   "source": [
    "# 연구과제 풀이\n",
    "\n",
    "## 패키지 가져오기"
   ]
  },
  {
   "cell_type": "code",
   "execution_count": null,
   "metadata": {},
   "outputs": [],
   "source": [
    "import warnings\n",
    "warnings.filterwarnings(action='ignore')\n",
    "\n",
    "# Intel SKlearn 하드웨어 가속 패치 설정\n",
    "from sklearnex import patch_sklearn\n",
    "patch_sklearn()\n",
    "\n",
    "from hossam.util import *\n",
    "from hossam.plot import *\n",
    "from hossam.analysis import *\n",
    "from hossam.classification import *\n",
    "\n",
    "import re"
   ]
  },
  {
   "cell_type": "markdown",
   "metadata": {},
   "source": [
    "## 문제 1\n",
    "\n",
    "### (1) 위스콘신 유방암 데이터 셋\n",
    "\n",
    "#### 데이터 가져오기"
   ]
  },
  {
   "cell_type": "code",
   "execution_count": null,
   "metadata": {},
   "outputs": [],
   "source": [
    "origin = my_read_excel(\"https://data.hossam.kr/mldata/breast-cancer-wisconsin.xlsx\", index_col=\"id\", categories=[\"diagnosis\"], info=False)"
   ]
  },
  {
   "cell_type": "markdown",
   "metadata": {},
   "source": [
    "#### 데이터 전처리\n",
    "\n",
    "1. 종속변수 라벨링\n",
    "2. 데이터 분할 + 데이터 스케일링\n",
    "3. 데이터 불균형 해소 (SMOTE)"
   ]
  },
  {
   "cell_type": "code",
   "execution_count": null,
   "metadata": {},
   "outputs": [],
   "source": []
  },
  {
   "cell_type": "markdown",
   "metadata": {},
   "source": [
    "#### SVM 분류"
   ]
  },
  {
   "cell_type": "markdown",
   "metadata": {},
   "source": []
  },
  {
   "cell_type": "markdown",
   "metadata": {},
   "source": [
    "### (2) 타이타닉 생존률 예측\n",
    "\n",
    "#### 데이터 가져오기"
   ]
  },
  {
   "cell_type": "code",
   "execution_count": null,
   "metadata": {},
   "outputs": [],
   "source": [
    "origin = my_read_excel(\"https://data.hossam.kr/edadata/titanic.xlsx\", index_col='PassengerId', categories=['Survived', 'Pclass', 'Sex', 'Embarked'], info=False)"
   ]
  },
  {
   "cell_type": "markdown",
   "metadata": {},
   "source": [
    "#### 데이터 전처리\n",
    "\n",
    "1. 생존 여부에 따른 평균 나이로 결측치 치환\n",
    "2. 히스토그램 구간에 따라 나이를 명목형으로 변환\n",
    "3. 객실 유무에 따른 명목형 변수 생성\n",
    "4. 가족 구성원 수 파생변수 생성\n",
    "5. 혼자 탑승했는지에 대한 파생변수 생성\n",
    "6. 생존 여부에 따른 탑승지 최빈값으로 결측치 치환\n",
    "7. 생존 여부에 따른 운임요금 평균으로 결측치 치환\n",
    "8. 이름으로부터 호칭 파생변수 생성\n",
    "9. 데이터 라벨링\n",
    "10. 운임요금 사분위수 구간에 따른 명목형 파생변수 생성\n",
    "11. 불필요한 컬럼 제거"
   ]
  },
  {
   "cell_type": "code",
   "execution_count": null,
   "metadata": {},
   "outputs": [],
   "source": []
  },
  {
   "cell_type": "markdown",
   "metadata": {},
   "source": [
    "#### 훈련/검증 데이터 분리"
   ]
  },
  {
   "cell_type": "markdown",
   "metadata": {},
   "source": [
    "#### SVC 분류"
   ]
  },
  {
   "cell_type": "code",
   "execution_count": null,
   "metadata": {},
   "outputs": [],
   "source": []
  },
  {
   "cell_type": "markdown",
   "metadata": {},
   "source": []
  }
 ],
 "metadata": {
  "language_info": {
   "name": "python"
  }
 },
 "nbformat": 4,
 "nbformat_minor": 2
}
