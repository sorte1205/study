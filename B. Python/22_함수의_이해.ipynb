{
 "cells": [
  {
   "cell_type": "markdown",
   "metadata": {},
   "source": [
    "# 22 함수의 이해\n",
    "## 1. 함수 정의하기\n",
    "### (1) 파이썬 함수의 정의와 호출\n",
    "- 프로그램에서의 함수\n",
    "    - 특정 기능(=연산)을 그룹화해서 재사용하기 위한 단위\n",
    "- 구문 형식\n",
    "    def 함수이름():\n",
    "        ... 수행할 연산식...\n",
    "- 함수의 호출\n",
    "    - 정의된 함수는 다음의 형식으로 사용할 수 있으며, 이를 함수를 호출한다고 한다.\n",
    "    - 함수를 호출하기 위해서는 소스코드 상에서 함수의 정의가 호출보다 선행되어야 한다.\n"
   ]
  },
  {
   "cell_type": "code",
   "execution_count": 3,
   "metadata": {},
   "outputs": [
    {
     "name": "stdout",
     "output_type": "stream",
     "text": [
      "hello Python\n",
      "안녕 파이썬\n",
      "hello Python\n",
      "안녕 파이썬\n"
     ]
    }
   ],
   "source": [
    "#기본적인 함수의 정의 방법\n",
    "def say_hello():\n",
    "    print(\"hello Python\")\n",
    "    print(\"안녕 파이썬\")\n",
    "#정의한 함수 호출하기\n",
    "  #호출해야만 함수가 적용됨.\n",
    "say_hello()\n",
    "say_hello()\n",
    "  \n",
    "\n"
   ]
  },
  {
   "cell_type": "markdown",
   "metadata": {},
   "source": [
    "## 2. 함수의 파라미터\n",
    "### (2) 함수가 실행하는데 필요한 조건값\n",
    "- 수학의 매개변수\n",
    "  - f(x) = x +1에서\n",
    "  - x는 매걔변수, 조건값, 파라미터.\n",
    "- 함수 파라미터\n",
    "  - def 함수이름(변수이름):\n",
    "    - ... 수행할 연산식 ...\n",
    "- 파라미터를 갖는 함수의 호출\n",
    "  - 함수이름(값)"
   ]
  },
  {
   "cell_type": "code",
   "execution_count": 6,
   "metadata": {},
   "outputs": [
    {
     "name": "stdout",
     "output_type": "stream",
     "text": [
      "f(2) => 2 + 1 = 3\n",
      "f(3) => 3 + 1 = 4\n"
     ]
    },
    {
     "ename": "TypeError",
     "evalue": "foo() missing 1 required positional argument: 'count'",
     "output_type": "error",
     "traceback": [
      "\u001b[1;31m---------------------------------------------------------------------------\u001b[0m",
      "\u001b[1;31mTypeError\u001b[0m                                 Traceback (most recent call last)",
      "\u001b[1;32me:\\산대특\\본과정 1분기\\B. Python\\Day7 22_함수의_이해.ipynb 셀 4\u001b[0m line \u001b[0;36m1\n\u001b[0;32m     <a href='vscode-notebook-cell:/e%3A/%EC%82%B0%EB%8C%80%ED%8A%B9/%EB%B3%B8%EA%B3%BC%EC%A0%95%201%EB%B6%84%EA%B8%B0/B.%20Python/Day7%2022_%ED%95%A8%EC%88%98%EC%9D%98_%EC%9D%B4%ED%95%B4.ipynb#W6sZmlsZQ%3D%3D?line=12'>13</a>\u001b[0m     \u001b[39mfor\u001b[39;00m i \u001b[39min\u001b[39;00m \u001b[39mrange\u001b[39m(\u001b[39m0\u001b[39m, count):\n\u001b[0;32m     <a href='vscode-notebook-cell:/e%3A/%EC%82%B0%EB%8C%80%ED%8A%B9/%EB%B3%B8%EA%B3%BC%EC%A0%95%201%EB%B6%84%EA%B8%B0/B.%20Python/Day7%2022_%ED%95%A8%EC%88%98%EC%9D%98_%EC%9D%B4%ED%95%B4.ipynb#W6sZmlsZQ%3D%3D?line=13'>14</a>\u001b[0m         \u001b[39mprint\u001b[39m(\u001b[39m\"\u001b[39m\u001b[39mHello World\u001b[39m\u001b[39m\"\u001b[39m)\n\u001b[1;32m---> <a href='vscode-notebook-cell:/e%3A/%EC%82%B0%EB%8C%80%ED%8A%B9/%EB%B3%B8%EA%B3%BC%EC%A0%95%201%EB%B6%84%EA%B8%B0/B.%20Python/Day7%2022_%ED%95%A8%EC%88%98%EC%9D%98_%EC%9D%B4%ED%95%B4.ipynb#W6sZmlsZQ%3D%3D?line=14'>15</a>\u001b[0m foo()\n",
      "\u001b[1;31mTypeError\u001b[0m: foo() missing 1 required positional argument: 'count'"
     ]
    }
   ],
   "source": [
    "# 파라미터를 갖는 함수 정의\n",
    "def f(x):\n",
    "    y = x + 1\n",
    "    tpl = \"f({0}) => {0} + 1 = {1}\"\n",
    "    print(tpl.format(x,y))\n",
    "\n",
    "# 파라미터를 갖는 함수 호출\n",
    "f(2)\n",
    "f(3)\n",
    "\n",
    "# 함수에 파라미터를 전달하지 않을 경우 에러 발생\n",
    "def foo(count):\n",
    "    for i in range(0, count):\n",
    "        print(\"Hello World\")\n",
    "foo(2)\n",
    "\n",
    "foo()"
   ]
  },
  {
   "cell_type": "markdown",
   "metadata": {},
   "source": [
    "\n",
    "\n",
    "### (2) 다중파라미터\n",
    "- 여러개의 매개변수\n",
    "  - f(x,y) = x+y+1\n",
    "- 다중 파라미터\n",
    "  - 함수가 실행되는데 두 개 이상의 파라미터가 필요하다면 콤마(,)로 구분하여 선언할 수 있다.\n",
    "  - def 함수이름(변수이름1, 변수이름2...):\n",
    "  - ... 수행할 연산식...\n",
    "- 파라미터를 갖는 함수의 호출\n",
    "  - 함수에 파라미터가 정의되어 있다면 해당 함수를 호출하며 파라미터를 전달해야 함\n",
    "  - 함수이름 (값1, 값2 ...)"
   ]
  },
  {
   "cell_type": "code",
   "execution_count": 8,
   "metadata": {},
   "outputs": [
    {
     "name": "stdout",
     "output_type": "stream",
     "text": [
      "hello(1,2) => 1+2+3\n"
     ]
    }
   ],
   "source": [
    "# 여러개의 파라미터를 갖는 함수 정의\n",
    "def hello(x, y):\n",
    "    z = x+y\n",
    "    tpl = \"hello({0},{1}) => {0}+{1}+{2}\"\n",
    "    print(tpl.format(x,y,z))\n",
    "\n",
    "# 다중 파라미터를 갖는 함수 호출\n",
    "hello(1,2)"
   ]
  },
  {
   "cell_type": "markdown",
   "metadata": {},
   "source": [
    "### (3) 파라미터 기본값과 이름\n",
    "\n",
    "- 파라미터에 기본값 설정하기\n",
    "  - 파라미터를 정의하면서 **뒤에서부터** 차례대로 기본값을 지정할 수 있다.\n",
    "      - def 함수이름 (변수리므1, 변수이름2 = 기본값):\n",
    "      - ... 수행할 연산식 ...\n",
    "  - 기본값이 지정된 파라미터는 함수 호출 시 생략 가능\n",
    "\n",
    "\n",
    "- 이름을 활용한 파라미터의 전달\n",
    "  - 정의된 함수를 호출할 때 파라미터의 이름을 지정하면서 전달하면 값의 전달 순서를 변경할 수 있다.\n",
    "  - 이 경우도 기본값이 정의된 파라미터는 생략 가능하다.\n",
    "  \n",
    "    - 함수이름(변수이름= 값, 변수이름 = 값 ...)"
   ]
  },
  {
   "cell_type": "code",
   "execution_count": 11,
   "metadata": {},
   "outputs": [
    {
     "name": "stdout",
     "output_type": "stream",
     "text": [
      "sum(1+2+3) -> 1+2+3 = 6\n",
      "sum(2+2+3) -> 2+2+3 = 7\n"
     ]
    }
   ],
   "source": [
    "def sum1(x, y, z=0):    # error: def sum1(x=1, y=2, z):\n",
    "    tpl = \"sum({0}+{1}+{2}) -> {0}+{1}+{2} = {3}\"\n",
    "    print (tpl.format(x, y, z, x+y+z))\n",
    "\n",
    "# 모든 파라미터값을 전달하며 함수 호출\n",
    "sum1(1,2,3)\n",
    "\n",
    "# 초기값이 설정된 파라미터는 호출시에 생략 가능함. -> 생략된 파라미터는 초기값으로 설정된다.\n",
    "sum1(10, 20)"
   ]
  },
  {
   "cell_type": "code",
   "execution_count": 12,
   "metadata": {},
   "outputs": [
    {
     "name": "stdout",
     "output_type": "stream",
     "text": [
      "이광호의 국어 점수는 92점이고, 영어점수는 77점 입니다.\n",
      "홍민영의 국어 점수는 0점이고, 영어점수는 80점 입니다.\n"
     ]
    }
   ],
   "source": [
    "### (4) 파라미터의 이름 지정하기\n",
    "def record(name, kor = 0, eng =0):\n",
    "    print(\"%s의 국어 점수는 %d점이고, 영어점수는 %d점 입니다.\" % (name, kor, eng))\n",
    "\n",
    "# 파라미터의 이름을 지정한 함수 호출 -> 파라미터 전달 순서를 무시할 수 있다.\n",
    "record(kor = 92, name = \"이광호\", eng=77)\n",
    "\n",
    "# 함수에 정의된 기본값 활용\n",
    "record('홍민영', eng=80)\n"
   ]
  },
  {
   "cell_type": "markdown",
   "metadata": {},
   "source": [
    "## 3. 함수의 리턴값\n",
    "### (1) 리턴값의 이해\n",
    "- 함수의 결과값\n",
    "  - 함수는 자신이 포함하고 있는 수식에 대한 결과를 반환한다.\n",
    "- 함수의 리턴값\n",
    "  - 함수가 연산결과를 자신이 호출된 위치에 반환하는 것을 \"리턴\"이라 하며, 반환되는 값을 \"리턴값\"이라 함.\n",
    "  - 함수 안에서 값을 리턴하기 위해서는 \"return\"이라는 키워드가 사용\n",
    "  - 함수는 return키워드를 만나면 그 즉시 수행을 중단."
   ]
  },
  {
   "cell_type": "code",
   "execution_count": 13,
   "metadata": {},
   "outputs": [],
   "source": [
    "# 값을 리턴하는 함수\n",
    "\n",
    "def plus(x,y):\n",
    "    z = x+y\n",
    "    return z # 자신이 호출된 위치로 값을 돌려줌\n",
    "\n",
    "# 리턴값을 다른 변수에 할당하기\n",
    "a = plus(10,20)\n",
    "print(a)\n",
    "\n",
    "# 리턴값을 갖는 함수는 그 결과를 직접 출력할 수 있다.\n",
    "print(plus(100, 200))\n",
    "\n",
    "# 리턴값을 갖는 함수는 그 결과를 다른 연산에 활용할 수 있다.\n",
    "b = plus(5,7) +100\n",
    "print (b)"
   ]
  },
  {
   "cell_type": "markdown",
   "metadata": {},
   "source": [
    "### (2) 함수의 실행 중단\n",
    "- return문을 중간에 만나는 경우 그 즉시 수행을 종료\n",
    "- 함수 안에 정의된 if문의 조건이 거짓이 되므로 if문은 실행되지 않음\n",
    "- 함수 안에 정의된 if문의 조건이 성립하므로 실행이 중단되어 z값을 리턴하지 않음"
   ]
  },
  {
   "cell_type": "code",
   "execution_count": 19,
   "metadata": {},
   "outputs": [
    {
     "name": "stdout",
     "output_type": "stream",
     "text": [
      "300\n",
      "0\n"
     ]
    }
   ],
   "source": [
    "# return문을 중간에 만나면 그 즉시 수행을 종료한다\n",
    "def foo(x,y):\n",
    "    if x < 10 or y < 10:\n",
    "        return 0\n",
    "    z = x + y\n",
    "    return z\n",
    "\n",
    "# 함수 안에 정의된 if문의 조건이 거짓이 되므로 if문은 실행되지 않음\n",
    "print(foo(100,200))\n",
    "\n",
    "# 함수 안에 정의된 if문의 조건이 성립하므로 실행이 중단되어 z값을 리턴하지 않음\n",
    "print(foo(1,2))"
   ]
  },
  {
   "cell_type": "markdown",
   "metadata": {},
   "source": [
    "### (3) 연속성 자료형의 리턴\n",
    "- 튜플이나 리스트를 리턴하는 함수\n",
    "  - 두 개 이상의 값을 튜플이나 리스트로 묶어서 한번에 리턴\n",
    "- 함수가 리턴하는 튜플을 하나의 객체에 할당한 경우\n",
    "  - 함수의 리턴값이 튜플 -> 인덱스 번호를 통해 원소에 접근함\n",
    "- 함수가 리턴하는 튜플의 각 원소를 분할해서 반환받는 경우\n",
    "  - 구조분해를 활용하면 연속성 자료형 리턴값을 개별변수로 분리가 가능\n",
    "\n"
   ]
  },
  {
   "cell_type": "code",
   "execution_count": null,
   "metadata": {},
   "outputs": [],
   "source": [
    "# 두 개 이상의 값을 튜플이나 리스트로 묶어서 한번에 리턴\n",
    "\n",
    "# 함수의 리턴값이 튜플이므로 인덱스 번호를 통해 원소에 접근함\n",
    "\n",
    "# 구조분해를 활용하면 연속성 자료형 리턴값을 개별변수로 분리가 가능"
   ]
  },
  {
   "cell_type": "markdown",
   "metadata": {},
   "source": [
    "### (3) 함수에서 변수의 유효성 범위\n",
    "- 함수 안에서는 함수 밖의 변수 식별 가능\n",
    "- 함수 밖에서는 함수 내부에서 생성된 변수 식별 불가"
   ]
  },
  {
   "cell_type": "code",
   "execution_count": 20,
   "metadata": {},
   "outputs": [
    {
     "name": "stdout",
     "output_type": "stream",
     "text": [
      "300\n"
     ]
    },
    {
     "ename": "NameError",
     "evalue": "name 'c' is not defined",
     "output_type": "error",
     "traceback": [
      "\u001b[1;31m---------------------------------------------------------------------------\u001b[0m",
      "\u001b[1;31mNameError\u001b[0m                                 Traceback (most recent call last)",
      "\u001b[1;32me:\\산대특\\본과정 1분기\\B. Python\\Day7 22_함수의_이해.ipynb 셀 17\u001b[0m line \u001b[0;36m1\n\u001b[0;32m      <a href='vscode-notebook-cell:/e%3A/%EC%82%B0%EB%8C%80%ED%8A%B9/%EB%B3%B8%EA%B3%BC%EC%A0%95%201%EB%B6%84%EA%B8%B0/B.%20Python/Day7%2022_%ED%95%A8%EC%88%98%EC%9D%98_%EC%9D%B4%ED%95%B4.ipynb#X32sZmlsZQ%3D%3D?line=8'>9</a>\u001b[0m foo()\n\u001b[0;32m     <a href='vscode-notebook-cell:/e%3A/%EC%82%B0%EB%8C%80%ED%8A%B9/%EB%B3%B8%EA%B3%BC%EC%A0%95%201%EB%B6%84%EA%B8%B0/B.%20Python/Day7%2022_%ED%95%A8%EC%88%98%EC%9D%98_%EC%9D%B4%ED%95%B4.ipynb#X32sZmlsZQ%3D%3D?line=10'>11</a>\u001b[0m \u001b[39m# 함수 밖에서는 함수 내부에서 생성된 변수 식별 불가\u001b[39;00m\n\u001b[1;32m---> <a href='vscode-notebook-cell:/e%3A/%EC%82%B0%EB%8C%80%ED%8A%B9/%EB%B3%B8%EA%B3%BC%EC%A0%95%201%EB%B6%84%EA%B8%B0/B.%20Python/Day7%2022_%ED%95%A8%EC%88%98%EC%9D%98_%EC%9D%B4%ED%95%B4.ipynb#X32sZmlsZQ%3D%3D?line=11'>12</a>\u001b[0m \u001b[39mprint\u001b[39m(c)\n",
      "\u001b[1;31mNameError\u001b[0m: name 'c' is not defined"
     ]
    }
   ],
   "source": [
    "\n",
    "a = 100\n",
    "b = 200\n",
    "\n",
    "def foo():\n",
    "    c = a+b\n",
    "    print(c)\n",
    "\n",
    "# 함수 안에서는 함수 밖의 변수 식별 가능\n",
    "foo()\n",
    "\n",
    "# 함수 밖에서는 함수 내부에서 생성된 변수 식별 불가\n",
    "print(c)"
   ]
  },
  {
   "cell_type": "code",
   "execution_count": null,
   "metadata": {},
   "outputs": [],
   "source": []
  }
 ],
 "metadata": {
  "kernelspec": {
   "display_name": "Python 3",
   "language": "python",
   "name": "python3"
  },
  "language_info": {
   "codemirror_mode": {
    "name": "ipython",
    "version": 3
   },
   "file_extension": ".py",
   "mimetype": "text/x-python",
   "name": "python",
   "nbconvert_exporter": "python",
   "pygments_lexer": "ipython3",
   "version": "3.12.0"
  }
 },
 "nbformat": 4,
 "nbformat_minor": 2
}
