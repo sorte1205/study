{
 "cells": [
  {
   "cell_type": "markdown",
   "metadata": {},
   "source": [
    "# 15 조건문\n",
    "## 1. If문\n",
    "### (1) 조건문의 이해\n",
    "- 조건문이란?\n",
    "- 조건문의 종류\n",
    "  - if문\n",
    "  - if - else 문\n",
    "  - if - elif - else 문\n",
    "\n",
    "### (2) IF문\n",
    "- IF문\n",
    "  - 주어진 조건이 참일 경우 블록에 속한 구문이 실행됨\n",
    "  - if 와 함께 조건식을 명시 후 콜론(:)을 지정하여 하위 블록이 있음을 명시\n",
    "  - if문에 속한 실행문은 if 문보다 **들여쓰기**가 깊게 지정되어야 함\n",
    "  - 실행할 구문이 한 줄만 있을 경우 **줄 바꿈 없이 **명시 가능 \n",
    "    - **권하지 않음**. 패턴이 다르면 가독성이 떨어짐.\n",
    "\n",
    "### (3) IF문 사용시 주의점 (1)\n",
    "- 들여쓰기: if문에 속한 실행문들의 들여쓰기 정도가 서로 다를 경우 에러"
   ]
  },
  {
   "cell_type": "code",
   "execution_count": 5,
   "metadata": {},
   "outputs": [
    {
     "ename": "IndentationError",
     "evalue": "unexpected indent (2753497219.py, line 4)",
     "output_type": "error",
     "traceback": [
      "\u001b[1;36m  Cell \u001b[1;32mIn[5], line 4\u001b[1;36m\u001b[0m\n\u001b[1;33m    print(\"이부분은 에러\")\u001b[0m\n\u001b[1;37m    ^\u001b[0m\n\u001b[1;31mIndentationError\u001b[0m\u001b[1;31m:\u001b[0m unexpected indent\n"
     ]
    }
   ],
   "source": [
    "a = 100\n",
    "if a >= 100:\n",
    "    print(\"a는 100보다 크거나 같습니다.\")\n",
    "        print(\"이부분은 에러\")\n",
    "        # 들여쓰기 수준이 같아야 출력\n",
    "        "
   ]
  },
  {
   "cell_type": "markdown",
   "metadata": {},
   "source": [
    "### (3) IF문 사용시 주의점 (2)\n",
    "- 공백과 Tab키\n",
    "  - If문에 속한 실행문에 스페이스를 사용한 공백과 탭키를 함께 사용될 경우 에러  (같은 정도로 들여썼더라도 에러: 드래그 해보면 알 수 있다)\n",
    "  - 한 가지 종류로 일관되게 사용해야 한다."
   ]
  },
  {
   "cell_type": "code",
   "execution_count": 6,
   "metadata": {},
   "outputs": [
    {
     "name": "stdout",
     "output_type": "stream",
     "text": [
      "시험시작\n",
      "합격입니다.\n",
      "시험 끝\n"
     ]
    }
   ],
   "source": [
    "# 조건문 이해하기\n",
    "\n",
    "print (\"시험시작\")\n",
    "score = int(input(\"점수를 입력하세요\"))\n",
    "if score >= 60:\n",
    "    print(\"합격입니다.\")\n",
    "print(\"시험 끝\")\n",
    "    # 이 경우의 print는 if문과 상관이 없이 출력"
   ]
  },
  {
   "cell_type": "markdown",
   "metadata": {},
   "source": [
    "### (4) IF문에서 사용되는 조건식\n",
    "- 논리값\n",
    "- 숫자형 (0이 아닌 모든 값은 참이다. 음수도 참이다.)\n",
    "- 비교식과 논리식\n",
    "  - > / >= / < /<=\n",
    "  - == / !=\n",
    "  - is / is not\n",
    "- 논리 연산자\n",
    "  - AND/OR\n",
    "- 문자열 (빈 문자열이 아닌 경우)\n",
    "- 리스트 (원소가 하나라도 존재하면 참)\n",
    "    - 만약 없는 리스트를 출력할 경우 에러가 뜰 것. \n",
    "    - IF로 처리하면 적어도 에러는 뜨지 않음. (\"예외처리\")\n",
    "- 튜플 (원소가 하나라도 존재하면 참)\n",
    "- 딕셔너리 (원소가 하나라도 존재하면 참)"
   ]
  },
  {
   "cell_type": "code",
   "execution_count": 13,
   "metadata": {},
   "outputs": [
    {
     "name": "stdout",
     "output_type": "stream",
     "text": [
      "집에가자\n",
      "Python\n",
      "프로그래밍\n",
      "국어: 100, 영어: 80, 수학: 70\n",
      "성적처리\n"
     ]
    }
   ],
   "source": [
    "# 숫자형 (0이 아닌 모든 값은 참이다. 음수도 참이다.)\n",
    "money = 0   #money = 10000\n",
    "if money:\n",
    "    print(\"택시를 타고\")\n",
    "print(\"집에가자\")\n",
    "# 비교식\n",
    "name = \"Python\" #nmae = \"\" (name = \" \"공백도 True.)\n",
    "if name:\n",
    "    print(name)\n",
    "print(\"프로그래밍\")\n",
    "# 비교식과 논리식\n",
    "myage = int(input(\"나이를 입력하세요\"))\n",
    "if myage == 19:\n",
    "    print(\"19살 입니다.\")\n",
    "if myage != 20:\n",
    "    print(\"20살이 아닙니다.\")\n",
    "if myage > 19:\n",
    "    print(\"성인입니다.\")\n",
    "if myage <= 19:\n",
    "    print(\"청소년입니다.\")\n",
    "\n",
    "x = 1\n",
    "y = 1.0\n",
    "if x == y:\n",
    "    print(\"1) x와 y는 같다\")\n",
    "if x is y:\n",
    "    print(\"2) x와 y는 같다\")\n",
    "if x != y:\n",
    "    print(\"1) a와 b는 다르다\")\n",
    "if x is not y:\n",
    "    print(\"2) x와 y는 다르다\")\n",
    "\n",
    "# 논리 연산자 (AND, OR)\n",
    "point = int(input(\"점수를 입력하세요\"))\n",
    "print(\"입력값은 %d입니다.\" % point)\n",
    "\n",
    "if point > 70 and point <= 80:\n",
    "    print(\"C학점 입니다.\")\n",
    "if point <= 70 or point > 80:\n",
    "    print(\"C학점이 아닙니다.\")\n",
    "# 문자열 (빈 문자열이 아닌 경우)\n",
    "# 리스트 (원소가 하나라도 존재하면 참)\n",
    "grade = [100, 80, 70]   #grade = []\n",
    "if grade:\n",
    "    msg = \"국어: {0}, 영어: {1}, 수학: {2}\"\n",
    "    print(msg.format(grade[0], grade[1], grade[2]))\n",
    "print(\"성적처리\")\n",
    "\n",
    "# 튜플 (원소가 하나라도 존재하면 참)\n",
    "# 딕셔너리 (원소가 하나라도 존재하면 참)"
   ]
  },
  {
   "cell_type": "markdown",
   "metadata": {},
   "source": [
    "### (5) 조건식에서 사용 가능한 또 다른 연산자\n",
    "- A in B\n",
    "  - A가 값, B가 문자열 혹은 리스트일 때, A가 B에 포함되어있으면 참\n",
    "- A not in B\n",
    "- A is B\n",
    "  - 데이터 타입까지 일치해야 참.\n",
    "- A is not B\n",
    "  - 값이 다르더라도 데이터 타입이 다르다면 참 (?)\n",
    "\n",
    "### (6) 'is'와 '=='의 차이\n",
    "- '==' -> 값만 비교하므로 실수형 '1.0'과 정수형 '1'을 같다\n",
    "- 'is' -> 변수의 타입까지 비교하므로 실수형과 정수형은 다르다고 판별"
   ]
  },
  {
   "cell_type": "code",
   "execution_count": 14,
   "metadata": {},
   "outputs": [],
   "source": [
    "user1 = \"hello\"\n",
    "user2 = \"world\"\n",
    "memberList = ['hello', 'python', 'life']\n",
    "\n",
    "\n",
    "# in\n",
    "\n",
    "a = user1 in memberList\n",
    "print(a)    #값이 True or False로 나온다.\n",
    "\n",
    "b = user2 in memberList\n",
    "print(b)\n",
    "\n",
    "if user1 in memberList:\n",
    "    print(user1+\"(은)는 이미 가입되어 있습니다.\")\n",
    "\n",
    "if user2 in memberList:\n",
    "    print(user2+\"(은)는 이미 가입되어 있습니다.\")\n",
    "\n",
    "# not in\n",
    "\n",
    "if user1 not in memberList:\n",
    "    print(user1+\"(은)는 가입되어 있지 않습니다.\")\n",
    "\n",
    "if user2 not in memberList:\n",
    "    print(user2+\"(은)는 가입되어 있지 않습니다.\")\n"
   ]
  },
  {
   "cell_type": "markdown",
   "metadata": {},
   "source": [
    "## 2. ELSE문, ELIF문\n",
    "### (1) ELSE문\n",
    "- 그렇지 않으면?\n",
    "  - IF문의 조건과 반대되는 경우에 실행되는 구문\n",
    "  - 독립적으로 실행될 수 없고\n",
    "  - 반드시 if문의 뒤에 위치해야 함."
   ]
  },
  {
   "cell_type": "code",
   "execution_count": 15,
   "metadata": {},
   "outputs": [
    {
     "name": "stdout",
     "output_type": "stream",
     "text": [
      "시험시작\n",
      "입력값은 80입니다.\n",
      "합격입니다.\n",
      "시험 끝\n"
     ]
    }
   ],
   "source": [
    "# ELSE문 활용\n",
    "\n",
    "print(\"시험시작\")\n",
    "\n",
    "score = int(input(\"점수를 입력하세요\"))\n",
    "print(\"입력값은 %d입니다.\" % score)\n",
    "\n",
    "if score >= 60:\n",
    "    print(\"합격입니다.\")\n",
    "else:\n",
    "    print(\"불합격입니다.\")\n",
    "print(\"시험 끝\")\n"
   ]
  },
  {
   "cell_type": "markdown",
   "metadata": {},
   "source": [
    "### (2) boolean형 값에 대한 ELSE문 처리\n",
    "\n"
   ]
  },
  {
   "cell_type": "code",
   "execution_count": 16,
   "metadata": {},
   "outputs": [
    {
     "name": "stdout",
     "output_type": "stream",
     "text": [
      "입력값은 입니다.\n"
     ]
    }
   ],
   "source": [
    "answer = input(\"한국인입니까? (Y/N)\")\n",
    "print(\"입력값은 %s입니다.\" % answer)\n",
    "\n",
    "if answer.upper() == \"Y\":   # y != Y 이므로 사용자가 y를 입력할 경우에 대비\n",
    "    isKorean = True\n",
    "else:\n",
    "    isKorean = False \n",
    "\n",
    "# 논리값을 조건으로 사용할 경우 \"만약 이 변수가 참이라면?\"의 의미\n",
    "if isKorean:\n",
    "    print(\"한국사람 입니다...(1)\")\n",
    "else:\n",
    "    print(\"한국사람이 아닙니다...(2)\")\n",
    "# 논리값의 부정형을 조건으로 사용할 경우 \"만약 이 변수가 거짓이라면?\"의 의미\n",
    "if not isKorean:\n",
    "    print(\"한국사람이 아닙니다...(3)\")\n",
    "else:\n",
    "    print(\"한국사람 입니다...(4)\")"
   ]
  },
  {
   "cell_type": "markdown",
   "metadata": {},
   "source": [
    "### (3) ELIF 문\n",
    "- 여러 가지 경우의 수를 분기\n",
    "  - if 문과 else문 사이에 elif문으로 두 번째 조건, 세번째 조건을 나열\n",
    "  - Python은 **순서대로** 조건을 판별하면서 가장 처음에 만나는 참인 조건에 대한 블록을 실행하고 나머지는 실행하지 않음.\n",
    "  - elif문은 필요한 만큼 나열할 가능\n",
    "  - else문은 필요하지 않을 경우 생략 가능함\n",
    "\n"
   ]
  },
  {
   "cell_type": "code",
   "execution_count": 23,
   "metadata": {},
   "outputs": [
    {
     "name": "stdout",
     "output_type": "stream",
     "text": [
      "시험시작\n",
      "입력값은 76입니다.\n",
      "C학점\n",
      "시험 끝\n"
     ]
    }
   ],
   "source": [
    "# ELIF를 활용한 다양한 경우의 수 나열\n",
    "print(\"시험시작\")\n",
    "point=int(input(\"점수를 입력하세요\"))\n",
    "print(\"입력값은 %d입니다.\" % point)\n",
    "\n",
    "if point>90:\n",
    "    print(\"A학점\")\n",
    "elif point<=90 and point>80:\n",
    "    print(\"B학점\")\n",
    "elif point<=80 and point>70:\n",
    "    print(\"C학점\")\n",
    "elif point<=70 and point>60:\n",
    "    print(\"D학점\")\n",
    "else:\n",
    "    print(\"F학점\")\n",
    "\n",
    "print(\"시험 끝\")"
   ]
  },
  {
   "cell_type": "markdown",
   "metadata": {},
   "source": [
    "### 연구과제 (1)\n",
    "\n",
    "- 연령대 구하기\n"
   ]
  },
  {
   "cell_type": "code",
   "execution_count": 24,
   "metadata": {},
   "outputs": [
    {
     "name": "stdout",
     "output_type": "stream",
     "text": [
      "50대\n"
     ]
    }
   ],
   "source": [
    "myage = int(input(\"나이를입력하세요\"))\n",
    "if myage<10:\n",
    "    print(\"어린이\")\n",
    "elif myage>=10 and myage<20:\n",
    "    print(\"10대\")\n",
    "elif myage>=20 and myage<30:\n",
    "    print(\"20대\")\n",
    "elif myage>=30 and myage<40:\n",
    "    print(\"30대\")\n",
    "elif myage>=40 and myage<50:\n",
    "    print(\"40대\")\n",
    "elif myage>=50 and myage<60:\n",
    "    print(\"50대\")\n",
    "else:\n",
    "    print(\"노년층\")\n"
   ]
  },
  {
   "cell_type": "code",
   "execution_count": null,
   "metadata": {},
   "outputs": [],
   "source": [
    "# 연구과제(1) 80-90점 짜리 풀이\n",
    "\n",
    "age = int(input(\"나이를 입력하세요.\"))\n",
    "\n",
    "if age<10:\n",
    "    print(\"어린이\")\n",
    "elif myage<20:\n",
    "    print(\"10대\")\n",
    "elif myage<30:\n",
    "    print(\"20대\")\n",
    "elif myage<40:\n",
    "    print(\"30대\")\n",
    "elif myage<50:\n",
    "    print(\"40대\")\n",
    "elif myage<60:\n",
    "    print(\"50대\")\n",
    "else:\n",
    "    print(\"노년층\")\n",
    "\n",
    "# 연구과제(1) 100점짜리 풀이\n",
    "\n",
    "# 나이 입력받기\n",
    "age = int(input(\"나이를 입력하세요.\"))\n",
    "\n",
    "# 연령대 입력받기\n",
    "level = (age//10)\n",
    "if level == 0:\n",
    "    print(\"어린이\")\n",
    "elif level >=6:\n",
    "    print(\"노년층\")\n",
    "else:\n",
    "    print((\"%d대\") % (level*10))\n",
    "\n"
   ]
  },
  {
   "cell_type": "markdown",
   "metadata": {},
   "source": [
    "### 연구과제 (2)\n",
    "- 비만도 구하기\n",
    "  - myHeight, myWeight 정수로 입력받기\n",
    "  - standardWeight 구하기\n",
    "  - obesity 구하기\n",
    "  - 4가지로 출력"
   ]
  },
  {
   "cell_type": "code",
   "execution_count": 22,
   "metadata": {},
   "outputs": [
    {
     "name": "stdout",
     "output_type": "stream",
     "text": [
      "45.0\n",
      "11.11111111111111\n",
      "정상(안심)\n"
     ]
    }
   ],
   "source": [
    "myHeight = int(input(\"키를 입력하세요 (cm)\"))\n",
    "myWeight = int(input(\"몸무게를 입력하세요 (kg)\"))\n",
    "\n",
    "if myHeight <= 150:\n",
    "    standardWeight = myHeight - 110\n",
    "else:\n",
    "    standardWeight = (myHeight - 110) * 0.9\n",
    "print(standardWeight)\n",
    "\n",
    "obesity = (myWeight-standardWeight)/standardWeight*100\n",
    "print(obesity)\n",
    "\n",
    "if obesity <=20:\n",
    "    print(\"정상(안심)\")\n",
    "elif obesity<=30:\n",
    "    print(\"경도비만(주의)\")\n",
    "elif obesity<=40:\n",
    "    print(\"중등도 비만(위험)\")\n",
    "else:\n",
    "    print(\"고도비만(매우위험)\")"
   ]
  },
  {
   "cell_type": "code",
   "execution_count": null,
   "metadata": {},
   "outputs": [],
   "source": [
    "# 연구과제 (2) 풀이\n",
    "\n",
    "# 키 입력받기\n",
    "myHeight = int(input(\"키를 입력하세요 (cm)\"))\n",
    "myWeight = int(input(\"몸무게를 입력하세요 (kg)\"))\n",
    "\n",
    "# 표준체중\n",
    "if myHeight <= 150:\n",
    "    standardWeight = myHeight - 110\n",
    "else:\n",
    "    standardWeight = (myHeight - 110) * 0.9\n",
    "\n",
    "# 비만도\n",
    "obesity = (myWeight-standardWeight)/standardWeight*100\n",
    "\n",
    "if obesity <=20:\n",
    "    print(\"정상(안심)\")\n",
    "elif obesity<=30:\n",
    "    print(\"경도비만(주의)\")\n",
    "elif obesity<=40:\n",
    "    print(\"중등도 비만(위험)\")\n",
    "else:\n",
    "    print(\"고도비만(매우위험)\")"
   ]
  }
 ],
 "metadata": {
  "kernelspec": {
   "display_name": "Python 3",
   "language": "python",
   "name": "python3"
  },
  "language_info": {
   "codemirror_mode": {
    "name": "ipython",
    "version": 3
   },
   "file_extension": ".py",
   "mimetype": "text/x-python",
   "name": "python",
   "nbconvert_exporter": "python",
   "pygments_lexer": "ipython3",
   "version": "3.12.0"
  }
 },
 "nbformat": 4,
 "nbformat_minor": 2
}
