{
 "cells": [
  {
   "cell_type": "markdown",
   "metadata": {},
   "source": [
    "# 31 비동기 처리\n",
    "\n",
    "## 1. 비동기 처리의 이해\n",
    "### (1) 동기 처리와 비동기 처리\n",
    "- 동기 처리와 비동기 처리 비교\n",
    "  - 동기 처리  (Synchronous)\n",
    "  - 비동기 처리 (Asynchronous)\n",
    "    - 병렬(동시)로 작업을 수행\n",
    "    - 전체 실행 시간이 빠름\n",
    "      - 먼저 호출한 함수의 종료와 관계없이 다음 변수 호출\n",
    "   "
   ]
  },
  {
   "cell_type": "code",
   "execution_count": 1,
   "metadata": {},
   "outputs": [],
   "source": [
    "# 필요한 패키지 참조\n",
    "\n",
    "# 프로그램에 딜레이를 적용하는 기능을 제공하는 모듈\n",
    "import time\n",
    "# 날짜 처리 모듈\n",
    "import datetime as dt\n",
    "import MyMailer\n",
    "#비 동기 처리 기능을 제공하는 모듈\n",
    "import concurrent.futures as futures"
   ]
  },
  {
   "cell_type": "code",
   "execution_count": 4,
   "metadata": {},
   "outputs": [],
   "source": [
    "# 주어진 시간 동안 딜레이가 발생하는 함수 정의\n",
    "# 다소 시간이 오래 걸리는 상황 가정\n",
    "    # 주어진 seconds 값 만큼 반복 수행하면서 1초씩 딜레이 시간을 갖는 함수\n",
    "        # time.sleep\n",
    "def timeWork(name, seconds):\n",
    "    print(\"[%s] 작업을 %d초 동안 수행합니다.\"%  (name, seconds))\n",
    "\n",
    "    for i in range (0,seconds):\n",
    "        time.sleep(1)\n",
    "        print(\"[%s] %d초...\" % (name, i+1))\n",
    "    \n",
    "    print(\"[%s] 작업이 종료되었습니다.\" %name)\n"
   ]
  },
  {
   "cell_type": "code",
   "execution_count": 5,
   "metadata": {},
   "outputs": [
    {
     "name": "stdout",
     "output_type": "stream",
     "text": [
      "[A] 작업을 3초 동안 수행합니다.\n",
      "[A] 1초...\n",
      "[A] 2초...\n",
      "[A] 3초...\n",
      "[A] 작업이 종료되었습니다.\n",
      "[B] 작업을 5초 동안 수행합니다.\n",
      "[B] 1초...\n",
      "[B] 2초...\n",
      "[B] 3초...\n",
      "[B] 4초...\n",
      "[B] 5초...\n",
      "[B] 작업이 종료되었습니다.\n",
      "[C] 작업을 2초 동안 수행합니다.\n",
      "[C] 1초...\n",
      "[C] 2초...\n",
      "[C] 작업이 종료되었습니다.\n",
      "작업에 소요된 시간은 총 10초 입니다.\n"
     ]
    }
   ],
   "source": [
    "# 동기식 함수 호출\n",
    "# 순차적으로 작업이 수행된다.\n",
    "#   - 3,4,5 라인에서 호출되는 timeWork() 함수는 각각 주어진 시간동안 작업이 종료되기 전까지는 다음 라인을 진행하지 않는다.\n",
    "\n",
    "startTime = dt.datetime.now()\n",
    "\n",
    "timeWork(\"A\", 3)\n",
    "timeWork(\"B\", 5)\n",
    "timeWork(\"C\", 2)\n",
    "\n",
    "endTime = dt.datetime.now()\n",
    "workTime = endTime - startTime\n",
    "print(\"작업에 소요된 시간은 총 %s초 입니다.\" % workTime.seconds)"
   ]
  },
  {
   "cell_type": "code",
   "execution_count": 7,
   "metadata": {},
   "outputs": [
    {
     "name": "stdout",
     "output_type": "stream",
     "text": [
      "[A] 작업을 3초 동안 수행합니다.\n",
      "[B] 작업을 5초 동안 수행합니다.\n",
      "[C] 작업을 2초 동안 수행합니다.\n",
      "[B] 1초...[A] 1초...\n",
      "[C] 1초...\n",
      "\n",
      "[C] 2초...[A] 2초...\n",
      "[B] 2초...\n",
      "\n",
      "[C] 작업이 종료되었습니다.\n",
      "[B] 3초...\n",
      "[A] 3초...\n",
      "[A] 작업이 종료되었습니다.\n",
      "[B] 4초...\n",
      "[B] 5초...\n",
      "[B] 작업이 종료되었습니다.\n",
      "작업에 소요된 시간은 총 5초 입니다.\n"
     ]
    }
   ],
   "source": [
    "# 비동기식 함수 호출\n",
    "    # ThreadPollExecutor에 의한 비동기식 함수 호출\n",
    "        # max_workers: 동시에 들어가는 작업 수 (최대 10까지)\n",
    "        # .submit() 함수로 실행 \n",
    "# timeWork() 함수가 작업이 종료되지 않더라도 다음 라인을 수행하기 때문에 4,5,6라인이 거의 동시에 작업을 시작한다.\n",
    "# 비동기식으로 호출된 함수들은 각각 독립적으로 실행되므로 세 개의 작업은 동시성을 가짐\n",
    "\n",
    "startTime = dt.datetime.now()\n",
    "\n",
    "with futures.ThreadPoolExecutor(max_workers=3) as executor:\n",
    "    executor.submit(timeWork, \"A\", 3)\n",
    "    executor.submit(timeWork, \"B\", 5)\n",
    "    executor.submit(timeWork, \"C\", 2)\n",
    "\n",
    "endTime = dt.datetime.now()\n",
    "workTime = endTime - startTime \n",
    "print(\"작업에 소요된 시간은 총 %s초 입니다.\" % workTime.seconds)"
   ]
  },
  {
   "cell_type": "markdown",
   "metadata": {},
   "source": [
    "## 2. 메일링 리스트 개선\n",
    "\n",
    "### (1) 메일 발송에 필요한 변수 초기화\n",
    "- 이전 단원의 소스코드 재사용\n",
    "  "
   ]
  },
  {
   "cell_type": "code",
   "execution_count": 8,
   "metadata": {},
   "outputs": [],
   "source": [
    "today = dt.datetime.now()\n",
    "year = today.year\n",
    "month = today.month\n",
    "day = today.day\n",
    "\n",
    "fromAddr = \"운영지원팀 <jcdasom@gmail.com>\"\n",
    "subjectTmpl = \"{name}님의 {yy}년 {mm}월 급여명세서 입니다.\"\n",
    "\n",
    "with open('mail/content.txt', 'r', encoding = 'utf-8') as f:\n",
    "    contentTmpl = f.read()"
   ]
  },
  {
   "cell_type": "markdown",
   "metadata": {},
   "source": [
    "### (2) 비동기식 메일 발송\n",
    "- 동시 메일 발송 처리\n",
    "  - max_workers 로 설정한 값에 따라 최대 10개 까지 동시 발송을 수행하며, 총 작업 시간이 단축된 것을 확인할 수 있다."
   ]
  },
  {
   "cell_type": "code",
   "execution_count": 10,
   "metadata": {},
   "outputs": [
    {
     "name": "stdout",
     "output_type": "stream",
     "text": [
      "작업에 소요된 시간은 총 4초 입니다.\n"
     ]
    }
   ],
   "source": [
    "startTime = dt.datetime.now()\n",
    "with open(\"mail/mail_list.csv\", \"r\", encoding =\"euc-kr\") as f:\n",
    "    csv = f.readlines()\n",
    "\n",
    "    with futures.ThreadPoolExecutor(max_workers=10) as executor:\n",
    "        for line in csv:\n",
    "            name, email, file1, file2 = line.strip().split(\",\")\n",
    "            toAddr = \"{name}<{email}>\".format(name = name, email = email)\n",
    "            subject = subjectTmpl.format(name = name, yy = year, mm = month)\n",
    "            content = contentTmpl.format(name = name, yy = year, mm = month, dd = day)\n",
    "\n",
    "            #MyMailer.sendMail(fromAddr, toAddr, subject, content [file1, fiel2])\n",
    "            executor.submit(MyMailer.sendMail, fromAddr, toAddr, subject, content, [file1, file2])\n",
    "        \n",
    "    endTime = dt.datetime.now()\n",
    "    workTime = endTime - startTime\n",
    "    print(\"작업에 소요된 시간은 총 %s초 입니다.\" % workTime.seconds)"
   ]
  },
  {
   "cell_type": "code",
   "execution_count": null,
   "metadata": {},
   "outputs": [],
   "source": []
  }
 ],
 "metadata": {
  "kernelspec": {
   "display_name": "Python 3",
   "language": "python",
   "name": "python3"
  },
  "language_info": {
   "codemirror_mode": {
    "name": "ipython",
    "version": 3
   },
   "file_extension": ".py",
   "mimetype": "text/x-python",
   "name": "python",
   "nbconvert_exporter": "python",
   "pygments_lexer": "ipython3",
   "version": "3.12.0"
  }
 },
 "nbformat": 4,
 "nbformat_minor": 2
}
