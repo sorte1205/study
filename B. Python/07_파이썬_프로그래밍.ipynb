{
 "cells": [
  {
   "cell_type": "markdown",
   "metadata": {},
   "source": [
    "## 1. 문자열 다루기\n",
    "- 문장을 표현하는 글자들의 모임을 값으로 갖는 변수\n"
   ]
  },
  {
   "cell_type": "code",
   "execution_count": 6,
   "metadata": {},
   "outputs": [
    {
     "ename": "SyntaxError",
     "evalue": "unterminated string literal (detected at line 8) (3486430053.py, line 8)",
     "output_type": "error",
     "traceback": [
      "\u001b[1;36m  Cell \u001b[1;32mIn[6], line 8\u001b[1;36m\u001b[0m\n\u001b[1;33m    msg3 = \"Python Study'\u001b[0m\n\u001b[1;37m           ^\u001b[0m\n\u001b[1;31mSyntaxError\u001b[0m\u001b[1;31m:\u001b[0m unterminated string literal (detected at line 8)\n"
     ]
    }
   ],
   "source": [
    "#쌍따옴표나 홑따옴표로 감싸야 한다. -> 따옴표의 혼용은 불가.\n",
    "msg1 = \"Life is too short\"\n",
    "msg2 = 'You need Python'\n",
    "print(msg1)\n",
    "print(msg2)\n",
    "\n",
    "# 따옴표의 쌍이 다르게 지정된 경우 -> SyntaxError\n",
    "msg3 = \"Python Study'\n",
    "print(msg3)\n"
   ]
  },
  {
   "cell_type": "markdown",
   "metadata": {},
   "source": []
  },
  {
   "cell_type": "code",
   "execution_count": 9,
   "metadata": {},
   "outputs": [
    {
     "name": "stdout",
     "output_type": "stream",
     "text": [
      "Hello,Python\n",
      "2000100\n"
     ]
    },
    {
     "ename": "TypeError",
     "evalue": "can only concatenate str (not \"int\") to str",
     "output_type": "error",
     "traceback": [
      "\u001b[1;31m---------------------------------------------------------------------------\u001b[0m",
      "\u001b[1;31mTypeError\u001b[0m                                 Traceback (most recent call last)",
      "\u001b[1;32me:\\산대특\\본과정 1분기\\B. Python\\Day3 07_파이썬_프로그래밍.ipynb 셀 4\u001b[0m line \u001b[0;36m1\n\u001b[0;32m     <a href='vscode-notebook-cell:/e%3A/%EC%82%B0%EB%8C%80%ED%8A%B9/%EB%B3%B8%EA%B3%BC%EC%A0%95%201%EB%B6%84%EA%B8%B0/B.%20Python/Day3%2007_%ED%8C%8C%EC%9D%B4%EC%8D%AC_%ED%94%84%EB%A1%9C%EA%B7%B8%EB%9E%98%EB%B0%8D.ipynb#X26sZmlsZQ%3D%3D?line=9'>10</a>\u001b[0m \u001b[39mprint\u001b[39m(pay\u001b[39m+\u001b[39mbonus)\n\u001b[0;32m     <a href='vscode-notebook-cell:/e%3A/%EC%82%B0%EB%8C%80%ED%8A%B9/%EB%B3%B8%EA%B3%BC%EC%A0%95%201%EB%B6%84%EA%B8%B0/B.%20Python/Day3%2007_%ED%8C%8C%EC%9D%B4%EC%8D%AC_%ED%94%84%EB%A1%9C%EA%B7%B8%EB%9E%98%EB%B0%8D.ipynb#X26sZmlsZQ%3D%3D?line=11'>12</a>\u001b[0m \u001b[39m# 문자열과 다른 데이터 타입의 값은 덧셈 불가 -> TypeError\u001b[39;00m\n\u001b[1;32m---> <a href='vscode-notebook-cell:/e%3A/%EC%82%B0%EB%8C%80%ED%8A%B9/%EB%B3%B8%EA%B3%BC%EC%A0%95%201%EB%B6%84%EA%B8%B0/B.%20Python/Day3%2007_%ED%8C%8C%EC%9D%B4%EC%8D%AC_%ED%94%84%EB%A1%9C%EA%B7%B8%EB%9E%98%EB%B0%8D.ipynb#X26sZmlsZQ%3D%3D?line=12'>13</a>\u001b[0m \u001b[39mprint\u001b[39m(msg1 \u001b[39m+\u001b[39;49m \u001b[39m100\u001b[39;49m)\n",
      "\u001b[1;31mTypeError\u001b[0m: can only concatenate str (not \"int\") to str"
     ]
    }
   ],
   "source": [
    "# 문자열의 덧셈\n",
    "\n",
    "# 문자열의 덧셈은 문자열을 연결하는 기능\n",
    "msg1 = \"Hello\"\n",
    "msg2 = \"Python\"\n",
    "print(msg1 + \",\" + msg2)\n",
    "\n",
    "# 따옴표로 감싸면 무조건 문장.\n",
    "# -> 숫자가 아니므로 연산 결과도 문자열 연산 규칙을 따른다.\n",
    "pay = \"2000\"\n",
    "bonus = \"100\"\n",
    "print(pay+bonus)\n",
    "\n",
    "# 문자열과 다른 데이터 타입의 값은 덧셈 불가 -> TypeError\n",
    "print(msg1 + 100)\n"
   ]
  },
  {
   "cell_type": "code",
   "execution_count": null,
   "metadata": {},
   "outputs": [],
   "source": [
    "# 문자열의 곱셈\n",
    "\n",
    "# 문자열과 숫자의 곱셈은 동일 내용을 여러번 반복한다.\n",
    "name = \"Python\"\n",
    "print(name *5)\n",
    "\n",
    "# 문자열끼리의 곱셈은 불가능 -> TypeError\n",
    "StrTimes = \"Python\"*\"Hello\"\n",
    "\n",
    "\n"
   ]
  },
  {
   "cell_type": "markdown",
   "metadata": {},
   "source": [
    "### 2. 이스케이프 문자 활용\n",
    "\n",
    "- 이스케이프 문자 (Escape String, 확장문자)\n",
    "  \n",
    "  - 문자열에 포함되는 특수문자\n",
    "    - \\n 줄바꿈 (=개행문자)\n",
    "    - \\t 탭 (띄어쓰기 4개)\n",
    "    - \\\" 쌍따옴표\n",
    "    - \\* 홑따옴표\n",
    "    - \\\\ 역슬래시 자체\n",
    "  \n",
    "\n",
    "- 이스케이프 문자 사용방법\n",
    "  \n"
   ]
  },
  {
   "cell_type": "code",
   "execution_count": 1,
   "metadata": {},
   "outputs": [],
   "source": [
    "# 쌍따옴표 안에 쌍따옴표 넣기 -> 이스케이프 문자 사용\n",
    "case1 = \"Life is \\\"too\\\" short\"\n",
    "print(case1)\n",
    "\n",
    "# 홑따옴표 안에 홑따옴표 넣기 -> 이스케이프 문자 사용\n",
    "case2 = 'Life is \\'too\\' short'\n",
    "print (case2)\n",
    "\n",
    "# 줄바꿈 -> \\n\n",
    "print (\"Life is too shrt\\nYou need Python\")\n",
    "# 탭키 -> \\t\n",
    "print(\"Life is too short\\tYou need Python\")\n",
    "\n",
    "# 순수한 열슬래시 출력 -> \\\\\n",
    "print(\"Life is too short\\\\You need Python\")"
   ]
  },
  {
   "cell_type": "markdown",
   "metadata": {},
   "source": [
    "### 문자열 안에 따옴표를 포함시키는 다른 방법"
   ]
  },
  {
   "cell_type": "code",
   "execution_count": 2,
   "metadata": {},
   "outputs": [],
   "source": [
    "# 문자열을 쌍따옴표로 표현하는 경우 -> 홑따옴표를 포함시킬 수 있다\n",
    "str1 = \"You 'need' Python\"\n",
    "print(str1)\n",
    "\n",
    "# 문자열을 홑따옴표로 표현하는 경우 -> 쌍따옴표를 포함시킬 수 있다\n",
    "str2 = 'You \"need\" Python'\n",
    "print (str2)"
   ]
  },
  {
   "cell_type": "markdown",
   "metadata": {},
   "source": [
    "## 3. 인덱싱과 슬라이싱\n",
    "\n",
    "### (1) 문자열의 인덱스 번호\n",
    "- 각각의 글자들에게 부여되는 0부터 시작되는 일련번호\n",
    " - 공백(띄어쓰기)도, 쉼표도 각각 하나의 글자로 처리된다.\n",
    "- 음수 형태의 인덱스 번호\n",
    " - 음수로 지정할 경우 마지막 글자부터 지정된다\n",
    " - 0과 -0은 동일한 값이기 때문에 음수 형태의 인덱스틑 -1부터 시작된다.\n",
    "- 인덱스 번호를 활용하여 특정 글자를 추출하는 처리\n",
    "  - 문자열 변수 이름 뒤에 대괄호 []를 사용하여 인덱스 번호 지정\n",
    "  - 양의 정수 인덱스 번호를 사용한 인덱싱의 결과를 다른 변수에 저장\n",
    "  - 음의 정수 인덱스 번호를 사용한 인덱싱 결과를 직접 출력\n",
    "  "
   ]
  },
  {
   "cell_type": "code",
   "execution_count": 3,
   "metadata": {},
   "outputs": [],
   "source": [
    "# 실습의 위한 문자열 변수 초기화\n",
    "str = \"Life is too short, You need Python\"\n",
    "print(str)\n",
    "# 3번째 문자 추출 -> 0부터 카운트\n",
    "print(str[3])\n",
    "\n",
    "# 뒤에서 3번째 글자 추출 -> -1 부터 카운트\n",
    "# (0과 -0이 같은 값이기 때문)\n",
    "print(str[-3])"
   ]
  },
  {
   "cell_type": "markdown",
   "metadata": {},
   "source": [
    "### (2) 문자열 인덱싱의 에러 케이스"
   ]
  },
  {
   "cell_type": "code",
   "execution_count": 4,
   "metadata": {},
   "outputs": [],
   "source": [
    "# 존재하지 않는 인덱스 번호를 사용하면 에러\n",
    "print(str[100])"
   ]
  },
  {
   "cell_type": "markdown",
   "metadata": {},
   "source": [
    "### (3) 문자열의 슬라이싱\n",
    "- 문자열의 구간 지정\n",
    " - 문자열변수[시작위치:끝위치]\n",
    "\n",
    "- 양의 정수와 음의 정수 혼합 사용\n",
    "  - print(msg[4:-7])\n",
    " \n",
    "- 시작위치만 지정하기\n",
    " - print(msg[4:])\n",
    " - print(msg[-11:])\n",
    "\n",
    "- 끝 위치만 지정하기\n",
    " - print(msg[:8])\n",
    " - print(msg[:-7])\n",
    "\n",
    "- 처음부터 끝까지 모든 글자 추출\n",
    " - print(msg[:])\n",
    "  "
   ]
  },
  {
   "cell_type": "code",
   "execution_count": null,
   "metadata": {},
   "outputs": [],
   "source": [
    "# 실습을 위한 문자열 변수 초기화\n",
    "# 앞에서 0번째 부터 4번째 전까지의 문자 추출\n",
    "# 앞에서 5번째 부터 7번째 전 까지의 문자 추출\n",
    "# 앞에서 19번째 부터 끝까지 추출\n",
    "# 처음부터 앞에서 17번 전까지의 문자 추출\n",
    "# 처음부터 끝까지 추출\n",
    "# 앞에서 19번째부터 뒤에서 -7번째 전까지 추출\n",
    "# 슬라이싱에 사용되는 인덱스 번호의 순서가 잘못되면 출력되는 내용 없음"
   ]
  }
 ],
 "metadata": {
  "kernelspec": {
   "display_name": "Python 3",
   "language": "python",
   "name": "python3"
  },
  "language_info": {
   "codemirror_mode": {
    "name": "ipython",
    "version": 3
   },
   "file_extension": ".py",
   "mimetype": "text/x-python",
   "name": "python",
   "nbconvert_exporter": "python",
   "pygments_lexer": "ipython3",
   "version": "3.12.0"
  }
 },
 "nbformat": 4,
 "nbformat_minor": 2
}
