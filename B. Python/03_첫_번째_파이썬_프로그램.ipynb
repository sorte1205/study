{
 "cells": [
  {
   "cell_type": "markdown",
   "metadata": {},
   "source": [
    "# 03. 첫 번째 파이썬 프로그램\n",
    "\n",
    "## 01. 메시지 출력하기"
   ]
  },
  {
   "cell_type": "code",
   "execution_count": 13,
   "metadata": {},
   "outputs": [
    {
     "name": "stdout",
     "output_type": "stream",
     "text": [
      "300\n"
     ]
    }
   ],
   "source": [
    "a = 100\n",
    "b = 200\n",
    "print(a+b)"
   ]
  },
  {
   "cell_type": "markdown",
   "metadata": {},
   "source": [
    "## 2. 첫 번째 파이썬 프로그램\n",
    "### 주석을 활용한 소스코드 작성하기"
   ]
  },
  {
   "cell_type": "code",
   "execution_count": 14,
   "metadata": {},
   "outputs": [
    {
     "name": "stdout",
     "output_type": "stream",
     "text": [
      "4950\n"
     ]
    }
   ],
   "source": [
    "# 1부터 100까지의 합을 구하는 프로그램\n",
    "sum = 0\n",
    "for i in range(1,100):\n",
    "    sum += i\n",
    "print(sum)"
   ]
  },
  {
   "cell_type": "code",
   "execution_count": 28,
   "metadata": {},
   "outputs": [
    {
     "name": "stdout",
     "output_type": "stream",
     "text": [
      "Hello python\n",
      "2658335896432\n",
      "100\n",
      "140714041923096\n",
      "200\n",
      "140714041926296\n",
      "300\n",
      "2658335849456\n"
     ]
    }
   ],
   "source": [
    "#변수와 메모리 주소 Address - 자습\n",
    "var1 = \"Hello python\"\n",
    "print(var1)\n",
    "print(id(var1))\n",
    "\n",
    "var1 = 100\n",
    "print(var1)\n",
    "print(id(var1))     # 문자형에서 숫자형 객체로 변환되면서 address가 바뀐다\n",
    "\n",
    "var1 = 200\n",
    "print(var1)\n",
    "print(id(var1))     # 숫자형 객체인 var1은 값이 바뀌어도 address가 변하지 않았다.\n",
    "\n",
    "var2 = 300\n",
    "print(var2)\n",
    "print(id(var2))"
   ]
  }
 ],
 "metadata": {
  "kernelspec": {
   "display_name": "Python 3",
   "language": "python",
   "name": "python3"
  },
  "language_info": {
   "codemirror_mode": {
    "name": "ipython",
    "version": 3
   },
   "file_extension": ".py",
   "mimetype": "text/x-python",
   "name": "python",
   "nbconvert_exporter": "python",
   "pygments_lexer": "ipython3",
   "version": "3.12.0"
  }
 },
 "nbformat": 4,
 "nbformat_minor": 2
}
