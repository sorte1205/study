{
 "cells": [
  {
   "cell_type": "markdown",
   "metadata": {},
   "source": [
    "# 05강. 함수와 객체의 이해\n",
    "\n",
    "## 1. 함수의 이해\n",
    "\n",
    "### type() 내장함수 사용하기"
   ]
  },
  {
   "cell_type": "code",
   "execution_count": 1,
   "metadata": {},
   "outputs": [
    {
     "name": "stdout",
     "output_type": "stream",
     "text": [
      "<class 'int'>\n"
     ]
    }
   ],
   "source": [
    "# 정수형 변수의 데이터 타입 확인\n",
    "age = 20\n",
    "print(type(age))"
   ]
  },
  {
   "cell_type": "code",
   "execution_count": 3,
   "metadata": {},
   "outputs": [
    {
     "name": "stdout",
     "output_type": "stream",
     "text": [
      "<class 'float'>\n"
     ]
    }
   ],
   "source": [
    "# 실수형 변수의 데이터 타입 확인\n",
    "pi = 3.14\n",
    "typeOfPi = type(pi)\n",
    "print(typeOfPi)"
   ]
  },
  {
   "cell_type": "code",
   "execution_count": 5,
   "metadata": {},
   "outputs": [
    {
     "name": "stdout",
     "output_type": "stream",
     "text": [
      "<class 'str'>\n"
     ]
    }
   ],
   "source": [
    "#문자열 변수의 데이터 타입 확인\n",
    "message= \"Hello Python\"\n",
    "typeOfMessage = type(message)\n",
    "print(typeOfMessage)"
   ]
  },
  {
   "cell_type": "code",
   "execution_count": 7,
   "metadata": {},
   "outputs": [
    {
     "name": "stdout",
     "output_type": "stream",
     "text": [
      "<class 'bool'>\n"
     ]
    }
   ],
   "source": [
    "#논리형 변수의 데이터 타입 확인\n",
    "ok = True\n",
    "typeOfOk = type(ok)\n",
    "print(typeOfOk)"
   ]
  },
  {
   "cell_type": "markdown",
   "metadata": {},
   "source": [
    "### 사용자 입력값 받기(1)\n",
    "- input() 함수\n",
    "  - 키보드로 입력한 내용을 문자열로 입력받는다.\n",
    "  - 사용자가 입력한 내용은 input()함수의 리턴값이 되고, 그 내용을 다른 변수에 할당할 수 있다.\n",
    "    ```변수이름 = input(\"표시할 메시지 내용)```\n",
    "  - 코드를 실행하면 Visual Studio code 화면 상단에 입력상자가 표시되고, 내용을 입력 후 엔터를 누르면 input() 함수가 입력한 내용을 리턴한다.\n",
    "- 변수에 저장된 내용을 키보드로 직접 입력하기\n",
    "  - 사용자가 입력한 내용의 데이터 타입은 문자열(string)이다."
   ]
  },
  {
   "cell_type": "code",
   "execution_count": 10,
   "metadata": {},
   "outputs": [
    {
     "name": "stdout",
     "output_type": "stream",
     "text": [
      "1234\n",
      "<class 'str'>\n"
     ]
    }
   ],
   "source": [
    "# 문자열 입력받기   \n",
    "msg1 = input(\"메시지를 입력하세요\")\n",
    "print(msg1)\n",
    "# 입력 받은 내용의 데이터 타입 확인 --> 문자열(str)\n",
    "t = type(msg1)\n",
    "print(t)"
   ]
  },
  {
   "cell_type": "markdown",
   "metadata": {},
   "source": [
    "### 문자열의 정수, 실수 변환\n",
    "- 입력필드에 입력한 값의 숫자변환\n",
    "    - 데이터 타입이 string인 경우 입력값을 활용한 연산이 불가능하기 때문에 정수나 실수로 변환해서 사용해야 한다.\n"
   ]
  },
  {
   "cell_type": "code",
   "execution_count": 13,
   "metadata": {},
   "outputs": [
    {
     "name": "stdout",
     "output_type": "stream",
     "text": [
      "23\n",
      "32.0\n",
      "<class 'float'>\n"
     ]
    }
   ],
   "source": [
    "# 입력받은 값을 정수 타입으로 변환\n",
    "msg2 = input(\"정수를 입력하세요\")\n",
    "num = int(msg2)\n",
    "print(num)\n",
    "\n",
    "# 입력받은 값을 실수 타입으로 변환\n",
    "msg3 = input(\"실수를 입력하세요\")\n",
    "fnum = float(msg3)\n",
    "print(fnum)\n",
    "\n",
    "# 변환 결과의 데이터 타입 확인\n",
    "fnum_type= type(fnum)\n",
    "print(fnum_type)\n",
    "\n"
   ]
  },
  {
   "cell_type": "markdown",
   "metadata": {},
   "source": [
    "### 정수와 실수의 상호 변환"
   ]
  },
  {
   "cell_type": "code",
   "execution_count": 15,
   "metadata": {},
   "outputs": [
    {
     "name": "stdout",
     "output_type": "stream",
     "text": [
      "10.0\n",
      "<class 'float'>\n",
      "3\n",
      "<class 'int'>\n"
     ]
    }
   ],
   "source": [
    "# 정수를 실수로 변환 --> 정수 뒤에 \".0\"이 추가됨\n",
    "num1 = 10\n",
    "num2 = float(num1)\n",
    "print(num2)\n",
    "# 변환 결과의 데이터 타입 확인 --> 실수(float)\n",
    "t1 = type(num2)\n",
    "print(t1)\n",
    "\n",
    "# 실수를 정수로 변환 --> 소수점 버림\n",
    "num3 = 3.6\n",
    "num4 = int(num3)\n",
    "print(num4)\n",
    "# 변환 결과의 데이터 타입 확인 --> 정수(int)\n",
    "t2 = type(num4)\n",
    "print(t2)"
   ]
  },
  {
   "cell_type": "markdown",
   "metadata": {},
   "source": [
    "### 기본 출력과 문자열 연결"
   ]
  },
  {
   "cell_type": "code",
   "execution_count": 18,
   "metadata": {},
   "outputs": [
    {
     "name": "stdout",
     "output_type": "stream",
     "text": [
      "Lifeisshort\n",
      "Lifeisshort\n"
     ]
    }
   ],
   "source": [
    "# 문장 여러개를 공백으로 구분하여 지정할 경우 \"+\"연산과 동일하다.\n",
    "#   -> 단순한 문자열 연결\n",
    "\n",
    "print(\"Life\"+\"is\"+\"short\")\n",
    "print(\"Life\" \"is\" \"short\")"
   ]
  },
  {
   "cell_type": "code",
   "execution_count": 19,
   "metadata": {},
   "outputs": [
    {
     "name": "stdout",
     "output_type": "stream",
     "text": [
      "Lifeisshort 100\n"
     ]
    }
   ],
   "source": [
    "# 문장을 콤마로 구분하면 띄어쓰기가 수행된다.\n",
    "# -> 문자열 이외의 다른 타입의 변수도 사용 가능함\n",
    "a = 100\n",
    "print(\"Life\"+\"is\"+\"short\", a)"
   ]
  },
  {
   "cell_type": "markdown",
   "metadata": {},
   "source": [
    "### 문자열 출력 후 마무리 처리"
   ]
  },
  {
   "cell_type": "code",
   "execution_count": 20,
   "metadata": {},
   "outputs": [
    {
     "name": "stdout",
     "output_type": "stream",
     "text": [
      "Life is short"
     ]
    }
   ],
   "source": [
    "# 출력할 내용을 구성하고 마지막에 'end = \"\"'라고 지정하면 줄바꿈을 수행하지 않는다.\n",
    "print(\"Life \",end=\"\")\n",
    "print(\"is \", end=\"\")\n",
    "print(\"short\", end=\"\")"
   ]
  },
  {
   "cell_type": "code",
   "execution_count": 21,
   "metadata": {},
   "outputs": [
    {
     "name": "stdout",
     "output_type": "stream",
     "text": [
      "You need Python--^^)/"
     ]
    }
   ],
   "source": [
    "# end는 출력 후 마무리를 어떻게 할지 지정하는 기능.\n",
    "# -> 기본값은 (줄바꿈문자)\"\\n\"으로 지정되어 있다.\n",
    "print(\"You\",\"need\",\"Python\", end=\"--^^)/\")"
   ]
  },
  {
   "cell_type": "markdown",
   "metadata": {},
   "source": [
    "### 간단한 연산 기능 함수"
   ]
  },
  {
   "cell_type": "code",
   "execution_count": 22,
   "metadata": {},
   "outputs": [
    {
     "name": "stdout",
     "output_type": "stream",
     "text": [
      "256\n",
      "100\n",
      "100\n",
      "12.345\n"
     ]
    }
   ],
   "source": [
    "# 제곱근 구하기 -> '2**8' 연산과 동일한 결과.\n",
    "a = pow(2, 8)\n",
    "print(a)\n",
    "\n",
    "# 절대값 구하기\n",
    "a = abs(100)\n",
    "print(a)\n",
    "\n",
    "b = abs(-100)\n",
    "print(b)\n",
    "\n",
    "c = abs(-12.345)\n",
    "print(c)"
   ]
  },
  {
   "cell_type": "markdown",
   "metadata": {},
   "source": [
    "## 2. 객체의 이해\n",
    "### 객체(Object)  \n",
    "- 객체: \n",
    "  - 명사적 특성 (멤버변수)\n",
    "  - 동사적 특성 (함수, 메서드)\n",
    "### 객체의 사용\n",
    "- 객체 사용 형식\n",
    "  - \"객체이름.변수\" \n",
    "  - \"객체이름.함수()\"\n",
    "- 파이썬의 모든 변수는 객체\n",
    "  - 파이썬에서는 모든 변수가 객체 형태로 존재.\n",
    "  ```ex. a = 1 -> a.1 ```\n",
    "\n",
    "### 실수형 변수에 포함되는 메서드 확인\n",
    "- 실수형 변수에 내장되어있는 메서드의 확인\n",
    "  "
   ]
  },
  {
   "cell_type": "code",
   "execution_count": 25,
   "metadata": {},
   "outputs": [
    {
     "name": "stdout",
     "output_type": "stream",
     "text": [
      "4\n",
      "3\n"
     ]
    }
   ],
   "source": [
    "# 실수형 변수의 초기화\n",
    "pi = 3.14\n",
    "\n",
    "# 객체에 포함되는 메서드 활용하기 --> 소수점 올림\n",
    "a = pi.__ceil__()\n",
    "print(a)\n",
    "\n",
    "# 객체에 포함되는 메서드 활용하기 --> 소수점 내림\n",
    "b = pi.__floor__()\n",
    "print(b)"
   ]
  },
  {
   "cell_type": "markdown",
   "metadata": {},
   "source": []
  }
 ],
 "metadata": {
  "kernelspec": {
   "display_name": "Python 3",
   "language": "python",
   "name": "python3"
  },
  "language_info": {
   "codemirror_mode": {
    "name": "ipython",
    "version": 3
   },
   "file_extension": ".py",
   "mimetype": "text/x-python",
   "name": "python",
   "nbconvert_exporter": "python",
   "pygments_lexer": "ipython3",
   "version": "3.12.0"
  }
 },
 "nbformat": 4,
 "nbformat_minor": 2
}
