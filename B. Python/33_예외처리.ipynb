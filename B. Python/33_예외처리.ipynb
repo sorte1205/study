{
 "cells": [
  {
   "cell_type": "markdown",
   "metadata": {},
   "source": [
    "# 32 예외처리\n",
    "## 1. 에러의 종류\n",
    "### (1) 예외상황 이해하기"
   ]
  },
  {
   "cell_type": "code",
   "execution_count": 2,
   "metadata": {},
   "outputs": [
    {
     "name": "stdout",
     "output_type": "stream",
     "text": [
      "결과는 33입니다.\n"
     ]
    },
    {
     "ename": "FileNotFoundError",
     "evalue": "[Errno 2] No such file or directory: 'z:/'",
     "output_type": "error",
     "traceback": [
      "\u001b[1;31m---------------------------------------------------------------------------\u001b[0m",
      "\u001b[1;31mFileNotFoundError\u001b[0m                         Traceback (most recent call last)",
      "\u001b[1;32me:\\산대특\\본과정 1분기\\B. Python\\Day10 33_예외처리.ipynb 셀 2\u001b[0m line \u001b[0;36m1\n\u001b[0;32m      <a href='vscode-notebook-cell:/e%3A/%EC%82%B0%EB%8C%80%ED%8A%B9/%EB%B3%B8%EA%B3%BC%EC%A0%95%201%EB%B6%84%EA%B8%B0/B.%20Python/Day10%2033_%EC%98%88%EC%99%B8%EC%B2%98%EB%A6%AC.ipynb#W3sZmlsZQ%3D%3D?line=5'>6</a>\u001b[0m \u001b[39mprint\u001b[39m(\u001b[39m\"\u001b[39m\u001b[39m결과는 \u001b[39m\u001b[39m%d\u001b[39;00m\u001b[39m입니다.\u001b[39m\u001b[39m\"\u001b[39m \u001b[39m%\u001b[39my)\n\u001b[0;32m      <a href='vscode-notebook-cell:/e%3A/%EC%82%B0%EB%8C%80%ED%8A%B9/%EB%B3%B8%EA%B3%BC%EC%A0%95%201%EB%B6%84%EA%B8%B0/B.%20Python/Day10%2033_%EC%98%88%EC%99%B8%EC%B2%98%EB%A6%AC.ipynb#W3sZmlsZQ%3D%3D?line=7'>8</a>\u001b[0m filePath \u001b[39m=\u001b[39m \u001b[39minput\u001b[39m(\u001b[39m\"\u001b[39m\u001b[39m파일 경로를 지정하세요\u001b[39m\u001b[39m\"\u001b[39m)\n\u001b[1;32m---> <a href='vscode-notebook-cell:/e%3A/%EC%82%B0%EB%8C%80%ED%8A%B9/%EB%B3%B8%EA%B3%BC%EC%A0%95%201%EB%B6%84%EA%B8%B0/B.%20Python/Day10%2033_%EC%98%88%EC%99%B8%EC%B2%98%EB%A6%AC.ipynb#W3sZmlsZQ%3D%3D?line=9'>10</a>\u001b[0m \u001b[39mwith\u001b[39;00m \u001b[39mopen\u001b[39;49m(filePath, \u001b[39m\"\u001b[39;49m\u001b[39mw\u001b[39;49m\u001b[39m\"\u001b[39;49m, encoding\u001b[39m=\u001b[39;49m\u001b[39m\"\u001b[39;49m\u001b[39mutf-8\u001b[39;49m\u001b[39m\"\u001b[39;49m) \u001b[39mas\u001b[39;00m f:\n\u001b[0;32m     <a href='vscode-notebook-cell:/e%3A/%EC%82%B0%EB%8C%80%ED%8A%B9/%EB%B3%B8%EA%B3%BC%EC%A0%95%201%EB%B6%84%EA%B8%B0/B.%20Python/Day10%2033_%EC%98%88%EC%99%B8%EC%B2%98%EB%A6%AC.ipynb#W3sZmlsZQ%3D%3D?line=10'>11</a>\u001b[0m     f\u001b[39m.\u001b[39mwrite(\u001b[39m\"\u001b[39m\u001b[39m파일 쓰기 테스트 입니다.\u001b[39m\u001b[39m\"\u001b[39m)\n",
      "File \u001b[1;32mc:\\Users\\User\\AppData\\Local\\Programs\\Python\\Python312\\Lib\\site-packages\\IPython\\core\\interactiveshell.py:308\u001b[0m, in \u001b[0;36m_modified_open\u001b[1;34m(file, *args, **kwargs)\u001b[0m\n\u001b[0;32m    301\u001b[0m \u001b[39mif\u001b[39;00m file \u001b[39min\u001b[39;00m {\u001b[39m0\u001b[39m, \u001b[39m1\u001b[39m, \u001b[39m2\u001b[39m}:\n\u001b[0;32m    302\u001b[0m     \u001b[39mraise\u001b[39;00m \u001b[39mValueError\u001b[39;00m(\n\u001b[0;32m    303\u001b[0m         \u001b[39mf\u001b[39m\u001b[39m\"\u001b[39m\u001b[39mIPython won\u001b[39m\u001b[39m'\u001b[39m\u001b[39mt let you open fd=\u001b[39m\u001b[39m{\u001b[39;00mfile\u001b[39m}\u001b[39;00m\u001b[39m by default \u001b[39m\u001b[39m\"\u001b[39m\n\u001b[0;32m    304\u001b[0m         \u001b[39m\"\u001b[39m\u001b[39mas it is likely to crash IPython. If you know what you are doing, \u001b[39m\u001b[39m\"\u001b[39m\n\u001b[0;32m    305\u001b[0m         \u001b[39m\"\u001b[39m\u001b[39myou can use builtins\u001b[39m\u001b[39m'\u001b[39m\u001b[39m open.\u001b[39m\u001b[39m\"\u001b[39m\n\u001b[0;32m    306\u001b[0m     )\n\u001b[1;32m--> 308\u001b[0m \u001b[39mreturn\u001b[39;00m io_open(file, \u001b[39m*\u001b[39;49margs, \u001b[39m*\u001b[39;49m\u001b[39m*\u001b[39;49mkwargs)\n",
      "\u001b[1;31mFileNotFoundError\u001b[0m: [Errno 2] No such file or directory: 'z:/'"
     ]
    }
   ],
   "source": [
    "x = int(input(\"숫자를 입력하세요.\"))\n",
    "\n",
    "# x에 0이 입력된 경우 에러가 발생함\n",
    "# -> ZeroDivisionError\n",
    "y = 100 / x\n",
    "print(\"결과는 %d입니다.\" %y)\n",
    "\n",
    "filePath = input(\"파일 경로를 지정하세요\")\n",
    "\n",
    "with open(filePath, \"w\", encoding=\"utf-8\") as f:\n",
    "    f.write(\"파일 쓰기 테스트 입니다.\")\n",
    "\n",
    "# 파일을 저장할 수 없는 경로 (ex: z:/hello.txt)인 경우 에러.    \n",
    "# -> FileNotFoundError \n"
   ]
  },
  {
   "cell_type": "code",
   "execution_count": 3,
   "metadata": {},
   "outputs": [
    {
     "name": "stdout",
     "output_type": "stream",
     "text": [
      "에러가 발생했습니다\n"
     ]
    }
   ],
   "source": [
    "## # 02. 예외처리 구문\n",
    "\n",
    "# 파이썬에서 예외상황이 발생한 경우 작동하도록 하는 문법적 구조\n",
    "\n",
    "\n",
    "### 'try~except' 문 \n",
    "#   -> 예외상황이 예상되는 코드를 'try'블록으로 감싼다. 이 블록 안에서 예외가 발생할 경우 연결된 'except'블록으로 프로그램의 제어가 이동한다.\n",
    "#   -> 이 경우에는 예외의 종류에 상관없이 예외가 발생하면 except 블록을 수행한다\n",
    "\n",
    "try:\n",
    "    x = int(input(\"숫자를 입력하세요.\"))\n",
    "    y = 100/x\n",
    "    print(\"결과는 %d 입니다.\" % y)\n",
    "except:\n",
    "    print(\"에러가 발생했습니다\")\n",
    "    # 이 코드는 에러의 종류를 구분 못 함\n",
    "\n"
   ]
  },
  {
   "cell_type": "code",
   "execution_count": 4,
   "metadata": {},
   "outputs": [
    {
     "name": "stdout",
     "output_type": "stream",
     "text": [
      "결과는 25 입니다.\n"
     ]
    }
   ],
   "source": [
    "# 예외의 종류에 따라 다르게 대응하기\n",
    "\n",
    "try:\n",
    "    x = int(input(\"숫자를 입력하세요.\"))\n",
    "    y = 100/x\n",
    "    print(\"결과는 %d 입니다.\" % y)\n",
    "\n",
    "except ValueError:\n",
    "    print(\"숫자만 입력하세요.\")\n",
    "except ZeroDivisionError:\n",
    "    print(\"0으로 나눌 수 없습니다\")\n"
   ]
  },
  {
   "cell_type": "code",
   "execution_count": 5,
   "metadata": {},
   "outputs": [
    {
     "name": "stdout",
     "output_type": "stream",
     "text": [
      "결과는 11 입니다.\n"
     ]
    }
   ],
   "source": [
    "# except문 뒤에 'as 객체명' 형식으로 에러 객체를 전달받아 활용\n",
    "\n",
    "try:\n",
    "    x = int(input(\"숫자를 입력하세요.\"))\n",
    "    y = 100/x\n",
    "    print(\"결과는 %d 입니다.\" % y)\n",
    "\n",
    "except ValueError as verr:\n",
    "    print(\"숫자만 입력하세요.\")\n",
    "    print(verr)\n",
    "except ZeroDivisionError as zerr:\n",
    "    print(\"0으로 나눌 수 없습니다\")\n",
    "    print(zerr)\n",
    "\n",
    "\n",
    "\n"
   ]
  },
  {
   "cell_type": "code",
   "execution_count": 6,
   "metadata": {},
   "outputs": [
    {
     "name": "stdout",
     "output_type": "stream",
     "text": [
      "숫자만 입력하세요.\n",
      "invalid literal for int() with base 10: 'd'\n",
      "처리가 완료되었습니다.\n"
     ]
    }
   ],
   "source": [
    "### 에러 발생 여부에 상관 없이 무조건 실행되는 블록\n",
    "# -> finally:\n",
    "\n",
    "try:\n",
    "    x = int(input(\"숫자를 입력하세요.\"))\n",
    "    y = 100/x\n",
    "    print(\"결과는 %d 입니다.\" % y)\n",
    "\n",
    "except ValueError as verr:\n",
    "    print(\"숫자만 입력하세요.\")\n",
    "    print(verr)     #에러에 대한 설명이 나온다.\n",
    "except ZeroDivisionError as zerr:\n",
    "    print(\"0으로 나눌 수 없습니다\")\n",
    "    print(zerr)\n",
    "finally:\n",
    "    print(\"처리가 완료되었습니다.\")"
   ]
  },
  {
   "cell_type": "code",
   "execution_count": 7,
   "metadata": {},
   "outputs": [
    {
     "name": "stdout",
     "output_type": "stream",
     "text": [
      "에러가 발생했습니다. invalid literal for int() with base 10: 't'\n",
      "처리가 완료되었습니다.\n"
     ]
    }
   ],
   "source": [
    "### 가장 간편한 사용 형태\n",
    "\n",
    "\n",
    "try:\n",
    "    x = int(input(\"숫자를 입력하세요.\"))\n",
    "    y = 100/x\n",
    "    print(\"결과는 %d 입니다.\" % y)\n",
    "\n",
    "except Exception as e:\n",
    "    print(\"에러가 발생했습니다.\", e)    # 이 부분. \n",
    "finally:\n",
    "    print(\"처리가 완료되었습니다.\")"
   ]
  },
  {
   "cell_type": "markdown",
   "metadata": {},
   "source": [
    "### (3) 예외 강제 발생\n",
    "- 기본 구문 형식\n",
    "\n"
   ]
  },
  {
   "cell_type": "code",
   "execution_count": 10,
   "metadata": {},
   "outputs": [
    {
     "ename": "ValueError",
     "evalue": "똑바로 입력 안 하냐?",
     "output_type": "error",
     "traceback": [
      "\u001b[1;31m---------------------------------------------------------------------------\u001b[0m",
      "\u001b[1;31mValueError\u001b[0m                                Traceback (most recent call last)",
      "\u001b[1;32me:\\산대특\\본과정 1분기\\B. Python\\Day10 33_예외처리.ipynb 셀 9\u001b[0m line \u001b[0;36m1\n\u001b[1;32m----> <a href='vscode-notebook-cell:/e%3A/%EC%82%B0%EB%8C%80%ED%8A%B9/%EB%B3%B8%EA%B3%BC%EC%A0%95%201%EB%B6%84%EA%B8%B0/B.%20Python/Day10%2033_%EC%98%88%EC%99%B8%EC%B2%98%EB%A6%AC.ipynb#X16sZmlsZQ%3D%3D?line=0'>1</a>\u001b[0m \u001b[39mraise\u001b[39;00m \u001b[39mValueError\u001b[39;00m(\u001b[39m\"\u001b[39m\u001b[39m똑바로 입력 안 하냐?\u001b[39m\u001b[39m\"\u001b[39m)\n",
      "\u001b[1;31mValueError\u001b[0m: 똑바로 입력 안 하냐?"
     ]
    }
   ],
   "source": [
    "raise ValueError(\"똑바로 입력 안 하냐?\")"
   ]
  },
  {
   "cell_type": "code",
   "execution_count": 8,
   "metadata": {},
   "outputs": [],
   "source": [
    "# 고전적인 예외 상황 처리\n",
    "\n",
    "def oldLogin(userId, userPw):\n",
    "    if not userId:\n",
    "        return -1\n",
    "    if not userPw:\n",
    "        return -2\n",
    "    \n",
    "    # ... 로그인 처리\n",
    "    return 0\n",
    "\n",
    "\n"
   ]
  },
  {
   "cell_type": "code",
   "execution_count": 9,
   "metadata": {},
   "outputs": [
    {
     "name": "stdout",
     "output_type": "stream",
     "text": [
      "로그인...\n"
     ]
    }
   ],
   "source": [
    "#result1 = oldLogin(\"\", \"1234\")\n",
    "#result2 = oldLogin(\"user\", \"\")\n",
    "result1 = oldLogin(\"user\", \"1234\")\n",
    "\n",
    "if result1 == -1:\n",
    "    print(\"아이디를 입력하세요.\")\n",
    "elif result1 == -2:\n",
    "    print(\"비밀번호를 입력하세요\")\n",
    "else:\n",
    "    print(\"로그인 성공\")\n"
   ]
  },
  {
   "cell_type": "markdown",
   "metadata": {},
   "source": [
    "- raise 문을 활용한 예외 처리"
   ]
  },
  {
   "cell_type": "code",
   "execution_count": 11,
   "metadata": {},
   "outputs": [],
   "source": [
    "def newLogin(userId, userPw):\n",
    "    if not userId:\n",
    "        raise Exception(\"아이디를 입력하세요\")\n",
    "    if not userPw:\n",
    "        raise Exception(\"비밀번호를 입력하세요\")\n",
    "    \n",
    "    # ... 로그인 처리\n",
    "    return 0"
   ]
  },
  {
   "cell_type": "code",
   "execution_count": 14,
   "metadata": {},
   "outputs": [
    {
     "name": "stdout",
     "output_type": "stream",
     "text": [
      "로그인에 실패하였습니다. 아이디를 입력하세요\n"
     ]
    }
   ],
   "source": [
    "try:\n",
    "    newLogin(\"\", \"1234\")\n",
    "    #newLogin(\"user\", \"\") \n",
    "    #newLogin(\"user\", \"1234\")\n",
    "    print(\"로그인 성공\")\n",
    "\n",
    "except Exception as e:\n",
    "    print(\"로그인에 실패하였습니다.\", e)"
   ]
  },
  {
   "cell_type": "code",
   "execution_count": null,
   "metadata": {},
   "outputs": [],
   "source": []
  }
 ],
 "metadata": {
  "kernelspec": {
   "display_name": "Python 3",
   "language": "python",
   "name": "python3"
  },
  "language_info": {
   "codemirror_mode": {
    "name": "ipython",
    "version": 3
   },
   "file_extension": ".py",
   "mimetype": "text/x-python",
   "name": "python",
   "nbconvert_exporter": "python",
   "pygments_lexer": "ipython3",
   "version": "3.12.0"
  }
 },
 "nbformat": 4,
 "nbformat_minor": 2
}
