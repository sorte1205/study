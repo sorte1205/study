{
 "cells": [
  {
   "cell_type": "code",
   "execution_count": 18,
   "metadata": {},
   "outputs": [
    {
     "name": "stdout",
     "output_type": "stream",
     "text": [
      "이진수 1개는 2개의 정보를 표시가능\n",
      "이진수 2개는 4개의 정보를 표시가능\n",
      "이진수 3개는 8개의 정보를 표시가능\n",
      "이진수 4개는 16개의 정보를 표시가능\n",
      "이진수 5개는 32개의 정보를 표시가능\n",
      "이진수 6개는 64개의 정보를 표시가능\n",
      "이진수 7개는 128개의 정보를 표시가능\n",
      "이진수 8개는 256개의 정보를 표시가능\n",
      "이진수 9개는 512개의 정보를 표시가능\n",
      "이진수 10개는 1024개의 정보를 표시가능\n"
     ]
    }
   ],
   "source": [
    "# 문제 1\n",
    "# n개 2진수 -> 2^n개 정보 표현 가능\n",
    "i = 1\n",
    "j = 1\n",
    "while i<11:\n",
    "    j = 2**i\n",
    "    print(\"이진수 %d개는 %d개의 정보를 표시가능\" % (i, j))\n",
    "    i+=1"
   ]
  },
  {
   "cell_type": "code",
   "execution_count": null,
   "metadata": {},
   "outputs": [],
   "source": [
    "# 문제 1 풀이\n",
    "\n",
    "i = 1\n",
    "cnt = 1\n",
    "while i <11:\n",
    "    cnt *=2\n",
    "    print(\"이진수 %d개는 %d개의 정보를 표시가능\" % (i,cnt))\n",
    "    i+=i\n",
    "\n",
    "# 문제 1 풀이 (2)\n",
    "\n",
    "i = 1\n",
    "cnt = 2\n",
    "\n",
    "while i <11:\n",
    "    print(\"이진수 %d개는 %d개의 정보를 표시가능\" % (i, cnt))\n",
    "    i+=1\n",
    "    cnt *=2"
   ]
  },
  {
   "cell_type": "code",
   "execution_count": 7,
   "metadata": {},
   "outputs": [
    {
     "name": "stdout",
     "output_type": "stream",
     "text": [
      "이진수 1개는 2개의 정보를 표시가능\n",
      "이진수 2개는 4개의 정보를 표시가능\n",
      "이진수 3개는 8개의 정보를 표시가능\n",
      "이진수 4개는 16개의 정보를 표시가능\n",
      "이진수 5개는 32개의 정보를 표시가능\n",
      "이진수 6개는 64개의 정보를 표시가능\n",
      "이진수 7개는 128개의 정보를 표시가능\n",
      "이진수 8개는 256개의 정보를 표시가능\n",
      "이진수 9개는 512개의 정보를 표시가능\n",
      "이진수 10개는 1024개의 정보를 표시가능\n"
     ]
    }
   ],
   "source": [
    "# 문제 2\n",
    "for i in range (1,11):\n",
    "    j = 2**i\n",
    "    print(\"이진수 %d개는 %d개의 정보를 표시가능\" % (i, j))\n"
   ]
  },
  {
   "cell_type": "code",
   "execution_count": 19,
   "metadata": {},
   "outputs": [
    {
     "name": "stdout",
     "output_type": "stream",
     "text": [
      "이진수 1개는 2개의 정보를 표시가능\n",
      "이진수 2개는 4개의 정보를 표시가능\n",
      "이진수 3개는 8개의 정보를 표시가능\n",
      "이진수 4개는 16개의 정보를 표시가능\n",
      "이진수 5개는 32개의 정보를 표시가능\n",
      "이진수 6개는 64개의 정보를 표시가능\n",
      "이진수 7개는 128개의 정보를 표시가능\n",
      "이진수 8개는 256개의 정보를 표시가능\n",
      "이진수 9개는 512개의 정보를 표시가능\n",
      "이진수 10개는 1024개의 정보를 표시가능\n",
      "이진수 1개는 2개의 정보를 표시가능\n",
      "이진수 2개는 4개의 정보를 표시가능\n",
      "이진수 3개는 8개의 정보를 표시가능\n",
      "이진수 4개는 16개의 정보를 표시가능\n",
      "이진수 5개는 32개의 정보를 표시가능\n",
      "이진수 6개는 64개의 정보를 표시가능\n",
      "이진수 7개는 128개의 정보를 표시가능\n",
      "이진수 8개는 256개의 정보를 표시가능\n",
      "이진수 9개는 512개의 정보를 표시가능\n",
      "이진수 10개는 1024개의 정보를 표시가능\n"
     ]
    }
   ],
   "source": [
    "# 문제 2 풀이\n",
    "cnt = 1\n",
    "for i in range(1,11):\n",
    "    cnt *=2\n",
    "    print(\"이진수 %d개는 %d개의 정보를 표시가능\" %(i,cnt))\n",
    "\n",
    "# 문제 2 풀이 (2)\n",
    "for i in range(1,11):\n",
    "    print(\"이진수 %d개는 %d개의 정보를 표시가능\" %(i,2**i))\n",
    "\n"
   ]
  },
  {
   "cell_type": "code",
   "execution_count": 23,
   "metadata": {},
   "outputs": [
    {
     "ename": "IndexError",
     "evalue": "list index out of range",
     "output_type": "error",
     "traceback": [
      "\u001b[1;31m---------------------------------------------------------------------------\u001b[0m",
      "\u001b[1;31mIndexError\u001b[0m                                Traceback (most recent call last)",
      "\u001b[1;32me:\\산대특\\본과정 1분기\\B. Python\\Day6 20_중간점검_문제.ipynb 셀 5\u001b[0m line \u001b[0;36m5\n\u001b[0;32m      <a href='vscode-notebook-cell:/e%3A/%EC%82%B0%EB%8C%80%ED%8A%B9/%EB%B3%B8%EA%B3%BC%EC%A0%95%201%EB%B6%84%EA%B8%B0/B.%20Python/Day6%2020_%EC%A4%91%EA%B0%84%EC%A0%90%EA%B2%80_%EB%AC%B8%EC%A0%9C.ipynb#W2sZmlsZQ%3D%3D?line=2'>3</a>\u001b[0m num \u001b[39m=\u001b[39m[]\n\u001b[0;32m      <a href='vscode-notebook-cell:/e%3A/%EC%82%B0%EB%8C%80%ED%8A%B9/%EB%B3%B8%EA%B3%BC%EC%A0%95%201%EB%B6%84%EA%B8%B0/B.%20Python/Day6%2020_%EC%A4%91%EA%B0%84%EC%A0%90%EA%B2%80_%EB%AC%B8%EC%A0%9C.ipynb#W2sZmlsZQ%3D%3D?line=3'>4</a>\u001b[0m \u001b[39mfor\u001b[39;00m i \u001b[39min\u001b[39;00m \u001b[39mrange\u001b[39m(\u001b[39m0\u001b[39m,\u001b[39m3\u001b[39m):    \n\u001b[1;32m----> <a href='vscode-notebook-cell:/e%3A/%EC%82%B0%EB%8C%80%ED%8A%B9/%EB%B3%B8%EA%B3%BC%EC%A0%95%201%EB%B6%84%EA%B8%B0/B.%20Python/Day6%2020_%EC%A4%91%EA%B0%84%EC%A0%90%EA%B2%80_%EB%AC%B8%EC%A0%9C.ipynb#W2sZmlsZQ%3D%3D?line=4'>5</a>\u001b[0m     \u001b[39mprint\u001b[39m(num[i] \u001b[39m==\u001b[39m i, end\u001b[39m=\u001b[39m\u001b[39m\"\u001b[39m\u001b[39m\"\u001b[39m)\n\u001b[0;32m      <a href='vscode-notebook-cell:/e%3A/%EC%82%B0%EB%8C%80%ED%8A%B9/%EB%B3%B8%EA%B3%BC%EC%A0%95%201%EB%B6%84%EA%B8%B0/B.%20Python/Day6%2020_%EC%A4%91%EA%B0%84%EC%A0%90%EA%B2%80_%EB%AC%B8%EC%A0%9C.ipynb#W2sZmlsZQ%3D%3D?line=6'>7</a>\u001b[0m     \u001b[39mfor\u001b[39;00m j \u001b[39min\u001b[39;00m \u001b[39mrange\u001b[39m(\u001b[39m0\u001b[39m,i):\n\u001b[0;32m      <a href='vscode-notebook-cell:/e%3A/%EC%82%B0%EB%8C%80%ED%8A%B9/%EB%B3%B8%EA%B3%BC%EC%A0%95%201%EB%B6%84%EA%B8%B0/B.%20Python/Day6%2020_%EC%A4%91%EA%B0%84%EC%A0%90%EA%B2%80_%EB%AC%B8%EC%A0%9C.ipynb#W2sZmlsZQ%3D%3D?line=7'>8</a>\u001b[0m         \u001b[39mprint\u001b[39m(num)\n",
      "\u001b[1;31mIndexError\u001b[0m: list index out of range"
     ]
    }
   ],
   "source": [
    "# 문제 3 for문 중첩 실행\n",
    "\n",
    "num =[]\n",
    "for i in range(0,3):    \n",
    "    print(num[i] == i, end=\"\")\n",
    "    \n",
    "    for j in range(0,i):\n",
    "        print(num)\n",
    "       \n",
    "\n",
    "\n"
   ]
  },
  {
   "cell_type": "code",
   "execution_count": 30,
   "metadata": {},
   "outputs": [
    {
     "name": "stdout",
     "output_type": "stream",
     "text": [
      "0123\n",
      "1234\n",
      "2345\n",
      "3456\n"
     ]
    }
   ],
   "source": [
    "# 문제3 풀이\n",
    "\n",
    "for i in range(0,4):\n",
    "\n",
    "    str = \"\"\n",
    "\n",
    "    for j in range(0,4):\n",
    "        str += \"%d\" % (i+j)\n",
    "        \n",
    "        if j + 1 < 4:\n",
    "            str += \"\"\n",
    "\n",
    "    print(str)"
   ]
  },
  {
   "cell_type": "code",
   "execution_count": 31,
   "metadata": {},
   "outputs": [
    {
     "name": "stdout",
     "output_type": "stream",
     "text": [
      "1\n",
      "12\n",
      "123\n",
      "1234\n",
      "12345\n",
      "123456\n",
      "1234567\n"
     ]
    }
   ],
   "source": [
    "# 문제 4.   모르겠음\n",
    "chr = \"1234567\"\n",
    "for i in range (0,7):\n",
    "        print (chr[0:i+1])"
   ]
  },
  {
   "cell_type": "code",
   "execution_count": 34,
   "metadata": {},
   "outputs": [
    {
     "name": "stdout",
     "output_type": "stream",
     "text": [
      "1\n",
      "12\n",
      "123\n",
      "1234\n",
      "12345\n",
      "123456\n",
      "1234567\n"
     ]
    }
   ],
   "source": [
    "# 문제 4 풀이\n",
    "\n",
    "for i in range(0,7):\n",
    "    str = \"\"\n",
    "    for j in range(0,i+1):\n",
    "        str += \"%d\" % (j+1)     #i 로 넣어보고 j로도 넣어보고\n",
    "        \n",
    "    print (str)"
   ]
  },
  {
   "cell_type": "code",
   "execution_count": 56,
   "metadata": {},
   "outputs": [
    {
     "name": "stdout",
     "output_type": "stream",
     "text": [
      "3 x 1 = 3\n",
      "3 x 2 = 6\n",
      "3 x 3 = 9\n",
      "3 x 4 = 12\n",
      "3 x 5 = 15\n",
      "3 x 6 = 18\n",
      "3 x 7 = 21\n",
      "3 x 8 = 24\n",
      "3 x 9 = 27\n",
      "--------------------\n",
      "5 x 1 = 5\n",
      "5 x 2 = 10\n",
      "5 x 3 = 15\n",
      "5 x 4 = 20\n",
      "5 x 5 = 25\n",
      "5 x 6 = 30\n",
      "5 x 7 = 35\n",
      "5 x 8 = 40\n",
      "5 x 9 = 45\n",
      "--------------------\n",
      "7 x 1 = 7\n",
      "7 x 2 = 14\n",
      "7 x 3 = 21\n",
      "7 x 4 = 28\n",
      "7 x 5 = 35\n",
      "7 x 6 = 42\n",
      "7 x 7 = 49\n",
      "7 x 8 = 56\n",
      "7 x 9 = 63\n",
      "--------------------\n",
      "9 x 1 = 9\n",
      "9 x 2 = 18\n",
      "9 x 3 = 27\n",
      "9 x 4 = 36\n",
      "9 x 5 = 45\n",
      "9 x 6 = 54\n",
      "9 x 7 = 63\n",
      "9 x 8 = 72\n",
      "9 x 9 = 81\n",
      "--------------------\n"
     ]
    }
   ],
   "source": [
    "# 문제 5\n",
    "number = int(input(\"1 또는 2를 입력하세요\"))\n",
    "if number == 1:\n",
    "    for x in range(3, 10, 2):\n",
    "        for y in range (1, 10):\n",
    "            z = x*y\n",
    "            print(\"%d x %d = %d\" % (x,y,z))\n",
    "        if x <10:\n",
    "            print(\"-\"*20)\n",
    "if number ==2:\n",
    "    for x in range(2, 10, 2):\n",
    "        for y in range(1, 10):\n",
    "            z = x*y\n",
    "        \n",
    "            print(\"%d x %d = %d\" % (x,y,z))\n",
    "        if x <10:\n",
    "            print(\"-\"*20)\n",
    "            \n",
    "    \n",
    "    \n"
   ]
  },
  {
   "cell_type": "code",
   "execution_count": 57,
   "metadata": {},
   "outputs": [
    {
     "name": "stdout",
     "output_type": "stream",
     "text": [
      "3 x 1 = 3\n",
      "3 x 2 = 6\n",
      "3 x 3 = 9\n",
      "3 x 4 = 12\n",
      "3 x 5 = 15\n",
      "3 x 6 = 18\n",
      "3 x 7 = 21\n",
      "3 x 8 = 24\n",
      "3 x 9 = 27\n",
      "5 x 1 = 5\n",
      "5 x 2 = 10\n",
      "5 x 3 = 15\n",
      "5 x 4 = 20\n",
      "5 x 5 = 25\n",
      "5 x 6 = 30\n",
      "5 x 7 = 35\n",
      "5 x 8 = 40\n",
      "5 x 9 = 45\n",
      "7 x 1 = 7\n",
      "7 x 2 = 14\n",
      "7 x 3 = 21\n",
      "7 x 4 = 28\n",
      "7 x 5 = 35\n",
      "7 x 6 = 42\n",
      "7 x 7 = 49\n",
      "7 x 8 = 56\n",
      "7 x 9 = 63\n",
      "9 x 1 = 9\n",
      "9 x 2 = 18\n",
      "9 x 3 = 27\n",
      "9 x 4 = 36\n",
      "9 x 5 = 45\n",
      "9 x 6 = 54\n",
      "9 x 7 = 63\n",
      "9 x 8 = 72\n",
      "9 x 9 = 81\n"
     ]
    }
   ],
   "source": [
    "# 문제 5번 풀이\n",
    "\n",
    "number = int(input(\"1 혹은 2를 입력하세요\"))\n",
    "\n",
    "if number == 1:\n",
    "    for i in range(3, 10, 2):\n",
    "        for j in range(1, 10):\n",
    "            print(\"%d x %d = %d\" % (i, j, i*j))\n",
    "        \n",
    "else:\n",
    "    for i in range (2, 10, 2):\n",
    "        for j in range(1,10):\n",
    "            print(\"%d x %d = %d\" % (i, j, i*j))\n"
   ]
  },
  {
   "cell_type": "code",
   "execution_count": 58,
   "metadata": {},
   "outputs": [
    {
     "name": "stdout",
     "output_type": "stream",
     "text": [
      "3 x 1 = 3\n",
      "3 x 2 = 6\n",
      "3 x 3 = 9\n",
      "3 x 4 = 12\n",
      "3 x 5 = 15\n",
      "3 x 6 = 18\n",
      "3 x 7 = 21\n",
      "3 x 8 = 24\n",
      "3 x 9 = 27\n",
      "5 x 1 = 5\n",
      "5 x 2 = 10\n",
      "5 x 3 = 15\n",
      "5 x 4 = 20\n",
      "5 x 5 = 25\n",
      "5 x 6 = 30\n",
      "5 x 7 = 35\n",
      "5 x 8 = 40\n",
      "5 x 9 = 45\n",
      "7 x 1 = 7\n",
      "7 x 2 = 14\n",
      "7 x 3 = 21\n",
      "7 x 4 = 28\n",
      "7 x 5 = 35\n",
      "7 x 6 = 42\n",
      "7 x 7 = 49\n",
      "7 x 8 = 56\n",
      "7 x 9 = 63\n",
      "9 x 1 = 9\n",
      "9 x 2 = 18\n",
      "9 x 3 = 27\n",
      "9 x 4 = 36\n",
      "9 x 5 = 45\n",
      "9 x 6 = 54\n",
      "9 x 7 = 63\n",
      "9 x 8 = 72\n",
      "9 x 9 = 81\n"
     ]
    }
   ],
   "source": [
    "# 문제 5번 풀이 (2)\n",
    "\n",
    "number = int(input(\"1 혹은 2를 입력하세요\"))\n",
    "\n",
    "for i in range(2, 10):\n",
    "    if number == 1:\n",
    "        if i % 2 ==1:\n",
    "            for j in range(1, 10):\n",
    "                print(\"%d x %d = %d\" % (i, j, i*j))\n",
    "        \n",
    "else:\n",
    "    if i % 2 ==0:\n",
    "        for j in range(1,10):\n",
    "            print(\"%d x %d = %d\" % (i, j, i*j))\n"
   ]
  },
  {
   "cell_type": "code",
   "execution_count": 59,
   "metadata": {},
   "outputs": [
    {
     "name": "stdout",
     "output_type": "stream",
     "text": [
      "3 x 1 = 3\n",
      "3 x 2 = 6\n",
      "3 x 3 = 9\n",
      "3 x 4 = 12\n",
      "3 x 5 = 15\n",
      "3 x 6 = 18\n",
      "3 x 7 = 21\n",
      "3 x 8 = 24\n",
      "3 x 9 = 27\n",
      "5 x 1 = 5\n",
      "5 x 2 = 10\n",
      "5 x 3 = 15\n",
      "5 x 4 = 20\n",
      "5 x 5 = 25\n",
      "5 x 6 = 30\n",
      "5 x 7 = 35\n",
      "5 x 8 = 40\n",
      "5 x 9 = 45\n",
      "7 x 1 = 7\n",
      "7 x 2 = 14\n",
      "7 x 3 = 21\n",
      "7 x 4 = 28\n",
      "7 x 5 = 35\n",
      "7 x 6 = 42\n",
      "7 x 7 = 49\n",
      "7 x 8 = 56\n",
      "7 x 9 = 63\n",
      "9 x 1 = 9\n",
      "9 x 2 = 18\n",
      "9 x 3 = 27\n",
      "9 x 4 = 36\n",
      "9 x 5 = 45\n",
      "9 x 6 = 54\n",
      "9 x 7 = 63\n",
      "9 x 8 = 72\n",
      "9 x 9 = 81\n"
     ]
    }
   ],
   "source": [
    "# 문제 5 풀이 (3)\n",
    "\n",
    "number = int(input(\"1 혹은 2를 입력하세요\"))\n",
    "\n",
    "for i in range(4-number, 10, 2):\n",
    "    for j in range(1, 10):\n",
    "        print(\"%d x %d = %d\" % (i,j,i*j))"
   ]
  },
  {
   "cell_type": "code",
   "execution_count": 55,
   "metadata": {},
   "outputs": [
    {
     "ename": "TypeError",
     "evalue": "'list' object is not callable",
     "output_type": "error",
     "traceback": [
      "\u001b[1;31m---------------------------------------------------------------------------\u001b[0m",
      "\u001b[1;31mTypeError\u001b[0m                                 Traceback (most recent call last)",
      "\u001b[1;32me:\\산대특\\본과정 1분기\\B. Python\\Day6 20_중간점검_문제.ipynb 셀 10\u001b[0m line \u001b[0;36m7\n\u001b[0;32m      <a href='vscode-notebook-cell:/e%3A/%EC%82%B0%EB%8C%80%ED%8A%B9/%EB%B3%B8%EA%B3%BC%EC%A0%95%201%EB%B6%84%EA%B8%B0/B.%20Python/Day6%2020_%EC%A4%91%EA%B0%84%EC%A0%90%EA%B2%80_%EB%AC%B8%EC%A0%9C.ipynb#W5sZmlsZQ%3D%3D?line=4'>5</a>\u001b[0m \u001b[39mfor\u001b[39;00m i \u001b[39min\u001b[39;00m \u001b[39mrange\u001b[39m(\u001b[39m0\u001b[39m,\u001b[39m5\u001b[39m):\n\u001b[0;32m      <a href='vscode-notebook-cell:/e%3A/%EC%82%B0%EB%8C%80%ED%8A%B9/%EB%B3%B8%EA%B3%BC%EC%A0%95%201%EB%B6%84%EA%B8%B0/B.%20Python/Day6%2020_%EC%A4%91%EA%B0%84%EC%A0%90%EA%B2%80_%EB%AC%B8%EC%A0%9C.ipynb#W5sZmlsZQ%3D%3D?line=5'>6</a>\u001b[0m     \u001b[39mif\u001b[39;00m mylist[i] \u001b[39m==\u001b[39m \u001b[39mTrue\u001b[39;00m:\n\u001b[1;32m----> <a href='vscode-notebook-cell:/e%3A/%EC%82%B0%EB%8C%80%ED%8A%B9/%EB%B3%B8%EA%B3%BC%EC%A0%95%201%EB%B6%84%EA%B8%B0/B.%20Python/Day6%2020_%EC%A4%91%EA%B0%84%EC%A0%90%EA%B2%80_%EB%AC%B8%EC%A0%9C.ipynb#W5sZmlsZQ%3D%3D?line=6'>7</a>\u001b[0m         mylist(i, \u001b[39mFalse\u001b[39;49;00m)\n\u001b[0;32m      <a href='vscode-notebook-cell:/e%3A/%EC%82%B0%EB%8C%80%ED%8A%B9/%EB%B3%B8%EA%B3%BC%EC%A0%95%201%EB%B6%84%EA%B8%B0/B.%20Python/Day6%2020_%EC%A4%91%EA%B0%84%EC%A0%90%EA%B2%80_%EB%AC%B8%EC%A0%9C.ipynb#W5sZmlsZQ%3D%3D?line=7'>8</a>\u001b[0m     \u001b[39melse\u001b[39;00m:\n\u001b[0;32m      <a href='vscode-notebook-cell:/e%3A/%EC%82%B0%EB%8C%80%ED%8A%B9/%EB%B3%B8%EA%B3%BC%EC%A0%95%201%EB%B6%84%EA%B8%B0/B.%20Python/Day6%2020_%EC%A4%91%EA%B0%84%EC%A0%90%EA%B2%80_%EB%AC%B8%EC%A0%9C.ipynb#W5sZmlsZQ%3D%3D?line=8'>9</a>\u001b[0m         mylist(i, \u001b[39mTrue\u001b[39;00m)\n",
      "\u001b[1;31mTypeError\u001b[0m: 'list' object is not callable"
     ]
    }
   ],
   "source": [
    "# 문제 6.\n",
    "\n",
    "mylist = [True, False, False, True, False]\n",
    "\n",
    "for i in range(0,5):\n",
    "    if mylist[i] == True:\n",
    "        mylist(i, False)\n",
    "    else:\n",
    "        mylist(i, True)\n",
    "    mylist\n",
    "\n"
   ]
  },
  {
   "cell_type": "code",
   "execution_count": 60,
   "metadata": {},
   "outputs": [],
   "source": [
    "mylist = [True, False, False, True]\n",
    "mylist = [not item for item in mylist]\n"
   ]
  },
  {
   "cell_type": "code",
   "execution_count": 127,
   "metadata": {},
   "outputs": [
    {
     "name": "stdout",
     "output_type": "stream",
     "text": [
      "[False, True, True, False, True]\n"
     ]
    }
   ],
   "source": [
    "# 문제 6 풀이 1\n",
    "mylist = [True, False, False, True, False]\n",
    "\n",
    "for i in range(0,5):\n",
    "    if mylist[i] == True:\n",
    "        mylist[i] = False\n",
    "    else:\n",
    "        mylist[i] = True\n",
    "mylist\n",
    "\n"
   ]
  },
  {
   "cell_type": "code",
   "execution_count": 129,
   "metadata": {},
   "outputs": [
    {
     "name": "stdout",
     "output_type": "stream",
     "text": [
      "[False, True, True, False, True]\n"
     ]
    }
   ],
   "source": [
    "# 문제 6 풀이 2\n",
    "mylist1 = [True, False, False, True, False]\n",
    "\n",
    "for i in range(len(mylist1)):\n",
    "    mylist1[i] = not mylist1[i]\n",
    "\n",
    "print(mylist1)"
   ]
  },
  {
   "cell_type": "code",
   "execution_count": 61,
   "metadata": {},
   "outputs": [
    {
     "data": {
      "text/plain": [
       "[False, True, True, False, True]"
      ]
     },
     "execution_count": 61,
     "metadata": {},
     "output_type": "execute_result"
    }
   ],
   "source": [
    "# 문제 6 풀이 3\n",
    "\n",
    "mylist = [True, False, False, True, False]\n",
    "\n",
    "for i, v in enumerate(mylist):\n",
    "    mylist[i] = not v\n",
    "\n",
    "mylist"
   ]
  },
  {
   "cell_type": "code",
   "execution_count": 130,
   "metadata": {},
   "outputs": [],
   "source": [
    "# 문제 7 (연구과제와 중복)\n"
   ]
  },
  {
   "cell_type": "code",
   "execution_count": 153,
   "metadata": {},
   "outputs": [
    {
     "name": "stdout",
     "output_type": "stream",
     "text": [
      "price = 38000, quantity= 6, total = 228000 \n",
      "price = 20000, quantity= 4, total = 80000 \n",
      "price = 17900, quantity= 3, total = 53700 \n",
      "price = 17900, quantity= 5, total = 89500 \n"
     ]
    }
   ],
   "source": [
    "# 문제 8\n",
    "# 8-1\n",
    "price = [38000, 20000, 17900, 17900]\n",
    "qty = [6, 4, 3, 5]\n",
    "money = 0\n",
    "for i in range(0,4):\n",
    "    total = price[i]*qty[i]\n",
    "    money += total\n",
    "money \n",
    "\n",
    "# 8-2\n",
    "for i in range(0,4):\n",
    "    print(\"price = %d, quantity= %d, total = %d \" % (price[i], qty[i], price[i]*qty[i]))\n",
    "    \n",
    "\n"
   ]
  },
  {
   "cell_type": "code",
   "execution_count": 155,
   "metadata": {},
   "outputs": [
    {
     "name": "stdout",
     "output_type": "stream",
     "text": [
      "최대 total 값: 228000\n"
     ]
    }
   ],
   "source": [
    "# 다른 방법\n",
    "price = [38000, 20000, 17900, 17900]\n",
    "qty = [6, 4, 3, 5]\n",
    "total = []\n",
    "\n",
    "for i in range(len(price)):\n",
    "    total.append(price[i] * qty[i])\n",
    "\n",
    "max_total = max(total)\n",
    "\n",
    "print(\"최대 total 값:\", max_total)\n"
   ]
  },
  {
   "cell_type": "code",
   "execution_count": 63,
   "metadata": {},
   "outputs": [
    {
     "data": {
      "text/plain": [
       "228000"
      ]
     },
     "execution_count": 63,
     "metadata": {},
     "output_type": "execute_result"
    }
   ],
   "source": [
    "# 문제 8 풀이\n",
    "# 2개 이상의 list 자료구조-> list의 길이가 같아야함. \n",
    "\n",
    "# 8-1 풀이\n",
    "price = [38000, 20000, 17900, 17900]\n",
    "qty = [6, 4, 3, 5]\n",
    "money = 0\n",
    "#for i in range(0,len(price)):\n",
    "for i, p in enumerate(price):\n",
    "    money += p * qty[i]\n",
    "\n",
    "money \n",
    "\n",
    "# 8-2 풀이\n",
    "max = price[0]*qty[0]\n",
    "\n",
    "for i in range(1,len(price)):   #enumerate는 0부터 시작하므로 쓰지 않음\n",
    "    k = price[i]* qty[i]\n",
    "\n",
    "    if max < k:\n",
    "        max = k\n",
    "max\n"
   ]
  },
  {
   "cell_type": "code",
   "execution_count": 172,
   "metadata": {},
   "outputs": [
    {
     "name": "stdout",
     "output_type": "stream",
     "text": [
      "[228000, 80000, 53700, 89500]\n",
      "상품 0번은 배송비 무료입니다.\n",
      "상품 1번은 배송비 무료입니다.\n",
      "상품 3번은 배송비 무료입니다.\n",
      "총 3개의 상품의 배송비가 무료입니다.\n"
     ]
    }
   ],
   "source": [
    "# 8-3\n",
    "price = [38000, 20000, 17900, 17900]\n",
    "qty = [6, 4, 3, 5]\n",
    "total = []\n",
    "\n",
    "for i in range(0,4):\n",
    "    total.append(price[i]*qty[i])\n",
    "print(total)\n",
    "\n",
    "num4 = 0\n",
    "for i in range(0,4):\n",
    "    if total[i]>=80000: \n",
    "        print(\"상품 %d번은 배송비 무료입니다.\" % i)\n",
    "        num4 +=1\n",
    "       \n",
    "print(\"총 %d개의 상품의 배송비가 무료입니다.\" % num4)\n",
    "  \n",
    "    \n",
    "\n"
   ]
  },
  {
   "cell_type": "code",
   "execution_count": null,
   "metadata": {},
   "outputs": [],
   "source": [
    "# 8-3 풀이\n",
    "price = [38000, 20000, 17900, 17900]\n",
    "qty = [6, 4, 3, 5]\n",
    "\n",
    "count = 0\n",
    "for i in range(0, len(price)):\n",
    "    k = price[i]*qty[i]\n",
    "\n",
    "    if k >=80000:\n",
    "        count +=1\n",
    "    \n",
    "count\n"
   ]
  },
  {
   "cell_type": "code",
   "execution_count": 214,
   "metadata": {},
   "outputs": [
    {
     "ename": "TypeError",
     "evalue": "'builtin_function_or_method' object is not iterable",
     "output_type": "error",
     "traceback": [
      "\u001b[1;31m---------------------------------------------------------------------------\u001b[0m",
      "\u001b[1;31mTypeError\u001b[0m                                 Traceback (most recent call last)",
      "\u001b[1;32me:\\산대특\\본과정 1분기\\B. Python\\Day6 20_중간점검_문제.ipynb 셀 13\u001b[0m line \u001b[0;36m7\n\u001b[0;32m      <a href='vscode-notebook-cell:/e%3A/%EC%82%B0%EB%8C%80%ED%8A%B9/%EB%B3%B8%EA%B3%BC%EC%A0%95%201%EB%B6%84%EA%B8%B0/B.%20Python/Day6%2020_%EC%A4%91%EA%B0%84%EC%A0%90%EA%B2%80_%EB%AC%B8%EC%A0%9C.ipynb#X21sZmlsZQ%3D%3D?line=4'>5</a>\u001b[0m \u001b[39mfor\u001b[39;00m i \u001b[39min\u001b[39;00m \u001b[39mrange\u001b[39m (\u001b[39m0\u001b[39m, \u001b[39m6\u001b[39m):\n\u001b[0;32m      <a href='vscode-notebook-cell:/e%3A/%EC%82%B0%EB%8C%80%ED%8A%B9/%EB%B3%B8%EA%B3%BC%EC%A0%95%201%EB%B6%84%EA%B8%B0/B.%20Python/Day6%2020_%EC%A4%91%EA%B0%84%EC%A0%90%EA%B2%80_%EB%AC%B8%EC%A0%9C.ipynb#X21sZmlsZQ%3D%3D?line=5'>6</a>\u001b[0m     dic[names[i]]\u001b[39m=\u001b[39mpoints[i]\n\u001b[1;32m----> <a href='vscode-notebook-cell:/e%3A/%EC%82%B0%EB%8C%80%ED%8A%B9/%EB%B3%B8%EA%B3%BC%EC%A0%95%201%EB%B6%84%EA%B8%B0/B.%20Python/Day6%2020_%EC%A4%91%EA%B0%84%EC%A0%90%EA%B2%80_%EB%AC%B8%EC%A0%9C.ipynb#X21sZmlsZQ%3D%3D?line=6'>7</a>\u001b[0m \u001b[39msorted\u001b[39;49m(dic\u001b[39m.\u001b[39;49mvalues)\n",
      "\u001b[1;31mTypeError\u001b[0m: 'builtin_function_or_method' object is not iterable"
     ]
    }
   ],
   "source": [
    "# 문제9\n",
    "names = [\"재석\",\"민영\",\"종민\",\"광수\",\"승기\",\"세정\"]\n",
    "points = [82, 91, 54, 62, 88, 90]\n",
    "dic={}\n",
    "for i in range (0, 6):\n",
    "    dic[names[i]]=points[i]\n",
    "sorted(dic.values)\n",
    "\n",
    "# 딕셔너리는 순서개념이 없다."
   ]
  },
  {
   "cell_type": "code",
   "execution_count": 226,
   "metadata": {},
   "outputs": [
    {
     "ename": "TypeError",
     "evalue": "'builtin_function_or_method' object is not subscriptable",
     "output_type": "error",
     "traceback": [
      "\u001b[1;31m---------------------------------------------------------------------------\u001b[0m",
      "\u001b[1;31mTypeError\u001b[0m                                 Traceback (most recent call last)",
      "\u001b[1;32me:\\산대특\\본과정 1분기\\B. Python\\Day6 20_중간점검_문제.ipynb 셀 14\u001b[0m line \u001b[0;36m1\n\u001b[0;32m      <a href='vscode-notebook-cell:/e%3A/%EC%82%B0%EB%8C%80%ED%8A%B9/%EB%B3%B8%EA%B3%BC%EC%A0%95%201%EB%B6%84%EA%B8%B0/B.%20Python/Day6%2020_%EC%A4%91%EA%B0%84%EC%A0%90%EA%B2%80_%EB%AC%B8%EC%A0%9C.ipynb#X23sZmlsZQ%3D%3D?line=8'>9</a>\u001b[0m \u001b[39mfor\u001b[39;00m a \u001b[39min\u001b[39;00m \u001b[39mrange\u001b[39m (\u001b[39m0\u001b[39m, \u001b[39m5\u001b[39m):\n\u001b[0;32m     <a href='vscode-notebook-cell:/e%3A/%EC%82%B0%EB%8C%80%ED%8A%B9/%EB%B3%B8%EA%B3%BC%EC%A0%95%201%EB%B6%84%EA%B8%B0/B.%20Python/Day6%2020_%EC%A4%91%EA%B0%84%EC%A0%90%EA%B2%80_%EB%AC%B8%EC%A0%9C.ipynb#X23sZmlsZQ%3D%3D?line=9'>10</a>\u001b[0m     \u001b[39mfor\u001b[39;00m b \u001b[39min\u001b[39;00m \u001b[39mrange\u001b[39m(a\u001b[39m+\u001b[39m\u001b[39m1\u001b[39m,\u001b[39m6\u001b[39m):\n\u001b[1;32m---> <a href='vscode-notebook-cell:/e%3A/%EC%82%B0%EB%8C%80%ED%8A%B9/%EB%B3%B8%EA%B3%BC%EC%A0%95%201%EB%B6%84%EA%B8%B0/B.%20Python/Day6%2020_%EC%A4%91%EA%B0%84%EC%A0%90%EA%B2%80_%EB%AC%B8%EC%A0%9C.ipynb#X23sZmlsZQ%3D%3D?line=10'>11</a>\u001b[0m         \u001b[39mif\u001b[39;00m dic\u001b[39m.\u001b[39;49mvalues[a]\u001b[39m<\u001b[39mdic\u001b[39m.\u001b[39mvalues[b]:\n\u001b[0;32m     <a href='vscode-notebook-cell:/e%3A/%EC%82%B0%EB%8C%80%ED%8A%B9/%EB%B3%B8%EA%B3%BC%EC%A0%95%201%EB%B6%84%EA%B8%B0/B.%20Python/Day6%2020_%EC%A4%91%EA%B0%84%EC%A0%90%EA%B2%80_%EB%AC%B8%EC%A0%9C.ipynb#X23sZmlsZQ%3D%3D?line=11'>12</a>\u001b[0m             dic[a], dic[b] \u001b[39m=\u001b[39m dic[b], dic[a]\n\u001b[0;32m     <a href='vscode-notebook-cell:/e%3A/%EC%82%B0%EB%8C%80%ED%8A%B9/%EB%B3%B8%EA%B3%BC%EC%A0%95%201%EB%B6%84%EA%B8%B0/B.%20Python/Day6%2020_%EC%A4%91%EA%B0%84%EC%A0%90%EA%B2%80_%EB%AC%B8%EC%A0%9C.ipynb#X23sZmlsZQ%3D%3D?line=12'>13</a>\u001b[0m \u001b[39mprint\u001b[39m(dic)\n",
      "\u001b[1;31mTypeError\u001b[0m: 'builtin_function_or_method' object is not subscriptable"
     ]
    }
   ],
   "source": [
    "names = [\"재석\",\"민영\",\"종민\",\"광수\",\"승기\",\"세정\"]\n",
    "points = [82, 91, 54, 62, 88, 90]\n",
    "dic={}\n",
    "for i in range (0, 6):\n",
    "    dic[names[i]]=points[i]\n",
    "dic\n",
    "a =0\n",
    "b =1\n",
    "for a in range (0, 5):\n",
    "    for b in range(a+1,6):\n",
    "        if dic.values[a]<dic.values[b]:\n",
    "            dic[a], dic[b] = dic[b], dic[a]\n",
    "print(dic)\n"
   ]
  },
  {
   "cell_type": "code",
   "execution_count": 64,
   "metadata": {},
   "outputs": [
    {
     "data": {
      "text/plain": [
       "['민영', '세정', '승기', '재석', '광수', '종민']"
      ]
     },
     "execution_count": 64,
     "metadata": {},
     "output_type": "execute_result"
    }
   ],
   "source": [
    "# 문제9 풀이\n",
    "names = [\"재석\",\"민영\",\"종민\",\"광수\",\"승기\",\"세정\"]\n",
    "points = [82, 91, 54, 62, 88, 90]\n",
    "\n",
    "for i in range(0, len(points)-1):\n",
    "    for j in range(i+1, len(points)):\n",
    "        \n",
    "        if points[i] < points[j]:\n",
    "            points[i], points[j] = points[j], points[i]\n",
    "            names[i], names[j] = names[j], names[i]\n",
    "names\n",
    "\n",
    "# 딕셔너리는 순서개념이 없다.\n"
   ]
  },
  {
   "cell_type": "code",
   "execution_count": 238,
   "metadata": {},
   "outputs": [
    {
     "ename": "TypeError",
     "evalue": "'int' object is not subscriptable",
     "output_type": "error",
     "traceback": [
      "\u001b[1;31m---------------------------------------------------------------------------\u001b[0m",
      "\u001b[1;31mTypeError\u001b[0m                                 Traceback (most recent call last)",
      "\u001b[1;32me:\\산대특\\본과정 1분기\\B. Python\\Day6 20_중간점검_문제.ipynb 셀 15\u001b[0m line \u001b[0;36m8\n\u001b[0;32m      <a href='vscode-notebook-cell:/e%3A/%EC%82%B0%EB%8C%80%ED%8A%B9/%EB%B3%B8%EA%B3%BC%EC%A0%95%201%EB%B6%84%EA%B8%B0/B.%20Python/Day6%2020_%EC%A4%91%EA%B0%84%EC%A0%90%EA%B2%80_%EB%AC%B8%EC%A0%9C.ipynb#X24sZmlsZQ%3D%3D?line=5'>6</a>\u001b[0m \u001b[39mfor\u001b[39;00m j \u001b[39min\u001b[39;00m \u001b[39mrange\u001b[39m(\u001b[39m0\u001b[39m,\u001b[39m5\u001b[39m):\n\u001b[0;32m      <a href='vscode-notebook-cell:/e%3A/%EC%82%B0%EB%8C%80%ED%8A%B9/%EB%B3%B8%EA%B3%BC%EC%A0%95%201%EB%B6%84%EA%B8%B0/B.%20Python/Day6%2020_%EC%A4%91%EA%B0%84%EC%A0%90%EA%B2%80_%EB%AC%B8%EC%A0%9C.ipynb#X24sZmlsZQ%3D%3D?line=6'>7</a>\u001b[0m     \u001b[39mif\u001b[39;00m i \u001b[39m==\u001b[39m j:\n\u001b[1;32m----> <a href='vscode-notebook-cell:/e%3A/%EC%82%B0%EB%8C%80%ED%8A%B9/%EB%B3%B8%EA%B3%BC%EC%A0%95%201%EB%B6%84%EA%B8%B0/B.%20Python/Day6%2020_%EC%A4%91%EA%B0%84%EC%A0%90%EA%B2%80_%EB%AC%B8%EC%A0%9C.ipynb#X24sZmlsZQ%3D%3D?line=7'>8</a>\u001b[0m         a[i][j] \u001b[39m=\u001b[39m \u001b[39m1\u001b[39m\n\u001b[0;32m      <a href='vscode-notebook-cell:/e%3A/%EC%82%B0%EB%8C%80%ED%8A%B9/%EB%B3%B8%EA%B3%BC%EC%A0%95%201%EB%B6%84%EA%B8%B0/B.%20Python/Day6%2020_%EC%A4%91%EA%B0%84%EC%A0%90%EA%B2%80_%EB%AC%B8%EC%A0%9C.ipynb#X24sZmlsZQ%3D%3D?line=8'>9</a>\u001b[0m     \u001b[39melse\u001b[39;00m:\n\u001b[0;32m     <a href='vscode-notebook-cell:/e%3A/%EC%82%B0%EB%8C%80%ED%8A%B9/%EB%B3%B8%EA%B3%BC%EC%A0%95%201%EB%B6%84%EA%B8%B0/B.%20Python/Day6%2020_%EC%A4%91%EA%B0%84%EC%A0%90%EA%B2%80_%EB%AC%B8%EC%A0%9C.ipynb#X24sZmlsZQ%3D%3D?line=9'>10</a>\u001b[0m         a[i][j] \u001b[39m=\u001b[39m \u001b[39m0\u001b[39m\n",
      "\u001b[1;31mTypeError\u001b[0m: 'int' object is not subscriptable"
     ]
    }
   ],
   "source": [
    "# 문제 10   \n",
    "# 배열 = list.\n",
    "\n",
    "i = 0\n",
    "j = 0\n",
    "for i in range(0,5):\n",
    "    for j in range(0,5):\n",
    "        if i == j:\n",
    "            a[i][j] = 1\n",
    "        else:\n",
    "            a[i][j] = 0\n",
    "\n",
    "\n"
   ]
  },
  {
   "cell_type": "code",
   "execution_count": 11,
   "metadata": {},
   "outputs": [
    {
     "name": "stdout",
     "output_type": "stream",
     "text": [
      "[1, 0, 0, 0, 0]\n",
      "[0, 1, 0, 0, 0]\n",
      "[0, 0, 1, 0, 0]\n",
      "[0, 0, 0, 1, 0]\n",
      "[0, 0, 0, 0, 1]\n"
     ]
    }
   ],
   "source": [
    "# 5x5 배열을 대각선이 1이고 나머지는 0으로 초기화\n",
    "a = [[1 if i == j else 0 for j in range(5)] for i in range(5)]\n",
    "\n",
    "# 결과 출력\n",
    "for row in a:\n",
    "    print(row)    "
   ]
  },
  {
   "cell_type": "code",
   "execution_count": 67,
   "metadata": {},
   "outputs": [
    {
     "data": {
      "text/plain": [
       "[[1, 0, 0, 0, 0],\n",
       " [0, 1, 0, 0, 0],\n",
       " [0, 0, 1, 0, 0],\n",
       " [0, 0, 0, 1, 0],\n",
       " [0, 0, 0, 0, 1]]"
      ]
     },
     "execution_count": 67,
     "metadata": {},
     "output_type": "execute_result"
    }
   ],
   "source": [
    "# 문제 10 풀이\n",
    "matrix = []\n",
    "\n",
    "matrix = [\n",
    "    [None, None, None, None, None],\n",
    "    [None, None, None, None, None],\n",
    "    [None, None, None, None, None],\n",
    "    [None, None, None, None, None],\n",
    "    [None, None, None, None, None],\n",
    "]\n",
    "for i in range(0, len(matrix)):\n",
    "    for j in range(0, len(matrix[i])):\n",
    "        if i == j:\n",
    "            matrix[i][j] = 1\n",
    "        else:\n",
    "            matrix[i][j] = 0\n",
    "\n",
    "matrix\n",
    "\n",
    "\n",
    "# 나중에 numpy로 더 쉽게 할 수 있음.\n"
   ]
  },
  {
   "cell_type": "code",
   "execution_count": 71,
   "metadata": {},
   "outputs": [
    {
     "name": "stdout",
     "output_type": "stream",
     "text": [
      "영희는 철수의 카드 중 1번째 카드를 가져올 수 있다.\n",
      "영희는 철수의 카드 중 4번째 카드를 가져올 수 있다.\n",
      "영희는 철수의 카드 중 5번째 카드를 가져올 수 있다.\n",
      "총 3 개를 가져올 수 있다.\n"
     ]
    }
   ],
   "source": [
    "# 문제 11\n",
    "철수 = [1,5,7,'J','Q','A']\n",
    "영희 = [2,3,4,5,'Q','K','A']\n",
    "total = 0\n",
    "for i in range(0,7):\n",
    "    for j in range(0,6):\n",
    "        if 영희[i] == 철수[j]:\n",
    "            total +=1\n",
    "            print(\"영희는 철수의 카드 중 %d번째 카드를 가져올 수 있다.\" % j)\n",
    "            \n",
    "print (\"총 %d 개를 가져올 수 있다.\" % total)\n",
    "            # 철수 = 철수.remove[j]\n",
    "            # 영희 = 영희.remove[i]\n",
    "            "
   ]
  },
  {
   "cell_type": "code",
   "execution_count": null,
   "metadata": {},
   "outputs": [],
   "source": [
    "# 문제 11 풀이\n",
    "cs = [1,5,7,'J','Q','A']\n",
    "yh = [2,3,4,5,'Q','K','A']\n",
    "\n",
    "for y in yh:\n",
    "    for i, c in enumerate(cs):\n",
    "        if y == c:\n",
    "            count += 1\n",
    "            print(\"%d번째 >> %s\" % (i,c))\n",
    "            break       # 문제의 출제 의도. \n",
    "                        # list가 중복되지 않는다고 가정했으므로 \n",
    "                        # 동일한 카드를 찾았다면 더 이상의 탐색은 무의미\n",
    "\n",
    "print(\"가져올 수 있는 카드 수: %d\" % count)"
   ]
  },
  {
   "cell_type": "code",
   "execution_count": 70,
   "metadata": {},
   "outputs": [
    {
     "ename": "TypeError",
     "evalue": "'int' object is not iterable",
     "output_type": "error",
     "traceback": [
      "\u001b[1;31m---------------------------------------------------------------------------\u001b[0m",
      "\u001b[1;31mTypeError\u001b[0m                                 Traceback (most recent call last)",
      "\u001b[1;32me:\\산대특\\본과정 1분기\\B. Python\\Day6 20_중간점검_문제.ipynb 셀 31\u001b[0m line \u001b[0;36m1\n\u001b[0;32m     <a href='vscode-notebook-cell:/e%3A/%EC%82%B0%EB%8C%80%ED%8A%B9/%EB%B3%B8%EA%B3%BC%EC%A0%95%201%EB%B6%84%EA%B8%B0/B.%20Python/Day6%2020_%EC%A4%91%EA%B0%84%EC%A0%90%EA%B2%80_%EB%AC%B8%EC%A0%9C.ipynb#X23sZmlsZQ%3D%3D?line=12'>13</a>\u001b[0m \u001b[39m# 12-1\u001b[39;00m\n\u001b[0;32m     <a href='vscode-notebook-cell:/e%3A/%EC%82%B0%EB%8C%80%ED%8A%B9/%EB%B3%B8%EA%B3%BC%EC%A0%95%201%EB%B6%84%EA%B8%B0/B.%20Python/Day6%2020_%EC%A4%91%EA%B0%84%EC%A0%90%EA%B2%80_%EB%AC%B8%EC%A0%9C.ipynb#X23sZmlsZQ%3D%3D?line=13'>14</a>\u001b[0m \u001b[39mfor\u001b[39;00m i \u001b[39min\u001b[39;00m \u001b[39mrange\u001b[39m (\u001b[39m0\u001b[39m,\u001b[39m8\u001b[39m):\n\u001b[1;32m---> <a href='vscode-notebook-cell:/e%3A/%EC%82%B0%EB%8C%80%ED%8A%B9/%EB%B3%B8%EA%B3%BC%EC%A0%95%201%EB%B6%84%EA%B8%B0/B.%20Python/Day6%2020_%EC%A4%91%EA%B0%84%EC%A0%90%EA%B2%80_%EB%AC%B8%EC%A0%9C.ipynb#X23sZmlsZQ%3D%3D?line=14'>15</a>\u001b[0m     a \u001b[39m+\u001b[39;49m\u001b[39m=\u001b[39;49m constCovid19[i][\u001b[39m\"\u001b[39;49m\u001b[39mactive\u001b[39;49m\u001b[39m\"\u001b[39;49m]\n\u001b[0;32m     <a href='vscode-notebook-cell:/e%3A/%EC%82%B0%EB%8C%80%ED%8A%B9/%EB%B3%B8%EA%B3%BC%EC%A0%95%201%EB%B6%84%EA%B8%B0/B.%20Python/Day6%2020_%EC%A4%91%EA%B0%84%EC%A0%90%EA%B2%80_%EB%AC%B8%EC%A0%9C.ipynb#X23sZmlsZQ%3D%3D?line=15'>16</a>\u001b[0m     \u001b[39mprint\u001b[39m(a)\n",
      "\u001b[1;31mTypeError\u001b[0m: 'int' object is not iterable"
     ]
    }
   ],
   "source": [
    "# 문제 12\n",
    "\n",
    "covid19 = [\n",
    "    {\"date\": '0125', \"active\": 426},  \n",
    "    {\"date\": '0126', \"active\": 343},  \n",
    "    {\"date\": '0127', \"active\": 547},  \n",
    "    {\"date\": '0128', \"active\": 490},  \n",
    "    {\"date\": '0129', \"active\": 460},  \n",
    "    {\"date\": '0130', \"active\": 443},  \n",
    "    {\"date\": '0131', \"active\": 338},  \n",
    "    {\"date\": '0201', \"active\": 299} \n",
    "]\n",
    "# 12-1\n",
    "for i in range (0,8):\n",
    "    a += covid19[i][\"active\"]\n",
    "    print(a)\n",
    "\n",
    "\n",
    "          "
   ]
  },
  {
   "cell_type": "code",
   "execution_count": 73,
   "metadata": {},
   "outputs": [
    {
     "name": "stdout",
     "output_type": "stream",
     "text": [
      "누적 확진자 수 : 3346\n",
      "평균 확진자 수 : 418\n"
     ]
    }
   ],
   "source": [
    "# 문제 12 풀이\n",
    "\n",
    "covid19 = [\n",
    "    {\"date\": '0125', \"active\": 426},  \n",
    "    {\"date\": '0126', \"active\": 343},  \n",
    "    {\"date\": '0127', \"active\": 547},  \n",
    "    {\"date\": '0128', \"active\": 490},  \n",
    "    {\"date\": '0129', \"active\": 460},  \n",
    "    {\"date\": '0130', \"active\": 443},  \n",
    "    {\"date\": '0131', \"active\": 338},  \n",
    "    {\"date\": '0201', \"active\": 299} \n",
    "]\n",
    "total = 0\n",
    "for c in covid19:\n",
    "    total += c[\"active\"]\n",
    "\n",
    "avg = total /len(covid19)\n",
    "\n",
    "print(\"누적 확진자 수 : %d\" %total)\n",
    "print(\"평균 확진자 수 : %0.2f\" %avg)"
   ]
  },
  {
   "cell_type": "code",
   "execution_count": null,
   "metadata": {},
   "outputs": [],
   "source": [
    "# 12-2\n",
    "                # ctrl + h -> 찾아 일괄 변경\n",
    "                # ctrl + f -> active\n",
    "\n",
    "covid19 = [\n",
    "    {\"date\": '0125', \"active\": 426},  \n",
    "    {\"date\": '0126', \"active\": 343},  \n",
    "    {\"date\": '0127', \"active\": 547},  \n",
    "    {\"date\": '0128', \"active\": 490},  \n",
    "    {\"date\": '0129', \"active\": 460},  \n",
    "    {\"date\": '0130', \"active\": 443},  \n",
    "    {\"date\": '0131', \"active\": 338},  \n",
    "    {\"date\": '0201', \"active\": 299} \n",
    "]\n",
    "for a in range(0,8):\n",
    "    max1 = max(covid19[a][\"active\"])\n",
    "for i in range (0,8):\n",
    "    if covid19[i][\"active\"] == max1:\n",
    "        print(covid19[i][\"date\"])"
   ]
  },
  {
   "cell_type": "code",
   "execution_count": 278,
   "metadata": {},
   "outputs": [
    {
     "name": "stdout",
     "output_type": "stream",
     "text": [
      "0127\n"
     ]
    }
   ],
   "source": [
    "# 12-2 \n",
    "covid19 = [\n",
    "    {\"date\": '0125', \"active\": 426},  \n",
    "    {\"date\": '0126', \"active\": 343},  \n",
    "    {\"date\": '0127', \"active\": 547},  \n",
    "    {\"date\": '0128', \"active\": 490},  \n",
    "    {\"date\": '0129', \"active\": 460},  \n",
    "    {\"date\": '0130', \"active\": 443},  \n",
    "    {\"date\": '0131', \"active\": 338},  \n",
    "    {\"date\": '0201', \"active\": 299} \n",
    "]\n",
    "max1 = max(item[\"active\"] for item in covid19)\n",
    "\n",
    "for i in range(8):\n",
    "    if covid19[i][\"active\"] == max1:\n",
    "        print(covid19[i][\"date\"])"
   ]
  },
  {
   "cell_type": "code",
   "execution_count": 75,
   "metadata": {},
   "outputs": [
    {
     "name": "stdout",
     "output_type": "stream",
     "text": [
      "확진자가 가장 많이 나타난 날: 0127\n"
     ]
    }
   ],
   "source": [
    "# 12-2 풀이\n",
    "maxActive = covid19[0]['active']\n",
    "maxDate = covid19[0]['date']\n",
    "\n",
    "for c in covid19:\n",
    "    if maxActive < c['active']:\n",
    "        maxActive = c['active']\n",
    "        maxDate = c['date']\n",
    "\n",
    "print(\"확진자가 가장 많이 나타난 날: %s\" %maxDate)"
   ]
  },
  {
   "cell_type": "code",
   "execution_count": null,
   "metadata": {},
   "outputs": [],
   "source": []
  }
 ],
 "metadata": {
  "kernelspec": {
   "display_name": "Python 3",
   "language": "python",
   "name": "python3"
  },
  "language_info": {
   "codemirror_mode": {
    "name": "ipython",
    "version": 3
   },
   "file_extension": ".py",
   "mimetype": "text/x-python",
   "name": "python",
   "nbconvert_exporter": "python",
   "pygments_lexer": "ipython3",
   "version": "3.12.0"
  }
 },
 "nbformat": 4,
 "nbformat_minor": 2
}
