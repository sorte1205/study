{
 "cells": [
  {
   "cell_type": "markdown",
   "metadata": {},
   "source": [
    "# 06. 연산자\n",
    "## 1. 연산자의 종류\n",
    "### (1) 대입 연산자\n",
    "- 대입연산자 (=): 좌변에 우변을 대입한다 (같다라는 의미로는 사용하지 않는다)\n",
    "- 변수에 값을 대입하는 경우\n",
    "- 변수에 다른 변수를 대입하는 경우\n",
    "- 변수의 값 교환 (swap 처리)\n",
    "    - 변수간의 데이터 맞교환"
   ]
  },
  {
   "cell_type": "code",
   "execution_count": 6,
   "metadata": {},
   "outputs": [
    {
     "name": "stdout",
     "output_type": "stream",
     "text": [
      "1\n",
      "2\n",
      "2\n",
      "1\n"
     ]
    }
   ],
   "source": [
    "a = 1\n",
    "b = 2\n",
    "print(a)\n",
    "print(b)\n",
    "\n",
    "a, b = b, a\n",
    "print(a)\n",
    "print(b)"
   ]
  },
  {
   "cell_type": "markdown",
   "metadata": {},
   "source": [
    "### (2) 산술연산자\n",
    "- 일반적인 사칙연산\n",
    "  - 덧셈(+), 뺄셈(-), 곱셈(*), 나눗셈(/,//,%)\n",
    "  \n",
    "- 산술 연산자 사용하기\n",
    "  - 산술 연산자의 결과를 다른 변수에 할당하여 출력하거나 직접 출력할 수 있다\n",
    "\n"
   ]
  },
  {
   "cell_type": "code",
   "execution_count": 7,
   "metadata": {},
   "outputs": [
    {
     "name": "stdout",
     "output_type": "stream",
     "text": [
      "7\n",
      "-1\n",
      "12\n",
      "0.75\n"
     ]
    }
   ],
   "source": [
    "# 연산 결과는 새로운 변수에 할당 하거나 직접 출력 가능\n",
    "a = 3\n",
    "b = 4\n",
    "c = a+b\n",
    "print(c)\n",
    "\n",
    "# 연산결과 직접 출력\n",
    "print(a-b)\n",
    "print(a*b)\n",
    "print(a/b)"
   ]
  },
  {
   "cell_type": "markdown",
   "metadata": {},
   "source": [
    "- 나눗셈과 거듭제곱\n",
    "\n",
    "  \n"
   ]
  },
  {
   "cell_type": "code",
   "execution_count": 8,
   "metadata": {},
   "outputs": [
    {
     "name": "stdout",
     "output_type": "stream",
     "text": [
      "3.3333333333333335\n",
      "3\n",
      "1\n",
      "243\n"
     ]
    }
   ],
   "source": [
    "# 나눗셈\n",
    "# 나눗셈의 몫을 구한다\n",
    "# -> 처리 가능한 단위까지 계산함 (마지막 오차발생)\n",
    "print(10/3)\n",
    "# 나눗셈에서 소수점 아래를 버리고 몫만 계산\n",
    "print(10//3)\n",
    "\n",
    "# 나눗셈의 나머지를 구한다.\n",
    "# -> 정수 단위에서만 연산후 종료.\n",
    "print(10%3)\n",
    "\n",
    "# 거듭제곱\n",
    "print(3**5)"
   ]
  },
  {
   "cell_type": "markdown",
   "metadata": {},
   "source": [
    "### (3) 단항 연산자\n",
    "- 단항 연산자\n",
    "  - 단항연산자\n",
    "    - 어떤 변수의 연산 결과를 다시 그 변수 자신에게 대입하고자 할 경우의 약식 표현\n",
    "  - 단항연산자는 모든 사칙 연산자에 표현 가능\n",
    "    - +=, -=, *=, /=, //=, %=\n"
   ]
  },
  {
   "cell_type": "code",
   "execution_count": 9,
   "metadata": {},
   "outputs": [
    {
     "name": "stdout",
     "output_type": "stream",
     "text": [
      "1\n"
     ]
    }
   ],
   "source": [
    "a = 1\n",
    "a +=100\n",
    "a*=10\n",
    "a //=3\n",
    "a %= 5\n",
    "print(a)"
   ]
  },
  {
   "cell_type": "markdown",
   "metadata": {},
   "source": [
    "### (4) 비교 연산자\n",
    "- 수학의 부등식 \n",
    "    - 같다      == or is\n",
    "    - 다르다    != or is not\n",
    "    - 초과      >\n",
    "    - 이상      >=\n",
    "    - 미만      <\n",
    "    - 이하      <=\n",
    "- 연산 결과는 논리값(bool형)으로 생성.\n",
    "  - True\n",
    "  - False"
   ]
  },
  {
   "cell_type": "markdown",
   "metadata": {},
   "source": [
    "### (4) 논리 연산자\n",
    "- AND\n",
    "  - 두 개의 논리값을 비교해 모두 참인 경우만 결과가 참\n",
    "- OR\n",
    "  - 두 개의 논리값을 비교하여 하나라도 참인 경우 결과가 참\n",
    "- not\n",
    "  - 참의 부정\n",
    "  - 거짓의 부정\n",
    "  - boolean 형의 데이터를 저장하는 변수를 부정하여 그 결과를 다른 변수에 할당"
   ]
  },
  {
   "cell_type": "markdown",
   "metadata": {},
   "source": [
    "### (5) 비교 연산과 논리 연산의 결합"
   ]
  },
  {
   "cell_type": "code",
   "execution_count": 10,
   "metadata": {},
   "outputs": [
    {
     "name": "stdout",
     "output_type": "stream",
     "text": [
      "True\n",
      "False\n",
      "True\n"
     ]
    }
   ],
   "source": [
    "#비교연산의 결과값은 bool형식이므로 논리연산이 가능함\n",
    "a = 100>50\n",
    "b = 20>10\n",
    "print (a and b)\n",
    "\n",
    "c = 100 >= 100 and 50 == 10\n",
    "print(c)\n",
    "\n",
    "print(100 != 200 and 100 == 100)"
   ]
  },
  {
   "cell_type": "markdown",
   "metadata": {},
   "source": [
    "### (6) 완전 항등 연산자 is\n",
    "- 항등 연산자\n",
    "  - print(1 == 1.0)     True\n",
    "  - print(1 != 1.0)     False\n",
    "- 완전 항등 연산자\n",
    "  - print(1 is 1.0)     False\n",
    "  - print(1.0 is 1.0)   True\n",
    "  - print(1 is not 1.0) True"
   ]
  },
  {
   "cell_type": "markdown",
   "metadata": {},
   "source": [
    "### (7) 연산자 우선 순위\n",
    "- ()\n",
    "- **\n",
    "- +/-\n",
    "- *, /, //, %\n",
    "- +/-\n",
    "- is, is not, <, , <=, >, >=, !=, =\n",
    "- not\n",
    "- and\n",
    "- or"
   ]
  },
  {
   "cell_type": "markdown",
   "metadata": {},
   "source": []
  }
 ],
 "metadata": {
  "kernelspec": {
   "display_name": "Python 3",
   "language": "python",
   "name": "python3"
  },
  "language_info": {
   "codemirror_mode": {
    "name": "ipython",
    "version": 3
   },
   "file_extension": ".py",
   "mimetype": "text/x-python",
   "name": "python",
   "nbconvert_exporter": "python",
   "pygments_lexer": "ipython3",
   "version": "3.12.0"
  }
 },
 "nbformat": 4,
 "nbformat_minor": 2
}
