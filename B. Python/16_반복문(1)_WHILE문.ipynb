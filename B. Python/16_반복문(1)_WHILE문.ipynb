{
 "cells": [
  {
   "cell_type": "markdown",
   "metadata": {},
   "source": [
    "# 16 반복문(1) WHILE문\n",
    "## 1. WHILE문\n",
    "### (1) 반복문 개요\n",
    "- 반복문이란?\n",
    "  - 주어진 조건이 참을 충족하는 동안(While) 혹은\n",
    "  - 주어진 범위안에서(For) \n",
    "  - 블록 안의 실행문을 반복해서 수행하는 문법\n",
    "- 반복문의 종류\n",
    "  - while문\n",
    "    - 주어진 '조건'이 참(True)인 경우에만 실행된다.\n",
    "  - for문\n",
    "    - 반복 수행을 위한 범위를 지정하고 지정된 범위 안에서 실행한다.\n",
    "\n",
    "### (2) While문 개요\n",
    "- While 문\n",
    "  - while 조건식:\n",
    "    - ... 반복적으로 동작할 구문...\n",
    "\n",
    "- While문의 구성 요소와 실행 순서\n",
    "  - 초기식:\n",
    "  - While 조건식:\n",
    "  - 반복적으로 동작할 구문\n",
    "  - 증감식\n",
    "\n",
    "### (3) 무한루프\n",
    "- 종료되지 않는 반복문\n",
    "  - 초기식, 조건식, 증감식을 잘못 설정하여 절대 종료되지 않는 형태의 반복문\n",
    "- 무한루프의 예\n",
    "  - 조건이 \"참\"으로 고정되어 종료되지 않음\n",
    "  - 증감식을 잘못 설정하여 조건을 벗어날 수 없음\n",
    "  \n",
    "\n"
   ]
  },
  {
   "cell_type": "code",
   "execution_count": 1,
   "metadata": {},
   "outputs": [
    {
     "name": "stdout",
     "output_type": "stream",
     "text": [
      "x=1\n",
      "x=2\n",
      "x=3\n",
      "x=4\n",
      "x=5\n",
      "x=6\n",
      "x=7\n",
      "x=8\n",
      "x=9\n",
      "x=10\n",
      "------------------------------\n",
      "x의 최종값 =11\n",
      "입력값은 4 입니다.\n",
      "------------------------------\n"
     ]
    }
   ],
   "source": [
    "# while문의 기본 구조\n",
    "x = 1\n",
    "while x <=10:\n",
    "    print(\"x=%d\" % x)\n",
    "    x += 1\n",
    "print(\"-\"*30)\n",
    "print(\"x의 최종값 =%d\" % x)\n",
    "        # 반복문의 변수는 보통 i로 통일 (index)\n",
    "\n",
    "# 구구단 출력하기\n",
    "x = int(input(\"숫자를 입력하세요.\"))\n",
    "print(\"입력값은 %d 입니다.\" % x)\n",
    "print(\"-\"*30)\n",
    "\n",
    "y = 1           # 초기식\n",
    "while y < 10:   # 조건식 -> 10보다 작다이므로 10은 포함되지 않음.\n",
    "    z = x * y   # 반복이 진행되는 동안 수행할 명령\n",
    "    print(\"%d x %d = %d\" %(x,y,z))\n",
    "    y += 1      #증감식 -> y가 1씩 증가함\n",
    "\n",
    "# 합계 구하기   \n",
    "    # 1부터 10까지 총합 구하기\n",
    "x = 1\n",
    "sum = 0 # 합산 결과를 저장할 변수를 0으로 초기화\n",
    "while x < 11 # 1~10 까지 총 합 구하기\n",
    "    sum += x\n",
    "    print (\"x=%d, sum=%d\" % (x, sum))\n",
    "    x += 1\n",
    "\n",
    "# 값의 변화 단계 조절\n",
    "    # 0부터 50전까지 10씩 증가\n",
    "\n",
    "# 리스트의 원소 탐색\n",
    "    # 10부터 0전까지 2씩 감소\n",
    "mylist = [10, 20, 30, 40, 50]\n",
    "\n",
    "# 리스트의 원소의 합계, 평균\n",
    "성적표 = [92, 88, 76, 90, 82]\n",
    "과목수 = len(성적표)\n",
    "\n",
    "# 인덱스가 과목수 보다 작은 동안 반복"
   ]
  },
  {
   "cell_type": "code",
   "execution_count": 15,
   "metadata": {},
   "outputs": [
    {
     "name": "stdout",
     "output_type": "stream",
     "text": [
      "2652\n"
     ]
    },
    {
     "data": {
      "text/plain": [
       "{'A': 3, 'B': 2, 'AB': 2, 'O': 3}"
      ]
     },
     "execution_count": 15,
     "metadata": {},
     "output_type": "execute_result"
    }
   ],
   "source": [
    "# 연구과제\n",
    "\n",
    "# 짝수의 합 구하기\n",
    "x = 0\n",
    "sum =0\n",
    "while x < 51:\n",
    "    x +=1\n",
    "    y = 2*x\n",
    "    sum += y\n",
    "print(sum)\n",
    "\n",
    "# 혈액형 빈도수 구하기\n",
    "result = {\"A\": 0, \"B\":0, \"AB\":0, \"O\":0}\n",
    "혈액형 = ['A', 'A', 'A','O','B','B','O','AB','AB','O']\n",
    "a = 혈액형.count('A')\n",
    "b = 혈액형.count('B')\n",
    "ab = 혈액형.count('AB')\n",
    "o = 혈액형.count('O')\n",
    "result = {\"A\": a, \"B\":b, \"AB\":ab, \"O\":o}\n",
    "result\n",
    "\n",
    " \n"
   ]
  },
  {
   "cell_type": "code",
   "execution_count": 16,
   "metadata": {},
   "outputs": [
    {
     "name": "stdout",
     "output_type": "stream",
     "text": [
      "총합: 2550\n"
     ]
    },
    {
     "data": {
      "text/plain": [
       "{'A': 3, 'B': 2, 'AB': 2, 'O': 3}"
      ]
     },
     "execution_count": 16,
     "metadata": {},
     "output_type": "execute_result"
    }
   ],
   "source": [
    "# 연구과제(1) 풀이\n",
    "\n",
    "i = 0\n",
    "total = 0\n",
    "while i <101:\n",
    "    total += i\n",
    "    i+=2\n",
    "print(\"총합:\", total)\n",
    "\n",
    "# 연구과제(2) 풀이\n",
    "result = {\"A\": 0, \"B\":0, \"AB\":0, \"O\":0}\n",
    "혈액형 = ['A', 'A', 'A','O','B','B','O','AB','AB','O']\n",
    "\n",
    "i = 0\n",
    "while i < len(혈액형):\n",
    "                    # print(혈액형[i])\n",
    "    result[혈액형[i]] += 1\n",
    "    i += 1\n",
    "result "
   ]
  },
  {
   "cell_type": "code",
   "execution_count": null,
   "metadata": {},
   "outputs": [],
   "source": []
  }
 ],
 "metadata": {
  "kernelspec": {
   "display_name": "Python 3",
   "language": "python",
   "name": "python3"
  },
  "language_info": {
   "codemirror_mode": {
    "name": "ipython",
    "version": 3
   },
   "file_extension": ".py",
   "mimetype": "text/x-python",
   "name": "python",
   "nbconvert_exporter": "python",
   "pygments_lexer": "ipython3",
   "version": "3.12.0"
  }
 },
 "nbformat": 4,
 "nbformat_minor": 2
}
