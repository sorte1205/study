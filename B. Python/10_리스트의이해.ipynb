{
 "cells": [
  {
   "cell_type": "markdown",
   "metadata": {},
   "source": [
    "# 10 리스트의 이해\n",
    "## 1. 리스트 자료형\n",
    "### (1) 리스트의 필요성\n",
    "- 상황제시\n",
    "- 변수의 수 증가\n",
    "### (2) 리스트 정의하기\n",
    "- 리스트란?\n",
    "  - 변수를 \n",
    "- 리스트를 정의하는 방법\n",
    "  - 리스트의 생성\n",
    "  - 생성된 리스트는 각 칸에 0부터 일련번호가 지정된다.\n"
   ]
  },
  {
   "cell_type": "code",
   "execution_count": 8,
   "metadata": {},
   "outputs": [
    {
     "data": {
      "text/plain": [
       "['철수', 17, 162.4, 68.5, '남자', True]"
      ]
     },
     "execution_count": 8,
     "metadata": {},
     "output_type": "execute_result"
    }
   ],
   "source": [
    "# 정수형의 원소만 갖는 리스트\n",
    "grade = [98, 82, 73, 64, 100]\n",
    "grade\n",
    "\n",
    "# 문자열 타입의 원소만 갖는 리스트\n",
    "names = [\"철수\", \"영희\",\"나영\",\"민식\",\"호영\"]\n",
    "names\n",
    "\n",
    "\n",
    "# 서로 다른 자료형들을 함께 사용 가능\n",
    "student = [\"철수\", 17, 162.4, 68.5, \"남자\", True]\n",
    "student\n",
    "\n"
   ]
  },
  {
   "cell_type": "markdown",
   "metadata": {},
   "source": [
    "### (3) 리스트 원소에 접근하기\n",
    "- 리스트의 값을 활용하기\n",
    "  - 리스트의 각 원소에 부여되는 인덱스 번호를 활용\n",
    "  - 접근한 값은 출력, 연산 등에 활용\n",
    "- 존재하지 않는 인덱스에 접근할 경우 에러가 발생\n",
    "  - 존재하지 않는 인덱스의 원소를 출력하는 경우\n",
    "  - 존재하지 않는 인덱스에 값을 할당하는 경우\n",
    "  \n",
    "\n",
    "  "
   ]
  },
  {
   "cell_type": "code",
   "execution_count": 14,
   "metadata": {},
   "outputs": [
    {
     "name": "stdout",
     "output_type": "stream",
     "text": [
      "30\n",
      "(100, 200, 300)\n"
     ]
    },
    {
     "ename": "TypeError",
     "evalue": "'tuple' object does not support item assignment",
     "output_type": "error",
     "traceback": [
      "\u001b[1;31m---------------------------------------------------------------------------\u001b[0m",
      "\u001b[1;31mTypeError\u001b[0m                                 Traceback (most recent call last)",
      "\u001b[1;32me:\\산대특\\본과정 1분기\\B. Python\\Day4 10_리스트의이해.ipynb 셀 4\u001b[0m line \u001b[0;36m9\n\u001b[0;32m      <a href='vscode-notebook-cell:/e%3A/%EC%82%B0%EB%8C%80%ED%8A%B9/%EB%B3%B8%EA%B3%BC%EC%A0%95%201%EB%B6%84%EA%B8%B0/B.%20Python/Day4%2010_%EB%A6%AC%EC%8A%A4%ED%8A%B8%EC%9D%98%EC%9D%B4%ED%95%B4.ipynb#X13sZmlsZQ%3D%3D?line=5'>6</a>\u001b[0m mydata \u001b[39m=\u001b[39m (\u001b[39m100\u001b[39m, \u001b[39m200\u001b[39m, \u001b[39m300\u001b[39m)\n\u001b[0;32m      <a href='vscode-notebook-cell:/e%3A/%EC%82%B0%EB%8C%80%ED%8A%B9/%EB%B3%B8%EA%B3%BC%EC%A0%95%201%EB%B6%84%EA%B8%B0/B.%20Python/Day4%2010_%EB%A6%AC%EC%8A%A4%ED%8A%B8%EC%9D%98%EC%9D%B4%ED%95%B4.ipynb#X13sZmlsZQ%3D%3D?line=6'>7</a>\u001b[0m \u001b[39mprint\u001b[39m (mydata)\n\u001b[1;32m----> <a href='vscode-notebook-cell:/e%3A/%EC%82%B0%EB%8C%80%ED%8A%B9/%EB%B3%B8%EA%B3%BC%EC%A0%95%201%EB%B6%84%EA%B8%B0/B.%20Python/Day4%2010_%EB%A6%AC%EC%8A%A4%ED%8A%B8%EC%9D%98%EC%9D%B4%ED%95%B4.ipynb#X13sZmlsZQ%3D%3D?line=8'>9</a>\u001b[0m mydata[\u001b[39m0\u001b[39;49m] \u001b[39m=\u001b[39m \u001b[39m0\u001b[39m\n\u001b[0;32m     <a href='vscode-notebook-cell:/e%3A/%EC%82%B0%EB%8C%80%ED%8A%B9/%EB%B3%B8%EA%B3%BC%EC%A0%95%201%EB%B6%84%EA%B8%B0/B.%20Python/Day4%2010_%EB%A6%AC%EC%8A%A4%ED%8A%B8%EC%9D%98%EC%9D%B4%ED%95%B4.ipynb#X13sZmlsZQ%3D%3D?line=9'>10</a>\u001b[0m mydata[\u001b[39m1\u001b[39m] \u001b[39m=\u001b[39m mydata[\u001b[39m1\u001b[39m]\u001b[39m-\u001b[39m\u001b[39m150\u001b[39m\n\u001b[0;32m     <a href='vscode-notebook-cell:/e%3A/%EC%82%B0%EB%8C%80%ED%8A%B9/%EB%B3%B8%EA%B3%BC%EC%A0%95%201%EB%B6%84%EA%B8%B0/B.%20Python/Day4%2010_%EB%A6%AC%EC%8A%A4%ED%8A%B8%EC%9D%98%EC%9D%B4%ED%95%B4.ipynb#X13sZmlsZQ%3D%3D?line=10'>11</a>\u001b[0m mydata[\u001b[39m2\u001b[39m] \u001b[39m/\u001b[39m\u001b[39m/\u001b[39m\u001b[39m=\u001b[39m \u001b[39m3\u001b[39m\n",
      "\u001b[1;31mTypeError\u001b[0m: 'tuple' object does not support item assignment"
     ]
    }
   ],
   "source": [
    "# 인덱스 번호를 통해 각 원소에 접근할 수 있다.\n",
    "items = [10, 20, 30]\n",
    "print (items[2])\n",
    "\n",
    "# 값의 변경\n",
    "mydata = (100, 200, 300)\n",
    "print (mydata)\n",
    "\n",
    "mydata[0] = 0\n",
    "mydata[1] = mydata[1]-150\n",
    "mydata[2] //= 3\n",
    "print(mydata)"
   ]
  },
  {
   "cell_type": "code",
   "execution_count": 15,
   "metadata": {},
   "outputs": [
    {
     "name": "stdout",
     "output_type": "stream",
     "text": [
      "30\n",
      "[100, 200, 300]\n",
      "[0, 50, 100]\n"
     ]
    }
   ],
   "source": [
    "# 인덱스 번호를 통해 각 원소에 접근할 수 있다.\n",
    "items = [10, 20, 30]\n",
    "print (items[2])\n",
    "\n",
    "# 값의 변경\n",
    "mydata = [100, 200, 300]\n",
    "print (mydata)\n",
    "\n",
    "mydata[0] = 0\n",
    "mydata[1] = mydata[1]-150\n",
    "mydata[2] //= 3\n",
    "print(mydata)"
   ]
  },
  {
   "cell_type": "markdown",
   "metadata": {},
   "source": [
    "### (4) 리스트의 원소를 활용한 문자열 포메팅\n"
   ]
  },
  {
   "cell_type": "code",
   "execution_count": 16,
   "metadata": {},
   "outputs": [
    {
     "name": "stdout",
     "output_type": "stream",
     "text": [
      "철수,(이)의 점수는 92점 입니다.\n"
     ]
    }
   ],
   "source": [
    "stud1 = ['철수', 92]\n",
    "stud2 = ['민영', 86]\n",
    "stud3 = ['영수', 91]\n",
    "\n",
    "# 리스트의 원소를 직접 출력하는 활용 예시\n",
    "msg = \"{0},(이)의 점수는 {1}점 입니다.\"\n",
    "print (msg.format(stud1[0], stud1[1]))"
   ]
  },
  {
   "cell_type": "markdown",
   "metadata": {},
   "source": [
    "  ### (5) 리스트의 연산\n",
    "  - 리스트의 덧셈\n",
    "    - 리스트끼리만!\n",
    "  - 리스트와 정수의 곱셈 (문자열의 곱과 결과가 비슷.)\n",
    "    - 리스트와 정수끼리만 가능"
   ]
  },
  {
   "cell_type": "code",
   "execution_count": 20,
   "metadata": {},
   "outputs": [
    {
     "name": "stdout",
     "output_type": "stream",
     "text": [
      "[10, 20, 30]\n",
      "[40, 50, 60]\n",
      "[10, 20, 30, 40, 50, 60]\n",
      "[10, 20, 30, 10, 20, 30, 10, 20, 30, 10, 20, 30, 10, 20, 30]\n"
     ]
    }
   ],
   "source": [
    "# 실습을 위한 리스트 정의\n",
    "list1 = [10, 20, 30]\n",
    "list2 = [40, 50, 60]\n",
    "print (list1)\n",
    "print (list2)\n",
    "# 리스트끼리의 덧셈은 단순 병합\n",
    "list3 = list1 + list2 \n",
    "print (list3)\n",
    "\n",
    "# 리스트와 정수의 곱셈은 동일 내용을 반복한다.\n",
    "list4 = list1 * 5\n",
    "print(list4)"
   ]
  },
  {
   "cell_type": "markdown",
   "metadata": {},
   "source": [
    "## 2. 2차원 리스트\n",
    "\n",
    "### (1) 2차원 리스트의 정의\n",
    "- 개별적인 리스트가 새로운 리스트의 원소가 되는 형태\n",
    "- 일괄 생성 가능\n",
    "- 가독성을 위해 줄바꿈 적용 가능"
   ]
  },
  {
   "cell_type": "code",
   "execution_count": 28,
   "metadata": {},
   "outputs": [
    {
     "name": "stdout",
     "output_type": "stream",
     "text": [
      "[['철수', 98], ['영희', 82], ['나영', 73]]\n",
      "[['민식', 98, 175.3], ['호영', 82, 187.3], ['철민', 73, 156.4]]\n"
     ]
    }
   ],
   "source": [
    "# 각 학생별 이름, 점수 정의\n",
    "stud1 = [\"철수\", 98]\n",
    "stud2 = [\"영희\", 82]\n",
    "stud3 = [\"나영\", 73]\n",
    "\n",
    "# 리스트를 원소로 갖는 새로운 리스트 정의\n",
    "studentGroup = [stud1, stud2, stud3]\n",
    "print (studentGroup)    \n",
    "\n",
    "# 2차원 리스트의 일괄 생성\n",
    "#   -> 바깥의 리스트에 속한 원소들은 행을 구성하고, 안쪽의 리스트에 속한 원소들은 열을 구성한다.\n",
    "studentGroup2 = [[\"민식\", 98, 175.3],\n",
    "                 [\"호영\", 82, 187.3],\n",
    "                 [\"철민\", 73, 156.4]  ]\n",
    "print(studentGroup2)\n"
   ]
  },
  {
   "cell_type": "markdown",
   "metadata": {},
   "source": [
    "### (2) 2차원 리스트의 행에 접근하기\n",
    "\n",
    "- 행에 대한 접근\n",
    "  - 2차원 리스트는 다음과 같이 표 형태의 자료구조를 갖는다.\n",
    "  - [[0번째 행], [1번째 행], [2번째 행]]\n",
    "\n",
    "- 2차원 리스트의 행에 접근하기"
   ]
  },
  {
   "cell_type": "code",
   "execution_count": 26,
   "metadata": {},
   "outputs": [
    {
     "name": "stdout",
     "output_type": "stream",
     "text": [
      "['민식', 64, 172.3]\n"
     ]
    }
   ],
   "source": [
    "# 실습을 위한 리스트 정의\n",
    "학생 = [[\"민식\", 64, 172.3], [\"호영\", 100, 175.0], [\"철민\", 89, 168.7]]\n",
    "\n",
    "# 0번째 행에 대한 접근\n",
    "print(학생[0])\n",
    "# 1번째 행에 대한 접근\n",
    "print(학생[1])\n",
    "# 2번째 행에 대한 접근\n",
    "print(학생[2])"
   ]
  },
  {
   "cell_type": "markdown",
   "metadata": {},
   "source": [
    "### (3) 2차원 리스트의 열에 접근하기\n",
    "- 2차원 리스트에서 각 원소에 접근하는 방법\n",
    "  - 행 -> 열의 순서로 접근한다\n",
    "  - ex. print(mylist[0][1]) : 0번째 행의 1번째 열"
   ]
  },
  {
   "cell_type": "code",
   "execution_count": 24,
   "metadata": {},
   "outputs": [
    {
     "name": "stdout",
     "output_type": "stream",
     "text": [
      "민식(이)의 몸무게는 64kg이고, 키는 172.3cm 입니다.\n"
     ]
    }
   ],
   "source": [
    "# 실습을 위한 리스트 정의 (앞 코드와 동일)\n",
    "학생 = [[\"민식\", 64, 172.3], [\"호영\", 100, 175.0], [\"철민\", 89, 168.7]]\n",
    "\n",
    "# 문자열 형식 지정\n",
    "fmt = \"{name}(이)의 몸무게는 {weight}kg이고, 키는 {height}cm 입니다.\"\n",
    "print (fmt.format(name = 학생[0][0], weight = 학생[0][1], height=학생[0][2]))"
   ]
  }
 ],
 "metadata": {
  "kernelspec": {
   "display_name": "Python 3",
   "language": "python",
   "name": "python3"
  },
  "language_info": {
   "codemirror_mode": {
    "name": "ipython",
    "version": 3
   },
   "file_extension": ".py",
   "mimetype": "text/x-python",
   "name": "python",
   "nbconvert_exporter": "python",
   "pygments_lexer": "ipython3",
   "version": "3.12.0"
  }
 },
 "nbformat": 4,
 "nbformat_minor": 2
}
