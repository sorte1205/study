{
 "cells": [
  {
   "cell_type": "markdown",
   "metadata": {},
   "source": [
    "# 09 문자열 함수\n",
    "## 1. 문자열 관련 내장함수\n",
    "### (1) 문자열의 길이 조회하기\n",
    "- 내장함수 len()\n",
    "  - 파라미터로 전달된 변수의 길이를 측정해서 반환하는 함수\n",
    "  - 문자열 변수에 대한 길이는 글자수를 의미한다\n",
    "  - 그러므로 len()함수에 문자열을 파라미터로 전달하면 글자수를 측정해서 반환한다.\n",
    "  - 공백 문자나 특수문자(쉼표, 마침표 등)도 한 글자를 차지한다."
   ]
  },
  {
   "cell_type": "markdown",
   "metadata": {},
   "source": [
    "## 2. 문자열 객체의 메서드\n",
    "### (1) 객체\n",
    "- 객체란?\n",
    "  - 필요에 따라 다른 변수와 함수를 내장하고 있는 특수한 변수\n",
    "  - 파이썬은 모든 변수가 객체로서 존재\n",
    "  - 그러므로 문자열 변수를 생성하면 그 안에는 파이썬에서 제공하는 함수들이 자동으로 포함됨\n",
    "- 메서드 (Method)\n",
    "  - 객체에 포함되어 있는 함수\n",
    "  - 객체를 생성하고 그 안에 내장된 메서드를 호출할 때는\n",
    "    - \"객체이름.메서드이름()\"의 형식으로 사용\n",
    "    - 필요에 따라 메서드가 수행되는데 필요한 조건값을 괄호안에 전달해야 함\n",
    "    - 메서드의 수행 결과로 반환되는 값이 존재할 수 있음.\n",
    "    - "
   ]
  },
  {
   "cell_type": "code",
   "execution_count": 8,
   "metadata": {},
   "outputs": [
    {
     "ename": "IndentationError",
     "evalue": "unindent does not match any outer indentation level (<string>, line 19)",
     "output_type": "error",
     "traceback": [
      "\u001b[1;36m  File \u001b[1;32m<string>:19\u001b[1;36m\u001b[0m\n\u001b[1;33m    print(\"파일이름:\", photo[p1+1:p2])\u001b[0m\n\u001b[1;37m                                  ^\u001b[0m\n\u001b[1;31mIndentationError\u001b[0m\u001b[1;31m:\u001b[0m unindent does not match any outer indentation level\n"
     ]
    }
   ],
   "source": [
    "# 연구과제\n",
    "#- 파일의 경로에서 정보 추출하기\n",
    "#- C:\\myphoto\\helloworld.jpg\n",
    "  # 사진 위치\n",
    "  photo = \"C:\\\\myphoto\\\\helloworld.jpg\"\n",
    "      # '\\'는 두개씩 써 줘야 함.\n",
    "  # 폴더의 위치\n",
    "  \n",
    "    # 원하는 결과: C:\\myphoto\n",
    "      # 마지막 역슬래시의 위치\n",
    "      p1 = photo.rfind(\"\\\\\")\n",
    "      # 마지막 점의 위치\n",
    "      p2 = photo.rfind(\".\")\n",
    "\n",
    "      print(\"폴더의 위치:\", photo[:p1])\n",
    "  # 파일이름\n",
    " \n",
    "    # 원하는 결과: helloworld\n",
    "    print(\"파일이름:\", photo[p1+1:p2])\n",
    "  # 확장자: jpg\n",
    "  \n",
    "    # 원하는 결과: jpg\n",
    "    print(\"확장자:\", photo[p2+1:])"
   ]
  },
  {
   "cell_type": "markdown",
   "metadata": {},
   "source": []
  }
 ],
 "metadata": {
  "kernelspec": {
   "display_name": "Python 3",
   "language": "python",
   "name": "python3"
  },
  "language_info": {
   "codemirror_mode": {
    "name": "ipython",
    "version": 3
   },
   "file_extension": ".py",
   "mimetype": "text/x-python",
   "name": "python",
   "nbconvert_exporter": "python",
   "pygments_lexer": "ipython3",
   "version": "3.12.0"
  }
 },
 "nbformat": 4,
 "nbformat_minor": 2
}
