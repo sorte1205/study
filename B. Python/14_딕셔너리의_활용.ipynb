{
 "cells": [
  {
   "cell_type": "markdown",
   "metadata": {},
   "source": [
    "# 13 딕셔너리의 활용\n",
    "## 1. 딕셔너리 관련 내장함수\n",
    "### (1) 딕셔너리의 원소 수 카운트\n",
    "- len() 함수\n",
    "    - 모든 형태의 연속성 자료형에 대해 사용 가능"
   ]
  },
  {
   "cell_type": "code",
   "execution_count": null,
   "metadata": {},
   "outputs": [],
   "source": []
  },
  {
   "cell_type": "markdown",
   "metadata": {},
   "source": [
    "### (2) 딕셔너리의 특정 원소 삭제\n",
    "- del() 함수\n"
   ]
  },
  {
   "cell_type": "code",
   "execution_count": null,
   "metadata": {},
   "outputs": [],
   "source": [
    "# .remove()는 안되나?\n",
    "# 최초 원소 한 번만 삭제되는거라 의미가 다른가?\n",
    "# k = [1,2,2,3]\n",
    "# del(k[0]) 이렇게 쓴다.\n",
    "# k.remove(2) 얘는 이렇게 쓴다.\n",
    "### 해보기"
   ]
  },
  {
   "cell_type": "markdown",
   "metadata": {},
   "source": [
    "## 2. 딕셔너리 관련 메서드\n",
    "### (1) 딕셔너리의 값(value) 조회\n",
    "- get() 메서드\n",
    "  - 존재하지 않는 key에 대한 접근의 경우, 에러 대신 반환될 값을 함께 설정할 수 있다.\n",
    "  - print(dic.get(\"key1\", 300))\n",
    "### (2) key 분리하기\n",
    "- keys() -> list()"
   ]
  },
  {
   "cell_type": "code",
   "execution_count": 9,
   "metadata": {},
   "outputs": [
    {
     "name": "stdout",
     "output_type": "stream",
     "text": [
      "dict_keys(['국어', '수학', '영어'])\n",
      "['국어', '수학', '영어']\n"
     ]
    },
    {
     "data": {
      "text/plain": [
       "['국어', '수학', '영어']"
      ]
     },
     "execution_count": 9,
     "metadata": {},
     "output_type": "execute_result"
    }
   ],
   "source": [
    "성적표 = {\"국어\":92, \"수학\": 88, \"영어\": 72}\n",
    "\n",
    "# Key만 모아서 dict_keys라는 객체로 반환\n",
    "dict_keys = 성적표.keys()\n",
    "print(dict_keys)\n",
    "\n",
    "# dict_keys를 list로 변환\n",
    "key_list = list(dict_keys)\n",
    "print(key_list)\n",
    "\n",
    "# 일괄 처리\n",
    "keylist = list(성적표.keys())\n",
    "keylist \n",
    "\n",
    "    # 오류주의\n",
    "    # keylist1 = list(성적표.keys)\n",
    "    # keylist\n"
   ]
  },
  {
   "cell_type": "markdown",
   "metadata": {},
   "source": [
    "### (3) 'value' 분리하기\n",
    "- dict.values() -> list()\n",
    "  "
   ]
  },
  {
   "cell_type": "code",
   "execution_count": 11,
   "metadata": {},
   "outputs": [
    {
     "name": "stdout",
     "output_type": "stream",
     "text": [
      "dict_values([92, 88, 72])\n"
     ]
    },
    {
     "data": {
      "text/plain": [
       "[92, 88, 72]"
      ]
     },
     "execution_count": 11,
     "metadata": {},
     "output_type": "execute_result"
    }
   ],
   "source": [
    "성적표 = {\"국어\": 92, \"수학\": 88, \"영어\": 72}\n",
    "\n",
    "# Value만 모아서 dict_values 객체로 변환\n",
    "dict_values = 성적표.values()\n",
    "print (dict_values)\n",
    "\n",
    "# dict_values를 list로 변환\n",
    "valueList= list(dict_values)\n",
    "valueList\n",
    "\n",
    "# 일괄처리"
   ]
  },
  {
   "cell_type": "markdown",
   "metadata": {},
   "source": [
    "### (4) 'key'와 'value'의 쌍으로 분리하기\n",
    "\n",
    "- items() -> list()\n"
   ]
  },
  {
   "cell_type": "code",
   "execution_count": 13,
   "metadata": {},
   "outputs": [
    {
     "name": "stdout",
     "output_type": "stream",
     "text": [
      "dict_items([('국어', 92), ('수학', 88), ('영어', 72)])\n"
     ]
    },
    {
     "data": {
      "text/plain": [
       "[('국어', 92), ('수학', 88), ('영어', 72)]"
      ]
     },
     "execution_count": 13,
     "metadata": {},
     "output_type": "execute_result"
    }
   ],
   "source": [
    "성적표 = {\"국어\": 92, \"수학\": 88, \"영어\": 72}\n",
    "# key-value를 쌍으로 묶은 튜플들의 모음인 dict_items객체 얻기\n",
    "dict_items = 성적표.items()\n",
    "print(dict_items)\n",
    "\n",
    "# dict_items를 list로 변환\n",
    "lists= list(dict_items)\n",
    "lists\n",
    "# 일괄처리\n",
    "lists = list(성적표.items())\n",
    "lists"
   ]
  },
  {
   "cell_type": "markdown",
   "metadata": {},
   "source": [
    "### (5) 딕셔너리의 확장과 복사\n",
    "- 확장: dict.update()\n",
    "- 복사: dict.copy()\n"
   ]
  },
  {
   "cell_type": "code",
   "execution_count": 17,
   "metadata": {},
   "outputs": [
    {
     "data": {
      "text/plain": [
       "{'국어': 92, '수학': 88, '영어': 72, '물리': 78, '화학': 82}"
      ]
     },
     "execution_count": 17,
     "metadata": {},
     "output_type": "execute_result"
    }
   ],
   "source": [
    "성적표1 = {\"국어\": 92, \"수학\": 88, \"영어\": 72}\n",
    "성적표2 = {\"물리\": 78, \"화학\": 82}\n",
    "\n",
    "# '성적표1'에 '성적표2'를 결합\n",
    "성적표1.update(성적표2)\n",
    "성적표1\n",
    "\n",
    "\n",
    "\n",
    "# 딕셔너리 객체의 복사 \n",
    "# -> 딕셔너리 끼리의 대입도 리스트의 경우와 마찬가지로 얕은 복사가 수행되므로 \n",
    "# -> 깊은 복사를 위해서는 copy() 메서드가 필요함.\n",
    "# copy 후 update 해라! (원본을 보존하고 싶다면!)\n",
    "성적표최종 = 성적표1.copy()\n",
    "성적표최종\n"
   ]
  },
  {
   "cell_type": "markdown",
   "metadata": {},
   "source": [
    "### (6) 딕셔너리의 모든 원소 삭제\n",
    "- dict.clear()"
   ]
  },
  {
   "cell_type": "code",
   "execution_count": 18,
   "metadata": {},
   "outputs": [
    {
     "data": {
      "text/plain": [
       "{}"
      ]
     },
     "execution_count": 18,
     "metadata": {},
     "output_type": "execute_result"
    }
   ],
   "source": [
    "bar = {\"a\": 100, \"b\": 200}\n",
    "\n",
    "# 딕셔너리의 모든 원소 삭제\n",
    "\n",
    "bar.clear()\n",
    "bar"
   ]
  }
 ],
 "metadata": {
  "kernelspec": {
   "display_name": "Python 3",
   "language": "python",
   "name": "python3"
  },
  "language_info": {
   "codemirror_mode": {
    "name": "ipython",
    "version": 3
   },
   "file_extension": ".py",
   "mimetype": "text/x-python",
   "name": "python",
   "nbconvert_exporter": "python",
   "pygments_lexer": "ipython3",
   "version": "3.12.0"
  }
 },
 "nbformat": 4,
 "nbformat_minor": 2
}
