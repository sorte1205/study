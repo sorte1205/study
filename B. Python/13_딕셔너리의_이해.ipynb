{
 "cells": [
  {
   "cell_type": "markdown",
   "metadata": {},
   "source": [
    "# 13 딕셔너리의 이해\n",
    "## 1. 딕셔너리의 이해\n",
    "### (1) 딕셔너리의 기본 형식\n",
    "- 기본 형식\n",
    "  - 중괄호(\"{}\")안에 리스트나 튜플과 같이 콤마(,)로 구별하여 여러 개의 값을 \"이름:값\"의 형태로 나열\n",
    "  - 이름을 key, 값을 value라고 한다.\n",
    "    - key와 value의 쌍으로 구성된 자료구조\n",
    "  - 딕셔너리의 원소에 접근하기\n",
    "    - 변수 이름 뒤에 대괄호를 추가하고, 그 안에 key의 이름을 문자열로 지정\n",
    "    - 변수이름[\"이름\"]\n",
    "    - 직접출력/연산에 활용가능\n",
    "\n",
    "#### ** 연속성 자료형: 인덱스 번호를 갖고 있음.\n",
    "    eg. 튜플, 리스트, 딕셔너리."
   ]
  },
  {
   "cell_type": "code",
   "execution_count": null,
   "metadata": {},
   "outputs": [],
   "source": [
    "# 딕셔너리 정의하기\n",
    "\n",
    "# 특정 원소에 접근하기 -> 직접 출력\n",
    "\n",
    "# 특정 원소에 접근하기 -> 다른 변수에 복사\n",
    "\n",
    "# 특정 원소의 값을 변경"
   ]
  },
  {
   "cell_type": "markdown",
   "metadata": {},
   "source": [
    "### (2) 딕셔너리의 사용 제약\n",
    "\n",
    "- 존재하지 않는 key는 사용할 수 없다.\n"
   ]
  },
  {
   "cell_type": "code",
   "execution_count": 1,
   "metadata": {},
   "outputs": [],
   "source": [
    "# KeyError"
   ]
  },
  {
   "cell_type": "markdown",
   "metadata": {},
   "source": [
    "### (3) 딕셔너리의 확장과 key 중복 제한\n",
    "- 딕셔너리의 확장\n",
    "  - 존재하지 않는 키에 값을 할당하면 확장\n",
    "- Key 중복 제한\n",
    "  - 키가 중복될 경우 나중에 정의된 항목이 이전에 정의된 항목을 덮어 씀"
   ]
  },
  {
   "cell_type": "markdown",
   "metadata": {},
   "source": [
    "## 2. 다양한 형태의 자료구조\n",
    "### (1) 딕셔너리를 활용한 자료구조의 유형\n",
    "- 리스트를 원소로 갖는 딕셔너리 \n",
    "  - 값에 리스트가 올 수 있음\n",
    "- 딕셔너리를 원소로 갖는 리스트\n",
    "  - 리스트의 원소가 딕셔너리\n",
    "\n",
    "- 딕셔너리를 원소로 갖는 딕셔너리\n",
    "- 딕셔너리의 계층화 구조\n",
    "  - 딕셔너리를 원소로 갖는 리스트를 value로 갖는 딕셔너리\n",
    "\n",
    "### (2) 리스트를 원소로 갖는 딕셔너리\n",
    "- 리스트를 포함시키기\n",
    "  - 기본 데이터 타입의 값 대신 리스트 포함 가능\n",
    "  - 하나의 key에 여러개의 value를 지정하는 효과\n",
    "  - 변수이름 = {\"이름\": [값0, 값1, 값2]}\n",
    "- 딕셔너리에 포함된 리스트의 원소에 접근하기\n",
    "  - 변수이름[\"이름\"][인덱스번호]"
   ]
  },
  {
   "cell_type": "code",
   "execution_count": null,
   "metadata": {},
   "outputs": [],
   "source": [
    "# 리스트를 원소로 갖는 딕셔너리\n",
    "student = {\n",
    "    \"name\" = ['철수'. '영희', '민수'],\n",
    "    \"age\" =['16, 17, 19'],\n",
    "    \"height\" = [172.3, 150.3, 190.4]\n",
    "}\n",
    "\n",
    "tpl= "
   ]
  },
  {
   "cell_type": "markdown",
   "metadata": {},
   "source": [
    "### (3) 딕셔너리를 원소로 갖는 리스트\n",
    "- 리스트의 원소가 딕셔너리 형태인 경우\n",
    "- 일괄지정\n",
    "- 원소값에 대한 접근\n",
    "  - print(리스트[0][\"key1\"])\n"
   ]
  },
  {
   "cell_type": "code",
   "execution_count": 3,
   "metadata": {},
   "outputs": [
    {
     "name": "stdout",
     "output_type": "stream",
     "text": [
      "0번째 원소: {'name': '철수', 'kor': 95, 'eng': 88}\n",
      "1번째원소: {'name': '영희', 'kor': 92, 'eng': 90}\n",
      "2번째 원소: {'name': '철민', 'kor': 88, 'eng': 76}\n",
      "철수의 국어점수:95, 영어점수:88\n",
      "영희의 국어점수:92, 영어점수:76\n",
      "철민의 국어점수:88, 영어점수:76\n"
     ]
    }
   ],
   "source": [
    "# 리스트의 원소가 딕셔너리가 되는 경우\n",
    "grade = [\n",
    "    {\"name\": \"철수\", \"kor\": 95, \"eng\": 88},\n",
    "    {\"name\": \"영희\", \"kor\": 92, \"eng\": 90},\n",
    "    {\"name\": \"철민\", \"kor\": 88, \"eng\": 76}\n",
    "]\n",
    "print(\"0번째 원소: %s\" % grade[0])\n",
    "print(\"1번째원소: %s\" % grade[1] )\n",
    "print(\"2번째 원소: %s\" % grade[2])\n",
    "\n",
    "tpl = \"{0}의 국어점수:{1}, 영어점수:{2}\"\n",
    "print(tpl.format(grade[0][\"name\"], grade[0][\"kor\"], grade[0][\"eng\"]))\n",
    "print(tpl.format(grade[1][\"name\"], grade[1][\"kor\"], grade[2][\"eng\"]))\n",
    "print(tpl.format(grade[2][\"name\"], grade[2][\"kor\"], grade[2][\"eng\"]))"
   ]
  },
  {
   "cell_type": "markdown",
   "metadata": {},
   "source": [
    "### (4)딕셔너리를 원소로 갖는 딕셔너리(1)\n",
    "- 또 다른 딕셔너리를 원소로 포함시키기\n",
    "- 딕셔너리를 포함하는 딕셔너리에 대한 일괄 정의\n",
    "- 딕셔너리를 포함하는 경우의 원소 접근\n",
    "- print(딕셔너리4[\"이름1\"][\"key1\"])\n",
    "\n",
    "### (4) 딕셔너리를 원소로 갖는 딕셔너리 (2)\n",
    "- 계층화 구조를 갖는 딕셔너리의 코드 정렬"
   ]
  },
  {
   "cell_type": "code",
   "execution_count": 6,
   "metadata": {},
   "outputs": [
    {
     "ename": "SyntaxError",
     "evalue": "invalid syntax (2170489042.py, line 16)",
     "output_type": "error",
     "traceback": [
      "\u001b[1;36m  Cell \u001b[1;32mIn[6], line 16\u001b[1;36m\u001b[0m\n\u001b[1;33m    \"price\":\u001b[0m\n\u001b[1;37m           ^\u001b[0m\n\u001b[1;31mSyntaxError\u001b[0m\u001b[1;31m:\u001b[0m invalid syntax\n"
     ]
    }
   ],
   "source": [
    "student = {\n",
    "        \"address\": {\n",
    "            \"addr1\": '서울특별시 ...',\n",
    "            \"addr2\": '123-4'\n",
    "        },\n",
    "        \"body\": {\n",
    "            \"height\": 175,\n",
    "            \"weight\": 80\n",
    "        }\n",
    "}\n",
    "    # 줄 번호 오른쪽의 화살표를 클릭하여 코드를 축소/확장할 수 있다/\n",
    "\n",
    "phone = {\n",
    "    \"apple\": {\n",
    "        \"name\": \"iPhone\"\n",
    "        \"price\": \n",
    "    }\n",
    "}"
   ]
  },
  {
   "cell_type": "markdown",
   "metadata": {},
   "source": [
    "### (5) 딕셔너리의 계층화 구조\n",
    "- 목록 구조\n",
    "  - 딕셔너리의 원소로 포함되는 리스트가 각각 개별적인 딕셔너리를 원소로 포함.\n",
    "  - 리스트의 원소로 포함되는 딕셔너리는 모두 같은 구조\n",
    "    - {\"이름\": [{...}, {...}, {...}]}\n",
    "\n"
   ]
  },
  {
   "cell_type": "code",
   "execution_count": null,
   "metadata": {},
   "outputs": [],
   "source": []
  },
  {
   "cell_type": "code",
   "execution_count": null,
   "metadata": {},
   "outputs": [],
   "source": []
  }
 ],
 "metadata": {
  "kernelspec": {
   "display_name": "Python 3",
   "language": "python",
   "name": "python3"
  },
  "language_info": {
   "codemirror_mode": {
    "name": "ipython",
    "version": 3
   },
   "file_extension": ".py",
   "mimetype": "text/x-python",
   "name": "python",
   "nbconvert_exporter": "python",
   "pygments_lexer": "ipython3",
   "version": "3.12.0"
  }
 },
 "nbformat": 4,
 "nbformat_minor": 2
}
