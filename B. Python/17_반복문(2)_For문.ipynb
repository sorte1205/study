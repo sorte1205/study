{
 "cells": [
  {
   "cell_type": "markdown",
   "metadata": {},
   "source": [
    "# 17 반복문(2) - For문\n",
    "## 1. 반복 범위의 설정\n",
    "### (1) For문 기본 구조\n",
    "\n",
    "- For문\n",
    "  - range() 함수를 사용하여 특정 변수의 변화 범위를 설정하고 그 범위에서 반복 수행\n",
    "  - 초기식, 조건식, 증감식을 한 행에서 모두 표현 (while보다 편리)\n",
    "  - for 변수 in range(시작, 종료 [,증가]):\n",
    "  - .. 반복적으로 동작할 구문"
   ]
  },
  {
   "cell_type": "code",
   "execution_count": 4,
   "metadata": {},
   "outputs": [
    {
     "name": "stdout",
     "output_type": "stream",
     "text": [
      "x=1\n",
      "x=2\n",
      "x=3\n",
      "x=4\n",
      "x=5\n",
      "x=6\n",
      "x=7\n",
      "x=8\n",
      "x=9\n",
      "x=10\n",
      "입력값은 5 입니다\n",
      "------------------------------\n",
      "5 x 1 = 5\n",
      "5 x 2 = 10\n",
      "5 x 3 = 15\n",
      "5 x 4 = 20\n",
      "5 x 5 = 25\n",
      "5 x 6 = 30\n",
      "5 x 7 = 35\n",
      "5 x 8 = 40\n",
      "5 x 9 = 45\n",
      "x=1, sum=1\n",
      "x=2, sum=3\n",
      "x=3, sum=6\n",
      "x=4, sum=10\n",
      "x=5, sum=15\n",
      "x=6, sum=21\n",
      "x=7, sum=28\n",
      "x=8, sum=36\n",
      "x=9, sum=45\n",
      "x=10, sum=55\n",
      "a = 0\n",
      "a = 10\n",
      "a = 20\n",
      "a = 30\n",
      "a = 40\n",
      "a = 10\n",
      "a = 8\n",
      "a = 6\n",
      "a = 4\n",
      "a = 2\n"
     ]
    }
   ],
   "source": [
    "# x가 1부터 11전까지 1씩 증가하면서 반복 수행\n",
    "for x in range(1, 11):\n",
    "    # 반복이 진행되는 동안 수행할 명령\n",
    "    print (\"x=%d\" % x)\n",
    "\n",
    "# 구구단 출력\n",
    "x = int(input(\"숫자를 입력하세요.\"))\n",
    "print(\"입력값은 %d 입니다\" %x)\n",
    "print(\"-\"*30)\n",
    "for y in range(1,10):\n",
    "    z = x*y\n",
    "    print(\"%d x %d = %d\" %(x, y, z))\n",
    "\n",
    "\n",
    "# 합계 구하기 \n",
    "sum = 0\n",
    "for x in range(1,11):\n",
    "    sum +=x\n",
    "    print(\"x=%d, sum=%d\" %(x, sum))\n",
    "\n",
    "\n",
    "# 값의 변화 단계 조절\n",
    "\n",
    "for a in range(0, 50, 10):\n",
    "    print(\"a = %d\" % a)\n",
    "\n",
    "for b in range(10, 0, -2):\n",
    "    print(\"a = %d\" %b)\n"
   ]
  },
  {
   "cell_type": "markdown",
   "metadata": {},
   "source": [
    "## 2. 연속성 자료형에 대한 for문\n",
    "### (1) 연속성 데이터 반복 처리\n",
    "- 인덱스 번호를 기반으로 한 for문의 활용\n",
    "- 리스트의 인덱스 번호에 대한 반복 범위 설정\n",
    "  - for i in range(0, len(리스트)):\n",
    "    - print(리스트[i])\n",
    "  \n",
    "- 리스트 자체를 탐색하는 for문\n",
    "  - for i in 리스트:\n",
    "    - print(i) \n",
    "  "
   ]
  },
  {
   "cell_type": "code",
   "execution_count": 11,
   "metadata": {},
   "outputs": [
    {
     "name": "stdout",
     "output_type": "stream",
     "text": [
      "0 번째 원소: 봄\n",
      "1 번째 원소: 여름\n",
      "2 번째 원소: 가을\n",
      "3 번째 원소: 겨울\n",
      "python\n",
      "is\n",
      "good\n",
      "0\n",
      "1\n",
      "3\n",
      "6\n",
      "10\n",
      "총점: 10, 평균: 2\n"
     ]
    }
   ],
   "source": [
    "# 리스트의 인덱스 번호에 대한 반복범위 설정\n",
    "seasons = ['봄', '여름', '가을', '겨울']\n",
    "size = len(seasons)\n",
    "for i in range(0,size):\n",
    "    print (\"%d 번째 원소: %s\" % (i, seasons[i]))\n",
    "    \n",
    "\n",
    "\n",
    "# 리스트 자체를 탐색하는 for문\n",
    "msg = ['python', 'is', 'good']\n",
    "for i in msg:\n",
    "    print(i)\n",
    "\n",
    "# (응용) 총점과 평균 구하기\n",
    "score = [100, 82, 98, 76, 51]\n",
    "\n",
    "# 총점 구하기\n",
    "total = 0\n",
    "for v in range (0, len(score)):\n",
    "    total += v\n",
    "    print(total)\n",
    "avg = total // len(score)\n",
    "tpl = \"총점: {0}, 평균: {1}\"\n",
    "print(tpl.format(total,avg))\n",
    "\n",
    "# 평균 구하기\n"
   ]
  },
  {
   "cell_type": "markdown",
   "metadata": {},
   "source": [
    "### (2) 인덱스 번호와 원소를 모두 탐색하는 반복문\n",
    "- for i, v in enumerate(리스트)\n",
    "  - print(i)\n",
    "  - print(v)\n",
    "- i는 리스트의 인덱스 번호가 순차적으로 저장\n",
    "- v는 리스트의 원소값이 순차적으로 저장\n",
    "  "
   ]
  },
  {
   "cell_type": "code",
   "execution_count": 12,
   "metadata": {},
   "outputs": [
    {
     "name": "stdout",
     "output_type": "stream",
     "text": [
      "0번째 값 >> 서울\n",
      "1번째 값 >> 인천\n",
      "2번째 값 >> 대구\n",
      "3번째 값 >> 대전\n",
      "4번째 값 >> 광주\n",
      "5번째 값 >> 부산\n"
     ]
    }
   ],
   "source": [
    "city = ['서울', '인천', '대구', '대전', '광주', '부산']\n",
    "for i, v in enumerate(city):\n",
    "    print(\"%d번째 값 >> %s\" % (i, v))"
   ]
  },
  {
   "cell_type": "markdown",
   "metadata": {},
   "source": [
    "## 연구과제\n",
    "- 팩토리얼 구하기"
   ]
  },
  {
   "cell_type": "code",
   "execution_count": 20,
   "metadata": {},
   "outputs": [
    {
     "name": "stdout",
     "output_type": "stream",
     "text": [
      "1\n",
      "2\n",
      "6\n",
      "24\n",
      "120\n"
     ]
    }
   ],
   "source": [
    "\n",
    "x = int(input(\"정수를 입력하세요\"))\n",
    "fac = 1\n",
    "\n",
    "for x in range (1, x+1):\n",
    "    fac *= x\n",
    "    print(fac)\n"
   ]
  },
  {
   "cell_type": "code",
   "execution_count": null,
   "metadata": {},
   "outputs": [],
   "source": []
  }
 ],
 "metadata": {
  "kernelspec": {
   "display_name": "Python 3",
   "language": "python",
   "name": "python3"
  },
  "language_info": {
   "codemirror_mode": {
    "name": "ipython",
    "version": 3
   },
   "file_extension": ".py",
   "mimetype": "text/x-python",
   "name": "python",
   "nbconvert_exporter": "python",
   "pygments_lexer": "ipython3",
   "version": "3.12.0"
  }
 },
 "nbformat": 4,
 "nbformat_minor": 2
}
