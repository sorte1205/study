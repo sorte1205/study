{
 "cells": [
  {
   "cell_type": "markdown",
   "metadata": {},
   "source": [
    "# 29 날짜 및 시간 관련기능\n",
    "## 1. 날짜 및 시간 성분 조회\n",
    "### (1) 현재 시각 조회(1)\n",
    "- 시스템의 현재 시각 조회하기\n",
    "  - now(): \n",
    "    - datetime 모듈에 포함된 datetime 객체가 시스템의 현재 시각을 저장하고 있는 개체를 리턴한다.\n",
    "    - 리턴받은 객체에 포함된 프로퍼티를 활용해 시스템 현재 시각의 성분들을 확인할 수 있다.\n",
    "  - weekday(): \n",
    "    - 요일에 해당하는 '인덱스'를 리턴 (나라마다 요일 표시가 다름)\n",
    "\n",
    "- 현재 시각을 저장하고 있는 객체 생성\n",
    "  \n",
    "- 날짜 객체의 성분 추출\n",
    "  - .year\n",
    "  - .month\n",
    "  - .day\n",
    "  - .hour\n",
    "  - .minute\n",
    "  - .second       \n",
    "  - .weekday()    요일 인덱스 조회\n",
    "  \n",
    "- 날짜에 대한 형식 문자열 활용\n",
    "  - 날짜 성분에 대한 형식 문자열 만들기\n",
    "    - strftime()        string/format/time\n",
    "  \n",
    "  - 주요 형식 문자\n",
    "    - %Y, %y\n",
    "    - %m\n",
    "    - %d\n",
    "    - %H, %M, %S\n",
    "\n",
    "- 특정 시각 지정하기 \n",
    "  - 특정 날짜 값을 지정하는 객체의 생성\n",
    "    - datetime 모듈의 datetime() 함수에 전달한 파라미터 값들을 성분으로 갖는 날짜 객체 생성하기\n",
    "      - import datetime as dt\n",
    "      - some_time = dt.datetime( 년,월 ,일 ,시 ,분 ,초)\n",
    "    - 문자열을 분석하여 날짜 성분만 추출한 뒤 날짜 객체로 변환\n",
    "      - str = \"\"\n",
    "      - some_time = dt.datetime.strptime(str, \"%Y년 %m월 %d일 %H시 %M분 %S초\")\n",
    "    - 날짜 객체의 특정 성분 값 변경\n",
    "      - replace()   # 변경할 필요 없는 파라미터는 생략 가능\n",
    "      - what_time = some_time.replace(year=2017, month=1, day=2, hour=7, minute=8, second= 30)\n",
    "\n",
    "\n",
    "- 날짜 및 시간 계산\n",
    "  - 두 날짜 간의 차이 계산하기\n",
    "    - 뺄셈\n",
    "      - 두 날짜 객체간의 뺄셈을 수행하면 두 날짜간의 차이를 알 수 있다.\n",
    "      - 다른 형태의 연산자는 사용할 수 없다.\n",
    "\n",
    "  - 날짜 연산 결과 객체\n",
    "    - 두 날짜간의 차이를 계산하면 timedelta형식의 객체가 생성된다.\n",
    "    - timedelta 형식 객체는 days, seconds 변수만 포함된다.\n",
    "      - 두 날짜의 차이가 몇일+몇초 의 차이라는 의미\n",
    "      - .days()\n",
    "        - 날짜만 추출\n",
    "      - .seconds()\n",
    "        - 날짜를 제외하고, 시간, 분, 초 단위를 모두 초로 합산.\n",
    "  \n",
    "      - .total_seconds()\n",
    "        - 두 날짜, 시간, 분, 초 단위를 초로 환산하여 리턴\n",
    "\n",
    "- 몇일 후의 날짜 계산하기\n",
    "  - 날짜 객체와 연산하기 위한 임의의 timedelta객체 만들기\n",
    "  - 특정 시간에 timedelta객체를 더해 연산 결과를 얻을 수 있음.\n",
    "  - 연산 결과 또한 datetime 형식의 객체가 된다.\n"
   ]
  },
  {
   "cell_type": "code",
   "execution_count": 3,
   "metadata": {},
   "outputs": [
    {
     "name": "stdout",
     "output_type": "stream",
     "text": [
      "2023-11-30 12:18:09.925286\n",
      "오늘은 2023년 11월 30일 입니다.\n",
      "지금은 12시 18분 9초 입니다.\n",
      "3\n",
      "목\n"
     ]
    }
   ],
   "source": [
    "# 현재 시각을 저장하고 있는 객체 생성\n",
    "\n",
    "    # 모듈 참조\n",
    "import datetime as dt\n",
    "\n",
    "    # 현재시각을 갖는 객체 가져오기\n",
    "now_time = dt.datetime.now()\n",
    "print(now_time)\n",
    "\n",
    "# 날짜 객체의 성분 추출\n",
    "\n",
    "    # 년, 월, 일 성분 추출\n",
    "msg = \"오늘은 %d년 %d월 %d일 입니다.\"\n",
    "print(msg % (now_time.year, now_time.month, now_time.day))\n",
    "\n",
    "    # 시, 분, 초 성분 추출\n",
    "msg = \"지금은 %d시 %d분 %d초 입니다.\"\n",
    "print(msg % (now_time.hour, now_time.minute, now_time.second))\n",
    "\n",
    "    # 현재 요일의 인덱스 조회\n",
    "d = now_time.weekday()\n",
    "print(d)\n",
    "\n",
    "    # 조회한 요일 인덱스를 튜플에 적용해 요일 이름 가져오기\n",
    "days = (\"월\", \"화\", \"수\", \"목\", \"금\", \"토\", \"일\")\n",
    "print(days[d])"
   ]
  },
  {
   "cell_type": "code",
   "execution_count": 5,
   "metadata": {},
   "outputs": [
    {
     "name": "stdout",
     "output_type": "stream",
     "text": [
      "23-11-30 12:18:09\n",
      "2023년 11월 30일 12시 18분 09초\n"
     ]
    },
    {
     "ename": "ValueError",
     "evalue": "hour must be in 0..23",
     "output_type": "error",
     "traceback": [
      "\u001b[1;31m---------------------------------------------------------------------------\u001b[0m",
      "\u001b[1;31mValueError\u001b[0m                                Traceback (most recent call last)",
      "\u001b[1;32me:\\산대특\\본과정 1분기\\B. Python\\Day9 29_날짜_및_시간_관련_기능.ipynb 셀 3\u001b[0m line \u001b[0;36m6\n\u001b[0;32m      <a href='vscode-notebook-cell:/e%3A/%EC%82%B0%EB%8C%80%ED%8A%B9/%EB%B3%B8%EA%B3%BC%EC%A0%95%201%EB%B6%84%EA%B8%B0/B.%20Python/Day9%2029_%EB%82%A0%EC%A7%9C_%EB%B0%8F_%EC%8B%9C%EA%B0%84_%EA%B4%80%EB%A0%A8_%EA%B8%B0%EB%8A%A5.ipynb#W4sZmlsZQ%3D%3D?line=2'>3</a>\u001b[0m \u001b[39mprint\u001b[39m (now_time\u001b[39m.\u001b[39mstrftime(\u001b[39m\"\u001b[39m\u001b[39m%\u001b[39m\u001b[39mY년 \u001b[39m\u001b[39m%\u001b[39m\u001b[39mm월 \u001b[39m\u001b[39m%d\u001b[39;00m\u001b[39m일 \u001b[39m\u001b[39m%\u001b[39m\u001b[39mH시 \u001b[39m\u001b[39m%\u001b[39m\u001b[39mM분 \u001b[39m\u001b[39m%\u001b[39m\u001b[39mS초\u001b[39m\u001b[39m\"\u001b[39m))\n\u001b[0;32m      <a href='vscode-notebook-cell:/e%3A/%EC%82%B0%EB%8C%80%ED%8A%B9/%EB%B3%B8%EA%B3%BC%EC%A0%95%201%EB%B6%84%EA%B8%B0/B.%20Python/Day9%2029_%EB%82%A0%EC%A7%9C_%EB%B0%8F_%EC%8B%9C%EA%B0%84_%EA%B4%80%EB%A0%A8_%EA%B8%B0%EB%8A%A5.ipynb#W4sZmlsZQ%3D%3D?line=4'>5</a>\u001b[0m \u001b[39m# 특정 시각 지정하기 \u001b[39;00m\n\u001b[1;32m----> <a href='vscode-notebook-cell:/e%3A/%EC%82%B0%EB%8C%80%ED%8A%B9/%EB%B3%B8%EA%B3%BC%EC%A0%95%201%EB%B6%84%EA%B8%B0/B.%20Python/Day9%2029_%EB%82%A0%EC%A7%9C_%EB%B0%8F_%EC%8B%9C%EA%B0%84_%EA%B4%80%EB%A0%A8_%EA%B8%B0%EB%8A%A5.ipynb#W4sZmlsZQ%3D%3D?line=5'>6</a>\u001b[0m someday \u001b[39m=\u001b[39m dt\u001b[39m.\u001b[39;49mdatetime(\u001b[39m2018\u001b[39;49m, \u001b[39m8\u001b[39;49m, \u001b[39m30\u001b[39;49m, \u001b[39m26\u001b[39;49m, \u001b[39m55\u001b[39;49m)\n\u001b[0;32m      <a href='vscode-notebook-cell:/e%3A/%EC%82%B0%EB%8C%80%ED%8A%B9/%EB%B3%B8%EA%B3%BC%EC%A0%95%201%EB%B6%84%EA%B8%B0/B.%20Python/Day9%2029_%EB%82%A0%EC%A7%9C_%EB%B0%8F_%EC%8B%9C%EA%B0%84_%EA%B4%80%EB%A0%A8_%EA%B8%B0%EB%8A%A5.ipynb#W4sZmlsZQ%3D%3D?line=6'>7</a>\u001b[0m day_str \u001b[39m=\u001b[39m someday\u001b[39m.\u001b[39mstrftime(\u001b[39m\"\u001b[39m\u001b[39m%\u001b[39m\u001b[39my-\u001b[39m\u001b[39m%\u001b[39m\u001b[39mm-\u001b[39m\u001b[39m%d\u001b[39;00m\u001b[39m \u001b[39m\u001b[39m%\u001b[39m\u001b[39mH:\u001b[39m\u001b[39m%\u001b[39m\u001b[39mM:\u001b[39m\u001b[39m%\u001b[39m\u001b[39mS\u001b[39m\u001b[39m\"\u001b[39m)\n\u001b[0;32m      <a href='vscode-notebook-cell:/e%3A/%EC%82%B0%EB%8C%80%ED%8A%B9/%EB%B3%B8%EA%B3%BC%EC%A0%95%201%EB%B6%84%EA%B8%B0/B.%20Python/Day9%2029_%EB%82%A0%EC%A7%9C_%EB%B0%8F_%EC%8B%9C%EA%B0%84_%EA%B4%80%EB%A0%A8_%EA%B8%B0%EB%8A%A5.ipynb#W4sZmlsZQ%3D%3D?line=7'>8</a>\u001b[0m \u001b[39mprint\u001b[39m(day_str)\n",
      "\u001b[1;31mValueError\u001b[0m: hour must be in 0..23"
     ]
    }
   ],
   "source": [
    "# 날짜에 대한 형식 문자열 활용\n",
    "print (now_time.strftime(\"%y-%m-%d %H:%M:%S\"))\n",
    "print (now_time.strftime(\"%Y년 %m월 %d일 %H시 %M분 %S초\"))\n",
    "\n",
    "# 특정 시각 지정하기 \n",
    "someday = dt.datetime(2018, 8, 30, 26, 55)\n",
    "day_str = someday.strftime(\"%y-%m-%d %H:%M:%S\")\n",
    "print(day_str)\n",
    "\n",
    "# 존재하지 않는 시각으로 설정할 경우 에러 발생\n",
    "someday = dt.datetime(2018, 12, 32, 0, 0, 0)\n",
    "day_str = someday.strftime(\"%y-%m-%d %H:%M:%S\")\n",
    "print(day_str)"
   ]
  },
  {
   "cell_type": "code",
   "execution_count": 8,
   "metadata": {},
   "outputs": [
    {
     "name": "stdout",
     "output_type": "stream",
     "text": [
      "17-01-02 14:44:00\n",
      "23-11-30 12:27:57\n",
      "18-11-16 15:27:57\n"
     ]
    }
   ],
   "source": [
    "# 날짜 형식의 문자열을 날짜 객체로 변환\n",
    "date_str = \"2017년 01월 02일 14시 44분\"\n",
    "# 문자열에 대한 날짜 형식 지정 -> 문자열에서 날짜 성분 추출해 객체로 만듦\n",
    "oldday = dt.datetime.strptime(date_str, \"%Y년 %m월 %d일 %H시 %M분\")\n",
    "print(oldday.strftime(\"%y-%m-%d %H:%M:%S\"))\n",
    "\n",
    "#날짜 객체에서 특정 값 변경\n",
    "foo = dt.datetime.now()\n",
    "print(foo.strftime(\"%y-%m-%d %H:%M:%S\"))\n",
    "\n",
    "change_date = foo.replace(year=2018, day=16, hour=15)\n",
    "print(change_date.strftime(\"%y-%m-%d %H:%M:%S\"))"
   ]
  },
  {
   "cell_type": "code",
   "execution_count": 14,
   "metadata": {},
   "outputs": [
    {
     "name": "stdout",
     "output_type": "stream",
     "text": [
      "31 days, 11:23:40.546308\n",
      "31\n",
      "41020\n",
      "올해는 31일 남았습니다.\n",
      "2719420.546308\n"
     ]
    }
   ],
   "source": [
    "# 날짜 및 시간 계산\n",
    "# 두 날짜 간의 차이 계산\n",
    "dt1 = dt.datetime.now()\n",
    "dt2 = dt.datetime(dt1.year+1,1,1,0,0,0)\n",
    "\n",
    "td = dt2-dt1\n",
    "print(td)\n",
    "\n",
    "\n",
    "print(td.days)\n",
    "print(td.seconds)\n",
    "print(\"올해는 %d일 남았습니다.\" % td.days)\n",
    "\n",
    "result = td.total_seconds()\n",
    "print(result)"
   ]
  },
  {
   "cell_type": "code",
   "execution_count": 17,
   "metadata": {},
   "outputs": [
    {
     "name": "stdout",
     "output_type": "stream",
     "text": [
      "2024-03-09 13:43:31\n"
     ]
    }
   ],
   "source": [
    "import datetime as dt\n",
    "td = dt.timedelta(days=100, seconds=60)\n",
    "\n",
    "# timedelta 객체 만들기 (더하거나 뺄 값) --> 100일 + 3600초\n",
    "d = dt.timedelta (days=100, seconds = 3600)\n",
    "\n",
    "# 특정시간 (혹은 현재시각)에 timedelta 객체를 더해 연산결과를 얻을 수 있다.\n",
    "now_time = dt.datetime.now()\n",
    "# 연산 결과는 datetime 객체가 된다.\n",
    "after_time = now_time + d\n",
    "\n",
    "print(after_time.strftime(\"%Y-%m-%d %H:%M:%S\"))"
   ]
  },
  {
   "cell_type": "code",
   "execution_count": null,
   "metadata": {},
   "outputs": [],
   "source": []
  }
 ],
 "metadata": {
  "kernelspec": {
   "display_name": "Python 3",
   "language": "python",
   "name": "python3"
  },
  "language_info": {
   "codemirror_mode": {
    "name": "ipython",
    "version": 3
   },
   "file_extension": ".py",
   "mimetype": "text/x-python",
   "name": "python",
   "nbconvert_exporter": "python",
   "pygments_lexer": "ipython3",
   "version": "3.12.0"
  }
 },
 "nbformat": 4,
 "nbformat_minor": 2
}
