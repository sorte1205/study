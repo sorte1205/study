{
 "cells": [
  {
   "cell_type": "markdown",
   "metadata": {},
   "source": [
    "# 23 파일 입출력\n",
    "## 1. 파일 입출력 객체를 위한 open() 함수\n",
    "### (1) 파일 입출력 객체의 생성\n",
    "- open() 함수를 사용한 파일 객체 생성\n",
    "    - 파일을 저장하거나 읽을 수 있는 기능을 제공하는 파일 객체를 리턴하는 함수\n",
    "  ```\"객체이름 = open(파일경로, 읽기모드, encoding = '인코딩')\n",
    "  ```\n",
    "  - 파일경로\n",
    "    - 상대경로\n",
    "    - 절대경로\n",
    "  \n",
    "  - 읽기모드에서 지정 가능한 값\n",
    "    - r\n",
    "    - w\n",
    "    - a\n",
    "    - rb\n",
    "    - wb\n",
    "    - ab\n",
    "  \n",
    "  - 인코딩에 지정 가능한 값\n",
    "    - euc-kr: 한국어 전용\n",
    "    - utf-8: 다국어 지원\n",
    "### (2) 파일의 경로 지정 방식\n",
    "- 파일경로\n",
    "  - C:\\Users\\사용자\\폴더1\\폴더2\\파일이름 (윈도우의 경우 역슬래시나 슬래시나 다 알아본다)\n",
    "  - /Users/사용자/폴더1 (애플의 경우 슬래시로만 알아본다.)\n",
    "- 절대경로\n",
    "  - full name\n",
    "  - C:\\Users\\사용자\\폴더1\\폴더2\\파일이름\n",
    "- 상대경로\n",
    "  - 현재 작업중인 파일의 위치를 기준으로 탐색하는 방식\n",
    "    - ( ../옆폴더/파일이름 )\n",
    "    - ( ./같은폴더안의 다른파일이름 ) or ( 다른파일이름 )\n",
    "  \n",
    "\n",
    "\n",
    "### (3) 인코딩\n",
    "- 문자나 기호들의 집합을 컴퓨터에서 저장하거나 통신에 사용할 목적으로 부호화하는 방법\n",
    "  - 모스부호\n",
    "    - 가장 원초적인 인코딩 방식\n",
    "    - 알파벳을 신호의 길이로 변환하여 표현한다\n",
    "\n",
    "  - ANSI (아스키코드)\n",
    "    - 미국 정보 교환 표준 부호로서 7bit로 한 글자를 표현\n",
    "\n",
    "  - 확장 ANSI\n",
    "    - 영문만 표현하는 7비트 부호 체계에\n",
    "    - 조합형 글자를 위한 1비트를 추가하여\n",
    "    - 8비트로 한 글자를 표현한다\n",
    "\n",
    "    - 대체로 국가별로 나누어짐. \n",
    "      - euc-kr\n",
    "      - euc-jp\n",
    "      - euc-ch\n",
    "    - 한글 윈도우에서는 euc-kr에서 확장된 cp949방식을 사용한다\n",
    "  \n",
    "  - UTF-8\n",
    "    - 다국어를 한번에 표현 가능한 인코딩 체계\n",
    "    - 언어를 가리지 않고, 한 글자 당 3byte"
   ]
  },
  {
   "cell_type": "markdown",
   "metadata": {},
   "source": []
  },
  {
   "cell_type": "code",
   "execution_count": 1,
   "metadata": {},
   "outputs": [
    {
     "name": "stdout",
     "output_type": "stream",
     "text": [
      "hello Python!!!\n",
      "안녕하세요. 파이썬!!!\n",
      "\n"
     ]
    }
   ],
   "source": [
    "# 파일 쓰기\n",
    "    # 기존의 파일 열기\n",
    "f = open(\"helloworld.txt\", \"w\", encoding='utf-8')\n",
    "    # 같은 폴더 안의 파일, 쓰기모드, utf-8로 연다.\n",
    "\n",
    "    # 파일에 내용 기록\n",
    "f.write(\"hello Python!!!\\n\")\n",
    "f.write(\"안녕하세요. 파이썬!!!\\n\")\n",
    "    # open() 함수를 단독으로 사용할 경우 파일작업 완료 후 닫기를 반드시 수행\n",
    "f.close()\n",
    "\n",
    "# 파일 읽기\n",
    "    # 이전 예제에서 생성한 파일을 읽어들이기 위해 연다\n",
    "    # -> 읽기모드 (r) 지정\n",
    "    # -> 인코딩 방식은 저장 방식과 동일하게 지정 (다르면 에러)\n",
    "f = open(\"helloworld.txt\", \"r\", encoding='utf-8')\n",
    "\n",
    "    # 파일의 모든 내용을 한 번에 문자열로 읽어들임.\n",
    "    # -> 아래와 같이 파일의 모든 내용을 변수에 저장한 것과 동일한 효과\n",
    "    #   data = \"Hello Python!!!\\n안녕하세요. 파이썬!!!\"\n",
    "data = f.read()\n",
    "print(data)\n",
    "    # open()함수 단독 사용시 파일작업 완료 후 닫기를 반드시 수행\n",
    "f.close()\n"
   ]
  },
  {
   "cell_type": "markdown",
   "metadata": {},
   "source": [
    "## 2. with문을 활용한 파일 입출력\n",
    "\n",
    "### (1) 파일 쓰기\n",
    "- f.close()처리는 자동으로 수행한다."
   ]
  },
  {
   "cell_type": "code",
   "execution_count": 3,
   "metadata": {},
   "outputs": [
    {
     "name": "stdout",
     "output_type": "stream",
     "text": [
      "파일 저장이 완료되었습니다.\n"
     ]
    }
   ],
   "source": [
    "with open(\"hellopython.txt\",\"w\", encoding='utf-8') as f:\n",
    "    # with 블록 안에서만 파일 객체 f가 유효\n",
    "    for i in range(0, 10):\n",
    "        f.write(\"%d>>\" % i)\n",
    "        f.write(\"Life is too short, \")\n",
    "        f.write(\"You need python\\n\")\n",
    "    \n",
    "    print(\"파일 저장이 완료되었습니다.\")\n"
   ]
  },
  {
   "cell_type": "markdown",
   "metadata": {},
   "source": [
    "### (2) 파일 읽기\n",
    "- 읽기 모드로 파일 객체 생성하기\n",
    "  - 'w'에서 'r'로 모드가 변경되어야 하므로 파일 객체를 새로 생성해야한다.\n",
    "\n",
    "- 파일의 내용을 한 줄 씩 읽기\n",
    "  - .readlines()"
   ]
  },
  {
   "cell_type": "code",
   "execution_count": 4,
   "metadata": {},
   "outputs": [
    {
     "name": "stdout",
     "output_type": "stream",
     "text": [
      "0>>Life is too short, You need python\n",
      "1>>Life is too short, You need python\n",
      "2>>Life is too short, You need python\n",
      "3>>Life is too short, You need python\n",
      "4>>Life is too short, You need python\n",
      "5>>Life is too short, You need python\n",
      "6>>Life is too short, You need python\n",
      "7>>Life is too short, You need python\n",
      "8>>Life is too short, You need python\n",
      "9>>Life is too short, You need python\n",
      "\n"
     ]
    }
   ],
   "source": [
    "with open(\"hellopython.txt\", \"r\", encoding = 'utf-8') as f:\n",
    "    data = f.read()\n",
    "    print(data)"
   ]
  },
  {
   "cell_type": "code",
   "execution_count": 8,
   "metadata": {},
   "outputs": [
    {
     "name": "stdout",
     "output_type": "stream",
     "text": [
      "['hello Python!!!\\n', '안녕하세요. 파이썬!!!\\n']\n",
      "------------------------------\n",
      "읽어들인 데이터는 총 2줄 입니다.\n",
      "------------------------------\n",
      "hello Python!!!\n",
      "안녕하세요. 파이썬!!!\n",
      "['hello Python!!!\\n', '안녕하세요. 파이썬!!!\\n']\n"
     ]
    }
   ],
   "source": [
    "with open(\"helloworld.txt\", \"r\", encoding= 'utf-8') as f:\n",
    "    lines = f.readlines()\n",
    "    print(lines)\n",
    "    print(\"-\"*30)\n",
    "\n",
    "size = len(lines)\n",
    "print(\"읽어들인 데이터는 총 %d줄 입니다.\" % size)\n",
    "print(\"-\"*30)\n",
    "\n",
    "# 외부 데이터에서 공백제거작업은 필수.\n",
    "for item in lines:\n",
    "    print(item.strip()) # 각 줄에서 \\n을 없앰.\n",
    "                        \n",
    "\n"
   ]
  },
  {
   "cell_type": "code",
   "execution_count": null,
   "metadata": {},
   "outputs": [],
   "source": []
  }
 ],
 "metadata": {
  "kernelspec": {
   "display_name": "Python 3",
   "language": "python",
   "name": "python3"
  },
  "language_info": {
   "codemirror_mode": {
    "name": "ipython",
    "version": 3
   },
   "file_extension": ".py",
   "mimetype": "text/x-python",
   "name": "python",
   "nbconvert_exporter": "python",
   "pygments_lexer": "ipython3",
   "version": "3.12.0"
  }
 },
 "nbformat": 4,
 "nbformat_minor": 2
}
