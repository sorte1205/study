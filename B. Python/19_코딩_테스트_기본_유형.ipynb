{
 "cells": [
  {
   "cell_type": "markdown",
   "metadata": {},
   "source": [
    "# 19 코딩테스트 기본 유형\n",
    "    - 구름 IDE? 코딩 테스트?\n",
    "\n",
    "## 1. 반복 범위의 동적 설정\n",
    "### (1) 자료구조와 알고리즘\n",
    "- 자료구조\n",
    "  - 효율적인 접근 및 수정을 가능케 하는 자료(변수)의 조직 (ex. list, dict), 관리(ex. 입려그 수정, 삭제), 저장(ex. DBMS)을 의미\n",
    "  - 데이터 값의 모임, 또 데이터 간의 관계, 그리고 데이터에 적용할 수 있는 함수나 명령\n",
    "- 알고리즘 ('수학공식')\n",
    "  - 문제를 해결하기 위해 정해진 일련의 절차 (ex. 내장함수)\n",
    "  - 프로그램을 작성하는 기초가 되는 것\n",
    "    - 컴퓨터를 동작시키기 위해서는\n",
    "      - 어떻게 입력하고 (input) \n",
    "      - 입력된 정보를 어떻게 처리하며, (ex. ml, 회귀, 로지스틱, dtree...)\n",
    "      - 어떻게 출력하는가 (output-> 결과의 의미)\n",
    "    - 등을 프로르램으로 완전히 기술해야 함\n",
    "  \n",
    "### (2) 반복 범위의 동적 설정 - 별 찍기 문제\n",
    "- 중첩된 반복문에서 자식 반복문의 수행범위를 동적(계산)으로 설정\n",
    "  - 반복문이 2중으로 중첩된 경우\n",
    "    - 바깥이 행, 안쪽인 열을 담당\n",
    "  - 일반적 반복문 구성\n",
    "    - for i in range (0,5):\n",
    "      - for j in range (0,3):\n",
    "\n",
    "  - i가 증가함에 따라 j의 반복범위가 1씩 늘어나는 반복문\n",
    "    - for i in range(0,5):\n",
    "      - for j in range (0, i+1):\n",
    "  "
   ]
  },
  {
   "cell_type": "code",
   "execution_count": 5,
   "metadata": {},
   "outputs": [
    {
     "name": "stdout",
     "output_type": "stream",
     "text": [
      "*\n",
      "**\n",
      "***\n",
      "****\n",
      "*****\n",
      "*****\n",
      "****\n",
      "***\n",
      "**\n",
      "*\n"
     ]
    }
   ],
   "source": [
    "# 별찍기 문제\n",
    "\n",
    "for i in range(0,5): # 행을 담당하는 반복문\n",
    "    star =\"\"         # 매 행마다 출력할 내용 초기화\n",
    "\n",
    "    for j in range(i+1):\n",
    "        star += \"*\"\n",
    "    print(star)     # 여기서 print는 바깥에 소속. (indent)\n",
    "\n",
    "# 별 반대로 찍기\n",
    "for i in range(0, 5):\n",
    "    star1=\"\"\n",
    "\n",
    "    for j in range(0, 5-i):\n",
    "    # for j in range(0, i, -1):\n",
    "        star1 +=\"*\"\n",
    "    print(star1)"
   ]
  },
  {
   "cell_type": "markdown",
   "metadata": {},
   "source": [
    "## 2. 리스트의 탐색\n",
    "### (1) 1차원 리스트 탐색 패턴\n",
    "- 리스트의 원소에 대한 총 합계와 평균 구하기\n"
   ]
  },
  {
   "cell_type": "code",
   "execution_count": 6,
   "metadata": {},
   "outputs": [
    {
     "name": "stdout",
     "output_type": "stream",
     "text": [
      "총합 = 403, 평균 = 80\n"
     ]
    }
   ],
   "source": [
    "point = [72, 88, 95, 63, 85]\n",
    "# 합계 저장할 변수 초기화\n",
    "total = 0 \n",
    "# for문: 리스트 모든 원소 직접탐색 가능\n",
    "for p in point:\n",
    "    total += p\n",
    "# 평균구하기\n",
    "average = total / len(point)\n",
    "# sum(point) / len(point)로 간단히 할 수 있다.\n",
    "\n",
    "print(\"총합 = %d, 평균 = %d\" % (total, average))\n"
   ]
  },
  {
   "cell_type": "markdown",
   "metadata": {},
   "source": [
    "### (2) 2차원 리스트 탐색 패턴 (1)- step 1\n",
    "- 2차원 리스트의 원소 출력하기\n",
    "  - 2차원 리스트는 각 원소가 각각 개별적인 리스트인 경우이므로 2차원 리스트의 특정 원소를 출력하면 원소로 포함되어 있는 개별 리스트를 얻을 수 있다.\n",
    "  \n",
    "### (3) 2차원 리스트 탐색 패턴 (1)- step 2\n",
    "- 2차원 리스트의 각 원소에 대한 반복문 구성"
   ]
  },
  {
   "cell_type": "code",
   "execution_count": 11,
   "metadata": {},
   "outputs": [
    {
     "name": "stdout",
     "output_type": "stream",
     "text": [
      "size = 2\n",
      "0번째 데이터 -> [88, 72, 83, 90]\n",
      "1번째 데이터 -> [63, 77, 72, 80]\n",
      "1 번째 데이터: 총합 = 292, 평균 = 73\n"
     ]
    }
   ],
   "source": [
    "# (1) 2차원 리스트 탐색패턴 1\n",
    "# 2차원 리스트의 원소 출력\n",
    "mydata = [[88, 72, 83, 90], [63, 77, 72, 80]]\n",
    "\n",
    "size = len(mydata)\n",
    "print(\"size = %d\" % size)\n",
    "\n",
    "for i in range(0, size):\n",
    "    print(\"%d번째 데이터 -> %s\" %(i, mydata[i]))\n",
    "\n",
    "# 2차원 리스트의 각 원소에 대한 반복문 구성\n",
    "total = 0\n",
    "size2 = len(mydata[i])\n",
    "\n",
    "for j in range(0,size2):\n",
    "    total += mydata[i][j]\n",
    "\n",
    "average = total / size2\n",
    "\n",
    "print(\"%d 번째 데이터: 총합 = %d, 평균 = %d\" % (i, total, average))"
   ]
  },
  {
   "cell_type": "markdown",
   "metadata": {},
   "source": [
    "### (2) 2차원 리스트 탐색패턴 2\n"
   ]
  },
  {
   "cell_type": "code",
   "execution_count": 13,
   "metadata": {},
   "outputs": [
    {
     "name": "stdout",
     "output_type": "stream",
     "text": [
      "이번에 출력되는 데이터 -> [88, 72, 83, 90]\n",
      "이번에 출력되는 데이터 -> [63, 77, 72, 80]\n",
      "[63, 77, 72, 80]에 대한 총합 = 292, 평균 = 73\n"
     ]
    }
   ],
   "source": [
    "# step 1\n",
    "mydata = [[88, 72, 83, 90], [63, 77, 72, 80]]\n",
    "# 행의 수 만큼 반복되며, 몇 번째 항목인지는 알 수 없다.\n",
    "for row in mydata:\n",
    "    print (\"이번에 출력되는 데이터 -> %s\" % (row))\n",
    "\n",
    "# step 2\n",
    "total = 0\n",
    "for col in row:\n",
    "    total += col\n",
    "\n",
    "average = total / len(row)\n",
    "\n",
    "print(\"%s에 대한 총합 = %d, 평균 = %d\" % (row, total, average))\n",
    "\n",
    "\n",
    "# step 2"
   ]
  },
  {
   "cell_type": "markdown",
   "metadata": {},
   "source": [
    "## 3. 리스트의 정렬 \n",
    "### (1) 리스트의 역순 배치\n",
    "- 반복 회차와 교환할 반대편 원소의 인덱스 번호 구하기\n"
   ]
  },
  {
   "cell_type": "code",
   "execution_count": null,
   "metadata": {},
   "outputs": [],
   "source": [
    "mylist = [5,3,7,1,9]\n",
    "print(mylist)\n",
    "\n",
    "# 리스트의 길이 --> 5\n",
    "size = len(mylist)\n",
    "\n",
    "# 리스트와 길이를 2로 나눈 정수 부분의 몫 --> 2\n",
    "half = size //2\n",
    "# 리스트의 길이가 홀수인 경우 가운데 원소는 위치 변경이 필요 없으므로\n",
    "for i in mylist(0, half):\n",
    "    p = size - i - 1\n",
    "    mylist[i], mylist[p] = mylist[p], mylist[i]\n",
    "\n",
    "print(mylist)\n"
   ]
  },
  {
   "cell_type": "markdown",
   "metadata": {},
   "source": [
    "### (2) 리스트의 순차정렬 (버블정렬? 퀵정렬?)\n",
    "- 원본 리스트가 [2,4,1,3]인 경우\n",
    "  - 반복문의 중첩으로 구현한다."
   ]
  },
  {
   "cell_type": "code",
   "execution_count": 7,
   "metadata": {},
   "outputs": [
    {
     "name": "stdout",
     "output_type": "stream",
     "text": [
      "[5, 3, 7, 1, 9]\n",
      "[1, 3, 5, 7, 9]\n"
     ]
    }
   ],
   "source": [
    "# 순차정렬\n",
    "mylist = [5, 3, 7, 1, 9]\n",
    "print(mylist)\n",
    "\n",
    "# 리스트의 길이\n",
    "size = len(mylist)\n",
    "# 처음부터 뒤에서 두 번째것 까지만 반복\n",
    "for i in range (0, size-1):\n",
    "# i번째 다음부터 끝까지 반복\n",
    "    for j in range(i+1, size):\n",
    "# i번째가 j번째보다 값이 크다면\n",
    "        if mylist[i] > mylist[j]:\n",
    "# 두 원소를 맞바꿈\n",
    "            mylist[i], mylist[j] = mylist[j], mylist[i]\n",
    "\n",
    "# 결과 출력\n",
    "print(mylist)"
   ]
  },
  {
   "cell_type": "code",
   "execution_count": 17,
   "metadata": {},
   "outputs": [
    {
     "name": "stdout",
     "output_type": "stream",
     "text": [
      "[5, 3, 7, 1, 9]\n",
      "[9, 7, 5, 3, 1]\n"
     ]
    }
   ],
   "source": [
    "# 역순정렬\n",
    "mylist = [5, 3, 7, 1, 9]\n",
    "print(mylist)\n",
    "\n",
    "# 리스트의 길이\n",
    "size = len(mylist)\n",
    "# 처음부터 뒤에서 두 번째것 까지만 반복\n",
    "for i in range (0, size-1):\n",
    "# i번째 다음부터 끝까지 반복\n",
    "    for j in range(i+1, size):\n",
    "# i번째가 j번째보다 값이 작다면\n",
    "        if mylist[i] < mylist[j]:\n",
    "# 두 원소를 맞바꿈\n",
    "            mylist[i], mylist[j] = mylist[j], mylist[i]\n",
    "\n",
    "# 결과 출력\n",
    "print(mylist)"
   ]
  },
  {
   "cell_type": "markdown",
   "metadata": {},
   "source": [
    "## 연구과제(1)\n",
    "- 일주일간의 시급 구하기\n",
    "- weekdays = 9500 * work[i] i in range (0,5)\n",
    "- weekends = 13000 * work[i] i in range (5,7)\n",
    "- work = [4, 3, 3, 4, 5, 7, 6]\n",
    "  \n"
   ]
  },
  {
   "cell_type": "code",
   "execution_count": 16,
   "metadata": {},
   "outputs": [
    {
     "name": "stdout",
     "output_type": "stream",
     "text": [
      "349500\n"
     ]
    }
   ],
   "source": [
    "work = [4, 3, 3, 4, 5, 7, 6]\n",
    "\n",
    "weekdays = 0\n",
    "for i in range(0,5):\n",
    "    weekdays += 9500*work[i]\n",
    "\n",
    "weekends = 0\n",
    "for j in range(5,7):\n",
    "    weekends += 13000*work[j]\n",
    "\n",
    "total = weekdays + weekends\n",
    "print(total)"
   ]
  },
  {
   "cell_type": "code",
   "execution_count": null,
   "metadata": {},
   "outputs": [],
   "source": [
    "## 연구과제 (1) 풀이\n",
    "workTime = [4, 3, 3, 4, 5, 7, 6]\n",
    "\n",
    "money = 0\n",
    "for i in range(0,len(workTime)):\n",
    "    if i <5:\n",
    "        money += workTime[i] * 9500\n",
    "    else:\n",
    "        money += workTime[i] * 13000\n",
    "\n",
    "money\n",
    "\n",
    "## 연구과제 (1) 풀이 (2)    **이게 더 효율적!\n",
    "workTime = [4, 3, 3, 4, 5, 7, 6]\n",
    "money = 0\n",
    "for i in range(0, len(workTime)):\n",
    "    if i < 5:\n",
    "        x = 9500\n",
    "    else: \n",
    "        x = 13000\n",
    "\n",
    "    money += workTime[i]*x\n"
   ]
  },
  {
   "cell_type": "markdown",
   "metadata": {},
   "source": [
    "## 연구과제 (2)\n",
    "- 아이템 판매 금액 구하기\n",
    "- inventory[\n",
    "- {\"수량\": 291, \"단가\":500},          \n",
    "- {\"수량\": 586, \"단가\":320}, \n",
    "- {\"수량\": 460, \"단가\":100}, \n",
    "- {\"수량\": 558, \"단가\":120},\n",
    "- {\"수량\": 18, \"단가\":92},\n",
    "- {\"수량\": 72, \"단가\":30},]\n",
    "- total = 0\n",
    "- p = inventory [i][\"수량\"] * inventory [i][\"단가\"]* 0.9\n",
    "- for i in range (0, i)\n",
    "- total += p\n",
    "- print (total)\n",
    "  "
   ]
  },
  {
   "cell_type": "code",
   "execution_count": 40,
   "metadata": {},
   "outputs": [
    {
     "name": "stdout",
     "output_type": "stream",
     "text": [
      "404816.4\n"
     ]
    }
   ],
   "source": [
    "\n",
    "inventory=[\n",
    "{\"수량\": 291, \"단가\":500},          \n",
    "{\"수량\": 586, \"단가\":320}, \n",
    "{\"수량\": 460, \"단가\":100}, \n",
    "{\"수량\": 558, \"단가\":120},\n",
    "{\"수량\": 18, \"단가\":92},\n",
    "{\"수량\": 72, \"단가\":30}]\n",
    "total = 0\n",
    "for i in range (0, 6):\n",
    "    p = inventory[i][\"수량\"] * inventory[i][\"단가\"]* 0.9\n",
    "    total += p\n",
    "print (total)"
   ]
  },
  {
   "cell_type": "code",
   "execution_count": 38,
   "metadata": {},
   "outputs": [
    {
     "data": {
      "text/plain": [
       "404816.4"
      ]
     },
     "execution_count": 38,
     "metadata": {},
     "output_type": "execute_result"
    }
   ],
   "source": [
    "## 연구과제 (2) 문제풀이\n",
    "\n",
    "inventory=[\n",
    "{\"수량\": 291, \"단가\":500},          \n",
    "{\"수량\": 586, \"단가\":320}, \n",
    "{\"수량\": 460, \"단가\":100}, \n",
    "{\"수량\": 558, \"단가\":120},\n",
    "{\"수량\": 18, \"단가\":92},\n",
    "{\"수량\": 72, \"단가\":30}]\n",
    "\n",
    "total = 0 \n",
    "for item in inventory:\n",
    "    total += item[\"수량\"]*item[\"단가\"]*0.9\n",
    "total "
   ]
  }
 ],
 "metadata": {
  "kernelspec": {
   "display_name": "Python 3",
   "language": "python",
   "name": "python3"
  },
  "language_info": {
   "codemirror_mode": {
    "name": "ipython",
    "version": 3
   },
   "file_extension": ".py",
   "mimetype": "text/x-python",
   "name": "python",
   "nbconvert_exporter": "python",
   "pygments_lexer": "ipython3",
   "version": "3.12.0"
  }
 },
 "nbformat": 4,
 "nbformat_minor": 2
}
