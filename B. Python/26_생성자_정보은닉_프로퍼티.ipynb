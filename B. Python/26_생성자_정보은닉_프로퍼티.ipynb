{
 "cells": [
  {
   "cell_type": "markdown",
   "metadata": {},
   "source": [
    "# 26 생성자, 정보은닉, 프로퍼티\n",
    "## 1. 생성자의 이해\n",
    "### (1) 생성자\n",
    "- 객체 생성될 때 자동으로 실행되는 특수한 형태의 메서드\n",
    "  - __init__: 생성자 이름\n",
    "  - 값을 리턴하지 않는다.\n",
    "  - 객체 생성시 해당 객체의 특성을 초기화 하기 위해 사용 \n",
    "    - 클래스 블록에서 멤버변수 초기화.\n",
    "\n",
    "### (2) 생성자 파라미터\n",
    "- 생성자도 메서드의 종류이므로 파라미터를 정의하는 것이 가능\n",
    "  - 생성자의 파라미터를 멤버변수에 복사하는 것으로 객체의 초기화를 외부적인 요인에 의해 처리 가능\n",
    "  - 생성자에 파라미터가 정의된 경우 객체 생성 구문에서 해당 파라미터를 전달해야 함"
   ]
  },
  {
   "cell_type": "code",
   "execution_count": 22,
   "metadata": {},
   "outputs": [
    {
     "name": "stdout",
     "output_type": "stream",
     "text": [
      "-----생성자가 실행되었습니다. -----\n",
      "안녕하세요, 저는 야옹이이고, 이메일은 yaong@gmail.com입니다.\n"
     ]
    }
   ],
   "source": [
    "# 생성자를 갖는 클래스 정의\n",
    "class UserAccount:\n",
    "    # 멤버변수의 정의\n",
    "    username = None\n",
    "    email = None\n",
    "\n",
    "    # 생성자를 통한 멤버변수 초기화\n",
    "    def __init__(self):\n",
    "        print(\"-----생성자가 실행되었습니다. -----\")\n",
    "        self.username = \"야옹이\"\n",
    "        self.email = \"yaong@gmail.com\"\n",
    "\n",
    "    def say_hello(self):\n",
    "        tpl = \"안녕하세요, 저는 {0}이고, 이메일은 {1}입니다.\"\n",
    "        print(tpl.format(self.username, self.email))\n",
    "    \n",
    "# 객체를 생성과 동시에 생성자가 자동으로 실행됨을 알 수 있다.\n",
    "us = UserAccount()\n",
    "\n",
    "# 메서드를 호출하면 생성자에 의해 멤버변수에 할당된 값이 출력된다.\n",
    "us.say_hello()\n",
    "\n",
    "# 생성자 파라미터 값을 멤버변수에 복사해 객체 초기화\n",
    "class Foo:\n",
    "    name = None  #얘는 뭐지?\n",
    "    age = None\n",
    "\n",
    "    def __init__ (self, name, age):\n",
    "        self.name = name;\n",
    "        self.age = age;\n",
    "\n",
    "# 생성자에 파라미터가 정의된 경우 객체 생성 구문에서 해당 파라미터를 전달해야 한다\n",
    "obj = Foo(\"이광호\", 20)\n",
    "\n",
    "# 생성자의 의의\n",
    "\n",
    "# 코드의 축약\n",
    "# 이전코드\n",
    "        # 클래스 정의\n",
    "\n",
    "class Koo:\n",
    "    name = None\n",
    "    age = None\n",
    "        # 객체 생성, 멤버변수 초기화\n",
    "f1 = Koo ()\n",
    "f1.name = \"철수\"\n",
    "f1.age = 20\n",
    "\n",
    "f2 = Koo()\n",
    "f1.name = \"민수\"\n",
    "f2.age = 18 \n",
    "\n",
    "# 생성자가 들어간 코드\n",
    "\n",
    "class Koo:\n",
    "    name = None\n",
    "    age = None\n",
    "\n",
    "    def __init__ (self, name, age):\n",
    "        self.name = name\n",
    "        self.name = age\n",
    "    \n",
    "f1 = Koo (\"철수\", 20)\n",
    "f2 = Koo (\"민수\", 18)\n",
    "\n",
    "\n"
   ]
  },
  {
   "cell_type": "code",
   "execution_count": 23,
   "metadata": {},
   "outputs": [
    {
     "name": "stdout",
     "output_type": "stream",
     "text": [
      "-----생성자가 실행되었습니다----\n",
      "이름: 야옹이 / 이메일: yaong@gmail.com\n"
     ]
    }
   ],
   "source": [
    "# 파라미터를 갖는 생성자 정의\n",
    "class UserInfo:\n",
    "    username = None\n",
    "    email = None\n",
    "\n",
    "    def __init__ (self, username,email):\n",
    "        print(\"-----생성자가 실행되었습니다----\")\n",
    "        self.username = username\n",
    "        self.email = email\n",
    "    def view_info(self):\n",
    "        tpl = \"이름: {0} / 이메일: {1}\"\n",
    "        print(tpl.format(self.username, self.email))\n",
    "\n",
    "# 생성자가 파라미터를 갖는 클래스에 대한 객체를 생성\n",
    "uinfo = UserInfo(\"야옹이\", \"yaong@gmail.com\")\n",
    "uinfo.view_info()\n"
   ]
  },
  {
   "cell_type": "code",
   "execution_count": 36,
   "metadata": {},
   "outputs": [
    {
     "name": "stdout",
     "output_type": "stream",
     "text": [
      "[질럿1호]체력: 100, 공격력: 10\n",
      "[질럿2호]체력: 100, 공격력: 12\n",
      "[드라군1호]체력: 120, 공격력: 20\n",
      "[드라군2호]체력: 150, 공격력: 35\n",
      "질럿1호(이)가 적 본진까지 이동합니다.\n",
      "질럿2호(이)가 적 본진까지 이동합니다.\n",
      "질럿1호(이)가 적 본진(을)를 공격합니다. 데미지: 10\n",
      "질럿2호(이)가 적 본진(을)를 공격합니다. 데미지: 12\n",
      "질럿2호(이)가 적 멀티까지 이동합니다.\n",
      "드라군2호(이)가 적 멀티까지 이동합니다.\n",
      "질럿2호(이)가 적 멀티(을)를 공격합니다. 데미지: 12\n",
      "드라군2호(이)가 적 멀티(을)를 공격합니다. 데미지: 35\n"
     ]
    }
   ],
   "source": [
    "# 응용) 멤버변수, 생성자, 메서드를 포함하는 클래스\n",
    "\n",
    "class Unit:\n",
    "    name = None\n",
    "    hp = None\n",
    "    dps = None\n",
    "\n",
    "    # 객체의 특성을 초기화 하기 위한 생성자 정의\n",
    "    def __init__(self, name, hp, dps):\n",
    "        self.name = name\n",
    "        self.hp = hp\n",
    "        self.dps = dps\n",
    "        print (\"[%s]체력: %d, 공격력: %d\" % (name, hp, dps))\n",
    "    \n",
    "    # 객체가 수행해야 하는 동작들을 함수 형태로 정의\n",
    "    def move(self, position):\n",
    "        print(\"%s(이)가 %s까지 이동합니다.\" % (self.name, position))\n",
    "    \n",
    "    def attack(self, target):\n",
    "        print(\"%s(이)가 %s(을)를 공격합니다. 데미지: %d\" % (self.name, target, self.dps))\n",
    "    \n",
    "# 객체를 생성하면서 생성자를 통해 각 개체의 특성을 정의한다.\n",
    "u1 = Unit(\"질럿1호\", 100, 10)\n",
    "u2 = Unit(\"질럿2호\", 100, 12)\n",
    "u3 = Unit(\"드라군1호\", 120, 20)\n",
    "u4 = Unit(\"드라군2호\", 150, 35)\n",
    "\n",
    "u1.move(\"적 본진\")\n",
    "u2.move(\"적 본진\")\n",
    "u1.attack(\"적 본진\")\n",
    "u2.attack(\"적 본진\")\n",
    "\n",
    "u2.move(\"적 멀티\")\n",
    "u4.move(\"적 멀티\")\n",
    "u2.attack(\"적 멀티\")\n",
    "u4.attack(\"적 멀티\")"
   ]
  },
  {
   "cell_type": "markdown",
   "metadata": {},
   "source": [
    "## 2. 정보은닉\n",
    "### (1) 캡슐화\n",
    "- 캡슐화의 정의\n",
    "  - 객체지향 언어적 요소를 활용해 객체에 대한 구체적인 정보를 노출시키지 않도록 하는 기법\n",
    "- 캡슐화를 적용하는 이유\n",
    "  - 객체에 잘못된 데이터가 저장되는 것을 방지하기 위함\n",
    "    - 변수에 직접 대입하는 것을 차단.\n",
    "  \n",
    "### (2) 고전적인 캡슐화 방법\n",
    "- 메서드의 파라미터를 활용한 입력 값 검사 적용\n",
    "  - 파라미터를 멤버변수에 복사하기 전에 메서드 안에서 파라미터의 적절성을 검사\n",
    "  - 하지만 멤버변수를 직접 접근하면 여전히 잘못된 값에 노출됨.\n",
    "\n",
    "### (3) 접근 한정자를 사용한 정보은닉\n",
    "- 멤버변수나 메서드를 노출하지 않는 기법\n",
    "  - 멤버변수나 메서드의 이름 앞에 \"_\" 혹은 \"__\"를 적용하면 객체를 통한 접근이 제한됨.\n",
    "    -  _변수명,_메서드명     : protected\n",
    "       -  같은 패키지 내에서만 객체를 통한 접근 가능.\n",
    "    -  __변수명,__메서드명   : private\n",
    "       -  객체를 통한 접근 불가. \n",
    "       -  자손 클래스에게도 상속하지 않음\n",
    "\n",
    "\n",
    "### (4) 은닉된 멤버변수에 접근하기 위한 메서드\n",
    "- getter, setter\n",
    "  - 작성 규칙\n",
    "  - ex. 멤버변수 이름이 \"__name\"인 경우\n",
    "    - 카멜표기법으로 get/set 뒤에 대문자로.\n",
    "    - getName / setName\n",
    "\n",
    "### (5) getter, setter 구현\n",
    "- getter\n",
    "  - 파라미터를 받지 않음.\n",
    "- setter\n",
    "  - 파라미터를 받음\n",
    "  - 파라미터에 조건을 줌 (파라미터의 적절성 검사)"
   ]
  },
  {
   "cell_type": "code",
   "execution_count": 41,
   "metadata": {},
   "outputs": [
    {
     "name": "stdout",
     "output_type": "stream",
     "text": [
      "국어점수: 1000, 영어점수: -3\n",
      "점수는 100점 입니다.\n",
      "점수는 0점 입니다.\n",
      "점수는 12345점 입니다.\n",
      "public = 100\n"
     ]
    },
    {
     "ename": "TypeError",
     "evalue": "%d format: a real number is required, not NoneType",
     "output_type": "error",
     "traceback": [
      "\u001b[1;31m---------------------------------------------------------------------------\u001b[0m",
      "\u001b[1;31mTypeError\u001b[0m                                 Traceback (most recent call last)",
      "\u001b[1;32me:\\산대특\\본과정 1분기\\B. Python\\Day8 26_생성자_정보은닉_프로퍼티.ipynb 셀 6\u001b[0m line \u001b[0;36m5\n\u001b[0;32m     <a href='vscode-notebook-cell:/e%3A/%EC%82%B0%EB%8C%80%ED%8A%B9/%EB%B3%B8%EA%B3%BC%EC%A0%95%201%EB%B6%84%EA%B8%B0/B.%20Python/Day8%2026_%EC%83%9D%EC%84%B1%EC%9E%90_%EC%A0%95%EB%B3%B4%EC%9D%80%EB%8B%89_%ED%94%84%EB%A1%9C%ED%8D%BC%ED%8B%B0.ipynb#X11sZmlsZQ%3D%3D?line=49'>50</a>\u001b[0m h \u001b[39m=\u001b[39m Hello()\n\u001b[0;32m     <a href='vscode-notebook-cell:/e%3A/%EC%82%B0%EB%8C%80%ED%8A%B9/%EB%B3%B8%EA%B3%BC%EC%A0%95%201%EB%B6%84%EA%B8%B0/B.%20Python/Day8%2026_%EC%83%9D%EC%84%B1%EC%9E%90_%EC%A0%95%EB%B3%B4%EC%9D%80%EB%8B%89_%ED%94%84%EB%A1%9C%ED%8D%BC%ED%8B%B0.ipynb#X11sZmlsZQ%3D%3D?line=50'>51</a>\u001b[0m \u001b[39mprint\u001b[39m (\u001b[39m\"\u001b[39m\u001b[39mpublic = \u001b[39m\u001b[39m%d\u001b[39;00m\u001b[39m\"\u001b[39m \u001b[39m%\u001b[39m h\u001b[39m.\u001b[39ma)\n\u001b[1;32m---> <a href='vscode-notebook-cell:/e%3A/%EC%82%B0%EB%8C%80%ED%8A%B9/%EB%B3%B8%EA%B3%BC%EC%A0%95%201%EB%B6%84%EA%B8%B0/B.%20Python/Day8%2026_%EC%83%9D%EC%84%B1%EC%9E%90_%EC%A0%95%EB%B3%B4%EC%9D%80%EB%8B%89_%ED%94%84%EB%A1%9C%ED%8D%BC%ED%8B%B0.ipynb#X11sZmlsZQ%3D%3D?line=51'>52</a>\u001b[0m \u001b[39mprint\u001b[39m (\u001b[39m\"\u001b[39;49m\u001b[39mprotected = \u001b[39;49m\u001b[39m%d\u001b[39;49;00m\u001b[39m\"\u001b[39;49m \u001b[39m%\u001b[39;49m h\u001b[39m.\u001b[39;49m_b) \u001b[39m# 멤버변수가 없다고 함\u001b[39;00m\n\u001b[0;32m     <a href='vscode-notebook-cell:/e%3A/%EC%82%B0%EB%8C%80%ED%8A%B9/%EB%B3%B8%EA%B3%BC%EC%A0%95%201%EB%B6%84%EA%B8%B0/B.%20Python/Day8%2026_%EC%83%9D%EC%84%B1%EC%9E%90_%EC%A0%95%EB%B3%B4%EC%9D%80%EB%8B%89_%ED%94%84%EB%A1%9C%ED%8D%BC%ED%8B%B0.ipynb#X11sZmlsZQ%3D%3D?line=52'>53</a>\u001b[0m \u001b[39mprint\u001b[39m (\u001b[39m\"\u001b[39m\u001b[39mprivate = \u001b[39m\u001b[39m%d\u001b[39;00m\u001b[39m\"\u001b[39m \u001b[39m%\u001b[39m a\u001b[39m.\u001b[39m__c)  \u001b[39m# 멤버변수가 없다고 함\u001b[39;00m\n\u001b[0;32m     <a href='vscode-notebook-cell:/e%3A/%EC%82%B0%EB%8C%80%ED%8A%B9/%EB%B3%B8%EA%B3%BC%EC%A0%95%201%EB%B6%84%EA%B8%B0/B.%20Python/Day8%2026_%EC%83%9D%EC%84%B1%EC%9E%90_%EC%A0%95%EB%B3%B4%EC%9D%80%EB%8B%89_%ED%94%84%EB%A1%9C%ED%8D%BC%ED%8B%B0.ipynb#X11sZmlsZQ%3D%3D?line=55'>56</a>\u001b[0m \u001b[39m# 은닉된 멤버 변수에 접근해보자\u001b[39;00m\n",
      "\u001b[1;31mTypeError\u001b[0m: %d format: a real number is required, not NoneType"
     ]
    }
   ],
   "source": [
    "# 캡슐화의 의의\n",
    "class Student:\n",
    "    kor = None\n",
    "    eng = None\n",
    "\n",
    "stud = Student()\n",
    "stud.kor = 1000\n",
    "stud.eng = -3\n",
    "\n",
    "print(\"국어점수: {0}, 영어점수: {1}\".format(stud.kor, stud.eng))\n",
    "\n",
    "# 고전적인 캡슐화\n",
    "# - 메서드의 파라미터를 활용한 입력값 검사\n",
    "class SchoolMember:\n",
    "    point = None\n",
    "\n",
    "    def __init__(self, p = 0):\n",
    "        self.setPoint(p)\n",
    "    \n",
    "    def setPoint(self, value):\n",
    "        if value < 0:\n",
    "            value = 0\n",
    "        if value > 100:\n",
    "            value = 100\n",
    "        self.point = value\n",
    "\n",
    "    def getPoint(self):\n",
    "        return self.point\n",
    "    \n",
    "smem1 = SchoolMember(253)\n",
    "print (\"점수는 %d점 입니다.\" % smem1.getPoint())\n",
    "\n",
    "smem1.setPoint(-12312)\n",
    "print (\"점수는 %d점 입니다.\" % smem1.getPoint())\n",
    "\n",
    "# 하지만 여전히 멤버변수에 직접접근 가능\n",
    "smem1.point = 12345\n",
    "print(\"점수는 %d점 입니다.\" % smem1.getPoint())\n",
    "\n",
    "# 멤버변수에 대한 접근 한정자\n",
    "class Hello:\n",
    "    a = None\n",
    "    _b = None\n",
    "    __c = None\n",
    "\n",
    "    def __init__(self):\n",
    "        self.a = 100\n",
    "        self.b = 200\n",
    "        self.c = 300\n",
    "h = Hello()\n",
    "print (\"public = %d\" % h.a)\n",
    "print (\"protected = %d\" % h._b) # 멤버변수가 없다고 함\n",
    "print (\"private = %d\" % a.__c)  # 멤버변수가 없다고 함\n",
    "\n",
    "\n"
   ]
  },
  {
   "cell_type": "code",
   "execution_count": 45,
   "metadata": {},
   "outputs": [
    {
     "name": "stdout",
     "output_type": "stream",
     "text": [
      "김민수의 점수는 -123점 입니다.\n",
      "이광호의 점수는 100점 입니다.\n"
     ]
    },
    {
     "data": {
      "text/plain": [
       "<__main__.Student at 0x2a2c0ba1ac0>"
      ]
     },
     "execution_count": 45,
     "metadata": {},
     "output_type": "execute_result"
    }
   ],
   "source": [
    "# 은닉된 멤버 변수에 접근해보자\n",
    "class Student:\n",
    "    __name = None\n",
    "    __point = None\n",
    "\n",
    "    def __init__(self, name = None, point = 0):\n",
    "        self.__name = name\n",
    "        self.__point = point\n",
    "    \n",
    "    def getName(self):\n",
    "        return self.__name\n",
    "    \n",
    "    def setName(self, value):\n",
    "        self.__name = value\n",
    "\n",
    "    def getPoint(self):\n",
    "        return self.__point\n",
    "    \n",
    "    def setPoint(self, value):\n",
    "        if (value < 0): value = 0\n",
    "        if (value >100): value = 100\n",
    "        self.__point = value\n",
    "\n",
    "tpl = \"{0}의 점수는 {1}점 입니다.\"\n",
    "\n",
    "# 객체 생성시 데이터 주입\n",
    "s1 = Student(\"김민수\", -123)\n",
    "print(tpl.format(s1.getName(), s1.getPoint()))\n",
    "\n",
    "# 객체가 갖고 있는 데이터 수정\n",
    "s1.setName(\"이광호\")\n",
    "s1.setPoint(120)\n",
    "print(tpl.format(s1.getName(), s1.getPoint()))\n",
    "\n"
   ]
  },
  {
   "cell_type": "markdown",
   "metadata": {},
   "source": [
    "## 3. 프로퍼티\n",
    "\n",
    "### (1) 프로퍼티 정의하기\n",
    "- getter와 setter를 변수처럼 사용하는 기법\n",
    "  - 변수이름이 __name -> 프로퍼티 이름은 name\n",
    "  - @: 데코레이터\n",
    "\n",
    "### (2) 프로퍼티 사용하기\n",
    "- f = Foo()\n",
    "- f.프로퍼티이름 = 값     (setter메서드 호출)\n",
    "- print(f.프로퍼티이름)   (getter메서드 호출)"
   ]
  },
  {
   "cell_type": "code",
   "execution_count": 47,
   "metadata": {},
   "outputs": [
    {
     "name": "stdout",
     "output_type": "stream",
     "text": [
      "마린1호(이)가 적 본진까지 이동합니다.\n",
      "마린1호(이)가 적 본진(을)를 공격합니다. 데미지: 50\n"
     ]
    }
   ],
   "source": [
    "# 프로퍼티를 정의한 클래스\n",
    "\n",
    "class Terran:\n",
    "    __name = None\n",
    "    __dps = None\n",
    "\n",
    "    def __init__(self, name = None, dps = 0):\n",
    "        self.name = name\n",
    "        self.dps = dps\n",
    "\n",
    "    @property\n",
    "    def name(self):\n",
    "        return self.__name\n",
    "    @name.setter\n",
    "    def name(self, value):\n",
    "        self.__name = value\n",
    "\n",
    "    @property\n",
    "    def dps(self):\n",
    "        return self.__dps\n",
    "    @dps.setter\n",
    "    def dps(self, value):\n",
    "        self.__dps = value\n",
    "    \n",
    "    def move(self, position):\n",
    "        print(\"%s(이)가 %s까지 이동합니다.\" % (self.name, position))\n",
    "\n",
    "    def attack(self, target):\n",
    "        print(\"%s(이)가 %s(을)를 공격합니다. 데미지: %d\" % (self.name, target, self.dps))\n",
    "    \n",
    "t1 = Terran()\n",
    "t1.name = \"마린1호\"\n",
    "t1.dps = 50\n",
    "\n",
    "t1.move('적 본진')\n",
    "t1.attack('적 본진')\n"
   ]
  },
  {
   "cell_type": "code",
   "execution_count": null,
   "metadata": {},
   "outputs": [],
   "source": []
  }
 ],
 "metadata": {
  "kernelspec": {
   "display_name": "Python 3",
   "language": "python",
   "name": "python3"
  },
  "language_info": {
   "codemirror_mode": {
    "name": "ipython",
    "version": 3
   },
   "file_extension": ".py",
   "mimetype": "text/x-python",
   "name": "python",
   "nbconvert_exporter": "python",
   "pygments_lexer": "ipython3",
   "version": "3.12.0"
  }
 },
 "nbformat": 4,
 "nbformat_minor": 2
}
