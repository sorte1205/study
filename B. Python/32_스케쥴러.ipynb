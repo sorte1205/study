{
 "cells": [
  {
   "cell_type": "markdown",
   "metadata": {},
   "source": [
    "# 32 스케쥴러\n",
    "\n",
    "## 1. 스케쥴러\n",
    "\n",
    "(1) 스케쥴러란\n",
    "- 특정시간이나 정해진 간격에 따라 어떤 함수가 자도으로 실행되는 처리\n",
    "  - ex. 1마다 한 번씩 자동으로 수행되는 기능, 매일 자정에 자동으로 수행되는 기능\n",
    "    - apscheduler: 파이썬 공식 문서에서 소개됨.\n",
    "      - pip install --upgrade apscheduler\n",
    "        - 쓰는 방법잘모를땐 ?를 함수 앞에 붙여보자\n",
    "\n",
    "(2) 작업준비\n",
    "- 패키지 참조\n",
    "  \n",
    "- 스케쥴에 따라 자동으로 실행될 기능 정의\n"
   ]
  },
  {
   "cell_type": "code",
   "execution_count": 1,
   "metadata": {},
   "outputs": [
    {
     "name": "stdout",
     "output_type": "stream",
     "text": [
      "[shin] I'm working... | 2023/12/01 14:45:36\n"
     ]
    }
   ],
   "source": [
    "# 작업 준비\n",
    "## 패키지 참조             \n",
    "from apscheduler. schedulers. background import BackgroundScheduler\n",
    "from apscheduler.triggers.cron import CronTrigger\n",
    "from apscheduler.jobstores.base import JobLookupError\n",
    "import datetime as dt\n",
    "import time\n",
    "\n",
    "## 스케쥴에 따라 자동으로 실행될 기능\n",
    "def myjob(name):\n",
    "    currentTime = dt.datetime.now()\n",
    "    timeFormat = currentTime.strftime(\"%Y/%m/%d %H:%M:%S\")\n",
    "    print(\"[%s] I'm working... | %s\" % (name, timeFormat))\n",
    "\n",
    "myjob(\"shin\")"
   ]
  },
  {
   "cell_type": "markdown",
   "metadata": {},
   "source": [
    "### (3) 스케쥴러 등록\n",
    "- 1) 정해진 간격마다 실행하기\n",
    "  \n",
    "  - 스케쥴러 객체 생성\n",
    "  - 스케쥴 작업 등록\n",
    "  - 스케쥴러에서 작업 제거\n",
    "\n",
    "- 2) cron 표현식으로 설정하기\n",
    "  - cron 표현식\n",
    "    - Linux, Mac 등에서 작업 스케쥴러를 등록할 때 사용하는 시간 단위 설정 표현식\n",
    "    - 공백으로 구분하는 7자리의 값으로 구성\n",
    "  - 값의 설정 방법"
   ]
  },
  {
   "cell_type": "code",
   "execution_count": 2,
   "metadata": {},
   "outputs": [
    {
     "data": {
      "text/plain": [
       "<Job (id=myjob3 name=myjob)>"
      ]
     },
     "execution_count": 2,
     "metadata": {},
     "output_type": "execute_result"
    },
    {
     "name": "stdout",
     "output_type": "stream",
     "text": [
      "[hong] I'm working... | 2023/12/01 14:45:50\n",
      "[hong] I'm working... | 2023/12/01 14:45:52\n"
     ]
    }
   ],
   "source": [
    "# 스케쥴러 등록\n",
    "# 1) 정해진 간격마다 실행하기\n",
    "    # 스케쥴러 객체 생성\n",
    "sched = BackgroundScheduler()\n",
    "sched.start()\n",
    "    # 스케쥴 작업 등록\n",
    "sched.add_job(myjob, \"interval\", seconds = 3, args = [\"kim\"], id = 'myjob1')\n",
    "\n",
    "    # 스케쥴러에서 작업 제거\n",
    "sched.remove_job(\"myjob1\")\n",
    "sched.shutdown()\n",
    "\n",
    "# 2) cron 표현식으로 설정\n",
    "sched = BackgroundScheduler()\n",
    "sched.start()\n",
    "# 매 분 2 초\n",
    "sched.add_job(myjob, 'cron', second = 2, args = [\"kim\"], id = 'myjob2')\n",
    "# 매초(*)마다 2초 간격으로\n",
    "sched.add_job(myjob, 'cron', second='*/2', args = [\"hong\"], id = 'myjob3')\n",
    "\n"
   ]
  },
  {
   "cell_type": "code",
   "execution_count": 3,
   "metadata": {},
   "outputs": [],
   "source": [
    "# 스케쥴러에서 작업 제거\n",
    "\n",
    "# 작업 제거\n",
    "    # 1회 수행 후 영구 종료된 작업은 제거할 수 없음. \n",
    "sched.remove_job('myjob2')\n",
    "sched.remove_job('myjob3')\n",
    "# 스케쥴러 멈춤\n",
    "sched.shutdown()"
   ]
  },
  {
   "cell_type": "markdown",
   "metadata": {},
   "source": [
    "### 2) cron 표현식으로 석정하기\n",
    "\n",
    "#### cron 표현식\n",
    "Linux, Mac 등에서 작업 스케쥴러를 등록할 때 사용하는 시간 단위 설정 표현식\n",
    "\n",
    "공백으로 구분하는 7자리의 값으로 구성됨\n",
    "\n",
    "```shell\n",
    "*******\n",
    "```\n",
    "\n",
    "각 자리는 순서대로 '<초>,<분>,<시>,<일>,<월>,<요일>,<년>'을 의미함\n",
    "\n",
    "#### 값의 설정 방법\n",
    "\n",
    "| 필드 | 허용되는 값 | 허용되는 특수문자|\n",
    "|---|---|---|\n",
    "|초 (seconds)|0~59|`,` `-` `*` `/`|\n",
    "|분 (minutes)|0~59|`,` `-` `*` `/`|\n",
    "|시 (hours)|0~23|`,` `-` `*` `/`|\n",
    "|일 (Day)|1~30|`,` `-` `*` `/`|\n",
    "|월 (Month)|0~12|`,` `-` `*` `/` `L` `#`|\n",
    "|요일 (Day of weeks)|0~12|`,` `-` `*` `/` `L` `#`|\n",
    "|년 (Year)|1970~2099|`,` `-` `*` `/`|\n",
    "\n",
    "\n",
    "참조 : https://crontab.cronhub.io/ "
   ]
  },
  {
   "cell_type": "code",
   "execution_count": 4,
   "metadata": {},
   "outputs": [],
   "source": [
    "# 3) 특정 시각에 수행\n",
    "\n",
    "sched = BackgroundScheduler()\n",
    "sched.start()\n",
    "targetDate = dt.datetime(2023, 12, 1, 11, 43, 0)\n",
    "sched.add_job(myjob, 'date', run_date=targetDate, args=[\"park\"], id='myjob4')\n",
    "\n",
    "# 예약된 시각에 1회 수행하고 종료하므로 remove_job을 처리할 필요가 없다.\n",
    "#sched.remove_job(\"myjob4\")\n",
    "sched.shutdown()"
   ]
  },
  {
   "cell_type": "code",
   "execution_count": 5,
   "metadata": {},
   "outputs": [],
   "source": [
    "# 03. 메일링 리스트 개선 (스케쥴러에 두기)\n",
    "\n",
    "\n",
    "import MyMailer\n",
    "import concurrent.futures as futures\n",
    "\n",
    "today = dt.datetime.now()\n",
    "year = today.year\n",
    "month = today.month\n",
    "day = today.day\n",
    "\n",
    "fromAddr = \"운영지원팀 <jcdasom@gmail.com>\"\n",
    "subjecTempl = \"{name}님의 {yy}년 {mm}월 급여명세서 입니다.\"\n",
    "\n",
    "with open('mail/content.txt', 'r', encoding = 'utf-8') as f:\n",
    "    contentTmpl = f.read()\n"
   ]
  },
  {
   "cell_type": "code",
   "execution_count": 6,
   "metadata": {},
   "outputs": [],
   "source": [
    "## 수행할 작업은 def 로 함수처리 해둔다.\n",
    "\n",
    "def sendmail():\n",
    "    startTime = dt.datetime.now()\n",
    "    \n",
    "    with open(\"mail/mail_list.csv\", \"r\", encoding = \"euc-kr\") as f:\n",
    "        csv = f.readlines()\n",
    "\n",
    "        with futures.ThreadPoolExecutor(max_workers=10) as executor:\n",
    "            for line in csv:\n",
    "                name, email, file1, file2 = line.strip().split(\",\")\n",
    "                toAddr = \"{name} <{email}>\".format (name = name, yy=year, mm=month)\n",
    "                subject = subjectTmpl.format(name=name, yy=year, mm=month)\n",
    "                content = contentTmpl.format(name=name, yy=year, mm = month, dd=day)\n",
    "\n",
    "                executor.submit(MyMailer.sendMail, fromAddr, toAddr, subject, content, [file1, file2])\n",
    "\n",
    "    endTime = dt.datetime.now()            \n",
    "    workTime = endTime - startTime\n",
    "    print(\"작업에 소요된 시간은 총 %s초 입니다.\" % workTime.seconds)\n",
    "\n",
    "    sched = BackgroundScheduler()\n",
    "    sched.start()\n",
    "    sched.add_job(sendmail, 'cron', second = '*/5', id = 'mymailer')\n",
    "\n",
    "\n"
   ]
  },
  {
   "cell_type": "code",
   "execution_count": 7,
   "metadata": {},
   "outputs": [
    {
     "data": {
      "text/plain": [
       "<Job (id=mymailer name=sendmail)>"
      ]
     },
     "execution_count": 7,
     "metadata": {},
     "output_type": "execute_result"
    },
    {
     "name": "stderr",
     "output_type": "stream",
     "text": [
      "Job \"sendmail (trigger: cron[second='*/5'], next run at: 2023-12-01 14:46:35 KST)\" raised an exception\n",
      "Traceback (most recent call last):\n",
      "  File \"c:\\Users\\User\\AppData\\Local\\Programs\\Python\\Python312\\Lib\\site-packages\\apscheduler\\executors\\base.py\", line 125, in run_job\n",
      "    retval = job.func(*job.args, **job.kwargs)\n",
      "             ^^^^^^^^^^^^^^^^^^^^^^^^^^^^^^^^^\n",
      "  File \"C:\\Users\\Public\\Documents\\ESTsoft\\CreatorTemp\\ipykernel_63180\\4208496587.py\", line 12, in sendmail\n",
      "    toAddr = \"{name} <{email}>\".format (name = name, yy=year, mm=month)\n",
      "             ^^^^^^^^^^^^^^^^^^^^^^^^^^^^^^^^^^^^^^^^^^^^^^^^^^^^^^^^^^\n",
      "KeyError: 'email'\n",
      "Job \"sendmail (trigger: cron[second='*/5'], next run at: 2023-12-01 14:46:40 KST)\" raised an exception\n",
      "Traceback (most recent call last):\n",
      "  File \"c:\\Users\\User\\AppData\\Local\\Programs\\Python\\Python312\\Lib\\site-packages\\apscheduler\\executors\\base.py\", line 125, in run_job\n",
      "    retval = job.func(*job.args, **job.kwargs)\n",
      "             ^^^^^^^^^^^^^^^^^^^^^^^^^^^^^^^^^\n",
      "  File \"C:\\Users\\Public\\Documents\\ESTsoft\\CreatorTemp\\ipykernel_63180\\4208496587.py\", line 12, in sendmail\n",
      "    toAddr = \"{name} <{email}>\".format (name = name, yy=year, mm=month)\n",
      "             ^^^^^^^^^^^^^^^^^^^^^^^^^^^^^^^^^^^^^^^^^^^^^^^^^^^^^^^^^^\n",
      "KeyError: 'email'\n"
     ]
    }
   ],
   "source": [
    "sched = BackgroundScheduler()\n",
    "sched.start()\n",
    "\n",
    "sched.add_job(sendmail, 'cron', second = '*/5', id = 'mymailer')"
   ]
  },
  {
   "cell_type": "code",
   "execution_count": 8,
   "metadata": {},
   "outputs": [],
   "source": [
    "sched.remove_job(\"mymailer\")\n",
    "sched.shutdown()"
   ]
  },
  {
   "cell_type": "code",
   "execution_count": null,
   "metadata": {},
   "outputs": [],
   "source": []
  }
 ],
 "metadata": {
  "kernelspec": {
   "display_name": "Python 3",
   "language": "python",
   "name": "python3"
  },
  "language_info": {
   "codemirror_mode": {
    "name": "ipython",
    "version": 3
   },
   "file_extension": ".py",
   "mimetype": "text/x-python",
   "name": "python",
   "nbconvert_exporter": "python",
   "pygments_lexer": "ipython3",
   "version": "3.12.0"
  }
 },
 "nbformat": 4,
 "nbformat_minor": 2
}
