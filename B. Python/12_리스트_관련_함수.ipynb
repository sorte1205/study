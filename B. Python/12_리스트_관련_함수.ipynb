{
 "cells": [
  {
   "cell_type": "markdown",
   "metadata": {},
   "source": [
    "# 12 리스트 관련 함수\n",
    "## 1. 리스트 관련 내장 함수\n",
    "### (1) 리스트의 길이 조회\n",
    "- len() \n",
    "### (2) 리스트의 원소 삭제\n",
    "- del()\n",
    "### (3) 리스트 원소의 정렬\n",
    "- sorted()      : 오름차순정렬\n",
    "- sorted(mylist, reverse=True)  : 내림차순 정렬\n",
    "- 원본은 그대로이다.\n",
    "### (4) 최대값, 최소값, 합계\n",
    "- max()\n",
    "- min()\n",
    "- sum()\n",
    "  - 평균을 구하는 기능은 없다.\n",
    "  - avg = sum()/len()\n",
    "### (5) 리스트, 튜플 상호 변환 / 수열만들기\n",
    "- list(a) = [, , ..., ,]\n",
    "  - a 의 종류\n",
    "    - 문자/문장\n",
    "    - 튜플\n",
    "    - range 객체\n",
    "      - k = range(1,10) : 1부터 9까지 +1수열\n",
    "      - r = range(1,10,2) : 1부터 9까지 +2 수열\n",
    "    - set\n",
    "      - set_example = {1,2,3,5}\n",
    "      - 중복되지않는 원소들을 모아 둔 것. \n",
    "\n",
    "## 2. 리스트 객체의 메서드\n",
    "### (1) 원소의 수\n",
    "- print(mylist.count(3))\n",
    "  \n",
    "### (2) 특정 원소가 처음으로 나타나는 위치 찾기\n",
    "- print(mylist.index(5))\n",
    "- 해당 원소가 없다면: -1\n",
    "### (3) 리스트의 원소 추가\n",
    "- 맨 뒤에 추가\n",
    "  - mylist.append(원소)\n",
    "  - mylist.insert(-1,원소)\n",
    "- 원하는 곳에 추가\n",
    "  - mylist.insert(위치,원소)\n",
    "  \n",
    "### (4) 리스트의 원소 추출\n",
    "- 맨 마지막 원소 리턴 후 원본에서 삭제\n",
    "  - mylist.pop\n",
    "\n",
    "### (5) 리스트의 확장과 축소\n",
    "- 확장: 매서드를 호출한 원본에 파라미터로 전달된 리스트를 덧붙임\n",
    "  - mylist.extend(list)\n",
    "- 축소: 주어진 값과 일치하는 첫번째 원소를 삭제\n",
    "  - mylist.remove(원소)\n",
    "\n",
    "### (6) 리스트의 역순 배치\n",
    "- 원본 자체를 역순으로 재배치\n",
    "- mylist.reverse()\n",
    "\n",
    "### (7) 리스트 원소의 오름차순, 내림차순 정렬하고 원본에 반영\n",
    "- mylist.sort\n",
    "- mylist.sort(reverse=True)\n",
    "\n",
    "### (8) 문자열을 잘라 리스트로 변환\n",
    "- 주어진 글자를 기준으로 잘라 리스트로 변환\n",
    "  - mylist.split(\",\")\n",
    "\n",
    "### (9) 리스트를 문자열로 결합\n",
    "- 주어진 문자열을 리스트의 원소연결기호로 사용\n",
    "  - dl = \" \"\n",
    "  - dl.join(mylist)\n",
    "### (10) 나눗셈의 몫과 나머지를 튜플로 반환\n",
    "- 나눗셈의 연산 결과를 정수부분의 몫과 나머지로 계산하여 튜플로 리턴\n",
    "  - divmod(10,7) = (1,3)\n",
    "- 튜플의 값을 서로 다른 변수에 나누어 저장\n",
    "  - a, b = divmod(10,7)\n",
    "    - a = 1, b = 7\n",
    "\n",
    "  \n",
    "  \n",
    "#### **내장함수로 변수를 만들면, 그 다음부터 내장함수는 그 기능을 하지 못하게 됨.\n",
    "\n",
    "\n",
    "\n",
    "\n"
   ]
  },
  {
   "cell_type": "code",
   "execution_count": 17,
   "metadata": {},
   "outputs": [
    {
     "ename": "TypeError",
     "evalue": "'int' object is not iterable",
     "output_type": "error",
     "traceback": [
      "\u001b[1;31m---------------------------------------------------------------------------\u001b[0m",
      "\u001b[1;31mTypeError\u001b[0m                                 Traceback (most recent call last)",
      "\u001b[1;32me:\\산대특\\본과정 1분기\\B. Python\\Day4 12_리스트_관련_함수.ipynb 셀 2\u001b[0m line \u001b[0;36m2\n\u001b[0;32m      <a href='vscode-notebook-cell:/e%3A/%EC%82%B0%EB%8C%80%ED%8A%B9/%EB%B3%B8%EA%B3%BC%EC%A0%95%201%EB%B6%84%EA%B8%B0/B.%20Python/Day4%2012_%EB%A6%AC%EC%8A%A4%ED%8A%B8_%EA%B4%80%EB%A0%A8_%ED%95%A8%EC%88%98.ipynb#W6sZmlsZQ%3D%3D?line=0'>1</a>\u001b[0m a \u001b[39m=\u001b[39m \u001b[39m1234556\u001b[39m\n\u001b[1;32m----> <a href='vscode-notebook-cell:/e%3A/%EC%82%B0%EB%8C%80%ED%8A%B9/%EB%B3%B8%EA%B3%BC%EC%A0%95%201%EB%B6%84%EA%B8%B0/B.%20Python/Day4%2012_%EB%A6%AC%EC%8A%A4%ED%8A%B8_%EA%B4%80%EB%A0%A8_%ED%95%A8%EC%88%98.ipynb#W6sZmlsZQ%3D%3D?line=1'>2</a>\u001b[0m \u001b[39mlist\u001b[39;49m(a)\n",
      "\u001b[1;31mTypeError\u001b[0m: 'int' object is not iterable"
     ]
    }
   ],
   "source": [
    "a = 1234556\n",
    "list(a)"
   ]
  },
  {
   "cell_type": "markdown",
   "metadata": {},
   "source": [
    "\n",
    "### 연구과제\n",
    "\n",
    "    - 상위 n명의 점수 구하기\n",
    "    - mathScore = [82, 74, 93, 65, 32, 71, 90, 88, 74]\n",
    "\n",
    "# 오름차순 정렬\n",
    "- mathScore.sort\n",
    "# 상위 3명의 평균\n",
    "- avg = (mathScore[-3]+mathScore[-2]+mathScore[-1])/3\n",
    "  "
   ]
  },
  {
   "cell_type": "code",
   "execution_count": 8,
   "metadata": {},
   "outputs": [
    {
     "name": "stdout",
     "output_type": "stream",
     "text": [
      "[32, 65, 71, 74, 74, 82, 88, 90, 93]\n",
      "90.33333333333333\n"
     ]
    }
   ],
   "source": [
    "mathScore = [82, 74, 93, 65, 32, 71, 90, 88, 74]\n",
    "mathScore.sort()\n",
    "print(mathScore)\n",
    "avg = (mathScore[-3]+mathScore[-2]+mathScore[-1])/3\n",
    "print(avg)"
   ]
  },
  {
   "cell_type": "code",
   "execution_count": 16,
   "metadata": {},
   "outputs": [
    {
     "name": "stdout",
     "output_type": "stream",
     "text": [
      "90.3\n",
      "90.3\n",
      "[93, 90, 88]\n",
      "[93, 90, 7, 88]\n"
     ]
    },
    {
     "ename": "NameError",
     "evalue": "name 'lastIndex' is not defined",
     "output_type": "error",
     "traceback": [
      "\u001b[1;31m---------------------------------------------------------------------------\u001b[0m",
      "\u001b[1;31mNameError\u001b[0m                                 Traceback (most recent call last)",
      "\u001b[1;32me:\\산대특\\본과정 1분기\\B. Python\\Day4 12_리스트_관련_함수.ipynb 셀 4\u001b[0m line \u001b[0;36m2\n\u001b[0;32m     <a href='vscode-notebook-cell:/e%3A/%EC%82%B0%EB%8C%80%ED%8A%B9/%EB%B3%B8%EA%B3%BC%EC%A0%95%201%EB%B6%84%EA%B8%B0/B.%20Python/Day4%2012_%EB%A6%AC%EC%8A%A4%ED%8A%B8_%EA%B4%80%EB%A0%A8_%ED%95%A8%EC%88%98.ipynb#W5sZmlsZQ%3D%3D?line=21'>22</a>\u001b[0m top3\u001b[39m.\u001b[39minsert(\u001b[39m-\u001b[39m\u001b[39m1\u001b[39m,\u001b[39m7\u001b[39m)\n\u001b[0;32m     <a href='vscode-notebook-cell:/e%3A/%EC%82%B0%EB%8C%80%ED%8A%B9/%EB%B3%B8%EA%B3%BC%EC%A0%95%201%EB%B6%84%EA%B8%B0/B.%20Python/Day4%2012_%EB%A6%AC%EC%8A%A4%ED%8A%B8_%EA%B4%80%EB%A0%A8_%ED%95%A8%EC%88%98.ipynb#W5sZmlsZQ%3D%3D?line=22'>23</a>\u001b[0m \u001b[39mprint\u001b[39m(top3)\n\u001b[1;32m---> <a href='vscode-notebook-cell:/e%3A/%EC%82%B0%EB%8C%80%ED%8A%B9/%EB%B3%B8%EA%B3%BC%EC%A0%95%201%EB%B6%84%EA%B8%B0/B.%20Python/Day4%2012_%EB%A6%AC%EC%8A%A4%ED%8A%B8_%EA%B4%80%EB%A0%A8_%ED%95%A8%EC%88%98.ipynb#W5sZmlsZQ%3D%3D?line=23'>24</a>\u001b[0m top3\u001b[39m.\u001b[39minsert(lastIndex,\u001b[39m99\u001b[39m)\n\u001b[0;32m     <a href='vscode-notebook-cell:/e%3A/%EC%82%B0%EB%8C%80%ED%8A%B9/%EB%B3%B8%EA%B3%BC%EC%A0%95%201%EB%B6%84%EA%B8%B0/B.%20Python/Day4%2012_%EB%A6%AC%EC%8A%A4%ED%8A%B8_%EA%B4%80%EB%A0%A8_%ED%95%A8%EC%88%98.ipynb#W5sZmlsZQ%3D%3D?line=24'>25</a>\u001b[0m \u001b[39mprint\u001b[39m(top3)\n",
      "\u001b[1;31mNameError\u001b[0m: name 'lastIndex' is not defined"
     ]
    }
   ],
   "source": [
    "# 연구과제 풀이\n",
    "\n",
    "# 풀이 1) 내장 함수를 사용하는 경우\n",
    "        # 정렬 결과가 반환된다.\n",
    "math1 = [82, 74, 93, 65, 32, 71, 90, 88, 74]\n",
    "\n",
    "k = sorted(math1, reverse = True)\n",
    "top3 = k[:3]\n",
    "avg = sum(top3)/len(top3)\n",
    "print(\"%0.1f\" % avg)\n",
    "# 풀이 2) 메서드를 사용하는 경우\n",
    "        # 원본 자체가 정렬된다 (k 말고 math1자체를 바로 쓴다)\n",
    "math1.sort(reverse=True)\n",
    "top3 = math1[:3]\n",
    "avg = sum(top3)/len(top3)\n",
    "\n",
    "print(\"%0.1f\" % avg)\n"
   ]
  }
 ],
 "metadata": {
  "kernelspec": {
   "display_name": "Python 3",
   "language": "python",
   "name": "python3"
  },
  "language_info": {
   "codemirror_mode": {
    "name": "ipython",
    "version": 3
   },
   "file_extension": ".py",
   "mimetype": "text/x-python",
   "name": "python",
   "nbconvert_exporter": "python",
   "pygments_lexer": "ipython3",
   "version": "3.12.0"
  }
 },
 "nbformat": 4,
 "nbformat_minor": 2
}
