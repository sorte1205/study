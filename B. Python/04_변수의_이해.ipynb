{
 "cells": [
  {
   "cell_type": "markdown",
   "metadata": {},
   "source": [
    "# 04강 - 변수의 이해\n",
    "\n",
    "## 1. 변수의 이해\n",
    "\n",
    "### 다양한 변수 만들기\n",
    "\n",
    "\n"
   ]
  },
  {
   "cell_type": "code",
   "execution_count": 1,
   "metadata": {},
   "outputs": [
    {
     "name": "stdout",
     "output_type": "stream",
     "text": [
      "123\n",
      "-456\n"
     ]
    }
   ],
   "source": [
    "\n",
    "# 변수 만들기   (오른쪽에서 왼쪽으로 대입 -> 최초대입을 초기화라고 함)\n",
    "# 이름 = 값\n",
    "\n",
    "a = 123\n",
    "b = -456\n",
    "print (a)\n",
    "print (b)"
   ]
  },
  {
   "cell_type": "code",
   "execution_count": 2,
   "metadata": {},
   "outputs": [
    {
     "name": "stdout",
     "output_type": "stream",
     "text": [
      "1.2\n",
      "-3.45\n"
     ]
    }
   ],
   "source": [
    "# 실수형 변수 만들기\n",
    "\n",
    "c = 1.2\n",
    "d = -3.45\n",
    "print(c)\n",
    "print(d)\n"
   ]
  },
  {
   "cell_type": "markdown",
   "metadata": {},
   "source": [
    "### 지수 표기법"
   ]
  },
  {
   "cell_type": "code",
   "execution_count": 3,
   "metadata": {},
   "outputs": [
    {
     "name": "stdout",
     "output_type": "stream",
     "text": [
      "425000.0\n",
      "0.00424\n"
     ]
    }
   ],
   "source": [
    "# 지수형태 (소수점의 오른쪽 이동)\n",
    "\n",
    "e = 4.25e5      #4.24 * (10의 5제곱)\n",
    "print(e)\n",
    "\n",
    "# 지수형태 (소수점의 왼쪽 이동)\n",
    "\n",
    "f = 4.24e-3     #4.24 * (10의 -3제곱)\n",
    "print(f)"
   ]
  },
  {
   "cell_type": "markdown",
   "metadata": {},
   "source": [
    "### 진법 표현\n",
    "\n",
    "* 8진법, 16진법을 표현할 수 있다.\n",
    "\n",
    "    * 출력시에는 10진법으로 변환되어 출력한다"
   ]
  },
  {
   "cell_type": "code",
   "execution_count": 4,
   "metadata": {},
   "outputs": [
    {
     "name": "stdout",
     "output_type": "stream",
     "text": [
      "127\n",
      "2748\n"
     ]
    }
   ],
   "source": [
    "# 8진수 표현 (숫자0 + 알파벳 o + 8진수 숫자값)\n",
    "g = 0o177\n",
    "print(g)\n",
    "\n",
    "# 16진수 표현 (숫자0 + 알파벳 x + 16진수 숫자값)\n",
    "h = 0xABC\n",
    "print(h)"
   ]
  },
  {
   "cell_type": "markdown",
   "metadata": {},
   "source": [
    "### 논리형 변수\n",
    "- 참, 거짓을 표현할 수 있는 변수\n",
    "    - True와 False에 첫 글자가 대문자인 것에 주의한다.\n"
   ]
  },
  {
   "cell_type": "code",
   "execution_count": 5,
   "metadata": {},
   "outputs": [
    {
     "name": "stdout",
     "output_type": "stream",
     "text": [
      "True\n",
      "False\n"
     ]
    }
   ],
   "source": [
    "# 참을 의미하는 키워드 True를 a에 할당\n",
    "a = True\n",
    "print(a)\n",
    "\n",
    "# 거짓을 의미하는 키워드 False를 b에 할당\n",
    "b = False\n",
    "print(b)"
   ]
  },
  {
   "cell_type": "markdown",
   "metadata": {},
   "source": [
    "### 문자열 변수 / 내용이 없는 변수\n",
    "- 문자열 변수\n",
    "    - 쌍따옴표나 홑따옴표로 감싼 모든 형태의 내용\n",
    "\n"
   ]
  },
  {
   "cell_type": "code",
   "execution_count": 6,
   "metadata": {},
   "outputs": [
    {
     "name": "stdout",
     "output_type": "stream",
     "text": [
      "안녕하세요\n"
     ]
    }
   ],
   "source": [
    "# 문자열 변수\n",
    "msg = '안녕하세요'\n",
    "print(msg)"
   ]
  },
  {
   "cell_type": "markdown",
   "metadata": {},
   "source": [
    "\n",
    "- None\n",
    "  - 메모리 상에 공간만 점유한 상태로 데이터가 저장되어있지는 않다.\n",
    "  - 추후 프로그램이 동작하는 과정에서 값을 저장하기 위해 미리 메모리 공간만 설정해 놓은 상태"
   ]
  },
  {
   "cell_type": "code",
   "execution_count": 7,
   "metadata": {},
   "outputs": [
    {
     "name": "stdout",
     "output_type": "stream",
     "text": [
      "None\n"
     ]
    }
   ],
   "source": [
    "# 내용이 없는 변수\n",
    "hello = None\n",
    "print(hello)"
   ]
  },
  {
   "cell_type": "code",
   "execution_count": null,
   "metadata": {},
   "outputs": [],
   "source": []
  }
 ],
 "metadata": {
  "kernelspec": {
   "display_name": "Python 3",
   "language": "python",
   "name": "python3"
  },
  "language_info": {
   "codemirror_mode": {
    "name": "ipython",
    "version": 3
   },
   "file_extension": ".py",
   "mimetype": "text/x-python",
   "name": "python",
   "nbconvert_exporter": "python",
   "pygments_lexer": "ipython3",
   "version": "3.12.0"
  }
 },
 "nbformat": 4,
 "nbformat_minor": 2
}
