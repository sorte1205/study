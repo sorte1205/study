{
 "cells": [
  {
   "cell_type": "markdown",
   "metadata": {},
   "source": [
    "# 27 모듈의 이해\n",
    "\n",
    "## 1. 모듈의 이해\n",
    "### (1) 모듈\n",
    "- 모듈\n",
    "  - 프로그램에서 자주 사용될 기능들을 별도의 파일로 분리해 놓은 것\n",
    "    - 재사용 가능한 단위 (함수, 클래스, 객체) 들을 다른 프로그램들에서 활용할 목적으로 분리해 놓은 형태\n",
    "    - 파이썬 소스코드를 작성할 때 분리한 파일들을 조립하여 그 안에 정의된 기능을 활용할 수 있다.\n",
    "\n",
    "### (2) 파이썬 소스파일로 작성된 모듈 파일 참조하기\n",
    "- 모듈을 참조하기 위한 import문\n",
    "  - 일반적인 Python 개발환경에서는 소스파일의 확장자가 \".py\"이다\n",
    "  - \".py\"파일로 구성된 모듈 참조는 import문을 사용한다,\n",
    "\n",
    "- 모듈 파일 통째로 참조\n",
    "  - import 파일이름\n",
    "  \n",
    "- 참조된 소스파일 안에 정의되어 있는 함수 호출\n",
    "  - import 파일이름.함수이름()\n",
    "\n",
    "- 참조한 모듈에 별칭을 부여\n",
    "  - import 파일이름 as 별칭\n",
    "\n",
    "- 별칭이 부여된 모듈 내 정의된 함수 호출\n",
    "  - import 별칭.함수이름()\n",
    "  \n",
    "- 모듈의 특정 기능만을 참조하는 경우\n",
    "  - from 파일이름 import 참조할기능\n",
    "  - 예시\n",
    "    - from myModule import hello\n",
    "    - hello()\n",
    "### 참고\n",
    "- 라이브러리 = 모듈들\n",
    "- 패키지: 배포 목적으로 묶은 파일\n",
    "  - *파이썬에선 라이브러리, 모듈, 패키지를 그닥 구별하지 않는다.\n",
    "\n",
    "- 여러 library들\n",
    "  - 각 lib는 python 개발자와는 상관이 없다.\n",
    "  - 각 lib만든 사람들을 웹페이지를 가서 공부해야함.\n",
    "\n",
    "  - requensts 2.31.0 : 오픈 AI 연동시 쓰는 것\n",
    "  - bs.4 \n",
    "  - pandas : 데이터 구조 제공 패키지\n",
    "    - geopandas: 지리정보\n",
    "  - QGIS : 지리 시각화 \n",
    "  - matplotlib: 데이터 시각화 처리\n",
    "\n",
    "  - sklearn : 머신러닝    \n",
    "  - tensorflow : 딥러닝\n",
    "  - pytouch : tensorflow보단 쓰기 쉽다.\n",
    "  - flask : 웹사이트 만들 때\n",
    "  - dash: 대쉬보드 만들 떄\n",
    "\n",
    "### (4) 확장 패키지 설치하기\n",
    "- pip\n",
    "  - 파이썬 설치할 때 (맨 아래 체크박스)부터 내장되어있는 명령어\n",
    "  \n",
    "- 확장 패키지 설치\n",
    "  - pip install [--upgrade] 패키지이름\n",
    "\n",
    "- 특정 패키지 삭제\n",
    "  - pip uninstall [-y] 모듈이름 \n",
    "    - 'y'는 Yes를 미리 입력한 것\n",
    "\n",
    "- 주피터 파일 모듈 화 시키기\n",
    "  - cmd 에 다음 입력\n",
    "    - pip install --upgrade import_ipynb\n",
    "\n",
    "- pip 업그레이드 (1)\n",
    "  - 업그레이드 명령어가 cmd에 안내 됨.\n",
    "\n",
    "### (5) 함수를 포함하는 모듈\n",
    "- MyMod1.ipynb\n",
    "  - def plus(a,b):\n",
    "    - return a+b\n",
    "  - def minus(a,b):\n",
    "    - return a -b\n",
    "\n",
    "  - *모듈이 변경되면, 재시작해야 반영 됨.\n",
    "\n",
    "\n",
    "### (6) 클래스를 포함하는 모듈\n",
    "- MyMod2.ipynb\n",
    "- class Member:\n",
    "  - import된 클래스는 정의된 기능을 다른 변수에 부여해야 사용 가능. = 객체\n",
    "  - 클래스에 생성자가 포함되어 있고 생성자가 파라미터를 갖는 경우\n",
    "    - 객체 생성시 생성자 파라미터를 전달해야 함.\n",
    "  \n",
    "\n"
   ]
  },
  {
   "cell_type": "code",
   "execution_count": 16,
   "metadata": {},
   "outputs": [
    {
     "data": {
      "text/plain": [
       "6"
      ]
     },
     "execution_count": 16,
     "metadata": {},
     "output_type": "execute_result"
    }
   ],
   "source": [
    "# 함수를 포함하는 모듈\n",
    "def plus(a,b):\n",
    "    return a+b\n",
    "def minus(a,b):\n",
    "    return a-b\n",
    "\n",
    "# 25-모듈의_이해.ipynb\n",
    "# 패키지 참조\n",
    "\n",
    "import myModule         # myModule.py로 저장한 파일(모듈) 불러오기\n",
    "myModule.hello(2,3)     # 그 안에 저장해둔 함수 이용하기\n",
    "\n",
    "import myModule1        \n",
    "myModule1.moduleTest(3,3)\n",
    "\n",
    "import myModule1 as mm\n",
    "mm.moduleTest(1,4)\n",
    "\n",
    "from myModule1 import moduleTest\n",
    "moduleTest(3,2)\n"
   ]
  },
  {
   "cell_type": "code",
   "execution_count": 24,
   "metadata": {},
   "outputs": [],
   "source": [
    "import MyMod2"
   ]
  },
  {
   "cell_type": "code",
   "execution_count": 26,
   "metadata": {},
   "outputs": [
    {
     "name": "stdout",
     "output_type": "stream",
     "text": [
      "------생성자가 실행되었습니다.--------\n"
     ]
    }
   ],
   "source": [
    "mem = MyMod2.Member('파이썬학생','leekh4232@gmail.com')"
   ]
  },
  {
   "cell_type": "code",
   "execution_count": 27,
   "metadata": {},
   "outputs": [
    {
     "name": "stdout",
     "output_type": "stream",
     "text": [
      "이름: 파이썬학생 / 이메일: leekh4232@gmail.com\n"
     ]
    }
   ],
   "source": [
    "mem.view_info()"
   ]
  },
  {
   "cell_type": "code",
   "execution_count": 28,
   "metadata": {},
   "outputs": [],
   "source": [
    "import MyMod2 as mm2"
   ]
  },
  {
   "cell_type": "code",
   "execution_count": 30,
   "metadata": {},
   "outputs": [
    {
     "name": "stdout",
     "output_type": "stream",
     "text": [
      "------생성자가 실행되었습니다.--------\n",
      "이름: 학생2 / 이메일: hs2@gmail.com\n"
     ]
    }
   ],
   "source": [
    "mem = mm2.Member(\"학생2\",\"hs2@gmail.com\")\n",
    "mem.view_info()"
   ]
  },
  {
   "cell_type": "code",
   "execution_count": 31,
   "metadata": {},
   "outputs": [],
   "source": [
    "from MyMod2 import Member as mm3"
   ]
  },
  {
   "cell_type": "code",
   "execution_count": 35,
   "metadata": {},
   "outputs": [
    {
     "name": "stdout",
     "output_type": "stream",
     "text": [
      "------생성자가 실행되었습니다.--------\n",
      "이름: 학생3 / 이메일: hs3@gmail.com\n"
     ]
    }
   ],
   "source": [
    "mem3 = mm3(\"학생3\", \"hs3@gmail.com\")\n",
    "mem3.view_info()"
   ]
  },
  {
   "cell_type": "code",
   "execution_count": 6,
   "metadata": {},
   "outputs": [
    {
     "name": "stdout",
     "output_type": "stream",
     "text": [
      "5\n",
      "6\n",
      "7\n",
      "4\n"
     ]
    }
   ],
   "source": [
    "import MyMod3\n",
    "\n",
    "print(MyMod3.my_calc.plus(3,2))\n",
    "\n",
    "import MyMod3 as MyObject\n",
    "print(MyObject.my_calc.plus(3,3))\n",
    "\n",
    "from MyMod3 import my_calc\n",
    "print(my_calc.plus(3,4))\n",
    "\n",
    "from MyMod3 import my_calc as mc\n",
    "print(mc.plus(3,1))"
   ]
  },
  {
   "cell_type": "code",
   "execution_count": null,
   "metadata": {},
   "outputs": [],
   "source": []
  }
 ],
 "metadata": {
  "kernelspec": {
   "display_name": "Python 3",
   "language": "python",
   "name": "python3"
  },
  "language_info": {
   "codemirror_mode": {
    "name": "ipython",
    "version": 3
   },
   "file_extension": ".py",
   "mimetype": "text/x-python",
   "name": "python",
   "nbconvert_exporter": "python",
   "pygments_lexer": "ipython3",
   "version": "3.12.0"
  }
 },
 "nbformat": 4,
 "nbformat_minor": 2
}
