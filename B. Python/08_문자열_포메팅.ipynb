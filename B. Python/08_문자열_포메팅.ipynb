{
 "cells": [
  {
   "cell_type": "code",
   "execution_count": null,
   "metadata": {},
   "outputs": [],
   "source": []
  },
  {
   "cell_type": "markdown",
   "metadata": {},
   "source": [
    "# 08. 문자열 포메팅\n",
    "## 1. 형식문자 활용 포메팅\n",
    "### (1) 문자열 포메팅과 형식문자\n",
    "- 문자열 포메팅\n",
    "  - 특정 값이 치환될 형식 문자를 포함한 문자열의 형식(format)을 미리 정해 놓고 형식 문자에 특정 변수 값을 적용하여 완성된 문자열을 만드는 방법.\n",
    "- 문자열에 포함될 수 있는 형식문자\n",
    "  - %d\n",
    "  - %f\n",
    "  - %s\n",
    "  - %o\n",
    "  - %x\n",
    "  - %%\n",
    "### (2) 문자열 포메팅의 사용 방벙\n",
    "- 기본 사용 방법\n",
    "  - 형식 문자를 포함한 문자열 뒤에 \"%\"연산자를 적용하여 치환할 값을 명시\n",
    "  - 직접 출력도 가능\n",
    "  - 두 개 이상의 형식 문자를 포함된 문자열에 치환할 값들은 소괄호()로 묶어 콤마로 구분\n",
    "\n",
    "### (3) 형식문자의 기본 사용\n"
   ]
  },
  {
   "cell_type": "code",
   "execution_count": 1,
   "metadata": {},
   "outputs": [
    {
     "name": "stdout",
     "output_type": "stream",
     "text": [
      "나는 10000원을 갖고 있다.\n",
      "[123.456789]원 입니다,\n",
      "Hello python\n"
     ]
    }
   ],
   "source": [
    "# \"%\"연산자 뒤의 값이 \"%d 를 치환한다.\"\n",
    "str1 = \"나는 %d원을 갖고 있다.\" %10000\n",
    "print (str1)\n",
    "# 실수값 표현하기\n",
    "money = 123.456789\n",
    "print(\"[%f]원 입니다,\"  %money)\n",
    "\n",
    "lang = \"python\"\n",
    "str2 = \"Hello %s\" %lang\n",
    "print(str2) \n"
   ]
  },
  {
   "cell_type": "markdown",
   "metadata": {},
   "source": [
    "\n",
    "### (4) 두 개 이상의 형식 문자 사용"
   ]
  },
  {
   "cell_type": "code",
   "execution_count": 3,
   "metadata": {},
   "outputs": [
    {
     "name": "stdout",
     "output_type": "stream",
     "text": [
      "정모 날짜는 2023년 12월 23일 입니다.\n",
      "약속 날짜는 2023년 12월 24일 입니다.\n"
     ]
    }
   ],
   "source": [
    "# 형식문자를 포함한 문장만 별도의 변수로 지정\n",
    "str3 = \"%s 날짜는 %d년 %d월 %d일 입니다.\" \n",
    "\n",
    "# 여러 형식문자를 치환할 경우 값들을 괄호로 묶는다.\n",
    "msg1 = str3 % (\"정모\",2023, 12, 23)\n",
    "print (msg1)\n",
    "\n",
    "msg2 = str3 % (\"약속\", 2023, 12, 24)\n",
    "print(msg2)\n",
    "\n",
    "\n"
   ]
  },
  {
   "cell_type": "markdown",
   "metadata": {},
   "source": [
    "### (5) 정수의 자릿수 표현과 정렬\n"
   ]
  },
  {
   "cell_type": "code",
   "execution_count": 5,
   "metadata": {},
   "outputs": [
    {
     "name": "stdout",
     "output_type": "stream",
     "text": [
      "[   1200000]원을 입금했습니다.\n",
      "[0000120000]원을 입금했습니다.\n",
      "[12000000  ]원을 입금했습니다.\n"
     ]
    }
   ],
   "source": [
    "# 자리수 지정하기 -> 오른쪽 정렬, 빈자리는 공백으로 지정\n",
    "print(\"[%10d]원을 입금했습니다.\" % 1200000)\n",
    "\n",
    "# 자리수 지정하기 -> 오른쪽 정렬, 빈자리는 0으로 지정\n",
    "print(\"[%010d]원을 입금했습니다.\" % 120000)\n",
    "\n",
    "# 자리수 지정하기 -> 왼쪽 정렬, 빈자리는 공백으로 지정 (0 불가)\n",
    "print(\"[%-10d]원을 입금했습니다.\" % 12000000)\n"
   ]
  },
  {
   "cell_type": "markdown",
   "metadata": {},
   "source": [
    "### (6) 문자열의 자릿수 표현과 정렬\n",
    "- 형식문자에 숫자를 포함하여 자릿수 지정\n",
    "  - 형식 문자 예\n",
    "    - %10s\n",
    "    - %-10s\n",
    "    - 0은 문자열에 대하여는 지원되지 않는다.\n",
    "  "
   ]
  },
  {
   "cell_type": "code",
   "execution_count": 6,
   "metadata": {},
   "outputs": [
    {
     "name": "stdout",
     "output_type": "stream",
     "text": [
      "[      대한민국]에 살고 있습니다.\n",
      "[대한민국      ]에 살고 있습니다.\n"
     ]
    }
   ],
   "source": [
    "# 문자열의 자리수 지정하기 -> 빈자리는 공백지정만 가능함\n",
    "print(\"[%10s]에 살고 있습니다.\" % \"대한민국\" ) \n",
    "print(\"[%-10s]에 살고 있습니다.\" % \"대한민국\")"
   ]
  },
  {
   "cell_type": "markdown",
   "metadata": {},
   "source": [
    "### (7) 실수의 자릿수 표현과 정렬\n",
    "- 형식 문자에 숫자를 포함하여 자릿수 지정\n",
    "  - 출력할 값이 지정된 소수점 자리수를 초과할 경우 반올림된다.\n",
    "- 형식문자 예\n",
    "  - %0.3f\n",
    "  - %10.3f\n",
    "  - %-10.3f\n",
    "  - %010.3f\n"
   ]
  },
  {
   "cell_type": "code",
   "execution_count": 7,
   "metadata": {},
   "outputs": [],
   "source": [
    "# 실습을 위한 변수\n",
    "\n",
    "# 소수점 3자리까지 표현하기 -> 소수점 4째자리에서 반올림.\n",
    "\n",
    "# 소수점 3자리까지 표현하되 전체 글자수는 10글자 (빈자리 공백)\n",
    "# 소수점이 자리수에 포함됨\n",
    "# -> 오른쪽 정렬\n",
    "\n",
    "# -> 왼쪽 정렬\n",
    "\n",
    "\n",
    "# 소수점 3자리까지 표현하되 전체 글자수는 10글자 (빈자리 0)\n",
    "# -> 빈 자리를 0으로 채우는 경우는 오른쪽 정렬만 가능함\n"
   ]
  },
  {
   "cell_type": "markdown",
   "metadata": {},
   "source": [
    "## 2. format() 메서드 포메팅\n",
    "\n",
    "### (1) 인덱스 번호를 사용한 문자열 포메팅\n",
    "- 인덱스를 갖는 치환문자를 포함한 문자열 객체에 대한 메서드 호출\n",
    "  - \"[숫자]\"형식의 치환문자를 문자열에 포함한다.\n",
    "  - 숫자값은 0부터 시작되는 인덱스 번호이다.\n",
    "  - 치환문자를 포함한 문자열 객체에 대한 format() 메서드에 치환문자에 적용될 값을 인덱스 순서에 맞춰 파라미터로 설정한다.\n",
    "  - 적용될 값의 데이터 타입은 구분하지 않는다."
   ]
  },
  {
   "cell_type": "code",
   "execution_count": 9,
   "metadata": {},
   "outputs": [
    {
     "name": "stdout",
     "output_type": "stream",
     "text": [
      "I eat 3 apples\n",
      "개강일은 2023년 1월 26일 입니다.\n"
     ]
    }
   ],
   "source": [
    "# 0번째 위치에 format()함수에 전달된 0번째 값을 대입\n",
    "msg1 = \"I eat {0} apples\"\n",
    "print(msg1.format(3))\n",
    "# 여러 개의 값을 혼용하기\n",
    "msg2 = \"{0}은 {1}년 {2}월 {3}일 입니다.\"\n",
    "print(msg2.format(\"개강일\", 2023, 1, 26))"
   ]
  },
  {
   "cell_type": "markdown",
   "metadata": {},
   "source": [
    "### (2) 인덱스 이름을 사용한 문자열 포메팅\n",
    "- 인덱스 번호 대신 치환문자에 이름 부여하기\n",
    "  - \"{숫자}\" 형식의 치환문자 대신 \"{이름}\"형식의 치환문자를 사용할 수 있다.\n",
    "  - 치환문자의 이름은 변수 이름 규칙에 따른다면 어떤 값이든 올 수 있다.\n",
    "  - format() 메서드 사용시 파라미터를 \"이름 = 값, 이름 = 값...\" 형식으로 설정한다.\n",
    "  - 치환문자에 이름을 사용하는 경우 format() 메서드에 전달하는 파라미터의 순서는 결과에 영향을 주지 않는다."
   ]
  },
  {
   "cell_type": "code",
   "execution_count": 11,
   "metadata": {},
   "outputs": [
    {
     "name": "stdout",
     "output_type": "stream",
     "text": [
      "종강일은 2023년 10월 20일 입니다.\n"
     ]
    }
   ],
   "source": [
    "# 이름으로 넣기 --> format() 메서드에 전달되는 파라미터 순서는 영향이 없다.\n",
    "msg3 = \"{name}은 {yy}년 {mm}월 {dd}일 입니다.\"\n",
    "print (msg3.format(mm = 10, name = \"종강일\", dd= 20, yy=2023))\n"
   ]
  },
  {
   "cell_type": "markdown",
   "metadata": {},
   "source": [
    "### (3) 인덱스 번호와 이름의 혼합 사용\n",
    "- 숫자 형식과 이름 형식의 치환문자 함께 사용하기\n",
    "  - 인덱스 형식의 치환자를 우선적으로 사용하고, format()함수에 설정하는 파라미터들 중에서 뒤에서부터 순서대로 이름을 사용.\n"
   ]
  },
  {
   "cell_type": "code",
   "execution_count": 15,
   "metadata": {},
   "outputs": [
    {
     "name": "stdout",
     "output_type": "stream",
     "text": [
      "생일은 2023년 1월 31일 입니다.\n",
      "좋은 교과서는 이 책입니다.\n"
     ]
    }
   ],
   "source": [
    "# 혼합사용 -> 숫자형식의 치환문자가 format() 메서드 안에서 먼저 위치해야한다.\n",
    "msg4 = \"{0}은 {yy}년 {mm}월 {dd}일 입니다.\"\n",
    "print(msg4.format(\"생일\", yy= 2023, mm=1, dd=31))\n",
    "# 인덱스 번호는 format()함수 내의 순서 -> 형식 문자열 안에서는 자유롭게 배치 가능\n",
    "fmt5 = \"{1} {name}는 이 {0}입니다.\"\n",
    "rst = fmt5.format(\"책\", \"좋은\", name=\"교과서\")\n",
    "print(rst)"
   ]
  },
  {
   "cell_type": "markdown",
   "metadata": {},
   "source": [
    "### (4) 혼합 사용 할 수 없는 경우\n",
    "- format() 메서드 안에서 인덱스 번호보다 이름이 먼저 지정될 경우 에러가 발생함\n",
    "  - err = 이 {0}(은)는 {1} {name} 입니다.\n",
    "  - err_result = err.format(name=\"교과서\", \"책\", \"좋은\")\n",
    "  - print(err_result)\n",
    "  "
   ]
  },
  {
   "cell_type": "markdown",
   "metadata": {},
   "source": [
    "### (5) 출력값 정렬\n",
    "- \">\"혹은 \"<\", \"^\"를 사용한 문자열 정렬\n",
    "  - {인덱스번호:>자리수} -> 오른쪽 정렬(\"%자리수s\"와 동일)\n",
    "  - {인덱스번호:<자리수>} -> 왼쪽 정렬(\"%-자리수s\"와 동일)\n",
    "  - {인덱스 번호:^자리수} -> 가운데 정렬"
   ]
  },
  {
   "cell_type": "code",
   "execution_count": 17,
   "metadata": {},
   "outputs": [
    {
     "name": "stdout",
     "output_type": "stream",
     "text": [
      "[   Hi!! Python, [  Welcome]~Python]\n",
      "[Hi   ]!! Python, [  Hello  ]~Python\n",
      "[    Hi    ]!! Python, [  Hello  ]~Python\n"
     ]
    }
   ],
   "source": [
    "# 5글자 오른쪽 정렬 -> \"%5s\"와 동일\n",
    "sort1 =\"[{0:>5}!! Python, [{1:>9}]~Python]\"\n",
    "print( sort1.format(\"Hi\", \"Welcome\"))\n",
    "\n",
    "# 5글자 왼쪽 정렬 -> \"%-5s\"와 동일\n",
    "sort2 = \"[{0:<5}]!! Python, [{1:^9}]~Python\"\n",
    "print( sort2.format(\"Hi\", \"Hello\"))\n",
    "\n",
    "# 가운데 정렬\n",
    "sort3 = \"[{0:^10}]!! Python, [{1:^9}]~Python\"\n",
    "print( sort3.format(\"Hi\", \"Hello\"))\n",
    "\n"
   ]
  },
  {
   "cell_type": "code",
   "execution_count": null,
   "metadata": {},
   "outputs": [],
   "source": []
  }
 ],
 "metadata": {
  "kernelspec": {
   "display_name": "Python 3",
   "language": "python",
   "name": "python3"
  },
  "language_info": {
   "codemirror_mode": {
    "name": "ipython",
    "version": 3
   },
   "file_extension": ".py",
   "mimetype": "text/x-python",
   "name": "python",
   "nbconvert_exporter": "python",
   "pygments_lexer": "ipython3",
   "version": "3.12.0"
  }
 },
 "nbformat": 4,
 "nbformat_minor": 2
}
