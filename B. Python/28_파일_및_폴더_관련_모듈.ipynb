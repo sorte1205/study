{
 "cells": [
  {
   "cell_type": "markdown",
   "metadata": {},
   "source": [
    "# 28 파일 및 폴더 관련 모듈\n",
    "## 1. 파일 및 폴더 관련 모듈 활용\n",
    "### (1) 파이썬 내장 모듈 소개\n",
    "- 모듈이란\n",
    "  - 자주 사용될 기능\n",
    "- 파이썬 내장모듈\n",
    "  - 별도의 구현과정없이 바로 import가능\n",
    "- 앞으로 살펴볼 필수 내장 모듈\n",
    "  - 시스템 정보\n",
    "    - svs, os\n",
    "  - 파일, 디렉토리 작업\n",
    "    - os, shutil, glob\n",
    "  - 날짜, 시간 관련 작업\n",
    "    - datetime\n",
    "  - 메일관련 작업\n",
    "    - smtplib, email\n",
    "- 모듈 참조하기\n",
    "  - import sys  현재 시스템의 정보를 제공\n",
    "  - import os   운영체제 기능에 접근, ex. 경로/파일\n",
    "- 현재 운영체제 이름 조회\n",
    "  - 윈도우 = `win32`, Mac = `darwin`, Linux = `linux1 혹은 linux2`\n",
    "  - print(sys.platform)\n",
    "        Mac과 window는 코드가 많이 다르다.\n",
    "        if 문으로 mac이면 이 코드, win이면 저 코드\n",
    "\n",
    "### (2) 경로 문자열 관련 기능\n"
   ]
  },
  {
   "cell_type": "code",
   "execution_count": 13,
   "metadata": {},
   "outputs": [
    {
     "name": "stdout",
     "output_type": "stream",
     "text": [
      "['.git', '.hello', '03_첫_번째_파이썬_프로그램.ipynb', 'a.py', 'Cos Pro', 'Day2 01 파이썬 입문.txt', 'Day2 02 파이썬 개발환경 구성.txt', 'Day2 03 첫 번째 파이썬 프로그램.txt', 'Day2 03_첫_번째_파이썬_프로그램.ipynb', 'Day2 04 변수의 이해.txt', 'Day3 04_변수의_이해.ipynb', 'Day3 05_함수와_객체의_이해.ipynb', 'Day3 06_연산자.ipynb', 'Day3 07_파이썬_프로그래밍.ipynb', 'Day3 연구과제(1)_연산자.ipynb', 'Day3 연구과제(2)_input().ipynb', 'Day3 연구과제(3)_문자열.ipynb', 'Day4 08_문자열_포메팅.ipynb', 'Day4 09_문자열_함수.ipynb', 'Day4 10_리스트의이해.ipynb', 'Day4 11_리스트의_활용.ipynb', 'Day4 12_리스트_관련_함수.ipynb', 'Day5 13_딕셔너리의_이해.ipynb', 'Day5 14_딕셔너리의_활용.ipynb', 'Day5 15_조건문.ipynb', 'Day5 16_반복문(1)_WHILE문.ipynb', 'Day5 추가문제.ipynb', 'Day6 17_반복문(2)_For문.ipynb', 'Day6 18_프로그램_흐름제어.ipynb', 'Day6 19_코딩_테스트_기본_유형.ipynb', 'Day6 20_중간점검_문제.ipynb', 'Day7 22_함수의_이해.ipynb', 'Day7 23_파일_입출력.ipynb', 'Day7 24_CSV파일_다루기.ipynb', 'Day8 25_클래스와_객체.ipynb', 'Day8 26_생성자_정보은닉_프로퍼티.ipynb', 'Day8 27_모듈의_이해.ipynb', 'Day9 28_파일_및_폴더_관련_모듈.ipynb', 'grade.csv', 'grade2.csv', 'hellopython.txt', 'helloworld.txt', 'MyMod2.py', 'MyMod3.py', 'myModule.py', 'myModule1.ipynb', 'myModule1.py', 'README.md', 'traffic_acc.csv', '[파이썬-01일차] 파이썬 시작, 개발환경구성,hellovkdlTjs!@# -복사.pdf', '[파이썬-02일차] 변수의 이해, 함수와 객체의 이해, 연산자.pdf', '[파이썬-03일차] 문자열의 이해, 문자열 포메팅, 문자열 함수.pdf', '[파이썬-04일차] 리스트의 이해+활용+함수.pdf', '[파이썬-05일차] 딕셔너리의 이해+활용, 조건문.pdf', '[파이썬-06일차] 반복문(while, for), 흐름제어.pdf', '[파이썬-07일차] 문제유형+종합문제.pdf', '[파이썬-08일차] 함수의 이해, 파일 입출력, CSV 다루기.pdf', '[파이썬-09일차] 클래스와 객체, 생성자+정보은닉+프로퍼티, 모듈의 이해.pdf', '[파이썬-10일차] 파일 및 폴더, 날짜 및 시간, 메일 발송.pdf', '__pycache__', '문제풀이.pdf', '추가문제.pdf', '파이썬 기본함수 정리_배포용.pdf']\n",
      "False\n",
      "e:\\산대특\\본과정 1분기\\B. Python\\hello\n",
      "['03_첫_번째_파이썬_프로그램.ipynb', 'a.py', 'Cos Pro', 'Day2 01 파이썬 입문.txt', 'Day2 02 파이썬 개발환경 구성.txt', 'Day2 03 첫 번째 파이썬 프로그램.txt', 'Day2 03_첫_번째_파이썬_프로그램.ipynb', 'Day2 04 변수의 이해.txt', 'Day3 04_변수의_이해.ipynb', 'Day3 05_함수와_객체의_이해.ipynb', 'Day3 06_연산자.ipynb', 'Day3 07_파이썬_프로그래밍.ipynb', 'Day3 연구과제(1)_연산자.ipynb', 'Day3 연구과제(2)_input().ipynb', 'Day3 연구과제(3)_문자열.ipynb', 'Day4 08_문자열_포메팅.ipynb', 'Day4 09_문자열_함수.ipynb', 'Day4 10_리스트의이해.ipynb', 'Day4 11_리스트의_활용.ipynb', 'Day4 12_리스트_관련_함수.ipynb', 'Day5 13_딕셔너리의_이해.ipynb', 'Day5 14_딕셔너리의_활용.ipynb', 'Day5 15_조건문.ipynb', 'Day5 16_반복문(1)_WHILE문.ipynb', 'Day5 추가문제.ipynb', 'Day6 17_반복문(2)_For문.ipynb', 'Day6 18_프로그램_흐름제어.ipynb', 'Day6 19_코딩_테스트_기본_유형.ipynb', 'Day6 20_중간점검_문제.ipynb', 'Day7 22_함수의_이해.ipynb', 'Day7 23_파일_입출력.ipynb', 'Day7 24_CSV파일_다루기.ipynb', 'Day8 25_클래스와_객체.ipynb', 'Day8 26_생성자_정보은닉_프로퍼티.ipynb', 'Day8 27_모듈의_이해.ipynb', 'Day9 28_파일_및_폴더_관련_모듈.ipynb', 'grade.csv', 'grade2.csv', 'hello', 'hellopython.txt', 'helloworld.txt', 'MyMod2.py', 'MyMod3.py', 'myModule.py', 'myModule1.ipynb', 'myModule1.py', 'README.md', 'traffic_acc.csv', '[파이썬-01일차] 파이썬 시작, 개발환경구성,hellovkdlTjs!@# -복사.pdf', '[파이썬-02일차] 변수의 이해, 함수와 객체의 이해, 연산자.pdf', '[파이썬-03일차] 문자열의 이해, 문자열 포메팅, 문자열 함수.pdf', '[파이썬-04일차] 리스트의 이해+활용+함수.pdf', '[파이썬-05일차] 딕셔너리의 이해+활용, 조건문.pdf', '[파이썬-06일차] 반복문(while, for), 흐름제어.pdf', '[파이썬-07일차] 문제유형+종합문제.pdf', '[파이썬-08일차] 함수의 이해, 파일 입출력, CSV 다루기.pdf', '[파이썬-09일차] 클래스와 객체, 생성자+정보은닉+프로퍼티, 모듈의 이해.pdf', '[파이썬-10일차] 파일 및 폴더, 날짜 및 시간, 메일 발송.pdf', '__pycache__', '문제풀이.pdf', '추가문제.pdf', '파이썬 기본함수 정리_배포용.pdf']\n",
      "['03_첫_번째_파이썬_프로그램.ipynb', 'Day2 03_첫_번째_파이썬_프로그램.ipynb', 'Day3 04_변수의_이해.ipynb', 'Day3 05_함수와_객체의_이해.ipynb', 'Day3 06_연산자.ipynb', 'Day3 07_파이썬_프로그래밍.ipynb', 'Day3 연구과제(1)_연산자.ipynb', 'Day3 연구과제(2)_input().ipynb', 'Day3 연구과제(3)_문자열.ipynb', 'Day4 08_문자열_포메팅.ipynb', 'Day4 09_문자열_함수.ipynb', 'Day4 10_리스트의이해.ipynb', 'Day4 11_리스트의_활용.ipynb', 'Day4 12_리스트_관련_함수.ipynb', 'Day5 13_딕셔너리의_이해.ipynb', 'Day5 14_딕셔너리의_활용.ipynb', 'Day5 15_조건문.ipynb', 'Day5 16_반복문(1)_WHILE문.ipynb', 'Day5 추가문제.ipynb', 'Day6 17_반복문(2)_For문.ipynb', 'Day6 18_프로그램_흐름제어.ipynb', 'Day6 19_코딩_테스트_기본_유형.ipynb', 'Day6 20_중간점검_문제.ipynb', 'Day7 22_함수의_이해.ipynb', 'Day7 23_파일_입출력.ipynb', 'Day7 24_CSV파일_다루기.ipynb', 'Day8 25_클래스와_객체.ipynb', 'Day8 26_생성자_정보은닉_프로퍼티.ipynb', 'Day8 27_모듈의_이해.ipynb', 'Day9 28_파일_및_폴더_관련_모듈.ipynb', 'myModule1.ipynb']\n",
      "['Day2 01 파이썬 입문.txt', 'Day2 02 파이썬 개발환경 구성.txt', 'Day2 03 첫 번째 파이썬 프로그램.txt', 'Day2 03_첫_번째_파이썬_프로그램.ipynb', 'Day2 04 변수의 이해.txt', 'Day3 연구과제(2)_input().ipynb', 'Day4 12_리스트_관련_함수.ipynb', 'Day6 17_반복문(2)_For문.ipynb', 'Day6 20_중간점검_문제.ipynb', 'Day7 22_함수의_이해.ipynb', 'Day7 23_파일_입출력.ipynb', 'Day7 24_CSV파일_다루기.ipynb', 'Day8 25_클래스와_객체.ipynb', 'Day8 26_생성자_정보은닉_프로퍼티.ipynb', 'Day8 27_모듈의_이해.ipynb', 'Day9 28_파일_및_폴더_관련_모듈.ipynb', 'grade2.csv', 'MyMod2.py', '[파이썬-02일차] 변수의 이해, 함수와 객체의 이해, 연산자.pdf']\n"
     ]
    }
   ],
   "source": [
    "import sys\n",
    "import os\n",
    "# 현재 폴더 내의 하위 항목들의 이름을 리스트로 리턴\n",
    "# -> \"./\"혹은 \".\"은 현재 폴더라는 의미\n",
    "# -> \"../\"는 상위 폴더라는 의미\n",
    "\n",
    "ls = os.listdir('./')\n",
    "print(ls)\n",
    "\n",
    "# 특정 폴더나 파일이 존재하는지 확인 -> 상대경로일 경우 현재 소스파일 기준\n",
    "k = os.path.exists('./hello')   # 이게 있니?\n",
    "print(k)\n",
    "\n",
    "# 절대경로 확인 -> 존재하지 않아도 경로값은 확인 가능\n",
    "print(os.path.abspath('./hello'))\n",
    "\n",
    "# 폴더의 생성과 삭제\n",
    "    # 폴더가 있는지 확인\n",
    "if os.path.exists('./hello') == False: \n",
    "    os.mkdir('./hello')  #  없다면 생성 'mkdir'은 마지막 폴더 하나만 생성\n",
    "                         # mkdir 만 쓰고, 이미 생성되어 있다면 에러. \n",
    "else: \n",
    "    os.rmdir('./hello')  # 있다면 삭제 --> 빈 폴더만 삭제가능\n",
    "    print('hello 폴더를 삭제했습니다.') # 파일삭제는 remove()\n",
    "\n",
    "\n",
    "\n",
    "\n",
    "\n"
   ]
  },
  {
   "cell_type": "code",
   "execution_count": 14,
   "metadata": {},
   "outputs": [
    {
     "name": "stdout",
     "output_type": "stream",
     "text": [
      "['03_첫_번째_파이썬_프로그램.ipynb', 'a.py', 'Cos Pro', 'Day2 01 파이썬 입문.txt', 'Day2 02 파이썬 개발환경 구성.txt', 'Day2 03 첫 번째 파이썬 프로그램.txt', 'Day2 03_첫_번째_파이썬_프로그램.ipynb', 'Day2 04 변수의 이해.txt', 'Day3 04_변수의_이해.ipynb', 'Day3 05_함수와_객체의_이해.ipynb', 'Day3 06_연산자.ipynb', 'Day3 07_파이썬_프로그래밍.ipynb', 'Day3 연구과제(1)_연산자.ipynb', 'Day3 연구과제(2)_input().ipynb', 'Day3 연구과제(3)_문자열.ipynb', 'Day4 08_문자열_포메팅.ipynb', 'Day4 09_문자열_함수.ipynb', 'Day4 10_리스트의이해.ipynb', 'Day4 11_리스트의_활용.ipynb', 'Day4 12_리스트_관련_함수.ipynb', 'Day5 13_딕셔너리의_이해.ipynb', 'Day5 14_딕셔너리의_활용.ipynb', 'Day5 15_조건문.ipynb', 'Day5 16_반복문(1)_WHILE문.ipynb', 'Day5 추가문제.ipynb', 'Day6 17_반복문(2)_For문.ipynb', 'Day6 18_프로그램_흐름제어.ipynb', 'Day6 19_코딩_테스트_기본_유형.ipynb', 'Day6 20_중간점검_문제.ipynb', 'Day7 22_함수의_이해.ipynb', 'Day7 23_파일_입출력.ipynb', 'Day7 24_CSV파일_다루기.ipynb', 'Day8 25_클래스와_객체.ipynb', 'Day8 26_생성자_정보은닉_프로퍼티.ipynb', 'Day8 27_모듈의_이해.ipynb', 'Day9 28_파일_및_폴더_관련_모듈.ipynb', 'grade.csv', 'grade2.csv', 'hello', 'hellopython.txt', 'helloworld.txt', 'MyMod2.py', 'MyMod3.py', 'myModule.py', 'myModule1.ipynb', 'myModule1.py', 'README.md', 'traffic_acc.csv', '[파이썬-01일차] 파이썬 시작, 개발환경구성,hellovkdlTjs!@# -복사.pdf', '[파이썬-02일차] 변수의 이해, 함수와 객체의 이해, 연산자.pdf', '[파이썬-03일차] 문자열의 이해, 문자열 포메팅, 문자열 함수.pdf', '[파이썬-04일차] 리스트의 이해+활용+함수.pdf', '[파이썬-05일차] 딕셔너리의 이해+활용, 조건문.pdf', '[파이썬-06일차] 반복문(while, for), 흐름제어.pdf', '[파이썬-07일차] 문제유형+종합문제.pdf', '[파이썬-08일차] 함수의 이해, 파일 입출력, CSV 다루기.pdf', '[파이썬-09일차] 클래스와 객체, 생성자+정보은닉+프로퍼티, 모듈의 이해.pdf', '[파이썬-10일차] 파일 및 폴더, 날짜 및 시간, 메일 발송.pdf', '__pycache__', '문제풀이.pdf', '추가문제.pdf', '파이썬 기본함수 정리_배포용.pdf']\n",
      "['03_첫_번째_파이썬_프로그램.ipynb', 'Day2 03_첫_번째_파이썬_프로그램.ipynb', 'Day3 04_변수의_이해.ipynb', 'Day3 05_함수와_객체의_이해.ipynb', 'Day3 06_연산자.ipynb', 'Day3 07_파이썬_프로그래밍.ipynb', 'Day3 연구과제(1)_연산자.ipynb', 'Day3 연구과제(2)_input().ipynb', 'Day3 연구과제(3)_문자열.ipynb', 'Day4 08_문자열_포메팅.ipynb', 'Day4 09_문자열_함수.ipynb', 'Day4 10_리스트의이해.ipynb', 'Day4 11_리스트의_활용.ipynb', 'Day4 12_리스트_관련_함수.ipynb', 'Day5 13_딕셔너리의_이해.ipynb', 'Day5 14_딕셔너리의_활용.ipynb', 'Day5 15_조건문.ipynb', 'Day5 16_반복문(1)_WHILE문.ipynb', 'Day5 추가문제.ipynb', 'Day6 17_반복문(2)_For문.ipynb', 'Day6 18_프로그램_흐름제어.ipynb', 'Day6 19_코딩_테스트_기본_유형.ipynb', 'Day6 20_중간점검_문제.ipynb', 'Day7 22_함수의_이해.ipynb', 'Day7 23_파일_입출력.ipynb', 'Day7 24_CSV파일_다루기.ipynb', 'Day8 25_클래스와_객체.ipynb', 'Day8 26_생성자_정보은닉_프로퍼티.ipynb', 'Day8 27_모듈의_이해.ipynb', 'Day9 28_파일_및_폴더_관련_모듈.ipynb', 'myModule1.ipynb']\n",
      "['Day2 01 파이썬 입문.txt', 'Day2 02 파이썬 개발환경 구성.txt', 'Day2 03 첫 번째 파이썬 프로그램.txt', 'Day2 03_첫_번째_파이썬_프로그램.ipynb', 'Day2 04 변수의 이해.txt', 'Day3 연구과제(2)_input().ipynb', 'Day4 12_리스트_관련_함수.ipynb', 'Day6 17_반복문(2)_For문.ipynb', 'Day6 20_중간점검_문제.ipynb', 'Day7 22_함수의_이해.ipynb', 'Day7 23_파일_입출력.ipynb', 'Day7 24_CSV파일_다루기.ipynb', 'Day8 25_클래스와_객체.ipynb', 'Day8 26_생성자_정보은닉_프로퍼티.ipynb', 'Day8 27_모듈의_이해.ipynb', 'Day9 28_파일_및_폴더_관련_모듈.ipynb', 'grade2.csv', 'MyMod2.py', '[파이썬-02일차] 변수의 이해, 함수와 객체의 이해, 연산자.pdf']\n"
     ]
    }
   ],
   "source": [
    "# 파일이나 폴더 검색\n",
    "\n",
    "    # 모듈 참조하기\n",
    "import glob as gl        # glob이란 모듈 안에 glob이란 기능이 있어서.. \n",
    "    # 현재 폴더의 모든 하위 요소 조회하기\n",
    "ls = gl.glob('*')\n",
    "print(ls)\n",
    "# 현재 폴더에서 \".ipynb\"로 끝나는 모든 요소들 조회\n",
    "ls = gl.glob(\"*.ipynb\")\n",
    "print(ls)\n",
    "# 현재 폴더에서 \"2\"를 포함하는 파일 조회\n",
    "ls = gl.glob('*2*')\n",
    "print(ls)\n",
    "\n"
   ]
  },
  {
   "cell_type": "code",
   "execution_count": 23,
   "metadata": {},
   "outputs": [
    {
     "name": "stdout",
     "output_type": "stream",
     "text": [
      "python 폴더가 삭제되었습니다.\n"
     ]
    }
   ],
   "source": [
    "\n",
    "# 폴더트리 생성 및 삭제\n",
    "import shutil          \n",
    "\n",
    "if os.path.exists('python') == False:\n",
    "# if not os.path/exists('python') == True:      # 같은 말이다.\n",
    "    os.makedirs('python/test/hello/world', exist_ok = True)\n",
    "    print('python 폴더와 하위 폴더들을 생성 했습니다.')\n",
    "else:\n",
    "    shutil.rmtree('python')     #폴더 안의 하위 폴더 모두 삭제\n",
    "    print('python 폴더가 삭제되었습니다.')  \n"
   ]
  },
  {
   "cell_type": "code",
   "execution_count": 33,
   "metadata": {},
   "outputs": [
    {
     "name": "stdout",
     "output_type": "stream",
     "text": [
      "python 폴더가 copy로 복사되었습니다.\n"
     ]
    }
   ],
   "source": [
    "\n",
    "# 폴더의 이동과 폴더 트리 복사\n",
    "    # 폴더의 이동\n",
    "if os.path.exists('python'):            \n",
    "    shutil.move('python', '../created')  # python이 없어지고, 같은 곳에 폴더인 created를 만듦\n",
    "    # 폴더의 복사\n",
    "if os.path.exists('../created'):\n",
    "    shutil.copytree('../created', './copy')\n",
    "    print('python 폴더가 copy로 복사되었습니다.') # copy도 새로 만듦"
   ]
  },
  {
   "cell_type": "code",
   "execution_count": 34,
   "metadata": {},
   "outputs": [
    {
     "name": "stdout",
     "output_type": "stream",
     "text": [
      "hello.txt 파일을 생성했습니다.\n",
      "hello.txt가 world.txt로 복사되었습니다.\n"
     ]
    }
   ],
   "source": [
    "# 파일의 복사 및 삭제 작업\n",
    "    # os모듈 내의 path 객체가 갖는 exsists() 함수를 사용\n",
    "    # -> \"hello.txt\"라는 파일이 존재하지 않는다면?\n",
    "if os.path.exists('hello.txt') == False:\n",
    "    # 테스트용 파일 생성\n",
    "    with open(\"hello.txt\", \"w\", encoding = \"utf-8\") as f:\n",
    "        f.write(\"Life is too short, you need python\")\n",
    "        print(\"hello.txt 파일을 생성했습니다.\")\n",
    "    \n",
    "    # 생성한 파일을 복사함 -> 이미 존재할 경우 덮어씀\n",
    "    shutil.copy('hello.txt', 'world.txt')\n",
    "    print('hello.txt가 world.txt로 복사되었습니다.')\n",
    "# 그렇지 않다면?\n",
    "# -> \"hello.txt\"라는 파일이 존재 한다면?\n",
    "else:\n",
    "    os.remove('hello.txt')\n",
    "    print('hello.txt가 삭제되었습니다.')\n",
    "    os.remove('world.txt')  # remove()는 파일 하나만 삭제 가능\n",
    "    print(\"world.txt가 삭제되었습니다.\")"
   ]
  },
  {
   "cell_type": "code",
   "execution_count": null,
   "metadata": {},
   "outputs": [],
   "source": []
  }
 ],
 "metadata": {
  "kernelspec": {
   "display_name": "Python 3",
   "language": "python",
   "name": "python3"
  },
  "language_info": {
   "codemirror_mode": {
    "name": "ipython",
    "version": 3
   },
   "file_extension": ".py",
   "mimetype": "text/x-python",
   "name": "python",
   "nbconvert_exporter": "python",
   "pygments_lexer": "ipython3",
   "version": "3.12.0"
  }
 },
 "nbformat": 4,
 "nbformat_minor": 2
}
