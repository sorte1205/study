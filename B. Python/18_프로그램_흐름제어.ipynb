{
 "cells": [
  {
   "cell_type": "markdown",
   "metadata": {},
   "source": [
    "# 18 프로그램 흐름제어\n",
    "## 1. 문법의 중첩 사용\n",
    "### (1) 여러가지 문법의 중첩 사용\n",
    "- 조건문과 반복문간의 중첩사용\n",
    "  - If\n",
    "  - While\n",
    "  - For\n",
    "\n",
    "- while은 잘 안쓰므로, If와 For에만 집중.\n",
    "  \n",
    "### (2) 중첩 조건문\n",
    "- 특정 조건을 좀 더 상세하게 판단하기 위해 사용\n",
    "   "
   ]
  },
  {
   "cell_type": "code",
   "execution_count": null,
   "metadata": {},
   "outputs": [],
   "source": [
    "point = int(input(\"점수를 입력하세요\"))\n",
    "print(\"입력한 점수는 %점 입니다.\" % point)\n",
    "\n",
    "\n",
    "# 1단계: 바깥을 완성하고\n",
    "if point > 70:\n",
    "    print(\"패스입니다\")\n",
    "else:\n",
    "    print(\"패스하지 못했습니다.\")\n",
    "\n",
    "# 2단계: 안을 완성하자\n",
    "if point > 70:\n",
    "    print(\"패스입니다\")\n",
    "    \n",
    "    if point > 90:\n",
    "        print(\"A입니다.\")\n",
    "    elif point >80:\n",
    "        print(\"B입니다\")\n",
    "    else\n",
    "        print(\"C입니다.\")\n",
    "else:\n",
    "    print(\"패스하지 못했습니다.\")\n",
    "\n"
   ]
  },
  {
   "cell_type": "markdown",
   "metadata": {},
   "source": [
    "### (3) 반복문에 포함된 조건문\n",
    "- 짝, 홀수의 합\n",
    "  - 반복 수행 1회마다 조건을 판별한다.\n",
    "  - 주로 반복문에서 설정되는 조건값에 대한 검사를 수행\n",
    "\n",
    "- 반복 수행시 마지막 회차 생략하기"
   ]
  },
  {
   "cell_type": "code",
   "execution_count": 1,
   "metadata": {},
   "outputs": [
    {
     "name": "stdout",
     "output_type": "stream",
     "text": [
      "입력한 숫자는 %d 점입니다. % number\n",
      "1는 홀수\n",
      "2는 짝수\n",
      "3는 홀수\n",
      "1~%d\n"
     ]
    }
   ],
   "source": [
    "number = int(input(\"숫자를 입력하세요\"))\n",
    "print(\"입력한 숫자는 %d 점입니다. % number\")\n",
    "# 짝, 홀수의 합\n",
    "x = 0\n",
    "y = 0 # 총 합을 귀하기 위해서는 반복문 전에 0으로 초기화 된 변수 필요\n",
    "\n",
    "\n",
    "for i in range(1, number+1):\n",
    "    if i % 2 == 0:\n",
    "        print(\"%d는 짝수\" %i)\n",
    "        x += i\n",
    "    else:\n",
    "        print(\"%d는 홀수\" % i)\n",
    "        y += i\n",
    "    \n",
    "print (\"1~%d까지 짝수들의 합:\"% (number, x))\n",
    "print (\"1~%d까지 홀수들의 합:\"%(number, y))\n",
    "\n",
    "# 반복 수행시 마지막 회차 생략하기\n",
    "\n",
    "for i in range(0, 5):\n",
    "    print(i)\n",
    "    \n",
    "    if i+1 <5:\n",
    "        print (\"-\"*5)"
   ]
  },
  {
   "cell_type": "markdown",
   "metadata": {},
   "source": [
    "### (4) 중첩 반복문\n",
    "- 중첨 반복문의 실행 과정 확인\n",
    "  - 바깥의 부모 반복문이 1회차를 수행하는 동안 안쪽의 자식 반복문이 매번 처음부터 다시 시작한다.\n",
    "  - 바깥: 행\n",
    "  - 안쪽: 열 (2차 리스트 탐색)\n"
   ]
  },
  {
   "cell_type": "code",
   "execution_count": 3,
   "metadata": {},
   "outputs": [
    {
     "name": "stdout",
     "output_type": "stream",
     "text": [
      "'i'에 대한 반복 수행 시작 => i =1\n",
      "\t i= 1, j=0\n",
      "\t i= 1, j=1\n",
      "\t i= 1, j=2\n",
      "\t i= 1, j=3\n",
      "\t i= 1, j=4\n",
      "'i'에 대한 반복 수행 종료\n",
      "------------------------------\n",
      "'i'에 대한 반복 수행 시작 => i =2\n",
      "\t i= 2, j=0\n",
      "\t i= 2, j=1\n",
      "\t i= 2, j=2\n",
      "\t i= 2, j=3\n",
      "\t i= 2, j=4\n",
      "'i'에 대한 반복 수행 종료\n",
      "'i'에 대한 반복 수행 시작 => i =3\n",
      "\t i= 3, j=0\n",
      "\t i= 3, j=1\n",
      "\t i= 3, j=2\n",
      "\t i= 3, j=3\n",
      "\t i= 3, j=4\n",
      "'i'에 대한 반복 수행 종료\n",
      "'i'에 대한 반복 수행 시작 => i =4\n",
      "\t i= 4, j=0\n",
      "\t i= 4, j=1\n",
      "\t i= 4, j=2\n",
      "\t i= 4, j=3\n",
      "\t i= 4, j=4\n",
      "'i'에 대한 반복 수행 종료\n",
      "'i'에 대한 반복 수행 시작 => i =5\n",
      "\t i= 5, j=0\n",
      "\t i= 5, j=1\n",
      "\t i= 5, j=2\n",
      "\t i= 5, j=3\n",
      "\t i= 5, j=4\n",
      "'i'에 대한 반복 수행 종료\n",
      "'i'에 대한 반복 수행 시작 => i =6\n",
      "\t i= 6, j=0\n",
      "\t i= 6, j=1\n",
      "\t i= 6, j=2\n",
      "\t i= 6, j=3\n",
      "\t i= 6, j=4\n",
      "'i'에 대한 반복 수행 종료\n",
      "'i'에 대한 반복 수행 시작 => i =7\n",
      "\t i= 7, j=0\n",
      "\t i= 7, j=1\n",
      "\t i= 7, j=2\n",
      "\t i= 7, j=3\n",
      "\t i= 7, j=4\n",
      "'i'에 대한 반복 수행 종료\n",
      "'i'에 대한 반복 수행 시작 => i =8\n",
      "\t i= 8, j=0\n",
      "\t i= 8, j=1\n",
      "\t i= 8, j=2\n",
      "\t i= 8, j=3\n",
      "\t i= 8, j=4\n",
      "'i'에 대한 반복 수행 종료\n",
      "'i'에 대한 반복 수행 시작 => i =9\n",
      "\t i= 9, j=0\n",
      "\t i= 9, j=1\n",
      "\t i= 9, j=2\n",
      "\t i= 9, j=3\n",
      "\t i= 9, j=4\n",
      "'i'에 대한 반복 수행 종료\n",
      "2 X 1 = 2\n",
      "2 X 2 = 4\n",
      "2 X 3 = 6\n",
      "2 X 4 = 8\n",
      "2 X 5 = 10\n",
      "2 X 6 = 12\n",
      "2 X 7 = 14\n",
      "2 X 8 = 16\n",
      "2 X 9 = 18\n",
      "--------------------\n",
      "3 X 1 = 3\n",
      "3 X 2 = 6\n",
      "3 X 3 = 9\n",
      "3 X 4 = 12\n",
      "3 X 5 = 15\n",
      "3 X 6 = 18\n",
      "3 X 7 = 21\n",
      "3 X 8 = 24\n",
      "3 X 9 = 27\n",
      "--------------------\n",
      "4 X 1 = 4\n",
      "4 X 2 = 8\n",
      "4 X 3 = 12\n",
      "4 X 4 = 16\n",
      "4 X 5 = 20\n",
      "4 X 6 = 24\n",
      "4 X 7 = 28\n",
      "4 X 8 = 32\n",
      "4 X 9 = 36\n",
      "--------------------\n",
      "5 X 1 = 5\n",
      "5 X 2 = 10\n",
      "5 X 3 = 15\n",
      "5 X 4 = 20\n",
      "5 X 5 = 25\n",
      "5 X 6 = 30\n",
      "5 X 7 = 35\n",
      "5 X 8 = 40\n",
      "5 X 9 = 45\n",
      "--------------------\n",
      "6 X 1 = 6\n",
      "6 X 2 = 12\n",
      "6 X 3 = 18\n",
      "6 X 4 = 24\n",
      "6 X 5 = 30\n",
      "6 X 6 = 36\n",
      "6 X 7 = 42\n",
      "6 X 8 = 48\n",
      "6 X 9 = 54\n",
      "--------------------\n",
      "7 X 1 = 7\n",
      "7 X 2 = 14\n",
      "7 X 3 = 21\n",
      "7 X 4 = 28\n",
      "7 X 5 = 35\n",
      "7 X 6 = 42\n",
      "7 X 7 = 49\n",
      "7 X 8 = 56\n",
      "7 X 9 = 63\n",
      "--------------------\n",
      "8 X 1 = 8\n",
      "8 X 2 = 16\n",
      "8 X 3 = 24\n",
      "8 X 4 = 32\n",
      "8 X 5 = 40\n",
      "8 X 6 = 48\n",
      "8 X 7 = 56\n",
      "8 X 8 = 64\n",
      "8 X 9 = 72\n",
      "--------------------\n",
      "9 X 1 = 9\n",
      "9 X 2 = 18\n",
      "9 X 3 = 27\n",
      "9 X 4 = 36\n",
      "9 X 5 = 45\n",
      "9 X 6 = 54\n",
      "9 X 7 = 63\n",
      "9 X 8 = 72\n",
      "9 X 9 = 81\n"
     ]
    }
   ],
   "source": [
    "for i in range(1, 10):\n",
    "    print (\"'i'에 대한 반복 수행 시작 => i =%d\" %i)\n",
    "\n",
    "    for j in range(0, 5):\n",
    "        print (\"\\t i= %d, j=%d\" % (i,j))\n",
    "\n",
    "    print (\"'i'에 대한 반복 수행 종료\")\n",
    "\n",
    "    if i +1 < 3:\n",
    "        print (\"-\"*30)\n",
    "\n",
    "# 구구단\n",
    "tpl = \"{0} X {1} = {2}\"\n",
    "# i 의 변화 범위 2~9\n",
    "for i in range (2,10):\n",
    "\n",
    "    for j in range (1, 10):\n",
    "        k = i*j\n",
    "        print(tpl.format(i,j,k))\n",
    "    if i+1 <10:\n",
    "        print (\"-\"*20)\n",
    "\n"
   ]
  },
  {
   "cell_type": "markdown",
   "metadata": {},
   "source": [
    "### (5) 반복문의 흐름제어 (1)\n",
    "- 반복문의 흐름제어 기법\n",
    "  - break\n",
    "  - continue\n",
    "- 무한 루프\n",
    "  - 피해가야하는 현상.\n",
    "  - 파이썬은 overflow가 없이 찐 무한루프 가능."
   ]
  },
  {
   "cell_type": "code",
   "execution_count": 5,
   "metadata": {},
   "outputs": [
    {
     "name": "stdout",
     "output_type": "stream",
     "text": [
      "Hello Python (1)\n",
      "Hello Python (3)\n",
      "Hello Python (5)\n",
      "Hello Python (7)\n",
      "Hello Python (9)\n"
     ]
    }
   ],
   "source": [
    "# 반복문에서의 흐름제어\n",
    "y =0 \n",
    "while True:\n",
    "    y +=1\n",
    "    \n",
    "    if y % 2 == 0:\n",
    "        continue    # 조건식 강제 이동 (앞으로 이동)\n",
    "    if y > 10:\n",
    "        break       # 강제 종료\n",
    "    print (\"Hello Python (%d)\" % y)"
   ]
  },
  {
   "cell_type": "markdown",
   "metadata": {},
   "source": [
    "## 연구과제 (1)\n",
    "- 두 개의 주사위 던지기\n",
    "  - 두 눈의 합이 6이 되는 모든 경우의 수 출력, 경우의 수는 총 몇 가지인지 출력\n",
    "- [1,5]\n",
    "- [2,4]\n",
    "- [3,3]\n",
    "- [4,2]\n",
    "- [5,1]\n",
    "- 경우의 수는 5개 입니다."
   ]
  },
  {
   "cell_type": "code",
   "execution_count": 32,
   "metadata": {},
   "outputs": [
    {
     "name": "stdout",
     "output_type": "stream",
     "text": [
      "[1,5]\n",
      "경우의 수는 1개 입니다.\n",
      "[2,4]\n",
      "경우의 수는 2개 입니다.\n",
      "[3,3]\n",
      "경우의 수는 3개 입니다.\n",
      "[4,2]\n",
      "경우의 수는 4개 입니다.\n",
      "[5,1]\n",
      "경우의 수는 5개 입니다.\n"
     ]
    }
   ],
   "source": [
    "tpl= \"[{0},{1}]\"\n",
    "count = 0\n",
    "for i in range (1,7):\n",
    "    for j in range(1,7):\n",
    "        if i + j == 6:\n",
    "            count +=1   \n",
    "            print(tpl.format(i,j))\n",
    "\n",
    "    if i+1 <7:\n",
    "        print (\"경우의 수는 %d개 입니다.\" % count)\n"
   ]
  },
  {
   "cell_type": "markdown",
   "metadata": {},
   "source": [
    "## 연구과제(2)\n",
    "\n",
    "- 1~100 범위안에서 공배수 구하기\n",
    "- 공배수: i%x ==0 and i%y ==0 \n",
    "- x = int(input(\"정수를 입력하세요.))\n",
    "- y = int(input(\"정수를 입력하세요.))\n",
    "- 공배수 출력, 총 합 구하기\n",
    "- "
   ]
  },
  {
   "cell_type": "code",
   "execution_count": 33,
   "metadata": {},
   "outputs": [
    {
     "name": "stdout",
     "output_type": "stream",
     "text": [
      "52\n",
      "공배수의 총 합은 52 입니다,\n"
     ]
    }
   ],
   "source": [
    "x = int(input(\"정수를 입력하세요\"))\n",
    "y = int(input(\"정수를 입력하세요\"))\n",
    "z = 0\n",
    "for cm in range(1, 101):\n",
    "    if cm % x == 0 and cm % y == 0:\n",
    "        print(cm)\n",
    "        z += cm\n",
    "        print (\"공배수의 총 합은 %d 입니다,\" % z)\n",
    "            "
   ]
  },
  {
   "cell_type": "code",
   "execution_count": 35,
   "metadata": {},
   "outputs": [
    {
     "name": "stdout",
     "output_type": "stream",
     "text": [
      "[1, 5]\n",
      "1\n",
      "[2, 4]\n",
      "2\n",
      "[3, 3]\n",
      "3\n",
      "[4, 2]\n",
      "4\n",
      "[5, 1]\n",
      "5\n",
      "54\n",
      "합계는 54입니다.. \n"
     ]
    }
   ],
   "source": [
    "# 연구과제 (1) 해설\n",
    "count = 0\n",
    "for i in range(1,7):\n",
    "    for j in range(1,7):\n",
    "        if i+j ==6:\n",
    "            print(\"[%d, %d]\" % (i,j))\n",
    "            count +=1\n",
    "            print(count)\n",
    "        \n",
    "# 연구과제 (2) 해설\n",
    "x = int(input(\"x를 입력하세요\"))\n",
    "y = int(input(\"y를 입력하세요\"))\n",
    "\n",
    "total = 0 \n",
    "for i in range (1,101):\n",
    "    # if i % x == 0 and i % y == 0:\n",
    "    if (i% (x*y)) ==0:\n",
    "        print(i)\n",
    "        total += i\n",
    "print (\"합계는 %d입니다.. \" % total)"
   ]
  }
 ],
 "metadata": {
  "kernelspec": {
   "display_name": "Python 3",
   "language": "python",
   "name": "python3"
  },
  "language_info": {
   "codemirror_mode": {
    "name": "ipython",
    "version": 3
   },
   "file_extension": ".py",
   "mimetype": "text/x-python",
   "name": "python",
   "nbconvert_exporter": "python",
   "pygments_lexer": "ipython3",
   "version": "3.12.0"
  }
 },
 "nbformat": 4,
 "nbformat_minor": 2
}
