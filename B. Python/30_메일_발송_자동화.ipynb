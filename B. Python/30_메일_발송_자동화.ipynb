{
 "cells": [
  {
   "cell_type": "markdown",
   "metadata": {},
   "source": [
    "# 30 메일 발송 자동화\n",
    "## 1. 메일 발송 개요\n",
    "### (1) 메일 발송 개요\n",
    "- SMTP (Simple Mail Transfer Protocol) 서버\n",
    "  - 외부 프로그램의 요청에 따라 메일을 발송하고 응답을 반환하는 시스템\n",
    "  - 파이썬 프로그램은 스스로 메일 발송 기능을 구현할 수 없기 때문에 외부 SMTP와의 연동을 통해 메일을 발송해야 한다.\n",
    "\n",
    "- 메일 발송 서버 설치의 어려움\n",
    "  - 메일 발송 서버는 많은 어려움이 있다.\n",
    "  - 발송 서버가 설치된 도메인이 white-domain-list에 등록되어 있지 않으면 발송되는 모든 메일에 스팸으로 처리\n",
    "  - 중소기업형 웹사이트는 네이버나 구글과 같은 포털에서 제공하는 SMTP 서버와 연동하여 발송 서비스를 구축하기도."
   ]
  },
  {
   "cell_type": "markdown",
   "metadata": {},
   "source": [
    "### Python 메일 발송\n",
    "\n",
    "- 파이썬에 내장되어있는 모듈만 사용\n",
    "\n",
    "  - 경로 정보를 취득하기 위한 모듈\n",
    "  - 발송서버와 연동하기 위한 모듈\n",
    "  - 본문 구성 기능\n",
    "  - 파일을 multipart 형식으로 변환\n",
    "  - 파일을 본문에 추가하는 기능 제고\n",
    "\n",
    "\n",
    "- mine (파일 형식) type\n",
    "\n",
    "  - 메일 발송에 필요한 정보 설정\n",
    "  - 보내는 사람 주소 (로그인 계정과 동일해야 함)\n",
    "  - 받는 사람 주소\n",
    "  - 제목\n",
    "  - 본문내용 작성 -> 삼중따옴표 안에서는 줄바꿈이 자유롭다\n",
    "  - 첨부파일이 필요 없는 경우\n",
    "  - 첨부파일이 필요한 경우 (파일이 실제로 존재해야 함)\n",
    "\n",
    "\n",
    "- SMTP 연동 정보 설정\n",
    "\n",
    "  - 컨텐츠 형식 (plain or html)\n",
    "  - 로그인 계정 이름 (네이버 = 아이디, 구글=메일주소)\n",
    "  - 비밀번호 (네이버=개인비밀번호, 애플리케이션 비밀번호, 구글=앱 비밀번호)\n",
    "  - 구글 발송 서버 주소와 포트 (고정값)\n",
    "    - smtp = \"smtp.gmail.com\"\n",
    "    - port = 587\n",
    "  \n",
    "  - 네이버 발송 서버 주소와 포트 (고정값)\n",
    "    - smtp = \"smtp.naver.com\"\n",
    "    - port = 465\n",
    "\n",
    "\n",
    "-  메일 발송 정보 구성\n",
    "\n",
    "- 메일 발송 정보에 첨부파일 추가\n",
    "\n",
    "\n"
   ]
  },
  {
   "cell_type": "code",
   "execution_count": 2,
   "metadata": {},
   "outputs": [],
   "source": [
    "import os.path\n",
    "from smtplib import SMTP\n",
    "from email.mime.text import MIMEText\n",
    "from email.mime.application import MIMEApplication\n",
    "from email.mime.multipart import MIMEMultipart"
   ]
  },
  {
   "cell_type": "code",
   "execution_count": 4,
   "metadata": {},
   "outputs": [
    {
     "data": {
      "text/plain": [
       "(221,\n",
       " b'2.0.0 closing connection y20-20020a170902ed5400b001c5f77e23a8sm303841plb.73 - gsmtp')"
      ]
     },
     "execution_count": 4,
     "metadata": {},
     "output_type": "execute_result"
    }
   ],
   "source": [
    "from_addr = \"jcdasom@gmail.com\"\n",
    "to_addr = \"dasomas@naver.com\"\n",
    "subject = \"파이썬 메일 발송 테스트 입니다.\"\n",
    "content = \"\"\"안녕하세요. 파이썬으로 발송하는 메일입니다.\n",
    "\n",
    "잘 발송되는지 확인해 보도록 하겠습니다.\n",
    "\n",
    "하나 둘 셋\"\"\"\n",
    "files = [\"hello.txt\", \"world.txt\"]\n",
    "\n",
    "content_type = \"plain\"\n",
    "username = \"jcdasom@gmail.com\"\n",
    "password = \"zavytngvooguafet\"\n",
    "smtp = \"smtp.gmail.com\"\n",
    "port = 587\n",
    "\n",
    "msg = MIMEMultipart()\n",
    "msg['Subject'] = subject\n",
    "msg['From'] = from_addr\n",
    "msg['To'] = to_addr\n",
    "\n",
    "msg.attach(MIMEText(content, content_type))\n",
    "\n",
    "if files:\n",
    "    for f in files:\n",
    "        with open(f, 'rb') as a_file:\n",
    "            basename = os.path.basename(f)\n",
    "            part = MIMEApplication(a_file.read(), Name = basename)\n",
    "\n",
    "            part['Content-Disposition'] = 'attachment'; filename=\"%s\" % basename\n",
    "            msg.attach(part)\n",
    "\n",
    "mail = SMTP(smtp)\n",
    "mail.ehlo()\n",
    "mail.starttls()\n",
    "mail.login(username, password)\n",
    "mail.sendmail(from_addr, to_addr, msg.as_string())\n",
    "mail.quit()"
   ]
  },
  {
   "cell_type": "markdown",
   "metadata": {},
   "source": [
    "# 30-1 메일링 리스트 \n",
    "## 1. 메일 발송 모듈 만들기\n",
    "### (1) MyMailer.py (step-1)\n",
    "- 메일 발송에 필요한 내장 모듈 참조\n",
    "  - 이전 단원에서 작성한 코드를 재사용한다.\n",
    "\n",
    "### (2) MyMailer.py (step-2)\n",
    "- 함수 구현에 필요한 코드를 하나의 블록으로 모아 놓는다.\n",
    "\n",
    "### (3) MyMailer.py (step-3)\n",
    "- 함수 정의하기\n",
    "  - 발송에 필요한 정보를 파라미ㅓ로 받는 함수를 정의\n",
    "  def sendMail(from_addr, to_addr, subject, content, files=()):\n",
    "\n",
    "### (4) 모듈에 대한 테스트 코드 작성하기 (1)\n",
    "- 코드를 직접 실행할 경우\n",
    "- \"__name__\"값 사용   -> 파이썬 안에 기본으로 내장된 것.\n",
    "- \"__name__\" 이라는 변수에 \"__main__\"이라는 값이 정의 됨.\n",
    "\n",
    "- TestModule.py 파일을 작성하고 직접 실행한 경우\n",
    "  - print(__name__)\n",
    "  - if __name__ == \"__main__\"\n",
    "    - print (\"이 코드는 직접 실행될 때만 실행됩니다.\")\n",
    "  - else:\n",
    "    - print(\"이 코드는 이 파일이 모듈 형태로 호출될 때만 실행됩니다.\")"
   ]
  },
  {
   "cell_type": "markdown",
   "metadata": {},
   "source": [
    "## 2. 메일링 리스트 구현\n",
    "### (1) 메일링 리스트 처리에 필요한 파일 준비(1)\n",
    "- 모듈 참조\n",
    "- 날짜 성분값 초기화\n",
    "### (2) 메일 발송 준비(2)\n",
    "- 보내는 사람, 메일 제목\n",
    "### (3) 메일 발송 준비(3)\n",
    "- 메일 본문 가져오기\n",
    "  \n",
    "### 수신자 목록 CSV에 대한 반복 처리"
   ]
  },
  {
   "cell_type": "code",
   "execution_count": 23,
   "metadata": {},
   "outputs": [
    {
     "name": "stdout",
     "output_type": "stream",
     "text": [
      "2023 11 30\n",
      "안녕하세요 {name}님\n",
      "\n",
      "{yy}년도 {mm}월 급여명세서와 결산보고서 보내드립니다.\n",
      "\n",
      "귀하의 노고에 감사드립니다.\n",
      "\n",
      "- {yy}년 {mm}월 {dd}일 / 운영지원팀 드림\n"
     ]
    }
   ],
   "source": [
    "# 모듈 참조\n",
    "import MyMailer\n",
    "import datetime as dt\n",
    "\n",
    "# 날짜 성분값 초기화\n",
    "today = dt.datetime.now()\n",
    "year = today.year\n",
    "month = today.month\n",
    "day = today.day\n",
    "print(year, month, day)\n",
    "\n",
    "# 보내는 사람, 메일 제목\n",
    "\n",
    "    # 메일 발신자 정보\n",
    "fromAddr = \"운영지원팀 <jcdasom@gmail.com>\"\n",
    "    # 메일 제목을 위한 템플릿\n",
    "subjectTmpl = \"{name}님의 {yy}년 {mm}월 급여명세서 입니다.\"\n",
    "\n",
    "# 메일 본문 가져오기\n",
    "with open(\"mail/content.txt\", 'r', encoding= 'utf-8') as f:\n",
    "    contentTmpl = f.read()\n",
    "    print(contentTmpl)\n"
   ]
  },
  {
   "cell_type": "code",
   "execution_count": 25,
   "metadata": {},
   "outputs": [
    {
     "name": "stdout",
     "output_type": "stream",
     "text": [
      "박형숙1 dasomas@naver.com mail/document.pptx mail/pay1.xlsx\n",
      "박형숙2 dasomas@naver.com mail/document.pptx mail/pay2.xlsx\n",
      "student3 jcdasom@naver.com mail/document.pptx mail/pay3.xlsx\n",
      "student4 jcdasom@naver.com mail/document.pptx mail/pay4.xlsx\n",
      "student5 jcdasom@naver.com mail/document.pptx mail/pay5.xlsx\n"
     ]
    }
   ],
   "source": [
    "# 수신자 목록 CSV에 대한 반복 처리\n",
    "with open(\"mail/mail_list.csv\", \"r\", encoding=\"euc-kr\") as f:\n",
    "    csv = f.readlines()\n",
    "    \n",
    "    for line in csv:\n",
    "        # 한 줄의 내용을 분리\n",
    "        name, email, file1, file2 = line.strip().split(\",\")\n",
    "        print(name, email, file1, file2)\n",
    "       \n",
    "        toAddr = \"{name} <{email}>\".format(name=name, email=email)\n",
    "        # print(toAddr)\n",
    "        \n",
    "        # 메일 제목\n",
    "        subject = subjectTmpl.format(name=name, yy=year, mm=month)\n",
    "\n",
    "        # 메일 내용\n",
    "        content = contentTmpl.format(name=name, yy=year, mm=month, dd=day)\n",
    "        # print(content)\n",
    "\n",
    "        # 메일 보내기\n",
    "        MyMailer.sendMail(fromAddr, toAddr, subject, content, [file1, file2])"
   ]
  },
  {
   "cell_type": "code",
   "execution_count": null,
   "metadata": {},
   "outputs": [],
   "source": []
  }
 ],
 "metadata": {
  "kernelspec": {
   "display_name": "Python 3",
   "language": "python",
   "name": "python3"
  },
  "language_info": {
   "codemirror_mode": {
    "name": "ipython",
    "version": 3
   },
   "file_extension": ".py",
   "mimetype": "text/x-python",
   "name": "python",
   "nbconvert_exporter": "python",
   "pygments_lexer": "ipython3",
   "version": "3.12.0"
  }
 },
 "nbformat": 4,
 "nbformat_minor": 2
}
