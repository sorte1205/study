{
 "cells": [
  {
   "cell_type": "markdown",
   "metadata": {},
   "source": [
    "# 11. 리스트의 활용\n",
    "## 1. 리스트의 인덱싱과 슬라이싱\n",
    "### (1) 리스트의 인덱싱\n",
    "- **문자열과 마찬가지로** 리스트의 원소에는 0부터 시작되는 인덱스 번호가 적용됨\n",
    "  - 인덱스 번호를 활용하여 \n",
    "    - 리스트의 원소를 출력하거나\n",
    "    - 다른 변수에 복사하거나\n",
    "    - 리스트의 특정 원소의 값을 변경할 수 있음."
   ]
  },
  {
   "cell_type": "code",
   "execution_count": 4,
   "metadata": {},
   "outputs": [
    {
     "name": "stdout",
     "output_type": "stream",
     "text": [
      "10\n",
      "30\n",
      "[10, 15, 30]\n"
     ]
    }
   ],
   "source": [
    "mylist = [10, 20, 30]\n",
    "# 리스트의 원소 출력\n",
    "print (mylist[0])\n",
    "# 리스트의 원소를 다른 변수에 복사\n",
    "a = mylist[2]\n",
    "print(a)\n",
    "\n",
    "# 1번째 원소의 값을 다른 값으로 변경\n",
    "mylist[1] = 15\n",
    "print (mylist)"
   ]
  },
  {
   "cell_type": "markdown",
   "metadata": {},
   "source": [
    "### (2) 리스트의 슬라이싱\n",
    "- 리스트의 구간 설정 방법\n",
    "  - 항상 끝 위치의 왼쪽 원소까지 슬라이싱 된다."
   ]
  },
  {
   "cell_type": "code",
   "execution_count": 7,
   "metadata": {},
   "outputs": [
    {
     "name": "stdout",
     "output_type": "stream",
     "text": [
      "[70, 80]\n",
      "[70, 80]\n"
     ]
    }
   ],
   "source": [
    "mylist =[60, 70, 80, 90, 100]\n",
    "\n",
    "# list 1번째 부터 3번째 전까지 * 1 ~ 2\n",
    "print(mylist[1:3])                          \n",
    "# list에서 1번째부터 뒤에서부터 2번째 다음까지 * 1 ~ -3\n",
    "print(mylist[1:-2])"
   ]
  },
  {
   "cell_type": "markdown",
   "metadata": {},
   "source": [
    "- 리스트의 구간 설정 방법"
   ]
  },
  {
   "cell_type": "code",
   "execution_count": 8,
   "metadata": {},
   "outputs": [
    {
     "name": "stdout",
     "output_type": "stream",
     "text": [
      "[90, 100]\n",
      "[60, 70, 80]\n",
      "[60, 70, 80, 90, 100]\n"
     ]
    }
   ],
   "source": [
    "# 3번째부터 끝까지\n",
    "print(mylist[3:])\n",
    "# 처음부터 3번째 전까지\n",
    "print(mylist[:3])\n",
    "# list의 모든 원소\n",
    "print(mylist[:]) #깊은복사, 얕은 복사 내용"
   ]
  },
  {
   "cell_type": "markdown",
   "metadata": {},
   "source": [
    "### (3) 리스트의 원소 교체\n",
    "- 슬라이싱으로 지정된 원소의 수와 같은 길이를 갖는 리스트의 대입\n",
    "  - 슬라이싱 범위에 지정된 원소의 수와 동일한 길이의 리스트를 대입하면 리스트의 원소를 일괄 교체한다.\n",
    "  "
   ]
  },
  {
   "cell_type": "code",
   "execution_count": 10,
   "metadata": {},
   "outputs": [
    {
     "name": "stdout",
     "output_type": "stream",
     "text": [
      "[1, 10, 20, 30, 5]\n"
     ]
    }
   ],
   "source": [
    "foo = [1, 2, 3, 4, 5]\n",
    "\n",
    "# 리스트의 1번째부터 4번째 전까지 3개의 원소를 다른 값으로 일괄 교체\n",
    "foo[1:4]= [10, 20, 30]\n",
    "print(foo)"
   ]
  },
  {
   "cell_type": "markdown",
   "metadata": {},
   "source": [
    "### (4) 리스트의 확장\n",
    "- 슬라이싱으로 지정된 범위에 더 긴 길이를 갖는 리스트 대입\n",
    "  - 새로 대입되는 리스트가 지정된 범위를 교체하면서 원본 리스트가 확장됨.\n",
    "  - **해당 위치의 항목은 뒤로 밀려남**"
   ]
  },
  {
   "cell_type": "code",
   "execution_count": 16,
   "metadata": {},
   "outputs": [
    {
     "name": "stdout",
     "output_type": "stream",
     "text": [
      "[6, 100, 200, 300, 400, 500, 600, 700, 10]\n"
     ]
    }
   ],
   "source": [
    "# 리스트 확장: 3개의 원소 범위에 7개의 원소를 갖는 리스트 대입\n",
    "hello = [6, 7, 8, 9, 10]\n",
    "\n",
    "hello[1:4] = [100, 200, 300, 400, 500, 600, 700]\n",
    "print (hello)"
   ]
  },
  {
   "cell_type": "markdown",
   "metadata": {},
   "source": [
    "### (5) 리스트의 축소\n",
    "- 슬라이싱으로 지정된 범위에 더 짧은 길이를 갖는 리스트 대입"
   ]
  },
  {
   "cell_type": "code",
   "execution_count": 17,
   "metadata": {},
   "outputs": [
    {
     "name": "stdout",
     "output_type": "stream",
     "text": [
      "[11, 1000, 2000, 15]\n"
     ]
    }
   ],
   "source": [
    "# 리스트의 축소\n",
    "world = [11, 12, 13, 14, 15]\n",
    "world [1:4] =[1000,2000]    # 3개 자리에 2개 넣음\n",
    "print (world)"
   ]
  },
  {
   "cell_type": "markdown",
   "metadata": {},
   "source": [
    "### (6) 리스트의 삭제\n",
    "- 슬라이싱으로 지정된 범위에 빈 리스트를 대입\n",
    "  - 지정된 범위의 원소들이 삭제된다."
   ]
  },
  {
   "cell_type": "code",
   "execution_count": null,
   "metadata": {},
   "outputs": [],
   "source": [
    "# 리스트 삭제: 지정된 범위에 빈 리스트 대입\n",
    "bar = [11, 22, 33, 44, 55]\n",
    "\n",
    "bar[1:4] = []\n",
    "print(bar)"
   ]
  },
  {
   "cell_type": "markdown",
   "metadata": {},
   "source": [
    "## 2. 튜플\n",
    "### (1) 리스트와의 공통점\n",
    "- 리스트와 동일한 특성을 갖는 자료구조\n",
    "  - 소괄호를 사용하여 원소를 나열"
   ]
  },
  {
   "cell_type": "code",
   "execution_count": 19,
   "metadata": {},
   "outputs": [
    {
     "name": "stdout",
     "output_type": "stream",
     "text": [
      "(98, 82, 73, 64, 100)\n",
      "('철수', '영희', '나영', '민식', '호영')\n",
      "철수\n",
      "98\n"
     ]
    }
   ],
   "source": [
    "# 정수 나열\n",
    "grade = (98, 82, 73, 64, 100)\n",
    "print(grade)\n",
    "# 문자 나열\n",
    "names = (\"철수\", \"영희\", \"나영\",\"민식\",\"호영\")\n",
    "print (names)\n",
    "# 자료형에 대한 혼합 사용도 가능함\n",
    "stud1 = (\"철수\", 98)\n",
    "# 값 읽기\n",
    "print (stud1[0])\n",
    "print (stud1[1])"
   ]
  },
  {
   "cell_type": "markdown",
   "metadata": {},
   "source": [
    "### (2) 리스트와의 차이점\n",
    "- 튜플의 원소 변경이 불가능\n",
    "  - 한 번 생성된 이후 원소 값 변경 안됨.\n",
    "  - 내장된 함수들도 변경 안됨 (단, 값의 변경이 발생하는 함수는 제외)\n",
    "  - **튜플은 읽기 전용    "
   ]
  },
  {
   "cell_type": "code",
   "execution_count": 20,
   "metadata": {},
   "outputs": [
    {
     "ename": "TypeError",
     "evalue": "'tuple' object does not support item assignment",
     "output_type": "error",
     "traceback": [
      "\u001b[1;31m---------------------------------------------------------------------------\u001b[0m",
      "\u001b[1;31mTypeError\u001b[0m                                 Traceback (most recent call last)",
      "\u001b[1;32me:\\산대특\\본과정 1분기\\B. Python\\Day4 11_리스트의_활용.ipynb 셀 18\u001b[0m line \u001b[0;36m2\n\u001b[0;32m      <a href='vscode-notebook-cell:/e%3A/%EC%82%B0%EB%8C%80%ED%8A%B9/%EB%B3%B8%EA%B3%BC%EC%A0%95%201%EB%B6%84%EA%B8%B0/B.%20Python/Day4%2011_%EB%A6%AC%EC%8A%A4%ED%8A%B8%EC%9D%98_%ED%99%9C%EC%9A%A9.ipynb#X50sZmlsZQ%3D%3D?line=0'>1</a>\u001b[0m \u001b[39m# 값의 변경 에러\u001b[39;00m\n\u001b[1;32m----> <a href='vscode-notebook-cell:/e%3A/%EC%82%B0%EB%8C%80%ED%8A%B9/%EB%B3%B8%EA%B3%BC%EC%A0%95%201%EB%B6%84%EA%B8%B0/B.%20Python/Day4%2011_%EB%A6%AC%EC%8A%A4%ED%8A%B8%EC%9D%98_%ED%99%9C%EC%9A%A9.ipynb#X50sZmlsZQ%3D%3D?line=1'>2</a>\u001b[0m stud1[\u001b[39m0\u001b[39;49m] \u001b[39m=\u001b[39m \u001b[39m\"\u001b[39m\u001b[39m철호\u001b[39m\u001b[39m\"\u001b[39m\n",
      "\u001b[1;31mTypeError\u001b[0m: 'tuple' object does not support item assignment"
     ]
    }
   ],
   "source": [
    "# 값의 변경 에러\n",
    "stud1[0] = \"철호\""
   ]
  },
  {
   "cell_type": "markdown",
   "metadata": {},
   "source": [
    "## 3. 구조분해\n",
    "### (1) 리스트, 튜플의 구조분해\n",
    "- 리스트나 튜플의 원소를 1:1로 변수에 나누어 저장\n",
    "  - 리스트의 원소를 각각의 변수에 나누어 복사함\n",
    "  - 선언되는 변수의 수와 리스트의 길이는 동일해야 함.\n",
    "- 리스트의 경우\n",
    "  - 변수1, 변수2,..., 변수n = [원소1, 원소2, ..., 원소n]\n",
    "- 튜플의 경우\n",
    "  - 변수1, 변수2, ..., 변수n = (원소1, 원소2, ..., 원소n)\n",
    "\n",
    "### (2) 리스트, 튜플의 구조분해"
   ]
  },
  {
   "cell_type": "code",
   "execution_count": 23,
   "metadata": {},
   "outputs": [
    {
     "name": "stdout",
     "output_type": "stream",
     "text": [
      "python\n",
      "bigdata\n",
      "python\n",
      "bigdata\n"
     ]
    }
   ],
   "source": [
    "# 리스트의 구조분해\n",
    "a, b = [\"python\", \"bigdata\"]\n",
    "print(a)\n",
    "print(b)\n",
    "# 튜플의 구조분해\n",
    "a, b = (\"python\", \"bigdata\")\n",
    "print(a)\n",
    "print(b)"
   ]
  },
  {
   "cell_type": "markdown",
   "metadata": {},
   "source": [
    "### (3) 구조분해의 에러 케이스"
   ]
  },
  {
   "cell_type": "code",
   "execution_count": null,
   "metadata": {},
   "outputs": [],
   "source": [
    "# 선언된 변수의 수와 리스트의 원소 수가 다를 때 에러 발생\n",
    "a, b, c = [10, 20, 30, 40]\n",
    "\n"
   ]
  },
  {
   "cell_type": "markdown",
   "metadata": {},
   "source": [
    "## 4. 깊은 복사와 얕은 복사\n",
    "### (1) 일반 변수의 깊은 복사\n",
    "- 일반 변수끼리의 대입\n",
    "    - 일반 변수끼리의 대입은 값을 복사하는 기능을 한다.\n",
    "    - 복사본에 저장되어 있는 값을 다른 값으로 변경하더라도 원본은 영향을 받지 않는다."
   ]
  },
  {
   "cell_type": "code",
   "execution_count": 26,
   "metadata": {},
   "outputs": [
    {
     "name": "stdout",
     "output_type": "stream",
     "text": [
      "100\n",
      "100\n",
      "100\n",
      "200\n",
      "300\n",
      "200\n"
     ]
    }
   ],
   "source": [
    "# 숫자형, 문자열, 논리값을 대입할 경우 변수값의 복사\n",
    "a = 100\n",
    "b = a       # a의'값'을 b에 대입한다는 의미\n",
    "print(a) \n",
    "print(b)\n",
    "\n",
    "# 복사본을 변경하더라도 원본에는 변화가 없다. (반대의 경우도 마찬가지)\n",
    "b = 200\n",
    "print(a)\n",
    "print(b)\n",
    "\n",
    "a = 300\n",
    "print (a)\n",
    "print (b)"
   ]
  },
  {
   "cell_type": "markdown",
   "metadata": {},
   "source": [
    "### (2) 연속성 자료형의 얕은 복사\n",
    "- 리스트, 튜플 등의 연속성 자료형에 대한 복사\n",
    "  - 기본 데이터 타입(정수, 실수, 문자열, 논리값) 이외의 자료형은 복사가 아닌 참조가 이루어짐. \n",
    "  - 즉, 복사본을 변경할 경우 원본도 함께 변경됨.\n",
    "    - 모든 리스트는 무조건 4byte (리스트는 위치값을 저장하기 때문)\n",
    "    - 리스트나 튜플은 복사가 아니라 참조 (값이 아닌, 위치를 알려줌: pointer)가 이뤄진다.\n",
    "\n"
   ]
  },
  {
   "cell_type": "code",
   "execution_count": 28,
   "metadata": {},
   "outputs": [
    {
     "name": "stdout",
     "output_type": "stream",
     "text": [
      "[1, 2, 3]\n",
      "[1, 2, 3]\n",
      "[1, 20, 3]\n",
      "[1, 20, 3]\n",
      "[1, 20, 10]\n",
      "[1, 20, 10]\n"
     ]
    }
   ],
   "source": [
    "# 객체의 참조 (리스트, 딕셔너리 등)\n",
    "foo = [1,2,3]\n",
    "bar = foo\n",
    "print(foo)\n",
    "print(bar)\n",
    "# 참조된 복사본을 변경하면 원본도 함께 변경됨. (반대의 경우도 마찬가지)\n",
    "bar[1] = 20\n",
    "print(foo)\n",
    "print(bar)\n",
    "\n",
    "foo[2] = 10\n",
    "print(foo)\n",
    "print(bar)"
   ]
  },
  {
   "cell_type": "markdown",
   "metadata": {},
   "source": [
    "### (3) 연속성 자료형의 고전적인 깊은 복사 방법\n",
    "- 각 원소의 개별 복사\n",
    "  - 참조가 아닌 실질적인 복사.\n",
    "  - 각각의 원소를 하나씩 복사해야 한다."
   ]
  },
  {
   "cell_type": "code",
   "execution_count": 29,
   "metadata": {},
   "outputs": [
    {
     "name": "stdout",
     "output_type": "stream",
     "text": [
      "[1, 2, 3]\n",
      "[1, 2, 1000]\n"
     ]
    }
   ],
   "source": [
    "# 리스트 복사 (고전적인 방법)\n",
    "# -> 같은 길이의 리스트를 만들고 각 원소를 일일이 복사함.\n",
    "bar = [1,2,3]\n",
    "cp1 = [0,0,0]\n",
    "cp1[0] = bar[0]\n",
    "cp1[1] = bar[1]\n",
    "cp1[2] = bar[2]\n",
    "# -> 복사본을 변경하더라도 원본에 변화 없음.**\n",
    "cp1[2] = 1000\n",
    "print(bar)\n",
    "print(cp1)"
   ]
  },
  {
   "cell_type": "markdown",
   "metadata": {},
   "source": [
    "### (4)슬라이싱을 활용한 깊은 복사\n"
   ]
  },
  {
   "cell_type": "code",
   "execution_count": 31,
   "metadata": {},
   "outputs": [
    {
     "name": "stdout",
     "output_type": "stream",
     "text": [
      "[100, 200, 300]\n",
      "[100, 12345, 300]\n"
     ]
    }
   ],
   "source": [
    "# 슬라이싱을 활용한 방법\n",
    "hello = [100, 200, 300]\n",
    "cp2 = hello[:]\n",
    "\n",
    "# -> 복사본을 변경하더라도 원본에 영향이 없다.**\n",
    "cp2[1] = 12345\n",
    "print(hello)\n",
    "print(cp2)"
   ]
  },
  {
   "cell_type": "markdown",
   "metadata": {},
   "source": [
    "### (5) 리스트 객체의 메서드를 사용한 깊은 복사\n"
   ]
  },
  {
   "cell_type": "code",
   "execution_count": 33,
   "metadata": {},
   "outputs": [
    {
     "name": "stdout",
     "output_type": "stream",
     "text": [
      "['hello', 'python', 'world']\n",
      "['nice', 'python', 'world']\n"
     ]
    }
   ],
   "source": [
    "# 리스트 객체의 함수를 사용하는 방법\n",
    "world = [\"hello\", \"python\",\"world\"]\n",
    "cp3 = world.copy()\n",
    "# -> 복사본을 변경하더라도 원본에 영향이 없다.**\n",
    "cp3[0] = \"nice\"\n",
    "print(world)\n",
    "print(cp3)"
   ]
  }
 ],
 "metadata": {
  "kernelspec": {
   "display_name": "Python 3",
   "language": "python",
   "name": "python3"
  },
  "language_info": {
   "codemirror_mode": {
    "name": "ipython",
    "version": 3
   },
   "file_extension": ".py",
   "mimetype": "text/x-python",
   "name": "python",
   "nbconvert_exporter": "python",
   "pygments_lexer": "ipython3",
   "version": "3.12.0"
  }
 },
 "nbformat": 4,
 "nbformat_minor": 2
}
