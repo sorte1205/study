{
 "cells": [
  {
   "cell_type": "markdown",
   "metadata": {},
   "source": [
    "# 연구과제\n",
    "## 문제 1\n",
    "\n",
    "https://data.hossam.kr/py/titanic.json은 타이타닉호의 탑승자 명단을 담고 있다.\n",
    "\n",
    "이 데이터에서 sex 필드는 성별을 male과 female로 표현하고 있으며 탑승객의 생존 여부는 survived라는 이름의 boolean 형식 값으로 저장되어 있다.\n",
    "\n",
    "남여간의 생존자와 사망자 비율을 구하라.\n",
    "\n",
    "남자의 전체 인원을 1로 했을 때 남자 중에서의 생존자, 사망자 비율을 구하고 여자의 전체 인원을 1로 했을 때 여자 중에서의 생존자, 사망자 비율을 구해야 합니다.\n",
    "\n",
    "출력예시\n",
    "남자 생존자 비율: 0.2\n",
    "남자 사망자 비율: 0.8\n",
    "여자 생존자 비율: 0.7\n",
    "여자 생존자 비율: 0.3"
   ]
  }
 ],
 "metadata": {
  "kernelspec": {
   "display_name": "Python 3",
   "language": "python",
   "name": "python3"
  },
  "language_info": {
   "name": "python",
   "version": "3.12.0"
  }
 },
 "nbformat": 4,
 "nbformat_minor": 2
}
