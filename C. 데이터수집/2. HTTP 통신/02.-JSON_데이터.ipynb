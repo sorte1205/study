{
 "cells": [
  {
   "cell_type": "markdown",
   "metadata": {},
   "source": [
    "# JSON 데이터\n",
    "\n",
    "## #01. JSON 개요\n",
    "\n",
    "\n",
    "JSON(Javascript Object Notation) 자바스크립트에서 사용하는 객체 표현 방법\n",
    "| 객체: 하나의 변수안에 하위 데이터가 포함되어 있는 형태\n",
    "\n",
    "복합적인 계층 구조를 갖는 데이터를 표현할 수 있는 표기법\n",
    "\n",
    "프로그래밍 언어에 종속되지 않는 특성이 있기 때문에 현재는 모든 프로그래밍 언어가 JSON을 데이터 교환 형식으로 활용하고 있다.\n",
    "\n",
    "파이썬에서는 딕셔너리형과 호환이 된다.\n",
    "\n",
    "## #02. 준비과정\n",
    "\n",
    "### [1] 패키지 참조\n"
   ]
  },
  {
   "cell_type": "code",
   "execution_count": 3,
   "metadata": {},
   "outputs": [],
   "source": [
    "\n",
    "import requests\n",
    "import json"
   ]
  },
  {
   "cell_type": "markdown",
   "metadata": {},
   "source": [
    "### [2] 데이터 가져오기"
   ]
  },
  {
   "cell_type": "code",
   "execution_count": 6,
   "metadata": {},
   "outputs": [],
   "source": [
    "session = requests.Session()\n",
    "url = \"https://data.hossam.kr/py/sample.json\""
   ]
  },
  {
   "cell_type": "code",
   "execution_count": 7,
   "metadata": {},
   "outputs": [],
   "source": [
    "try:\n",
    "    r = session.get(url)\n",
    "    if r.status_code != 200:\n",
    "        msg = \"[%d Error] %s 에러가 발생함\" % (r.status_code, r.reason)\n",
    "        raise Exception (msg)\n",
    "except Exception as e:\n",
    "    print(\"접속에 실패했습니다.\" )\n",
    "    print(e)"
   ]
  },
  {
   "cell_type": "markdown",
   "metadata": {},
   "source": [
    "## #04. JSON 데이터 활용\n",
    "\n",
    "### [1] JSON 형식의 문자열을 딕셔너리로 변환"
   ]
  },
  {
   "cell_type": "code",
   "execution_count": 8,
   "metadata": {},
   "outputs": [
    {
     "name": "stdout",
     "output_type": "stream",
     "text": [
      "<class 'dict'>\n"
     ]
    },
    {
     "data": {
      "text/plain": [
       "{'name': '갤럭시 S6',\n",
       " 'type': '삼성',\n",
       " 'img': 'http://itpaper.co.kr/demo/app/img/GalaxyS6.png'}"
      ]
     },
     "execution_count": 8,
     "metadata": {},
     "output_type": "execute_result"
    }
   ],
   "source": [
    "mydict = json.loads(r.text)\n",
    "print(type(mydict))\n",
    "mydict"
   ]
  },
  {
   "cell_type": "markdown",
   "metadata": {},
   "source": [
    "### [2] 값을 추출하여 출력\n",
    "\n",
    "| 이 부분은 데이터 연동 목적에 따라 각자 다르게 구현해야 한다"
   ]
  },
  {
   "cell_type": "code",
   "execution_count": 9,
   "metadata": {},
   "outputs": [
    {
     "name": "stdout",
     "output_type": "stream",
     "text": [
      "갤럭시 S6\n",
      "삼성\n",
      "http://itpaper.co.kr/demo/app/img/GalaxyS6.png\n"
     ]
    }
   ],
   "source": [
    "print (mydict[\"name\"])\n",
    "print (mydict[\"type\"])\n",
    "print (mydict[\"img\"])"
   ]
  }
 ],
 "metadata": {
  "kernelspec": {
   "display_name": "Python 3",
   "language": "python",
   "name": "python3"
  },
  "language_info": {
   "codemirror_mode": {
    "name": "ipython",
    "version": 3
   },
   "file_extension": ".py",
   "mimetype": "text/x-python",
   "name": "python",
   "nbconvert_exporter": "python",
   "pygments_lexer": "ipython3",
   "version": "3.12.0"
  }
 },
 "nbformat": 4,
 "nbformat_minor": 2
}
