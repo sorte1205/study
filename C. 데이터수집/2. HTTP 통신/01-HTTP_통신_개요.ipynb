{
 "cells": [
  {
   "cell_type": "markdown",
   "metadata": {},
   "source": [
    "# simpleHTTPClient\n",
    "\n",
    "## 01 준비과정\n",
    "\n",
    "### [1] 패키지 참조\n",
    "'requests'패키지 설치가 필요"
   ]
  },
  {
   "cell_type": "code",
   "execution_count": 1,
   "metadata": {},
   "outputs": [],
   "source": [
    "import requests\n",
    "# requests는 원본 소스 요청하는 것"
   ]
  },
  {
   "cell_type": "code",
   "execution_count": 24,
   "metadata": {},
   "outputs": [],
   "source": [
    "url = \"https://data.hossam.kr/py/sample.txt\"\n",
    "#url = \"https://data.hossam.kr/py/sample.json\" \n",
    "        # 딕셔너리형태이지만, 외부에서 가져와서 문자열취급.\n",
    "#url =\"www.naver.com\" "
   ]
  },
  {
   "cell_type": "markdown",
   "metadata": {},
   "source": [
    "## 02 데이터 요청하기\n",
    "### [1] 세션 생성\n",
    " '세션': 통신에서 말하는 하나의 접속 단위 혹은 접속을 수행하는 객체\n"
   ]
  },
  {
   "cell_type": "code",
   "execution_count": 4,
   "metadata": {},
   "outputs": [],
   "source": [
    "# 접속 객체 생성\n",
    "session = requests.Session()"
   ]
  },
  {
   "cell_type": "markdown",
   "metadata": {},
   "source": [
    "### [2] 세션에 클라이언트 정보 주입\n",
    "\n",
    "일부 웹 시스템은 정상적인 웹 브라우저의 접속이 아닌 경우 응답을 거부하도록 구현되어 있다. (비정상적인 접근)\n",
    "    - 헤더를 보자.      F12 눌러 개발자모드에 들어감\n",
    "      - user-agent?\n",
    "      - referer: 바로 직전에 머물렀던 페이지가 뜸 (웹개발 시 보안처리용으로 씀)\n",
    "        - 이미지 입장에서는, 해당 이미지가 삽입되어있는 웹페이지값이 referer\n",
    "          - 네이버 블로그 사진 퍼와서 글 올리면 깨짐.\n",
    "          - referer 값이 \"\"로 두면, 감지를 못하는 경우가 많다."
   ]
  },
  {
   "cell_type": "code",
   "execution_count": null,
   "metadata": {},
   "outputs": [],
   "source": [
    "session.headers.update({\n",
    "    \"Referer\": \"\",\n",
    "    \"User-Agent\": \"Mozilla/5.0 (Windows NT 10.0; Win64; x64) AppleWebKit/537.36 (KHTML, like Gecko) Chrome/120.0.0.0 Safari/537.36\"\n",
    "})"
   ]
  },
  {
   "cell_type": "markdown",
   "metadata": {},
   "source": [
    "### [3] 데이터 가져오기\n",
    "\n",
    "    사이트 주소가 잘못된 경우: try except로 대응가능\n",
    "    사이트 주소 이후 다른 것이 붙을 경우: 감지를 못함\n",
    "    (크롤링을 잘 하려면 HTML, CSS를 배워야 함. -> 한 달 과정?)\n",
    "#### HTTP 상태값\n",
    "\n",
    "웹 사이트 도메인 자체가 잘못된 경우는 접속 자체가 불가능하기 때문에 python단에서 예외가 발생. 이 경우 예외처리 구문으로 대응 가능\n",
    "\n",
    "웹 사이트 도메인은 정상이지만 그 사이트 안에서 존재하지 않는 페이지에 접근할 경우 예외가 발생하지 않음\n",
    "\n",
    "이 때는 웹 사이트에서 반환하는 결과값('r.status_code')로 접속의 성공/실패 여부를 판별해야 하는데 이를 HTTP 상태값이라고 한다.\n",
    "\n",
    "|상태값|설명|\n",
    "|---|---|\n",
    "|200|OK|\n",
    "|400|잘못된 요청 (URL 형식 에러)|\n",
    "|401|권한 없음|\n",
    "|403|서버가 요청 거부|\n",
    "|404|페이지를 찾을 수 없음|\n",
    "|500|내부 서버 오류 (접속 대상 시스템의 에러)|\n",
    "|501|구현되지 않음|\n",
    "\n",
    "    - 400 번 대:  \n",
    "    - 500 번 대: 상대방 데이터에서 "
   ]
  },
  {
   "cell_type": "code",
   "execution_count": 25,
   "metadata": {},
   "outputs": [],
   "source": [
    "try:\n",
    "    r = session.get(url)\n",
    "    if r.status_code != 200:\n",
    "        msg = \"[%d Error] %s 에러가 발생함\" % (r.status_code, r.reason)\n",
    "        raise Exception (msg)\n",
    "except Exception as e:\n",
    "    print(\"접속에 실패했습니다.\" )\n",
    "    print(e)"
   ]
  },
  {
   "cell_type": "code",
   "execution_count": null,
   "metadata": {},
   "outputs": [],
   "source": [
    "### [4] 수신된 응답 결과 확인"
   ]
  },
  {
   "cell_type": "code",
   "execution_count": 26,
   "metadata": {},
   "outputs": [
    {
     "name": "stdout",
     "output_type": "stream",
     "text": [
      "<class 'str'>\n",
      "안녕하세요.\n",
      "\n",
      "이 파일은 HTTP Client 기능을 구현한 후 결과를 확인하기 위한 샘플 파일입니다.\n",
      "\n"
     ]
    }
   ],
   "source": [
    "r.encoding = \"utf-8\"\n",
    "print(type(r.text))\n",
    "print(r.text)"
   ]
  }
 ],
 "metadata": {
  "kernelspec": {
   "display_name": "Python 3",
   "language": "python",
   "name": "python3"
  },
  "language_info": {
   "codemirror_mode": {
    "name": "ipython",
    "version": 3
   },
   "file_extension": ".py",
   "mimetype": "text/x-python",
   "name": "python",
   "nbconvert_exporter": "python",
   "pygments_lexer": "ipython3",
   "version": "3.12.0"
  }
 },
 "nbformat": 4,
 "nbformat_minor": 2
}
