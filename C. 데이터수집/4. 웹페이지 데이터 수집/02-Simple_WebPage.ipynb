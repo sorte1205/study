{
 "cells": [
  {
   "cell_type": "markdown",
   "metadata": {},
   "source": [
    "# Simple Web Page\n",
    "## #01. 준비과정\n",
    "### [1] 패키지 참조\n",
    "bs4 패키지의 설치가 필요함"
   ]
  },
  {
   "cell_type": "code",
   "execution_count": 1,
   "metadata": {},
   "outputs": [],
   "source": [
    "import requests\n",
    "from bs4 import BeautifulSoup"
   ]
  },
  {
   "cell_type": "markdown",
   "metadata": {},
   "source": [
    "### [2] 접속할 데이터의 URL"
   ]
  },
  {
   "cell_type": "code",
   "execution_count": 2,
   "metadata": {},
   "outputs": [],
   "source": [
    "url = \"https://data.hossam.kr/py/sample.html\""
   ]
  },
  {
   "cell_type": "markdown",
   "metadata": {},
   "source": [
    "## #03. 데이터 요청하기\n",
    "### [1] 세션 생성"
   ]
  },
  {
   "cell_type": "code",
   "execution_count": 6,
   "metadata": {},
   "outputs": [],
   "source": [
    "session = requests.Session()\n",
    "\n",
    "session.headers.update({\n",
    "    \"Referer\": \"\",\n",
    "    \"User-Agent\":\"Mozilla/5.0 (Windows NT 10.0; Win64; x64) AppleWebKit/537.36 (KHTML, like Gecko) Chrome/120.0.0.0 Safari/537.36\"\n",
    "})"
   ]
  },
  {
   "cell_type": "markdown",
   "metadata": {},
   "source": [
    "### [2] 데이터 가져오기\n",
    "\n",
    "웹 페이지를 구성하는 HTML 소스코드를 가져온다."
   ]
  },
  {
   "cell_type": "code",
   "execution_count": 9,
   "metadata": {},
   "outputs": [
    {
     "name": "stdout",
     "output_type": "stream",
     "text": [
      "<!DOCTYPE html>\n",
      "<html lang=\"en\">\n",
      "<head>\n",
      "    <meta charset=\"UTF-8\">\n",
      "    <meta name=\"viewport\" content=\"width=device-width, initial-scale=1.0\">\n",
      "    <title>Document</title>\n",
      "    <style>\n",
      "        /* HTML 태그 방식 */\n",
      "        h1 { color: #f0f; }\n",
      "        h2 { color: #06f; }\n",
      "\n",
      "        /** Class 방식 */\n",
      "        .myclass { color: #f00; }\n",
      "\n",
      "        /** id 방식 */\n",
      "        #myid { color: #f60; }\n",
      "\n",
      "        /** 자식 선택자  */\n",
      "        .syllabus > li > ol > li {\n",
      "            text-decoration: underline;\n",
      "        }\n",
      "\n",
      "        /** 자손 선택자 */\n",
      "        .syllabus ol {\n",
      "            font-weight: bold;\n",
      "        }\n",
      "\n",
      "        .part1 {\n",
      "            background-color: #eeeeee;\n",
      "        }\n",
      "\n",
      "        .part2 {\n",
      "            background-color: #d5d5d5;\n",
      "        }\n",
      "\n",
      "        /** 특정 대상을 구체적으로 명시  */\n",
      "        div.sub.part1 {\n",
      "            border: 1px dotted #000;\n",
      "        }\n",
      "\n",
      "        div.sub.part2#hello {\n",
      "            border: 1px solid #555;\n",
      "        }\n",
      "\n",
      "        /** 특정 속성을 갖고 있는 요소  */\n",
      "        a[href] {\n",
      "            font-size: 20px;\n",
      "        }\n",
      "\n",
      "        /** 특정 속성 값에 대한 적용  */\n",
      "        a[href='#'] {\n",
      "            color: green;\n",
      "        }\n",
      "    </style>\n",
      "</head>\n",
      "<body>\n",
      "    <h1>Hello World</h1>\n",
      "    <a>link0</a>\n",
      "    <a href=\"#\">link1</a>\n",
      "    <a href=\"https://www.naver.com\">link2</a>\n",
      "    <h2 id=\"myid\">Python</h2>\n",
      "    <div class=\"sub part1\">\n",
      "        <ul class=\"syllabus\">\n",
      "            <li>변수와 데이터 타입</li>\n",
      "            <li class=\"myclass\">연산자</li>\n",
      "            <li>\n",
      "                연속성 자료형\n",
      "                <ol>\n",
      "                    <li>리스트(list)</li>\n",
      "                    <li>딕셔너리(dict)</li>\n",
      "                    <li>집합(set)</li>\n",
      "                </ol>\n",
      "            </li>\n",
      "            <li>프로그램 흐름제어</li>\n",
      "            <li>함수</li>\n",
      "        </ul>\n",
      "    </div>\n",
      "    <h2>Data Analysis</h2>\n",
      "    <div class=\"sub part2\" id=\"hello\">\n",
      "        <ul>\n",
      "            <li>데이터 수집</li>\n",
      "            <li class=\"myclass\">데이터 전처리</li>\n",
      "            <li>\n",
      "                탐색적 데이터 분석\n",
      "                <ol class=\"myclass\">\n",
      "                    <li>기초통계</li>\n",
      "                    <li>데이터 시각화</li>\n",
      "                </ol>\n",
      "            </li>\n",
      "            <li>확증적 데이터 분석</li>\n",
      "            <li>데이터 마이닝</li>\n",
      "        </ul>\n",
      "    </div>\n",
      "</body>\n",
      "</html>\n"
     ]
    }
   ],
   "source": [
    "try:\n",
    "    r = session.get(url)\n",
    "    if r.status_code != 200:\n",
    "        msg = \"[%d Error] %s 에러가 발생함\" % (r.status_code, r.reason)\n",
    "        raise Exception(msg)\n",
    "except Exception as e:\n",
    "    print(\"접속에 실패했습니다.\")\n",
    "    print(e)\n",
    "\n",
    "r.encoding = \"utf-8\"\n",
    "print(r.text)"
   ]
  },
  {
   "cell_type": "markdown",
   "metadata": {},
   "source": [
    "## #04. 데이터 활용\n",
    "### [1] beautifulsoup 객체 생성"
   ]
  },
  {
   "cell_type": "code",
   "execution_count": 10,
   "metadata": {},
   "outputs": [
    {
     "data": {
      "text/plain": [
       "<!DOCTYPE html>\n",
       "\n",
       "<html lang=\"en\">\n",
       "<head>\n",
       "<meta charset=\"utf-8\"/>\n",
       "<meta content=\"width=device-width, initial-scale=1.0\" name=\"viewport\"/>\n",
       "<title>Document</title>\n",
       "<style>\n",
       "        /* HTML 태그 방식 */\n",
       "        h1 { color: #f0f; }\n",
       "        h2 { color: #06f; }\n",
       "\n",
       "        /** Class 방식 */\n",
       "        .myclass { color: #f00; }\n",
       "\n",
       "        /** id 방식 */\n",
       "        #myid { color: #f60; }\n",
       "\n",
       "        /** 자식 선택자  */\n",
       "        .syllabus > li > ol > li {\n",
       "            text-decoration: underline;\n",
       "        }\n",
       "\n",
       "        /** 자손 선택자 */\n",
       "        .syllabus ol {\n",
       "            font-weight: bold;\n",
       "        }\n",
       "\n",
       "        .part1 {\n",
       "            background-color: #eeeeee;\n",
       "        }\n",
       "\n",
       "        .part2 {\n",
       "            background-color: #d5d5d5;\n",
       "        }\n",
       "\n",
       "        /** 특정 대상을 구체적으로 명시  */\n",
       "        div.sub.part1 {\n",
       "            border: 1px dotted #000;\n",
       "        }\n",
       "\n",
       "        div.sub.part2#hello {\n",
       "            border: 1px solid #555;\n",
       "        }\n",
       "\n",
       "        /** 특정 속성을 갖고 있는 요소  */\n",
       "        a[href] {\n",
       "            font-size: 20px;\n",
       "        }\n",
       "\n",
       "        /** 특정 속성 값에 대한 적용  */\n",
       "        a[href='#'] {\n",
       "            color: green;\n",
       "        }\n",
       "    </style>\n",
       "</head>\n",
       "<body>\n",
       "<h1>Hello World</h1>\n",
       "<a>link0</a>\n",
       "<a href=\"#\">link1</a>\n",
       "<a href=\"https://www.naver.com\">link2</a>\n",
       "<h2 id=\"myid\">Python</h2>\n",
       "<div class=\"sub part1\">\n",
       "<ul class=\"syllabus\">\n",
       "<li>변수와 데이터 타입</li>\n",
       "<li class=\"myclass\">연산자</li>\n",
       "<li>\n",
       "                연속성 자료형\n",
       "                <ol>\n",
       "<li>리스트(list)</li>\n",
       "<li>딕셔너리(dict)</li>\n",
       "<li>집합(set)</li>\n",
       "</ol>\n",
       "</li>\n",
       "<li>프로그램 흐름제어</li>\n",
       "<li>함수</li>\n",
       "</ul>\n",
       "</div>\n",
       "<h2>Data Analysis</h2>\n",
       "<div class=\"sub part2\" id=\"hello\">\n",
       "<ul>\n",
       "<li>데이터 수집</li>\n",
       "<li class=\"myclass\">데이터 전처리</li>\n",
       "<li>\n",
       "                탐색적 데이터 분석\n",
       "                <ol class=\"myclass\">\n",
       "<li>기초통계</li>\n",
       "<li>데이터 시각화</li>\n",
       "</ol>\n",
       "</li>\n",
       "<li>확증적 데이터 분석</li>\n",
       "<li>데이터 마이닝</li>\n",
       "</ul>\n",
       "</div>\n",
       "</body>\n",
       "</html>"
      ]
     },
     "execution_count": 10,
     "metadata": {},
     "output_type": "execute_result"
    }
   ],
   "source": [
    "soup = BeautifulSoup(r.text)\n",
    "soup"
   ]
  },
  {
   "cell_type": "markdown",
   "metadata": {},
   "source": [
    "### [2] soup 객체로 부터 원하는 부분 추출하기\n",
    "\n",
    "soup 객체의 select() 메서드에 CSS 선택자를 파라미터로 전달하여 원하는 부분을 추출한다. \n",
    "\n",
    "리턴 결과는 항상 리스트 형식.\n",
    "\n",
    "#### (1) HTML 태그에 의한 접근"
   ]
  },
  {
   "cell_type": "code",
   "execution_count": 12,
   "metadata": {},
   "outputs": [
    {
     "name": "stdout",
     "output_type": "stream",
     "text": [
      "<class 'bs4.element.ResultSet'>\n"
     ]
    },
    {
     "data": {
      "text/plain": [
       "[<h1>Hello World</h1>]"
      ]
     },
     "execution_count": 12,
     "metadata": {},
     "output_type": "execute_result"
    }
   ],
   "source": [
    "myselect = soup.select(\"h1\")\n",
    "print(type(myselect))\n",
    "myselect"
   ]
  },
  {
   "cell_type": "markdown",
   "metadata": {},
   "source": [
    "리턴타입이 항상 리스트이므로 리스트의 원소에 접근"
   ]
  },
  {
   "cell_type": "code",
   "execution_count": 13,
   "metadata": {},
   "outputs": [
    {
     "name": "stdout",
     "output_type": "stream",
     "text": [
      "<class 'bs4.element.Tag'>\n"
     ]
    },
    {
     "data": {
      "text/plain": [
       "<h1>Hello World</h1>"
      ]
     },
     "execution_count": 13,
     "metadata": {},
     "output_type": "execute_result"
    }
   ],
   "source": [
    "mytag = myselect[0]\n",
    "print(type(mytag))\n",
    "mytag"
   ]
  },
  {
   "cell_type": "markdown",
   "metadata": {},
   "source": [
    "추출한 태그에서 내용만 추출\n",
    "외부에서 추출한 내용은 앞 뒤 여백 제거 필수"
   ]
  },
  {
   "cell_type": "code",
   "execution_count": 14,
   "metadata": {},
   "outputs": [
    {
     "data": {
      "text/plain": [
       "'Hello World'"
      ]
     },
     "execution_count": 14,
     "metadata": {},
     "output_type": "execute_result"
    }
   ],
   "source": [
    "mytext = mytag.text.strip()\n",
    "mytext"
   ]
  },
  {
   "cell_type": "markdown",
   "metadata": {},
   "source": [
    "#### (2) Class에 의한 추출\n",
    "추출 결과 확인\n",
    "class는 복수 요소에 지정할 수 있기 때문에 리턴되는 리스트의 원소가 하나 이상일 수 있다."
   ]
  },
  {
   "cell_type": "code",
   "execution_count": 15,
   "metadata": {},
   "outputs": [
    {
     "data": {
      "text/plain": [
       "[<li class=\"myclass\">연산자</li>,\n",
       " <li class=\"myclass\">데이터 전처리</li>,\n",
       " <ol class=\"myclass\">\n",
       " <li>기초통계</li>\n",
       " <li>데이터 시각화</li>\n",
       " </ol>]"
      ]
     },
     "execution_count": 15,
     "metadata": {},
     "output_type": "execute_result"
    }
   ],
   "source": [
    "myselect = soup.select(\".myclass\")\n",
    "myselect"
   ]
  },
  {
   "cell_type": "markdown",
   "metadata": {},
   "source": [
    "복수 요소이므로 반복 처리"
   ]
  },
  {
   "cell_type": "code",
   "execution_count": 16,
   "metadata": {},
   "outputs": [
    {
     "name": "stdout",
     "output_type": "stream",
     "text": [
      "0번째 요소 : 연산자\n",
      "1번째 요소 : 데이터 전처리\n",
      "2번째 요소 : 기초통계\n",
      "데이터 시각화\n"
     ]
    }
   ],
   "source": [
    "for i, v in enumerate(myselect):\n",
    "    # 추출한 요소가 하위 태그를 포함하는 경우 그 안의 텍스트만 일괄 추출\n",
    "    print(\"%d번째 요소 : %s\" % (i, v.text.strip()))"
   ]
  },
  {
   "cell_type": "markdown",
   "metadata": {},
   "source": [
    "하위 요소 추출하기\n",
    "select() 메서드로 추출한 요소를 활용하여 그 하위요소를 추가적으로 추출할 수 있다."
   ]
  },
  {
   "cell_type": "code",
   "execution_count": 17,
   "metadata": {},
   "outputs": [
    {
     "data": {
      "text/plain": [
       "[<li>기초통계</li>, <li>데이터 시각화</li>]"
      ]
     },
     "execution_count": 17,
     "metadata": {},
     "output_type": "execute_result"
    }
   ],
   "source": [
    "myli = myselect[2].select(\"li\")\n",
    "myli"
   ]
  },
  {
   "cell_type": "code",
   "execution_count": 18,
   "metadata": {},
   "outputs": [
    {
     "name": "stdout",
     "output_type": "stream",
     "text": [
      "기초통계\n",
      "데이터 시각화\n"
     ]
    }
   ],
   "source": [
    "for i in myli:\n",
    "    print(i.text.strip())"
   ]
  },
  {
   "cell_type": "markdown",
   "metadata": {},
   "source": [
    "#### (4) 여러 요소 동시 사용"
   ]
  },
  {
   "cell_type": "code",
   "execution_count": 19,
   "metadata": {},
   "outputs": [
    {
     "data": {
      "text/plain": [
       "[<h2 id=\"myid\">Python</h2>,\n",
       " <li class=\"myclass\">연산자</li>,\n",
       " <li class=\"myclass\">데이터 전처리</li>,\n",
       " <ol class=\"myclass\">\n",
       " <li>기초통계</li>\n",
       " <li>데이터 시각화</li>\n",
       " </ol>]"
      ]
     },
     "execution_count": 19,
     "metadata": {},
     "output_type": "execute_result"
    }
   ],
   "source": [
    "soup.select(\"#myid, .myclass\")"
   ]
  },
  {
   "cell_type": "markdown",
   "metadata": {},
   "source": [
    "#### (5) 자식 선택자"
   ]
  },
  {
   "cell_type": "code",
   "execution_count": 24,
   "metadata": {},
   "outputs": [
    {
     "data": {
      "text/plain": [
       "[<li class=\"myclass\">연산자</li>]"
      ]
     },
     "execution_count": 24,
     "metadata": {},
     "output_type": "execute_result"
    }
   ],
   "source": [
    "soup.select(\".syllabus > .myclass\")"
   ]
  },
  {
   "cell_type": "markdown",
   "metadata": {},
   "source": [
    "#### (6) 자손 선택자"
   ]
  },
  {
   "cell_type": "code",
   "execution_count": 23,
   "metadata": {},
   "outputs": [
    {
     "data": {
      "text/plain": [
       "[<li class=\"myclass\">연산자</li>]"
      ]
     },
     "execution_count": 23,
     "metadata": {},
     "output_type": "execute_result"
    }
   ],
   "source": [
    "soup.select(\".part1 .myclass\")"
   ]
  },
  {
   "cell_type": "markdown",
   "metadata": {},
   "source": [
    "#### (7) 태그의 속성값 추출"
   ]
  },
  {
   "cell_type": "code",
   "execution_count": 25,
   "metadata": {},
   "outputs": [
    {
     "data": {
      "text/plain": [
       "[<a href=\"#\">link1</a>, <a href=\"https://www.naver.com\">link2</a>]"
      ]
     },
     "execution_count": 25,
     "metadata": {},
     "output_type": "execute_result"
    }
   ],
   "source": [
    "myselect = soup.select(\"a[href]\")\n",
    "myselect"
   ]
  },
  {
   "cell_type": "code",
   "execution_count": 27,
   "metadata": {},
   "outputs": [
    {
     "name": "stdout",
     "output_type": "stream",
     "text": [
      "---[0]----\n",
      "{'href': '#'}\n",
      "0번째의 href속성값: #\n",
      "---[1]----\n",
      "{'href': 'https://www.naver.com'}\n",
      "1번째의 href속성값: https://www.naver.com\n"
     ]
    }
   ],
   "source": [
    "# 속성값의 각 태그요소의 attrs라는 프로퍼티로 접근 가능 --> dict 형태\n",
    "for i, v in enumerate(myselect):\n",
    "    print(\"---[%d]----\" % i)\n",
    "    print(v.attrs)\n",
    "\n",
    "    # 딕셔너리에 대한 in 연산자는 key의 존재 여부를 판별\n",
    "    if \"href\" in v.attrs:\n",
    "        print(\"%d번째의 href속성값: %s\" % (i, v.attrs[\"href\"]))"
   ]
  }
 ],
 "metadata": {
  "kernelspec": {
   "display_name": "Python 3",
   "language": "python",
   "name": "python3"
  },
  "language_info": {
   "codemirror_mode": {
    "name": "ipython",
    "version": 3
   },
   "file_extension": ".py",
   "mimetype": "text/x-python",
   "name": "python",
   "nbconvert_exporter": "python",
   "pygments_lexer": "ipython3",
   "version": "3.12.0"
  }
 },
 "nbformat": 4,
 "nbformat_minor": 2
}
