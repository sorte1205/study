{
 "cells": [
  {
   "cell_type": "markdown",
   "metadata": {},
   "source": [
    "# 카카오 OpenAPI 연동 (책검색, 단일요청)\n",
    "## #01. 준비과정\n",
    "### [1] 패키지 참조"
   ]
  },
  {
   "cell_type": "code",
   "execution_count": 1,
   "metadata": {},
   "outputs": [],
   "source": [
    "import requests\n",
    "import json\n",
    "import datetime as dt"
   ]
  },
  {
   "cell_type": "markdown",
   "metadata": {},
   "source": [
    "### [2] 접속할 데이터의 URL"
   ]
  },
  {
   "cell_type": "code",
   "execution_count": 2,
   "metadata": {},
   "outputs": [],
   "source": [
    "urlFmt = \"https://dapi.kakao.com/v3/search/book?query={query}&page={page}&size={size}\""
   ]
  },
  {
   "cell_type": "markdown",
   "metadata": {},
   "source": [
    "### [3] 요청 변수"
   ]
  },
  {
   "cell_type": "code",
   "execution_count": 3,
   "metadata": {},
   "outputs": [],
   "source": [
    "query = \"파이썬\"\n",
    "page = 1\n",
    "size = 50\n",
    "key = \"dad57e5d6bd34ed6ab195acb162c5995\""
   ]
  },
  {
   "cell_type": "markdown",
   "metadata": {},
   "source": [
    "## #03. 데이터 요청하기\n",
    "### [1] 세션 생성"
   ]
  },
  {
   "cell_type": "code",
   "execution_count": 4,
   "metadata": {},
   "outputs": [],
   "source": [
    "session = requests.Session()\n",
    "session.headers.update({\n",
    "    \"Referer\": \"\",\n",
    "    \"User-Agent\": \"Mozilla/5.0 (Windows NT 10.0; Win64; x64) AppleWebKit/537.36 (KHTML, like Gecko) Chrome/120.0.0.0 Safari/537.36\",\n",
    "    \"Authorization\": \"KakaoAK %s\" % key\n",
    "})"
   ]
  },
  {
   "cell_type": "markdown",
   "metadata": {},
   "source": [
    "### [2] 데이터 가져오기\n",
    "마지막 페이지임을 의미하는 meta > is_end 라는 값이 True로 반환될 때 까지 page 변수를 1씩 증가시키면서 반복 수행"
   ]
  },
  {
   "cell_type": "code",
   "execution_count": 5,
   "metadata": {},
   "outputs": [
    {
     "name": "stderr",
     "output_type": "stream",
     "text": [
      "<>:15: SyntaxWarning: 'str' object is not callable; perhaps you missed a comma?\n",
      "<>:15: SyntaxWarning: 'str' object is not callable; perhaps you missed a comma?\n",
      "C:\\Users\\Public\\Documents\\ESTsoft\\CreatorTemp\\ipykernel_16300\\764214841.py:15: SyntaxWarning: 'str' object is not callable; perhaps you missed a comma?\n",
      "  msg = \"[%d Error] %s 에러가 발생합\" (r.status_code, r.reason)\n"
     ]
    },
    {
     "name": "stdout",
     "output_type": "stream",
     "text": [
      "https://dapi.kakao.com/v3/search/book?query=파이썬&page=1&size=50\n"
     ]
    },
    {
     "name": "stdout",
     "output_type": "stream",
     "text": [
      "1 페이지로부터 50건의 데이터를 수집했습니다.\n",
      "https://dapi.kakao.com/v3/search/book?query=파이썬&page=2&size=50\n",
      "2 페이지로부터 50건의 데이터를 수집했습니다.\n",
      "https://dapi.kakao.com/v3/search/book?query=파이썬&page=3&size=50\n",
      "3 페이지로부터 50건의 데이터를 수집했습니다.\n",
      "https://dapi.kakao.com/v3/search/book?query=파이썬&page=4&size=50\n",
      "4 페이지로부터 50건의 데이터를 수집했습니다.\n",
      "https://dapi.kakao.com/v3/search/book?query=파이썬&page=5&size=50\n",
      "5 페이지로부터 50건의 데이터를 수집했습니다.\n",
      "https://dapi.kakao.com/v3/search/book?query=파이썬&page=6&size=50\n",
      "6 페이지로부터 50건의 데이터를 수집했습니다.\n",
      "https://dapi.kakao.com/v3/search/book?query=파이썬&page=7&size=50\n",
      "7 페이지로부터 50건의 데이터를 수집했습니다.\n",
      "https://dapi.kakao.com/v3/search/book?query=파이썬&page=8&size=50\n",
      "8 페이지로부터 50건의 데이터를 수집했습니다.\n",
      "https://dapi.kakao.com/v3/search/book?query=파이썬&page=9&size=50\n",
      "9 페이지로부터 50건의 데이터를 수집했습니다.\n",
      "https://dapi.kakao.com/v3/search/book?query=파이썬&page=10&size=50\n",
      "10 페이지로부터 50건의 데이터를 수집했습니다.\n",
      "https://dapi.kakao.com/v3/search/book?query=파이썬&page=11&size=50\n",
      "11 페이지로부터 50건의 데이터를 수집했습니다.\n",
      "https://dapi.kakao.com/v3/search/book?query=파이썬&page=12&size=50\n",
      "12 페이지로부터 50건의 데이터를 수집했습니다.\n",
      "https://dapi.kakao.com/v3/search/book?query=파이썬&page=13&size=50\n",
      "13 페이지로부터 50건의 데이터를 수집했습니다.\n",
      "https://dapi.kakao.com/v3/search/book?query=파이썬&page=14&size=50\n",
      "14 페이지로부터 50건의 데이터를 수집했습니다.\n",
      "https://dapi.kakao.com/v3/search/book?query=파이썬&page=15&size=50\n",
      "15 페이지로부터 50건의 데이터를 수집했습니다.\n",
      "https://dapi.kakao.com/v3/search/book?query=파이썬&page=16&size=50\n",
      "16 페이지로부터 50건의 데이터를 수집했습니다.\n",
      "https://dapi.kakao.com/v3/search/book?query=파이썬&page=17&size=50\n",
      "17 페이지로부터 50건의 데이터를 수집했습니다.\n",
      "https://dapi.kakao.com/v3/search/book?query=파이썬&page=18&size=50\n",
      "18 페이지로부터 50건의 데이터를 수집했습니다.\n",
      "https://dapi.kakao.com/v3/search/book?query=파이썬&page=19&size=50\n",
      "19 페이지로부터 50건의 데이터를 수집했습니다.\n",
      "https://dapi.kakao.com/v3/search/book?query=파이썬&page=20&size=50\n",
      "20 페이지로부터 50건의 데이터를 수집했습니다.\n",
      "fin :)\n"
     ]
    }
   ],
   "source": [
    "page = 1\n",
    "isEnd = False\n",
    "\n",
    "# 수집된 데이터를 모아 놓을 빈 리스트(합계구하는 것과 비슷)\n",
    "mydata = []\n",
    "\n",
    "while not isEnd:\n",
    "    url = urlFmt.format(query=query, page=page, size=size)\n",
    "    print(url)\n",
    "\n",
    "    try:\n",
    "        r = session.get(url)\n",
    "\n",
    "        if r.status_code != 200:\n",
    "            msg = \"[%d Error] %s 에러가 발생합\" (r.status_code, r.reason)\n",
    "            raise Exception(msg)\n",
    "    except Exception as e:\n",
    "        print(\"접속에 실패했습니다.\")\n",
    "        print(e)\n",
    "\n",
    "        # 에러 발생시 나머지 페이지 중단\n",
    "        #break\n",
    "\n",
    "        # 에러 발생시 다음 페이지 시도\n",
    "        continue\n",
    "\n",
    "    # 응답결과 확인\n",
    "    r.encoding = \"utf-8\"\n",
    "    mydict = json.loads(r.text)\n",
    "\n",
    "    # 수집 결과를 미리 준비한 빈 리스트에 추가\n",
    "    mydata += mydict['documents']\n",
    "    print(\"%d 페이지로부터 %d건의 데이터를 수집했습니다.\" % (page, len(mydict['documents'])))\n",
    "\n",
    "    # 마지막 페이지인지 확인\n",
    "    isEnd = mydict['meta']['is_end']\n",
    "\n",
    "    # 페이지 번호를 1 증가\n",
    "    page += 1\n",
    "\n",
    "print(\"fin :)\")\n",
    "        \n",
    "        "
   ]
  },
  {
   "cell_type": "markdown",
   "metadata": {},
   "source": [
    "## #04. 데이터 활용"
   ]
  },
  {
   "cell_type": "code",
   "execution_count": 7,
   "metadata": {},
   "outputs": [
    {
     "name": "stdout",
     "output_type": "stream",
     "text": [
      "fin:)\n"
     ]
    }
   ],
   "source": [
    "with open(\"%s_책_검색결과.csv\" % query, \"w\", encoding=\"utf-8\") as f:\n",
    "    f.write(\"제목, 저자, 출판사, 정가, 판매가, 출간일\\n\")\n",
    "    \n",
    "    for i, v in enumerate(mydata):\n",
    "        #print(list(v.values()))\n",
    "        authors, contents, datetime, isbn, price, publisher, sale_price, status, thumbnail, title, translators, url = v.values()\n",
    "\n",
    "        authors = \"/\".join(authors)\n",
    "        #print(authors)\n",
    "\n",
    "        # 날짜값이 ISO형식인 경우 python의 datetime 객체로 변환하기 위해 fromisformat() 메서드\n",
    "        # print(datetime)\n",
    "        iso_date = dt.datetime.fromisoformat(datetime)\n",
    "        # print(iso_date.strftime(\"%Y-%m-%d\"))\n",
    "\n",
    "        f.write(\"%s,%s,%s,%s,%s,%s\\n\" % (title, authors, publisher, price, sale_price, iso_date.strftime(\"%Y-%m-%d\")))\n",
    "        # break\n",
    "    \n",
    "print(\"fin:)\")"
   ]
  }
 ],
 "metadata": {
  "kernelspec": {
   "display_name": "Python 3",
   "language": "python",
   "name": "python3"
  },
  "language_info": {
   "codemirror_mode": {
    "name": "ipython",
    "version": 3
   },
   "file_extension": ".py",
   "mimetype": "text/x-python",
   "name": "python",
   "nbconvert_exporter": "python",
   "pygments_lexer": "ipython3",
   "version": "3.12.0"
  }
 },
 "nbformat": 4,
 "nbformat_minor": 2
}
