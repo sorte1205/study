{
 "cells": [
  {
   "cell_type": "markdown",
   "metadata": {},
   "source": [
    "## #01. OpenAI\n",
    "\n",
    "### [1] OpenAPI의 이해\n",
    "누구나 사용할 수 있는 공개된 API\n",
    "\n",
    "데이터를 표준화하고 프로그래밍해 외부 소프트웨어 개발자나 사용자가 바로 활용할 수 있는 형태의 개방 형식.\n",
    "\n",
    "RESTFUL API에서 데이터 조회 기능만 제공하는 경우가 많다.\n",
    "\n",
    "    - 웹페이지 주소에서 물음표 뒤 -> 변수 = 뒤-> 파라미터 (PK)\n",
    "\n",
    "\n",
    "### [2] QueryString\n",
    "다른 웹 프로그램에 URL을 통해 전달하는 파라미터 문자열\n",
    "\n",
    "```\n",
    "http://www.naver.com/news?이름=값&이름-값...\n",
    "```\n",
    "웹 프로그램은 URL에 포함된 변수를 활용하여 하나의 프로그램이 변수값에 따라 다른 데이터를 표시할 수 있다.\n",
    "\n",
    "### [3] JSON 데이터를 출력하는 웹 프로그램\n",
    "\n",
    "어떤 웹 페이지가 URL에 포함된 파라미터를 통해 선택적으로 데이터를 표현할 수 있고, 이 웹페이지의 표현 형식이 JSON이라면 그 웹페이지는 파라미터에 따라 다른 내용을 제공할 수 있다."
   ]
  },
  {
   "cell_type": "markdown",
   "metadata": {},
   "source": [
    "## #02. 준비과정\n",
    "\n",
    "### [1] 패키지 참조"
   ]
  },
  {
   "cell_type": "code",
   "execution_count": 14,
   "metadata": {},
   "outputs": [],
   "source": [
    "import requests\n",
    "import json\n",
    "import datetime as dt"
   ]
  },
  {
   "cell_type": "markdown",
   "metadata": {},
   "source": [
    "### [2] 접속할 데이터의 URL\n",
    "\n",
    "변수값을 치환하기 위한 형식 문자열로 구성"
   ]
  },
  {
   "cell_type": "code",
   "execution_count": 5,
   "metadata": {},
   "outputs": [],
   "source": [
    "urlFmt = \"http://www.kobis.or.kr/kobisopenapi/webservice/rest/boxoffice/searchDailyBoxOfficeList.json?key={key}&targetDt={targetDt}\""
   ]
  },
  {
   "cell_type": "markdown",
   "metadata": {},
   "source": [
    "### [3] 요청 변수\n",
    "#### (1) 발급받은 API키"
   ]
  },
  {
   "cell_type": "code",
   "execution_count": 6,
   "metadata": {},
   "outputs": [],
   "source": [
    "API_KEY = \"895de61d45fd24c01968fa147f15683a\""
   ]
  },
  {
   "cell_type": "markdown",
   "metadata": {},
   "source": [
    "#### (2) 하루 전 날짜 얻기"
   ]
  },
  {
   "cell_type": "code",
   "execution_count": 7,
   "metadata": {},
   "outputs": [
    {
     "data": {
      "text/plain": [
       "'20231207'"
      ]
     },
     "execution_count": 7,
     "metadata": {},
     "output_type": "execute_result"
    }
   ],
   "source": [
    "date = dt.datetime.now() - dt.timedelta(days=1)\n",
    "yesterday = date.strftime(\"%Y%m%d\")\n",
    "yesterday"
   ]
  },
  {
   "cell_type": "markdown",
   "metadata": {},
   "source": [
    "## #03. 데이터 요청하기\n",
    "\n",
    "### [1] 세션 생성"
   ]
  },
  {
   "cell_type": "code",
   "execution_count": 8,
   "metadata": {},
   "outputs": [],
   "source": [
    "session = requests.Session()\n",
    "session.headers.update({\n",
    "    \"Referer\": \"\",\n",
    "    \"User-Agent\": \"Mozilla/5.0 (Windows NT 10.0; Win64; x64) AppleWebKit/537.36 (KHTML, like Gecko) Chrome/120.0.0.0 Safari/537.36\"\n",
    "})"
   ]
  },
  {
   "cell_type": "markdown",
   "metadata": {},
   "source": [
    "### [2] 데이터 가져오기"
   ]
  },
  {
   "cell_type": "code",
   "execution_count": 10,
   "metadata": {},
   "outputs": [],
   "source": [
    "url = urlFmt.format(key=API_KEY, targetDt=yesterday)\n",
    "\n",
    "try:\n",
    "    r = session.get(url)\n",
    "    if r.status_code != 200:\n",
    "        msg = \"[%d Error] %s 에러가 발생함\" % (r.status_code, r.reason)\n",
    "        raise Exception(msg)\n",
    "except Exception as e:\n",
    "    print(\"접속에 실패했습니다.\")\n",
    "    print(e)"
   ]
  },
  {
   "cell_type": "markdown",
   "metadata": {},
   "source": [
    "### [3] 수신된 응답 결과 확인"
   ]
  },
  {
   "cell_type": "code",
   "execution_count": 11,
   "metadata": {},
   "outputs": [
    {
     "name": "stdout",
     "output_type": "stream",
     "text": [
      "<class 'dict'>\n"
     ]
    },
    {
     "data": {
      "text/plain": [
       "{'boxOfficeResult': {'boxofficeType': '일별 박스오피스',\n",
       "  'showRange': '20231207~20231207',\n",
       "  'dailyBoxOfficeList': [{'rnum': '1',\n",
       "    'rank': '1',\n",
       "    'rankInten': '0',\n",
       "    'rankOldAndNew': 'OLD',\n",
       "    'movieCd': '20212866',\n",
       "    'movieNm': '서울의 봄',\n",
       "    'openDt': '2023-11-22',\n",
       "    'salesAmt': '1877188012',\n",
       "    'salesShare': '64.7',\n",
       "    'salesInten': '-22296611',\n",
       "    'salesChange': '-1.2',\n",
       "    'salesAcc': '52196524089',\n",
       "    'audiCnt': '200541',\n",
       "    'audiInten': '-2502',\n",
       "    'audiChange': '-1.2',\n",
       "    'audiAcc': '5471675',\n",
       "    'scrnCnt': '2023',\n",
       "    'showCnt': '7481'},\n",
       "   {'rnum': '2',\n",
       "    'rank': '2',\n",
       "    'rankInten': '0',\n",
       "    'rankOldAndNew': 'OLD',\n",
       "    'movieCd': '20190324',\n",
       "    'movieNm': '3일의 휴가',\n",
       "    'openDt': '2023-12-06',\n",
       "    'salesAmt': '307448554',\n",
       "    'salesShare': '10.6',\n",
       "    'salesInten': '-26200952',\n",
       "    'salesChange': '-7.9',\n",
       "    'salesAcc': '668499060',\n",
       "    'audiCnt': '34130',\n",
       "    'audiInten': '-2922',\n",
       "    'audiChange': '-7.9',\n",
       "    'audiAcc': '74165',\n",
       "    'scrnCnt': '739',\n",
       "    'showCnt': '2288'},\n",
       "   {'rnum': '3',\n",
       "    'rank': '3',\n",
       "    'rankInten': '0',\n",
       "    'rankOldAndNew': 'OLD',\n",
       "    'movieCd': '20235098',\n",
       "    'movieNm': '나폴레옹',\n",
       "    'openDt': '2023-12-06',\n",
       "    'salesAmt': '210722022',\n",
       "    'salesShare': '7.3',\n",
       "    'salesInten': '-112390533',\n",
       "    'salesChange': '-34.8',\n",
       "    'salesAcc': '616572077',\n",
       "    'audiCnt': '22179',\n",
       "    'audiInten': '-11698',\n",
       "    'audiChange': '-34.5',\n",
       "    'audiAcc': '61243',\n",
       "    'scrnCnt': '809',\n",
       "    'showCnt': '2026'},\n",
       "   {'rnum': '4',\n",
       "    'rank': '4',\n",
       "    'rankInten': '0',\n",
       "    'rankOldAndNew': 'OLD',\n",
       "    'movieCd': '20202247',\n",
       "    'movieNm': '싱글 인 서울',\n",
       "    'openDt': '2023-11-29',\n",
       "    'salesAmt': '106535306',\n",
       "    'salesShare': '3.7',\n",
       "    'salesInten': '-9215576',\n",
       "    'salesChange': '-8',\n",
       "    'salesAcc': '2656045774',\n",
       "    'audiCnt': '11621',\n",
       "    'audiInten': '-1081',\n",
       "    'audiChange': '-8.5',\n",
       "    'audiAcc': '287428',\n",
       "    'scrnCnt': '711',\n",
       "    'showCnt': '1344'},\n",
       "   {'rnum': '5',\n",
       "    'rank': '5',\n",
       "    'rankInten': '0',\n",
       "    'rankOldAndNew': 'OLD',\n",
       "    'movieCd': '20234114',\n",
       "    'movieNm': '괴물',\n",
       "    'openDt': '2023-11-29',\n",
       "    'salesAmt': '100298815',\n",
       "    'salesShare': '3.5',\n",
       "    'salesInten': '5089457',\n",
       "    'salesChange': '5.3',\n",
       "    'salesAcc': '1539281478',\n",
       "    'audiCnt': '10341',\n",
       "    'audiInten': '19',\n",
       "    'audiChange': '0.2',\n",
       "    'audiAcc': '164395',\n",
       "    'scrnCnt': '396',\n",
       "    'showCnt': '563'},\n",
       "   {'rnum': '6',\n",
       "    'rank': '6',\n",
       "    'rankInten': '0',\n",
       "    'rankOldAndNew': 'OLD',\n",
       "    'movieCd': '20235697',\n",
       "    'movieNm': '엔시티 네이션 : 투 더 월드 인 시네마',\n",
       "    'openDt': '2023-12-06',\n",
       "    'salesAmt': '58827500',\n",
       "    'salesShare': '2.0',\n",
       "    'salesInten': '-107800500',\n",
       "    'salesChange': '-64.7',\n",
       "    'salesAcc': '225455500',\n",
       "    'audiCnt': '2674',\n",
       "    'audiInten': '-4900',\n",
       "    'audiChange': '-64.7',\n",
       "    'audiAcc': '10248',\n",
       "    'scrnCnt': '84',\n",
       "    'showCnt': '248'},\n",
       "   {'rnum': '7',\n",
       "    'rank': '7',\n",
       "    'rankInten': '2',\n",
       "    'rankOldAndNew': 'OLD',\n",
       "    'movieCd': '20210087',\n",
       "    'movieNm': '듄',\n",
       "    'openDt': '2021-10-20',\n",
       "    'salesAmt': '36179980',\n",
       "    'salesShare': '1.2',\n",
       "    'salesInten': '-4653750',\n",
       "    'salesChange': '-11.4',\n",
       "    'salesAcc': '18045875680',\n",
       "    'audiCnt': '2134',\n",
       "    'audiInten': '-346',\n",
       "    'audiChange': '-14',\n",
       "    'audiAcc': '1627746',\n",
       "    'scrnCnt': '35',\n",
       "    'showCnt': '74'},\n",
       "   {'rnum': '8',\n",
       "    'rank': '8',\n",
       "    'rankInten': '2',\n",
       "    'rankOldAndNew': 'OLD',\n",
       "    'movieCd': '20234957',\n",
       "    'movieNm': '스노우 폭스: 썰매개가 될 거야!',\n",
       "    'openDt': '2023-11-23',\n",
       "    'salesAmt': '13332500',\n",
       "    'salesShare': '0.5',\n",
       "    'salesInten': '1799280',\n",
       "    'salesChange': '15.6',\n",
       "    'salesAcc': '624253220',\n",
       "    'audiCnt': '2039',\n",
       "    'audiInten': '197',\n",
       "    'audiChange': '10.7',\n",
       "    'audiAcc': '75654',\n",
       "    'scrnCnt': '49',\n",
       "    'showCnt': '51'},\n",
       "   {'rnum': '9',\n",
       "    'rank': '9',\n",
       "    'rankInten': '2',\n",
       "    'rankOldAndNew': 'OLD',\n",
       "    'movieCd': '20235030',\n",
       "    'movieNm': '프레디의 피자가게',\n",
       "    'openDt': '2023-11-15',\n",
       "    'salesAmt': '14706211',\n",
       "    'salesShare': '0.5',\n",
       "    'salesInten': '1440655',\n",
       "    'salesChange': '10.9',\n",
       "    'salesAcc': '6440171456',\n",
       "    'audiCnt': '1555',\n",
       "    'audiInten': '196',\n",
       "    'audiChange': '14.4',\n",
       "    'audiAcc': '660671',\n",
       "    'scrnCnt': '123',\n",
       "    'showCnt': '146'},\n",
       "   {'rnum': '10',\n",
       "    'rank': '10',\n",
       "    'rankInten': '0',\n",
       "    'rankOldAndNew': 'NEW',\n",
       "    'movieCd': '20235360',\n",
       "    'movieNm': '매직 프린세스: 얼음 괴물과 사라진 열쇠의 비밀',\n",
       "    'openDt': '2023-12-07',\n",
       "    'salesAmt': '10782000',\n",
       "    'salesShare': '0.4',\n",
       "    'salesInten': '10782000',\n",
       "    'salesChange': '100',\n",
       "    'salesAcc': '10782000',\n",
       "    'audiCnt': '1381',\n",
       "    'audiInten': '1381',\n",
       "    'audiChange': '100',\n",
       "    'audiAcc': '1381',\n",
       "    'scrnCnt': '87',\n",
       "    'showCnt': '92'}]}}"
      ]
     },
     "execution_count": 11,
     "metadata": {},
     "output_type": "execute_result"
    }
   ],
   "source": [
    "r.coding = \"utf-8\"\n",
    "mydict = json.loads(r.text)\n",
    "print(type(mydict))\n",
    "mydict"
   ]
  },
  {
   "cell_type": "markdown",
   "metadata": {},
   "source": [
    "## #04. 데이터 활용"
   ]
  },
  {
   "cell_type": "code",
   "execution_count": 13,
   "metadata": {},
   "outputs": [
    {
     "name": "stdout",
     "output_type": "stream",
     "text": [
      "fin :)\n"
     ]
    }
   ],
   "source": [
    "fname = \"박스오피스_%s.csv\" % yesterday\n",
    "with open(fname, \"w\", encoding= \"utf-8\") as f:\n",
    "    f.write(\"제목, 개봉일, 관람객수, 누적관람객수\\n\")\n",
    "    \n",
    "    for item in mydict['boxOfficeResult']['dailyBoxOfficeList']:\n",
    "        f.write(\"%s,%s,%s,%s\\n\" % (item['movieNm'], item['openDt'], item['audiCnt'], item['audiAcc']))\n",
    "        \n",
    "print(\"fin :)\")"
   ]
  }
 ],
 "metadata": {
  "kernelspec": {
   "display_name": "Python 3",
   "language": "python",
   "name": "python3"
  },
  "language_info": {
   "codemirror_mode": {
    "name": "ipython",
    "version": 3
   },
   "file_extension": ".py",
   "mimetype": "text/x-python",
   "name": "python",
   "nbconvert_exporter": "python",
   "pygments_lexer": "ipython3",
   "version": "3.12.0"
  }
 },
 "nbformat": 4,
 "nbformat_minor": 2
}
