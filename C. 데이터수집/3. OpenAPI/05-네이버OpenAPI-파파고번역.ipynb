{
 "cells": [
  {
   "cell_type": "markdown",
   "metadata": {},
   "source": [
    "# 네이버 OpenAPI 연동 (파파고 번역)\n",
    "\n",
    "## #01. 준비과정\n",
    "\n",
    "### [1] 패키지 참조"
   ]
  },
  {
   "cell_type": "code",
   "execution_count": 2,
   "metadata": {},
   "outputs": [],
   "source": [
    "import requests\n",
    "import json\n",
    "import datetime as dt\n",
    "import os"
   ]
  },
  {
   "cell_type": "markdown",
   "metadata": {},
   "source": [
    "### [2] 접속할 데이터의 URL"
   ]
  },
  {
   "cell_type": "code",
   "execution_count": 12,
   "metadata": {},
   "outputs": [],
   "source": [
    "url = \"https://openapi.naver.com/v1/papago/n2mt\""
   ]
  },
  {
   "cell_type": "markdown",
   "metadata": {},
   "source": [
    "### [3] 요청 변수"
   ]
  },
  {
   "cell_type": "code",
   "execution_count": 13,
   "metadata": {},
   "outputs": [],
   "source": [
    "# 번역할 원문의 언어 코드\n",
    "source = \"en\"\n",
    "# 번역될 문장의 언어 코드\n",
    "target = \"ko\"\n",
    "\n",
    "# 번역할 문장\n",
    "text = \"The explosive growth of data volumne and the ever-increasing demands of data value extraction have driven us into the era of big data\"\n",
    "\n",
    "# 네이버에서 발급받은 연동키\n",
    "clientId = \"Ox0EG4aPql8772WFuUba\"\n",
    "clientSecret = \"rbdxWbfv4f\"\n"
   ]
  },
  {
   "cell_type": "markdown",
   "metadata": {},
   "source": [
    "## #03. 데이터 요청하기\n",
    "### [1] 세션 생성"
   ]
  },
  {
   "cell_type": "code",
   "execution_count": 14,
   "metadata": {},
   "outputs": [],
   "source": [
    "session = requests.Session()\n",
    "\n",
    "session.headers.update({\n",
    "    \"Referer\": \"\",\n",
    "    \"User-Agent\": \"Mozilla/5.0 (Windows NT 10.0; Win64; x64) AppleWebKit/537.36 (KHTML, like Gecko) Chrome/120.0.0.0 Safari/537.36\",\n",
    "    \"X-Naver-Client-Id\": clientId,\n",
    "    \"X-Naver-Client-Secret\": clientSecret\n",
    "})"
   ]
  },
  {
   "cell_type": "markdown",
   "metadata": {},
   "source": [
    "### [2] 데이터 가져오기\n",
    "\n",
    "post 방식 전송은 'data'라는 이름의 파라미터에 전송하고자 하는 변수를 딕셔너리 형태로 구성해야 한다."
   ]
  },
  {
   "cell_type": "code",
   "execution_count": 15,
   "metadata": {},
   "outputs": [
    {
     "name": "stdout",
     "output_type": "stream",
     "text": [
      "<class 'dict'>\n",
      "{'message': {'@type': 'response', '@service': 'naverservice.nmt.proxy', '@version': '1.0.0', 'result': {'srcLangType': 'en', 'tarLangType': 'ko', 'translatedText': '데이터 볼륨의 폭발적인 증가와 데이터 가치 추출에 대한 지속적인 요구는 우리를 빅 데이터 시대로 이끌었다', 'engineType': 'N2MT'}}}\n"
     ]
    },
    {
     "data": {
      "text/plain": [
       "'데이터 볼륨의 폭발적인 증가와 데이터 가치 추출에 대한 지속적인 요구는 우리를 빅 데이터 시대로 이끌었다'"
      ]
     },
     "execution_count": 15,
     "metadata": {},
     "output_type": "execute_result"
    }
   ],
   "source": [
    "try:\n",
    "    r= session.post(url, data ={\n",
    "        \"source\": source,\n",
    "        \"target\": target,\n",
    "        \"text\": text\n",
    "    })\n",
    "    \n",
    "    if r.status_code != 200:\n",
    "        msg = \"[%d Error] %s 에러가 발생함\" % (r.status_code, r.reason)\n",
    "        raise Exception(msg)\n",
    "except Exception as e:\n",
    "    print(\"접속에 실패했습니다.\")\n",
    "    print(e)\n",
    "\n",
    "r.encoding = \"utf-8\"\n",
    "mydict = json.loads(r.text)\n",
    "print(type(mydict))\n",
    "print(mydict)\n",
    "mydict['message']['result']['translatedText']"
   ]
  }
 ],
 "metadata": {
  "kernelspec": {
   "display_name": "Python 3",
   "language": "python",
   "name": "python3"
  },
  "language_info": {
   "codemirror_mode": {
    "name": "ipython",
    "version": 3
   },
   "file_extension": ".py",
   "mimetype": "text/x-python",
   "name": "python",
   "nbconvert_exporter": "python",
   "pygments_lexer": "ipython3",
   "version": "3.12.0"
  }
 },
 "nbformat": 4,
 "nbformat_minor": 2
}
