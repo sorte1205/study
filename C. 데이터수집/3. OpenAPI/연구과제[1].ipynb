{
 "cells": [
  {
   "cell_type": "markdown",
   "metadata": {},
   "source": [
    "# 연구과제\n",
    "## 문제1\n",
    "https://data.hossam.kr/py/eng.txt 파일에는 8개의 영어문장이 저장되어 있습니다. 이 파일을 requests 객체를 사용하여 텍스트를 가져와서 파파고 API를 활용하여 번역한 후 아래와 같이 원문과 번역내용이 정리된 CSV파일을 저장하세요."
   ]
  },
  {
   "cell_type": "code",
   "execution_count": 7,
   "metadata": {},
   "outputs": [],
   "source": [
    "import requests\n",
    "import json\n",
    "import datetime as dt\n",
    "import os\n",
    "import concurrent.futures as futures"
   ]
  },
  {
   "cell_type": "code",
   "execution_count": 8,
   "metadata": {},
   "outputs": [],
   "source": [
    "url =\"https://data.hossam.kr/py/eng.txt\""
   ]
  },
  {
   "cell_type": "code",
   "execution_count": 9,
   "metadata": {},
   "outputs": [],
   "source": [
    "session = requests.Session()\n",
    "session.headers.update({\n",
    "    \"Referer\": \"\",\n",
    "    \"User-Agent\": \"Mozilla/5.0 (Windows NT 10.0; Win64; x64) AppleWebKit/537.36 (KHTML, like Gecko) Chrome/120.0.0.0 Safari/537.36\"\n",
    "})"
   ]
  },
  {
   "cell_type": "code",
   "execution_count": 10,
   "metadata": {},
   "outputs": [
    {
     "name": "stdout",
     "output_type": "stream",
     "text": [
      "The explosive growth of data volume and the ever-increasing demands of data value extraction have driven us into the era of big data.\n",
      "The “5V” (Variety, Velocity, Volume, Value, and Veracity) characteristics of big data pose great challenges to traditional computing paradigms and motivate the emergence of new solutions.\n",
      "Cloud computing is one of the representative technologies that can perform massive-scale and complex data computing by taking advantages of virtualized resources, parallel processing and data service integration with scalable data storage.\n",
      "However, as we are also experiencing the revolution of Internet-of-things (IoT), the limitations of cloud computing on supporting lightweight end devices significantly impede the flourish of cloud computing at the intersection of big data and IoT era.\n",
      "It also promotes the urgency of proposing new computing paradigms.\n",
      "We provide an overview on the topic of big data, and a comprehensive survey on how cloud computing as well as its related technologies can address the challenges arisen by big data.\n",
      "Then, we analyze the disadvantages of cloud computing when big data encounters IoT, and introduce two promising computing paradigms, including fog computing and transparent computing, to support the big data services of IoT.\n",
      "Finally, some open challenges and future directions are summarized to foster continued research efforts into this evolving field of study.\n"
     ]
    },
    {
     "data": {
      "text/plain": [
       "['The explosive growth of data volume and the ever-increasing demands of data value extraction have driven us into the era of big data.',\n",
       " 'The “5V” (Variety, Velocity, Volume, Value, and Veracity) characteristics of big data pose great challenges to traditional computing paradigms and motivate the emergence of new solutions.',\n",
       " 'Cloud computing is one of the representative technologies that can perform massive-scale and complex data computing by taking advantages of virtualized resources, parallel processing and data service integration with scalable data storage.',\n",
       " 'However, as we are also experiencing the revolution of Internet-of-things (IoT), the limitations of cloud computing on supporting lightweight end devices significantly impede the flourish of cloud computing at the intersection of big data and IoT era.',\n",
       " 'It also promotes the urgency of proposing new computing paradigms.',\n",
       " 'We provide an overview on the topic of big data, and a comprehensive survey on how cloud computing as well as its related technologies can address the challenges arisen by big data.',\n",
       " 'Then, we analyze the disadvantages of cloud computing when big data encounters IoT, and introduce two promising computing paradigms, including fog computing and transparent computing, to support the big data services of IoT.',\n",
       " 'Finally, some open challenges and future directions are summarized to foster continued research efforts into this evolving field of study.']"
      ]
     },
     "execution_count": 10,
     "metadata": {},
     "output_type": "execute_result"
    }
   ],
   "source": [
    "mydata = []        \n",
    "\n",
    "try:\n",
    "    r = session.get(url)\n",
    "    if r.status_code != 200:\n",
    "        msg = \"[%d error] %s 에러가 발생함\" % (r.status_code, r.reason)\n",
    "        raise Exception(msg)\n",
    "\n",
    "except Exception as e:\n",
    "    print(\"접속에 실패했습니다.\")\n",
    "    print(e)\n",
    "\n",
    "\n",
    "\n",
    "r.encoding = \"utf-8\" # 영어는 어떤 형식이든 상관 x\n",
    "print(r.text)\n",
    "mydata =[]\n",
    "phrase = r.text.split(\"\\n\")\n",
    "phrase               # for text in sources 로 반복문 돌 수 있음\n",
    "for i in range(len(phrase)):\n",
    "    mydata.append(phrase[i])\n",
    "mydata\n",
    "\n",
    "\n"
   ]
  },
  {
   "cell_type": "code",
   "execution_count": 11,
   "metadata": {},
   "outputs": [],
   "source": [
    "def translation(mydata):\n",
    "    translated_data =[]   \n",
    "    # 네이버 파파고\n",
    "    for i in range(len(mydata)):\n",
    "        \n",
    "        url = \"https://openapi.naver.com/v1/papago/n2mt\"\n",
    "        source = \"en\"\n",
    "        target = \"ko\"\n",
    "        text = mydata[i]\n",
    "        clientId = \"7n9DccY1x4DwQkrvhgtt\"\n",
    "        clientSecret = \"tcCPokL1h3\"\n",
    "\n",
    "        session = requests.Session()\n",
    "\n",
    "        session.headers.update({\n",
    "            \"Referer\": \"\",\n",
    "            \"User-Agent\": \"Mozilla/5.0 (Windows NT 10.0; Win64; x64) AppleWebKit/537.36 (KHTML, like Gecko) Chrome/120.0.0.0 Safari/537.36\",\n",
    "            \"X-Naver-Client-Id\": clientId,\n",
    "            \"X-Naver-Client-Secret\": clientSecret\n",
    "        })\n",
    "\n",
    "        try:\n",
    "            r= session.post(url, data ={\n",
    "                \"source\": source,\n",
    "                \"target\": target,\n",
    "                \"text\": text\n",
    "            })\n",
    "            \n",
    "            if r.status_code != 200:\n",
    "                msg = \"[%d Error] %s 에러가 발생함\" % (r.status_code, r.reason)\n",
    "                raise Exception(msg)\n",
    "        except Exception as e:\n",
    "            print(\"접속에 실패했습니다.\")\n",
    "            print(e)\n",
    "        \n",
    "        r.encoding = \"utf-8\"\n",
    "        mydict = json.loads(r.text)\n",
    "        print(mydict)\n",
    "        results = mydict['message']['result']['translatedText']\n",
    "        translated_data.append(results)\n",
    "\n",
    "    return translated_data\n",
    "\n"
   ]
  },
  {
   "cell_type": "code",
   "execution_count": 12,
   "metadata": {},
   "outputs": [
    {
     "name": "stdout",
     "output_type": "stream",
     "text": [
      "{'message': {'@type': 'response', '@service': 'naverservice.nmt.proxy', '@version': '1.0.0', 'result': {'srcLangType': 'en', 'tarLangType': 'ko', 'translatedText': '데이터량의 폭발적인 성장과 데이터 가치 추출에 대한 요구가 계속 증가하면서 우리는 빅 데이터 시대로 접어들었습니다.', 'engineType': 'N2MT'}}}\n",
      "{'message': {'@type': 'response', '@service': 'naverservice.nmt.proxy', '@version': '1.0.0', 'result': {'srcLangType': 'en', 'tarLangType': 'ko', 'translatedText': '빅 데이터의 \"5V\"(Variety, Velocity, Volume, Value, Veracity) 특성은 전통적인 컴퓨팅 패러다임에 큰 도전을 제기하고 새로운 솔루션의 출현에 동기를 부여한다.', 'engineType': 'N2MT'}}}\n",
      "{'message': {'@type': 'response', '@service': 'naverservice.nmt.proxy', '@version': '1.0.0', 'result': {'srcLangType': 'en', 'tarLangType': 'ko', 'translatedText': '클라우드 컴퓨팅은 가상화된 자원, 병렬 처리 및 확장 가능한 데이터 스토리지와의 데이터 서비스 통합의 이점을 활용하여 대규모의 복잡한 데이터 컴퓨팅을 수행할 수 있는 대표적인 기술 중 하나이다.', 'engineType': 'N2MT'}}}\n",
      "{'message': {'@type': 'response', '@service': 'naverservice.nmt.proxy', '@version': '1.0.0', 'result': {'srcLangType': 'en', 'tarLangType': 'ko', 'translatedText': '그러나 우리도 사물인터넷(IoT)의 혁명을 경험하고 있기 때문에, 경량 엔드 디바이스를 지원하는 클라우드 컴퓨팅의 한계는 빅 데이터와 IoT 시대의 교차점에서 클라우드 컴퓨팅의 번성을 크게 방해한다.', 'engineType': 'N2MT'}}}\n",
      "{'message': {'@type': 'response', '@service': 'naverservice.nmt.proxy', '@version': '1.0.0', 'result': {'srcLangType': 'en', 'tarLangType': 'ko', 'translatedText': '또한 새로운 컴퓨팅 패러다임 제안의 시급성을 촉진한다.', 'engineType': 'N2MT'}}}\n",
      "{'message': {'@type': 'response', '@service': 'naverservice.nmt.proxy', '@version': '1.0.0', 'result': {'srcLangType': 'en', 'tarLangType': 'ko', 'translatedText': '빅데이터 주제에 대한 개요와 클라우드 컴퓨팅 및 관련 기술이 빅데이터로 인해 발생하는 문제를 해결할 수 있는 방법에 대한 종합적인 조사를 제공합니다.', 'engineType': 'N2MT'}}}\n",
      "{'message': {'@type': 'response', '@service': 'naverservice.nmt.proxy', '@version': '1.0.0', 'result': {'srcLangType': 'en', 'tarLangType': 'ko', 'translatedText': '그런 다음 빅데이터가 IoT를 접할 때 클라우드 컴퓨팅의 단점을 분석하고, IoT의 빅데이터 서비스를 지원하기 위해 포그 컴퓨팅과 투명 컴퓨팅 등 두 가지 유망한 컴퓨팅 패러다임을 소개한다.', 'engineType': 'N2MT'}}}\n",
      "{'message': {'@type': 'response', '@service': 'naverservice.nmt.proxy', '@version': '1.0.0', 'result': {'srcLangType': 'en', 'tarLangType': 'ko', 'translatedText': '마지막으로 이러한 발전적인 연구 분야에 지속적인 연구 노력을 기르기 위한 몇 가지 열린 과제와 향후 방향을 정리하였다.', 'engineType': 'N2MT'}}}\n"
     ]
    }
   ],
   "source": [
    "translated_data = translation(mydata)"
   ]
  },
  {
   "cell_type": "code",
   "execution_count": 13,
   "metadata": {},
   "outputs": [
    {
     "data": {
      "text/plain": [
       "['The explosive growth of data volume and the ever-increasing demands of data value extraction have driven us into the era of big data.',\n",
       " 'The “5V” (Variety, Velocity, Volume, Value, and Veracity) characteristics of big data pose great challenges to traditional computing paradigms and motivate the emergence of new solutions.',\n",
       " 'Cloud computing is one of the representative technologies that can perform massive-scale and complex data computing by taking advantages of virtualized resources, parallel processing and data service integration with scalable data storage.',\n",
       " 'However, as we are also experiencing the revolution of Internet-of-things (IoT), the limitations of cloud computing on supporting lightweight end devices significantly impede the flourish of cloud computing at the intersection of big data and IoT era.',\n",
       " 'It also promotes the urgency of proposing new computing paradigms.',\n",
       " 'We provide an overview on the topic of big data, and a comprehensive survey on how cloud computing as well as its related technologies can address the challenges arisen by big data.',\n",
       " 'Then, we analyze the disadvantages of cloud computing when big data encounters IoT, and introduce two promising computing paradigms, including fog computing and transparent computing, to support the big data services of IoT.',\n",
       " 'Finally, some open challenges and future directions are summarized to foster continued research efforts into this evolving field of study.']"
      ]
     },
     "execution_count": 13,
     "metadata": {},
     "output_type": "execute_result"
    }
   ],
   "source": [
    "mydata\n",
    "\n"
   ]
  },
  {
   "cell_type": "code",
   "execution_count": 14,
   "metadata": {},
   "outputs": [
    {
     "data": {
      "text/plain": [
       "[{'원본': 'The explosive growth of data volume and the ever-increasing demands of data value extraction have driven us into the era of big data.',\n",
       "  '번역본': '데이터량의 폭발적인 성장과 데이터 가치 추출에 대한 요구가 계속 증가하면서 우리는 빅 데이터 시대로 접어들었습니다.'},\n",
       " {'원본': 'The “5V” (Variety, Velocity, Volume, Value, and Veracity) characteristics of big data pose great challenges to traditional computing paradigms and motivate the emergence of new solutions.',\n",
       "  '번역본': '빅 데이터의 \"5V\"(Variety, Velocity, Volume, Value, Veracity) 특성은 전통적인 컴퓨팅 패러다임에 큰 도전을 제기하고 새로운 솔루션의 출현에 동기를 부여한다.'},\n",
       " {'원본': 'Cloud computing is one of the representative technologies that can perform massive-scale and complex data computing by taking advantages of virtualized resources, parallel processing and data service integration with scalable data storage.',\n",
       "  '번역본': '클라우드 컴퓨팅은 가상화된 자원, 병렬 처리 및 확장 가능한 데이터 스토리지와의 데이터 서비스 통합의 이점을 활용하여 대규모의 복잡한 데이터 컴퓨팅을 수행할 수 있는 대표적인 기술 중 하나이다.'},\n",
       " {'원본': 'However, as we are also experiencing the revolution of Internet-of-things (IoT), the limitations of cloud computing on supporting lightweight end devices significantly impede the flourish of cloud computing at the intersection of big data and IoT era.',\n",
       "  '번역본': '그러나 우리도 사물인터넷(IoT)의 혁명을 경험하고 있기 때문에, 경량 엔드 디바이스를 지원하는 클라우드 컴퓨팅의 한계는 빅 데이터와 IoT 시대의 교차점에서 클라우드 컴퓨팅의 번성을 크게 방해한다.'},\n",
       " {'원본': 'It also promotes the urgency of proposing new computing paradigms.',\n",
       "  '번역본': '또한 새로운 컴퓨팅 패러다임 제안의 시급성을 촉진한다.'},\n",
       " {'원본': 'We provide an overview on the topic of big data, and a comprehensive survey on how cloud computing as well as its related technologies can address the challenges arisen by big data.',\n",
       "  '번역본': '빅데이터 주제에 대한 개요와 클라우드 컴퓨팅 및 관련 기술이 빅데이터로 인해 발생하는 문제를 해결할 수 있는 방법에 대한 종합적인 조사를 제공합니다.'},\n",
       " {'원본': 'Then, we analyze the disadvantages of cloud computing when big data encounters IoT, and introduce two promising computing paradigms, including fog computing and transparent computing, to support the big data services of IoT.',\n",
       "  '번역본': '그런 다음 빅데이터가 IoT를 접할 때 클라우드 컴퓨팅의 단점을 분석하고, IoT의 빅데이터 서비스를 지원하기 위해 포그 컴퓨팅과 투명 컴퓨팅 등 두 가지 유망한 컴퓨팅 패러다임을 소개한다.'},\n",
       " {'원본': 'Finally, some open challenges and future directions are summarized to foster continued research efforts into this evolving field of study.',\n",
       "  '번역본': '마지막으로 이러한 발전적인 연구 분야에 지속적인 연구 노력을 기르기 위한 몇 가지 열린 과제와 향후 방향을 정리하였다.'}]"
      ]
     },
     "execution_count": 14,
     "metadata": {},
     "output_type": "execute_result"
    }
   ],
   "source": [
    "mylist=[]\n",
    "for i in range(8):\n",
    "    resultsss = {\"원본\": mydata[i], \"번역본\": translated_data[i]}\n",
    "    mylist.append(resultsss)\n",
    "\n",
    "mylist\n"
   ]
  },
  {
   "cell_type": "code",
   "execution_count": 17,
   "metadata": {},
   "outputs": [
    {
     "name": "stdout",
     "output_type": "stream",
     "text": [
      "fin:)\n"
     ]
    }
   ],
   "source": [
    "\n",
    "# tpl ='\"{0}\",\"{1}\\n\"'\n",
    "with open(\"phrase1.csv\", \"w\", encoding = 'euc-kr')as f:\n",
    "  # 여기서 제목을 fname = dt.datetime.now().strftime(\"번역결과_%y%m%d_%H%M%S.csv\")\n",
    "    # for i in range(len(mylist)):\n",
    "    #     tmp = tpl.format(mylist[i]['a'], mylist[i]['b'])\n",
    "\n",
    "    #     f.write(tmp)\n",
    "\n",
    "    for i, v in enumerate(mylist):\n",
    "        if i == 0:\n",
    "            title = \"%s\\n\" % \",\".join(list(v.keys()))\n",
    "            f.write(title)\n",
    "        \n",
    "        values= list(v.values())\n",
    "        content = '\"%s\", \"%s\"\\n' % (values[0], values[1])\n",
    "        f.write(content)\n",
    "    \n",
    "print(\"fin:)\")\n"
   ]
  },
  {
   "cell_type": "markdown",
   "metadata": {},
   "source": []
  }
 ],
 "metadata": {
  "kernelspec": {
   "display_name": "Python 3",
   "language": "python",
   "name": "python3"
  },
  "language_info": {
   "codemirror_mode": {
    "name": "ipython",
    "version": 3
   },
   "file_extension": ".py",
   "mimetype": "text/x-python",
   "name": "python",
   "nbconvert_exporter": "python",
   "pygments_lexer": "ipython3",
   "version": "3.12.0"
  }
 },
 "nbformat": 4,
 "nbformat_minor": 2
}
