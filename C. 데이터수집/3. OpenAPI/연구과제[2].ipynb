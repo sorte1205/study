{
 "cells": [
  {
   "cell_type": "markdown",
   "metadata": {},
   "source": [
    "# 문제2\n",
    "\n",
    "https://data.hossam.kr/py/bus_station.csv 파일에는 서울시의 버스정류장에 대한 위도와 경도가 포함되어 있습니다. 이 정보를 활용하여 각 버스정류장의 주소를 조회후 CSV 파일을 생성하세요.\n",
    "  ***(위도, 경도 -> 주소 : 지오코더)***\n",
    "\n",
    "데이터 수집은 비동기 방식으로 최대 50개까지 동시에 처리하세요.\n",
    "\n",
    "CSV 파일의 형식은 아래와 같습니다.\n",
    "\n",
    "| 정류소번호 | 정류소명 | X좌표 | Y좌표 | 정류소 타입 |우편번호|주소| |---|---|---|---|---|---|---| | 1001 | 종로2가사거리 | 126.987752 | 37.569808 | 중앙차로 | XXXXX | 서울특별시 종로구 ... |\n",
    "\n",
    "이 문제를 해결하기 위해 https://www.vworld.kr/dev/v4api.do 사이트에서 OpenAPI에 대한 키를 직접 발급받고 API 연동 규격을 파악해야 합니다."
   ]
  },
  {
   "cell_type": "code",
   "execution_count": 1,
   "metadata": {},
   "outputs": [],
   "source": [
    "import requests\n",
    "import concurrent.futures\n",
    "import json\n",
    "from tqdm.notebook import tqdm ## 프로그래스바 객체 생성을 위해."
   ]
  },
  {
   "cell_type": "code",
   "execution_count": 3,
   "metadata": {},
   "outputs": [],
   "source": [
    "url = \"https://data.hossam.kr/py/bus_station.csv\"\n",
    "session = requests.Session()\n",
    "session.headers.update({\n",
    "    \"Referer\": \"\",\n",
    "    \"User-Agent\": \"Mozilla/5.0 (Windows NT 10.0; Win64; x64) AppleWebKit/537.36 (KHTML, like Gecko) Chrome/120.0.0.0 Safari/537.36\"\n",
    "})\n"
   ]
  },
  {
   "cell_type": "code",
   "execution_count": 21,
   "metadata": {},
   "outputs": [],
   "source": [
    "try: \n",
    "    r = session.get(url)\n",
    "    if r.status_code != 200:\n",
    "        msg = \"[%d Error] %s 에러가 발생함\" % (r.status_code, r.reason)\n",
    "        raise Exception (msg)\n",
    "except Exception as e:\n",
    "    print(\"접속에 실패했습니다.\")\n",
    "    print(e)\n",
    "\n",
    "r.encoding = \"euc-kr\"\n",
    "# r.text\n",
    "\n",
    "\n",
    "mydata= r.text.split(\"\\n\")\n",
    "mydata[:5]\n",
    "mylist=[]\n",
    "for i in range(len(mydata)):\n",
    "    mylist.append(mydata[i].split(\",\"))\n",
    "\n",
    "\n",
    "# with open(\"bus_station.csv\", \"w\", encoding= \"euc-kr\") as f:\n",
    "#     f.write(\"정류소번호, 정류소명, X좌표, Y좌표, 정류소타입\\n\")\n",
    "\n",
    "#     for i, v in enumerate(mydata):\n",
    "#         collection, thumbnail_url, image_url, width, height, display_sitename, doc_url, datetime = v.values()\n",
    "#         f.write(\"%s,%s,%s,%s,%s,%s,%s\\n\" % (collection, display_sitename, width, height, doc_url, thumbnail_url, image_url))\n",
    "\n",
    "# print(\"fin :)\")\n"
   ]
  },
  {
   "cell_type": "code",
   "execution_count": 42,
   "metadata": {},
   "outputs": [
    {
     "data": {
      "text/plain": [
       "['1007', '서울역사박물관.경희궁앞', '126.97038', '37.569135', '중앙차로']"
      ]
     },
     "execution_count": 42,
     "metadata": {},
     "output_type": "execute_result"
    }
   ],
   "source": [
    "mylist[:5]\n",
    "del(mylist[0])\n",
    "mylist[2]\n"
   ]
  },
  {
   "cell_type": "code",
   "execution_count": 80,
   "metadata": {},
   "outputs": [],
   "source": [
    "APIKEY = \"91F6EB23-A7E3-3781-AD1C-460989C2B9B5\""
   ]
  },
  {
   "cell_type": "code",
   "execution_count": 81,
   "metadata": {},
   "outputs": [],
   "source": [
    "urlFmt = \"https://api.vworld.kr/req/address?service=address&request=getAddress&version=2.0&crs=epsg:4326&point={x_point},{y_point}&format=json&type=road&zipcode=true&simple=false&key={APIKEY}\""
   ]
  },
  {
   "cell_type": "code",
   "execution_count": 96,
   "metadata": {},
   "outputs": [
    {
     "ename": "TypeError",
     "evalue": "geocode() missing 3 required positional arguments: 'mylist', 'urlFmt', and 'APIKEY'",
     "output_type": "error",
     "traceback": [
      "\u001b[1;31m---------------------------------------------------------------------------\u001b[0m",
      "\u001b[1;31mTypeError\u001b[0m                                 Traceback (most recent call last)",
      "Cell \u001b[1;32mIn[96], line 16\u001b[0m\n\u001b[0;32m     13\u001b[0m         \u001b[38;5;28mprint\u001b[39m(\u001b[38;5;124m\"\u001b[39m\u001b[38;5;124m접속에 실패했습니다.\u001b[39m\u001b[38;5;124m\"\u001b[39m)\n\u001b[0;32m     14\u001b[0m         \u001b[38;5;28mprint\u001b[39m(e)\n\u001b[1;32m---> 16\u001b[0m \u001b[43mgeocode\u001b[49m\u001b[43m(\u001b[49m\u001b[43m)\u001b[49m\n\u001b[0;32m     17\u001b[0m r\u001b[38;5;241m.\u001b[39mencoding \u001b[38;5;241m=\u001b[39m \u001b[38;5;124m\"\u001b[39m\u001b[38;5;124mUTF-8\u001b[39m\u001b[38;5;124m\"\u001b[39m\n\u001b[0;32m     18\u001b[0m mydict \u001b[38;5;241m=\u001b[39m json\u001b[38;5;241m.\u001b[39mloads(r\u001b[38;5;241m.\u001b[39mtext)\n",
      "\u001b[1;31mTypeError\u001b[0m: geocode() missing 3 required positional arguments: 'mylist', 'urlFmt', and 'APIKEY'"
     ]
    }
   ],
   "source": [
    "def geocode(mylist, urlFmt, APIKEY):\n",
    "    url1 = urlFmt.format(x_point=data[2], y_point=data[3], APIKEY=APIKEY)\n",
    "\n",
    "    for i, v in enumerate(mylist):\n",
    "        data =v\n",
    "        \n",
    "    try:\n",
    "        r= session.get(url1)\n",
    "        if r.status_code !=200:\n",
    "            msg = \"[%d Error] %s 에러가 발생함\" %(r.status_code, r.reason)\n",
    "            raise Exception(msg)\n",
    "    except Exception as e:\n",
    "        print(\"접속에 실패했습니다.\")\n",
    "        print(e)\n",
    "\n",
    "geocode()\n",
    "r.encoding = \"UTF-8\"\n",
    "mydict = json.loads(r.text)\n",
    "\n",
    "    # result = mydict[\"response\"][\"result\"][0]\n",
    "    # postcode = result[\"zipcode\"].strip()\n",
    "    # address = result[\"text\"].strip()\n",
    "\n",
    "    # newLine = data + [postcode, address]\n",
    "    \n",
    "    # dataset.append(newLine)\n",
    "\n",
    "    "
   ]
  },
  {
   "cell_type": "code",
   "execution_count": 87,
   "metadata": {},
   "outputs": [
    {
     "name": "stdout",
     "output_type": "stream",
     "text": [
      "https://api.vworld.kr/req/address?service=address&request=getAddress&version=2.0&crs=epsg:4326&point=127.001744,37.586243&format=json&type=road&zipcode=true&simple=false&key=91F6EB23-A7E3-3781-AD1C-460989C2B9B5\n"
     ]
    }
   ],
   "source": [
    "url1 = urlFmt.format(x_point=data[2], y_point=data[3], APIKEY=APIKEY)\n",
    "print(url1)"
   ]
  },
  {
   "cell_type": "code",
   "execution_count": 92,
   "metadata": {},
   "outputs": [
    {
     "name": "stdout",
     "output_type": "stream",
     "text": [
      "[]\n"
     ]
    }
   ],
   "source": [
    "dataset = []\n",
    "for i, v in enumerate(mylist):\n",
    "    data =v\n",
    "    \n",
    "print(dataset)"
   ]
  },
  {
   "cell_type": "code",
   "execution_count": 61,
   "metadata": {},
   "outputs": [
    {
     "ename": "IndexError",
     "evalue": "list index out of range",
     "output_type": "error",
     "traceback": [
      "\u001b[1;31m---------------------------------------------------------------------------\u001b[0m",
      "\u001b[1;31mIndexError\u001b[0m                                Traceback (most recent call last)",
      "Cell \u001b[1;32mIn[61], line 4\u001b[0m\n\u001b[0;32m      2\u001b[0m y_point \u001b[38;5;241m=\u001b[39m []\n\u001b[0;32m      3\u001b[0m \u001b[38;5;28;01mfor\u001b[39;00m i \u001b[38;5;129;01min\u001b[39;00m \u001b[38;5;28mrange\u001b[39m(\u001b[38;5;28mlen\u001b[39m(mylist)):\n\u001b[1;32m----> 4\u001b[0m     x_point\u001b[38;5;241m.\u001b[39mappend(\u001b[43mmylist\u001b[49m\u001b[43m[\u001b[49m\u001b[43mi\u001b[49m\u001b[43m]\u001b[49m\u001b[43m[\u001b[49m\u001b[38;5;241;43m2\u001b[39;49m\u001b[43m]\u001b[49m)\n\u001b[0;32m      5\u001b[0m     y_point\u001b[38;5;241m.\u001b[39mappend(mylist[i][\u001b[38;5;241m3\u001b[39m])\n\u001b[0;32m      7\u001b[0m key \u001b[38;5;241m=\u001b[39m \u001b[38;5;124m\"\u001b[39m\u001b[38;5;124m91F6EB23-A7E3-3781-AD1C-460989C2B9B5\u001b[39m\u001b[38;5;124m\"\u001b[39m\n",
      "\u001b[1;31mIndexError\u001b[0m: list index out of range"
     ]
    }
   ],
   "source": [
    "# x_point = []\n",
    "# y_point = []\n",
    "# for i in range(len(mylist)):\n",
    "#     x_point.append(mylist[i][2])\n",
    "#     y_point.append(mylist[i][3])\n",
    "\n",
    "# key = \"91F6EB23-A7E3-3781-AD1C-460989C2B9B5\""
   ]
  },
  {
   "cell_type": "code",
   "execution_count": 32,
   "metadata": {},
   "outputs": [
    {
     "name": "stderr",
     "output_type": "stream",
     "text": [
      "<>:12: SyntaxWarning: 'str' object is not callable; perhaps you missed a comma?\n",
      "<>:12: SyntaxWarning: 'str' object is not callable; perhaps you missed a comma?\n",
      "C:\\Users\\Public\\Documents\\ESTsoft\\CreatorTemp\\ipykernel_18728\\2103863944.py:12: SyntaxWarning: 'str' object is not callable; perhaps you missed a comma?\n",
      "  msg = \"[%d Error] %s 에러가 발생합\" (r.status_code, r.reason)\n"
     ]
    }
   ],
   "source": [
    "session = requests.Session()\n",
    "session.headers.update({\n",
    "    \"Referer\": \"\",\n",
    "    \"User-Agent\": \"Mozilla/5.0 (Windows NT 10.0; Win64; x64) AppleWebKit/537.36 (KHTML, like Gecko) Chrome/120.0.0.0 Safari/537.36\",\n",
    "})\n",
    "\n",
    "goecoder = []\n",
    "try:\n",
    "    r = session.get(url1)\n",
    "\n",
    "    if r.status_code != 200:\n",
    "        msg = \"[%d Error] %s 에러가 발생함\" (r.status_code, r.reason)\n",
    "        raise Exception(msg)\n",
    "except Exception as e:\n",
    "    print(\"접속에 실패했습니다.\")\n",
    "    print(e)\n",
    "\n",
    "    # 응답결과 확인\n",
    "r.encoding = \"utf-8\"\n",
    "mydict = json.loads(r.text)\n"
   ]
  },
  {
   "cell_type": "code",
   "execution_count": null,
   "metadata": {},
   "outputs": [],
   "source": [
    "def queryAddress(session, urlFmt, apikey, lat, lng):\n",
    "    url = urlFmt.format(lat=lat, lng=lng, apikey=apikey)\n"
   ]
  },
  {
   "cell_type": "markdown",
   "metadata": {},
   "source": [
    "### 콜백 함수? 람다식?\n",
    "\n",
    "def something(a, b, c):\n",
    "    상황 자체를 구별하지 않고 파라미터로 수행할 동작을 받는 경우 -> c에 부여되는 함수값에 따라 , a, b 변수에 수행되는 동작을 따로 정의할 수 있다. \n",
    "\n",
    "\n",
    "def minus(x,y)\n",
    "    return x-y\n",
    "\n",
    "minus = lambda x,y : x-y   \n",
    "        람다식: 코드를 정의하는게 귀찮아서 축약\n",
    "        단, 단 한 줄로 리턴값이 정의되는 함수에 한정.\n",
    "minus(10,5)\n",
    "something(100,200,minus)\n",
    "\n",
    "something(100, 200, lambda x,y: x*y)\n",
    "\n",
    "\n",
    "비동기 함수 fu에서 작업이 끝났음을 알려주는 함수 호출\n",
    "fu.add_done_callback(lambda x : print(\"작업이종료되었습니다.\"))\n",
    "\n",
    "fu.add_done_callback(lambda x : progress.update())"
   ]
  }
 ],
 "metadata": {
  "kernelspec": {
   "display_name": "Python 3",
   "language": "python",
   "name": "python3"
  },
  "language_info": {
   "codemirror_mode": {
    "name": "ipython",
    "version": 3
   },
   "file_extension": ".py",
   "mimetype": "text/x-python",
   "name": "python",
   "nbconvert_exporter": "python",
   "pygments_lexer": "ipython3",
   "version": "3.12.0"
  }
 },
 "nbformat": 4,
 "nbformat_minor": 2
}
