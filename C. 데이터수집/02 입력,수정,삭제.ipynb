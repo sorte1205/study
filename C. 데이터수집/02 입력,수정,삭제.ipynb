dbcon = cx.connect("hr",                # 사용자 이름
                    "hr",               # 비밀번호
                    "localhost:1521/xe" # 데이터베이스 서버 주소
)
dbcon