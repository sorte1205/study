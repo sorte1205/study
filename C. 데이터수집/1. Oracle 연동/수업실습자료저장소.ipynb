{
 "cells": [
  {
   "cell_type": "markdown",
   "metadata": {},
   "source": [
    "## 설치 패키지\n",
    "| 패키지 이름 | 설명 |\n",
    "| --- | ---|\n",
    "| cx_oracle | Python을 통한 오라클 연동 기능 제공 <br/> &nbsp; 'Microsoft C++ Build Tools'를 미리 설치해야 함'|\n",
    "| sqlalchemy | Python을 통한 데이터베이스 연동 기능 제공 (범용) |\n",
    "| pandas | 분석용 데이터 구조 및 탐색적 데이터 분석 기능을 제공하는 패키지 |\n",
    "| openpyxl | 엑셀 파일 처리 패키지 (pandas가 의존합)|\n",
    "| xlrd | 엑셀 파일 처리 패키지 (pandas가 의존함) |\n",
    "|requests|API 연동|\n",
    "\n",
    "### 패키지 설치 구문\n",
    "```shell\n",
    "pip install --upgrade cx_oracle\n",
    "pip install --upgrade sqlalchemy\n",
    "pip install --upgrade pandas\n",
    "pip install opynpyxl\n",
    "pip install --upgrade requests\n",
    "```"
   ]
  }
 ],
 "metadata": {
  "language_info": {
   "name": "python"
  }
 },
 "nbformat": 4,
 "nbformat_minor": 2
}
