{
 "cells": [
  {
   "cell_type": "code",
   "execution_count": 2,
   "metadata": {},
   "outputs": [],
   "source": [
    "# Python-Oracle 연동 - 입력, 수정, 삭제\n",
    "## 01. 준비과정\n",
    "### 1. 패키지 참조\n",
    "import cx_Oracle as cx  # '0'에 대문자 주의"
   ]
  },
  {
   "cell_type": "markdown",
   "metadata": {},
   "source": [
    "## 02.cx_Oracle을 사용한 연동\n",
    "### 1. 데이터베이스 접속 및 cursor 객체 생성"
   ]
  },
  {
   "cell_type": "code",
   "execution_count": 4,
   "metadata": {},
   "outputs": [],
   "source": [
    "dbcon = cx.connect(\"hr\",\"hr\",\"localhost:1521/xe\")\n",
    "cursor = dbcon.cursor()"
   ]
  },
  {
   "cell_type": "markdown",
   "metadata": {},
   "source": [
    "### 2. 데이터 저장하기"
   ]
  },
  {
   "cell_type": "code",
   "execution_count": 6,
   "metadata": {},
   "outputs": [
    {
     "data": {
      "text/plain": [
       "(\"메가\\\\'IT\\\\'학과\", '여기')"
      ]
     },
     "execution_count": 6,
     "metadata": {},
     "output_type": "execute_result"
    }
   ],
   "source": [
    "dname = input(\"학과이름을 입력하세요\")\n",
    "loc = input(\"학과의 위치를 입력하세요\")\n",
    "dname, loc"
   ]
  },
  {
   "cell_type": "markdown",
   "metadata": {},
   "source": [
    "#### 2) 저장을 위한 새로운 시퀀스값 조회"
   ]
  },
  {
   "cell_type": "code",
   "execution_count": 7,
   "metadata": {},
   "outputs": [
    {
     "name": "stdout",
     "output_type": "stream",
     "text": [
      "[(320,)]\n",
      "사로운 시퀀스 번호: 320\n"
     ]
    }
   ],
   "source": [
    "sql = \"select seq_department.nextval from dual\"\n",
    "cursor.execute(sql)\n",
    "result = cursor.fetchall()\n",
    "print(result)\n",
    "\n",
    "seq = result[0][0]\n",
    "print(\"사로운 시퀀스 번호: %d\" % seq)"
   ]
  },
  {
   "cell_type": "markdown",
   "metadata": {},
   "source": [
    "#### 3) INSERT문 수행                                "
   ]
  },
  {
   "cell_type": "code",
   "execution_count": 8,
   "metadata": {},
   "outputs": [
    {
     "name": "stdout",
     "output_type": "stream",
     "text": [
      "1개의 행이 저장됨\n"
     ]
    }
   ],
   "source": [
    "# sql = \"INSERT INTO department (deptno, dname, loc) values (seq_department.nextval from dual, \"국문학과\", \")\"  TIP. SQL injection 공격?\n",
    "sql = \"INSERT INTO department (deptno, dname, loc) VALUES (:1,:2,:3)\"\n",
    "\n",
    "#                     :1    :2   :3\n",
    "cursor.execute(sql, [seq, dname, loc])\n",
    "print(\"%s개의 행이 저장됨\" % cursor.rowcount)\n",
    "\n",
    "# 처리 결과를 실제로 반영\n",
    "dbcon.commit()\n",
    "# 되돌리기 \n",
    " # 이미 commit()한 내용은 적용 안됨\n",
    " # rollback;"
   ]
  },
  {
   "cell_type": "markdown",
   "metadata": {},
   "source": [
    "#### 4) UPDATE문 수행"
   ]
  },
  {
   "cell_type": "code",
   "execution_count": 9,
   "metadata": {},
   "outputs": [
    {
     "name": "stdout",
     "output_type": "stream",
     "text": [
      "1개의 행이 갱신됨\n"
     ]
    }
   ],
   "source": [
    "sql = \"Update department SET dname =:1, loc=:2 WHERE deptno=:3\"\n",
    "\n",
    "#                       :1          :2     :3\n",
    "cursor.execute(sql, ['메가스터디', '신촌', seq])\n",
    "print(\"%s개의 행이 갱신됨\" % cursor.rowcount)\n",
    "dbcon.commit()"
   ]
  },
  {
   "cell_type": "code",
   "execution_count": 15,
   "metadata": {},
   "outputs": [
    {
     "data": {
      "text/plain": [
       "[{'DEPTNO': 320, 'DNAME': '메가스터디', 'LOC': '신촌'},\n",
       " {'DEPTNO': 101, 'DNAME': '컴퓨터공학과', 'LOC': '1호관'},\n",
       " {'DEPTNO': 102, 'DNAME': '멀티미디어학과', 'LOC': '2호관'},\n",
       " {'DEPTNO': 201, 'DNAME': '전자공학과', 'LOC': '3호관'},\n",
       " {'DEPTNO': 202, 'DNAME': '컴퓨터공학과', 'LOC': '공학관'},\n",
       " {'DEPTNO': 302, 'DNAME': '정보통신학과', 'LOC': '6호관'}]"
      ]
     },
     "execution_count": 15,
     "metadata": {},
     "output_type": "execute_result"
    }
   ],
   "source": [
    "sql = \"SELECT * FROM department\"\n",
    "cursor.execute(sql)\n",
    "cursor.rowfactory = lambda * args: dict(zip([d[0]for d in cursor.description], args))\n",
    "\n",
    "result = cursor.fetchall()\n",
    "result"
   ]
  },
  {
   "cell_type": "markdown",
   "metadata": {},
   "source": [
    "#### 5) DELETE문 수행"
   ]
  },
  {
   "cell_type": "code",
   "execution_count": 16,
   "metadata": {},
   "outputs": [
    {
     "name": "stdout",
     "output_type": "stream",
     "text": [
      "1개의 행이 삭제됨\n"
     ]
    }
   ],
   "source": [
    "sql = \"DELETE from department where deptno = :1\"\n",
    "cursor.execute(sql, [seq])\n",
    "print(\"%s개의 행이 삭제됨\" % cursor.rowcount)\n",
    "dbcon.commit()"
   ]
  },
  {
   "cell_type": "code",
   "execution_count": 17,
   "metadata": {},
   "outputs": [
    {
     "data": {
      "text/plain": [
       "[{'DEPTNO': 101, 'DNAME': '컴퓨터공학과', 'LOC': '1호관'},\n",
       " {'DEPTNO': 102, 'DNAME': '멀티미디어학과', 'LOC': '2호관'},\n",
       " {'DEPTNO': 201, 'DNAME': '전자공학과', 'LOC': '3호관'},\n",
       " {'DEPTNO': 202, 'DNAME': '컴퓨터공학과', 'LOC': '공학관'},\n",
       " {'DEPTNO': 302, 'DNAME': '정보통신학과', 'LOC': '6호관'}]"
      ]
     },
     "execution_count": 17,
     "metadata": {},
     "output_type": "execute_result"
    }
   ],
   "source": [
    "sql = \"SELECT * FROM department\"\n",
    "cursor.execute(sql)\n",
    "cursor.rowfactory = lambda * args: dict(zip([d[0]for d in cursor.description], args))\n",
    "\n",
    "result = cursor.fetchall()\n",
    "result"
   ]
  },
  {
   "cell_type": "markdown",
   "metadata": {},
   "source": [
    "### 3. 데이터베이스 접속 해제"
   ]
  },
  {
   "cell_type": "code",
   "execution_count": 18,
   "metadata": {},
   "outputs": [],
   "source": [
    "try:\n",
    "    cursor.close()\n",
    "    dbcon.close()\n",
    "except Exception as e:\n",
    "    print(\"접속 상태가 아닙니다.\", e)"
   ]
  }
 ],
 "metadata": {
  "kernelspec": {
   "display_name": "Python 3",
   "language": "python",
   "name": "python3"
  },
  "language_info": {
   "codemirror_mode": {
    "name": "ipython",
    "version": 3
   },
   "file_extension": ".py",
   "mimetype": "text/x-python",
   "name": "python",
   "nbconvert_exporter": "python",
   "pygments_lexer": "ipython3",
   "version": "3.12.0"
  }
 },
 "nbformat": 4,
 "nbformat_minor": 2
}
