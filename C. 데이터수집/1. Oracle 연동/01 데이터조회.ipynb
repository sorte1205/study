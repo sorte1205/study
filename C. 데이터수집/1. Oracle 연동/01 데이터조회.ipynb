{
 "cells": [
  {
   "cell_type": "markdown",
   "metadata": {},
   "source": [
    "# Python-Oracle 연동 - 데이터 조회\n",
    "## 01 준비과정\n",
    "\n",
    "### 1. 패키지 참조\n",
    "`cx_oracle`, `sqlalchemy`, `pandas`,`openpyxl`, `xlrd`은 미리 깔려있어야 함"
   ]
  },
  {
   "cell_type": "code",
   "execution_count": 2,
   "metadata": {},
   "outputs": [],
   "source": [
    "\n",
    "import cx_Oracle as cx  # '0'에 대문자 주의\n",
    "from sqlalchemy import create_engine\n",
    "from pandas import DataFrame, read_sql_table"
   ]
  },
  {
   "cell_type": "markdown",
   "metadata": {},
   "source": [
    "## 02. cx_Oracle을 사용한 연동\n",
    "데이터베이스 연동 과정은 데이터베이스 접속 <br/>-> SQL 실행 객체(cursor) 생성<br/> -> 결과 처리<br/> -> 데이터베이스 접속 해제의 순서로 진행된다\n",
    "\n",
    "### 1. 데이터베이스 접속"
   ]
  },
  {
   "cell_type": "code",
   "execution_count": 3,
   "metadata": {},
   "outputs": [
    {
     "data": {
      "text/plain": [
       "<cx_Oracle.Connection to hr@localhost:1521/xe>"
      ]
     },
     "execution_count": 3,
     "metadata": {},
     "output_type": "execute_result"
    }
   ],
   "source": [
    "dbcon = cx.connect(\"hr\",                # 사용자 이름\n",
    "                    \"hr\",               # 비밀번호\n",
    "                    \"localhost:1521/xe\" # 데이터베이스 서버 주소\n",
    ")\n",
    "dbcon"
   ]
  },
  {
   "cell_type": "markdown",
   "metadata": {},
   "source": [
    "### 2. Cursor 객체 생성"
   ]
  },
  {
   "cell_type": "code",
   "execution_count": 4,
   "metadata": {},
   "outputs": [],
   "source": [
    "cursor = dbcon.cursor()"
   ]
  },
  {
   "cell_type": "markdown",
   "metadata": {},
   "source": [
    "### 3. 데이터 조회를 위한 SQL문 수행\n",
    "\n",
    "#### (1) 튜플을 원소로 갖는 리스트 형태로 조회"
   ]
  },
  {
   "cell_type": "code",
   "execution_count": 5,
   "metadata": {},
   "outputs": [
    {
     "name": "stdout",
     "output_type": "stream",
     "text": [
      "[(101, '컴퓨터공학과', '1호관'), (102, '멀티미디어학과', '2호관'), (201, '전자공학과', '3호관'), (202, '컴퓨터공학과', '공학관'), (302, '정보통신학과', '6호관')]\n"
     ]
    }
   ],
   "source": [
    "sql = \"SELECT * from department\"\n",
    "try:\n",
    "    cursor.execute(sql)\n",
    "    result = cursor.fetchall()\n",
    "    print(result)\n",
    "except Exception as e:\n",
    "    print(\"데이터 조회 실패\", e)"
   ]
  },
  {
   "cell_type": "markdown",
   "metadata": {},
   "source": [
    "#### (2) 딕셔너리를 원소로 갖는 리스트 형태로 조회\n",
    "\n",
    "cx_Oracle은 별도의 딕셔너리 형태를 제공하지 않는다.\n",
    "cursor객체의 rowfactory 프로퍼티를 직접 재정의 해야 한다.             (딕셔너리를 만들어 내는 코드를 row코드라고 함. )"
   ]
  },
  {
   "cell_type": "code",
   "execution_count": 6,
   "metadata": {},
   "outputs": [],
   "source": [
    "sql = \"SELECT * FROM department\"\n",
    "\n",
    "try:\n",
    "    cursor.execute(sql)\n",
    "\n",
    "    # row factory 재정의 - 접속 해제 전까지 최초 1회만 수행하면 된다.\n",
    "    cursor.rowfactory = lambda * args: dict(zip([d[0]for d in cursor.description], args))\n",
    "\n",
    "    result = cursor.fetchall()\n",
    "    result\n",
    "except Exception as e:\n",
    "    print(\"데이터 조회 실패\", e)"
   ]
  },
  {
   "cell_type": "markdown",
   "metadata": {},
   "source": [
    "### 4. 조회 결과를 활용한 후속처리\n",
    "\n",
    "#### 수업에서 배운 내용 활용"
   ]
  },
  {
   "cell_type": "code",
   "execution_count": 7,
   "metadata": {},
   "outputs": [],
   "source": [
    "with open('department.csv', 'w', encoding= 'utf-8') as f:\n",
    "    for i, v in enumerate (result):\n",
    "        if i == 0:\n",
    "            keys = list(v.keys())\n",
    "            titleLine = \"%s\\n\" % \",\".join(keys)\n",
    "            f.write(titleLine)\n",
    "\n",
    "        values = list(v.values())\n",
    "\n",
    "        # for j, w, in enumerate(values):\n",
    "        #     values[j] = str(w)\n",
    "        \n",
    "        # values의 모든 원소를 str 타입으로 변경\n",
    "        values_str = list(map(str, values))\n",
    "\n",
    "        \n",
    "\n",
    "        valueLine = \"%s\\n\" % \",\" .join(values_str)\n",
    "        f.write(valueLine)"
   ]
  },
  {
   "cell_type": "markdown",
   "metadata": {},
   "source": [
    "#### 앞으로 배울 내용 맛보기"
   ]
  },
  {
   "cell_type": "code",
   "execution_count": 23,
   "metadata": {},
   "outputs": [
    {
     "data": {
      "text/html": [
       "<div>\n",
       "<style scoped>\n",
       "    .dataframe tbody tr th:only-of-type {\n",
       "        vertical-align: middle;\n",
       "    }\n",
       "\n",
       "    .dataframe tbody tr th {\n",
       "        vertical-align: top;\n",
       "    }\n",
       "\n",
       "    .dataframe thead th {\n",
       "        text-align: right;\n",
       "    }\n",
       "</style>\n",
       "<table border=\"1\" class=\"dataframe\">\n",
       "  <thead>\n",
       "    <tr style=\"text-align: right;\">\n",
       "      <th></th>\n",
       "      <th>DEPTNO</th>\n",
       "      <th>DNAME</th>\n",
       "      <th>LOC</th>\n",
       "    </tr>\n",
       "  </thead>\n",
       "  <tbody>\n",
       "    <tr>\n",
       "      <th>0</th>\n",
       "      <td>101</td>\n",
       "      <td>컴퓨터공학과</td>\n",
       "      <td>1호관</td>\n",
       "    </tr>\n",
       "    <tr>\n",
       "      <th>1</th>\n",
       "      <td>102</td>\n",
       "      <td>멀티미디어학과</td>\n",
       "      <td>2호관</td>\n",
       "    </tr>\n",
       "    <tr>\n",
       "      <th>2</th>\n",
       "      <td>201</td>\n",
       "      <td>전자공학과</td>\n",
       "      <td>3호관</td>\n",
       "    </tr>\n",
       "    <tr>\n",
       "      <th>3</th>\n",
       "      <td>202</td>\n",
       "      <td>컴퓨터공학과</td>\n",
       "      <td>공학관</td>\n",
       "    </tr>\n",
       "    <tr>\n",
       "      <th>4</th>\n",
       "      <td>302</td>\n",
       "      <td>정보통신학과</td>\n",
       "      <td>6호관</td>\n",
       "    </tr>\n",
       "  </tbody>\n",
       "</table>\n",
       "</div>"
      ],
      "text/plain": [
       "   DEPTNO    DNAME  LOC\n",
       "0     101   컴퓨터공학과  1호관\n",
       "1     102  멀티미디어학과  2호관\n",
       "2     201    전자공학과  3호관\n",
       "3     202   컴퓨터공학과  공학관\n",
       "4     302   정보통신학과  6호관"
      ]
     },
     "execution_count": 23,
     "metadata": {},
     "output_type": "execute_result"
    }
   ],
   "source": [
    "df = DataFrame(result)\n",
    "df\n"
   ]
  },
  {
   "cell_type": "code",
   "execution_count": 24,
   "metadata": {},
   "outputs": [],
   "source": [
    "df.to_csv(\"department2.csv\", index=False, encoding = 'utf-8')   # csv파일 만들 때 이걸 권장하진 않음\n",
    "                                                                # 반복문으로 돌리며 비동기처리하는게 더 빠"
   ]
  },
  {
   "cell_type": "code",
   "execution_count": 35,
   "metadata": {},
   "outputs": [],
   "source": [
    "\n",
    "df.to_excel(\"department3.xlsx\", index=False)                    # pip install openpyxl"
   ]
  },
  {
   "cell_type": "markdown",
   "metadata": {},
   "source": [
    "### 5. 데이터베이스 접속 해제\n",
    "\n",
    "cursor 객체와 dbcon 객체를 닫아서 점유하고 있는 메모리를 컴퓨터에 반납해야 한다.\n",
    "\n",
    "자원 반납은 생성된 역순으로 진행한다."
   ]
  },
  {
   "cell_type": "code",
   "execution_count": 9,
   "metadata": {},
   "outputs": [],
   "source": [
    "try:\n",
    "    cursor.close()\n",
    "    dbcon.close()\n",
    "except:\n",
    "    print(\"접속상태가 아닙니다.\")"
   ]
  },
  {
   "cell_type": "markdown",
   "metadata": {},
   "source": [
    "# 03. sqlalchemy를 사용한 연동\n",
    "\n",
    "데이터베이스의 종류를 구분하지 않고 공통된 연동 방법을 제공하는 인터페이스\n",
    "\n",
    "### 1. 데이터베이스 접속하기\n",
    "\n",
    "#### 접속 문자열 생성\n",
    "\n",
    "`oracle+cx_oracle://계정이름:비밀번호@접속주소/SID`"
   ]
  },
  {
   "cell_type": "code",
   "execution_count": 29,
   "metadata": {},
   "outputs": [],
   "source": [
    "conStr = \"oracle+cx_oracle://hr:hr@localhost:1521/xe\""
   ]
  },
  {
   "cell_type": "markdown",
   "metadata": {},
   "source": [
    "#### 접속"
   ]
  },
  {
   "cell_type": "code",
   "execution_count": 30,
   "metadata": {},
   "outputs": [],
   "source": [
    "engine = create_engine(conStr)\n",
    "dbcon = engine.connect()"
   ]
  },
  {
   "cell_type": "markdown",
   "metadata": {},
   "source": [
    "### 2. 데이터 조회하기\n",
    "\n",
    "조회 결과를 pandas의 DataFrame 객체 형태로 반환한다.\n",
    "\n",
    "#### 특정 테이블의 모든 데이터 조회"
   ]
  },
  {
   "cell_type": "code",
   "execution_count": 31,
   "metadata": {},
   "outputs": [
    {
     "data": {
      "text/html": [
       "<div>\n",
       "<style scoped>\n",
       "    .dataframe tbody tr th:only-of-type {\n",
       "        vertical-align: middle;\n",
       "    }\n",
       "\n",
       "    .dataframe tbody tr th {\n",
       "        vertical-align: top;\n",
       "    }\n",
       "\n",
       "    .dataframe thead th {\n",
       "        text-align: right;\n",
       "    }\n",
       "</style>\n",
       "<table border=\"1\" class=\"dataframe\">\n",
       "  <thead>\n",
       "    <tr style=\"text-align: right;\">\n",
       "      <th></th>\n",
       "      <th>deptno</th>\n",
       "      <th>dname</th>\n",
       "      <th>loc</th>\n",
       "    </tr>\n",
       "  </thead>\n",
       "  <tbody>\n",
       "    <tr>\n",
       "      <th>0</th>\n",
       "      <td>101</td>\n",
       "      <td>컴퓨터공학과</td>\n",
       "      <td>1호관</td>\n",
       "    </tr>\n",
       "    <tr>\n",
       "      <th>1</th>\n",
       "      <td>102</td>\n",
       "      <td>멀티미디어학과</td>\n",
       "      <td>2호관</td>\n",
       "    </tr>\n",
       "    <tr>\n",
       "      <th>2</th>\n",
       "      <td>201</td>\n",
       "      <td>전자공학과</td>\n",
       "      <td>3호관</td>\n",
       "    </tr>\n",
       "    <tr>\n",
       "      <th>3</th>\n",
       "      <td>202</td>\n",
       "      <td>컴퓨터공학과</td>\n",
       "      <td>공학관</td>\n",
       "    </tr>\n",
       "    <tr>\n",
       "      <th>4</th>\n",
       "      <td>302</td>\n",
       "      <td>정보통신학과</td>\n",
       "      <td>6호관</td>\n",
       "    </tr>\n",
       "  </tbody>\n",
       "</table>\n",
       "</div>"
      ],
      "text/plain": [
       "   deptno    dname  loc\n",
       "0     101   컴퓨터공학과  1호관\n",
       "1     102  멀티미디어학과  2호관\n",
       "2     201    전자공학과  3호관\n",
       "3     202   컴퓨터공학과  공학관\n",
       "4     302   정보통신학과  6호관"
      ]
     },
     "execution_count": 31,
     "metadata": {},
     "output_type": "execute_result"
    }
   ],
   "source": [
    "df= read_sql_table('department', con=dbcon)\n",
    "df"
   ]
  },
  {
   "cell_type": "markdown",
   "metadata": {},
   "source": [
    "#### 원하는 컬럼만 조회하기 "
   ]
  },
  {
   "cell_type": "code",
   "execution_count": 32,
   "metadata": {},
   "outputs": [
    {
     "data": {
      "text/html": [
       "<div>\n",
       "<style scoped>\n",
       "    .dataframe tbody tr th:only-of-type {\n",
       "        vertical-align: middle;\n",
       "    }\n",
       "\n",
       "    .dataframe tbody tr th {\n",
       "        vertical-align: top;\n",
       "    }\n",
       "\n",
       "    .dataframe thead th {\n",
       "        text-align: right;\n",
       "    }\n",
       "</style>\n",
       "<table border=\"1\" class=\"dataframe\">\n",
       "  <thead>\n",
       "    <tr style=\"text-align: right;\">\n",
       "      <th></th>\n",
       "      <th>studno</th>\n",
       "      <th>name</th>\n",
       "      <th>grade</th>\n",
       "      <th>idnum</th>\n",
       "    </tr>\n",
       "  </thead>\n",
       "  <tbody>\n",
       "    <tr>\n",
       "      <th>0</th>\n",
       "      <td>10102</td>\n",
       "      <td>박미경</td>\n",
       "      <td>1</td>\n",
       "      <td>8405162123648</td>\n",
       "    </tr>\n",
       "    <tr>\n",
       "      <th>1</th>\n",
       "      <td>10103</td>\n",
       "      <td>김영균</td>\n",
       "      <td>3</td>\n",
       "      <td>8103211063421</td>\n",
       "    </tr>\n",
       "    <tr>\n",
       "      <th>2</th>\n",
       "      <td>10104</td>\n",
       "      <td>지은경</td>\n",
       "      <td>2</td>\n",
       "      <td>8004122298371</td>\n",
       "    </tr>\n",
       "    <tr>\n",
       "      <th>3</th>\n",
       "      <td>10105</td>\n",
       "      <td>임유진</td>\n",
       "      <td>2</td>\n",
       "      <td>8301212196482</td>\n",
       "    </tr>\n",
       "    <tr>\n",
       "      <th>4</th>\n",
       "      <td>10106</td>\n",
       "      <td>서재진</td>\n",
       "      <td>1</td>\n",
       "      <td>8511291186273</td>\n",
       "    </tr>\n",
       "    <tr>\n",
       "      <th>5</th>\n",
       "      <td>10107</td>\n",
       "      <td>이광훈</td>\n",
       "      <td>4</td>\n",
       "      <td>8109131276431</td>\n",
       "    </tr>\n",
       "    <tr>\n",
       "      <th>6</th>\n",
       "      <td>10108</td>\n",
       "      <td>류민정</td>\n",
       "      <td>2</td>\n",
       "      <td>8108192157498</td>\n",
       "    </tr>\n",
       "    <tr>\n",
       "      <th>7</th>\n",
       "      <td>10201</td>\n",
       "      <td>김진영</td>\n",
       "      <td>2</td>\n",
       "      <td>8206062186327</td>\n",
       "    </tr>\n",
       "    <tr>\n",
       "      <th>8</th>\n",
       "      <td>10202</td>\n",
       "      <td>오유석</td>\n",
       "      <td>4</td>\n",
       "      <td>7709121128379</td>\n",
       "    </tr>\n",
       "    <tr>\n",
       "      <th>9</th>\n",
       "      <td>10203</td>\n",
       "      <td>하나리</td>\n",
       "      <td>1</td>\n",
       "      <td>8501092378641</td>\n",
       "    </tr>\n",
       "    <tr>\n",
       "      <th>10</th>\n",
       "      <td>10204</td>\n",
       "      <td>윤진욱</td>\n",
       "      <td>3</td>\n",
       "      <td>7904021358671</td>\n",
       "    </tr>\n",
       "    <tr>\n",
       "      <th>11</th>\n",
       "      <td>20101</td>\n",
       "      <td>이동훈</td>\n",
       "      <td>1</td>\n",
       "      <td>8312101128467</td>\n",
       "    </tr>\n",
       "    <tr>\n",
       "      <th>12</th>\n",
       "      <td>20102</td>\n",
       "      <td>박동진</td>\n",
       "      <td>1</td>\n",
       "      <td>8511241639826</td>\n",
       "    </tr>\n",
       "    <tr>\n",
       "      <th>13</th>\n",
       "      <td>20103</td>\n",
       "      <td>김진경</td>\n",
       "      <td>2</td>\n",
       "      <td>8302282169387</td>\n",
       "    </tr>\n",
       "    <tr>\n",
       "      <th>14</th>\n",
       "      <td>20104</td>\n",
       "      <td>조명훈</td>\n",
       "      <td>1</td>\n",
       "      <td>8412141254963</td>\n",
       "    </tr>\n",
       "    <tr>\n",
       "      <th>15</th>\n",
       "      <td>10110</td>\n",
       "      <td>홍길동</td>\n",
       "      <td>1</td>\n",
       "      <td>8501011143098</td>\n",
       "    </tr>\n",
       "    <tr>\n",
       "      <th>16</th>\n",
       "      <td>10111</td>\n",
       "      <td>둘리</td>\n",
       "      <td>2</td>\n",
       "      <td>8202021234765</td>\n",
       "    </tr>\n",
       "  </tbody>\n",
       "</table>\n",
       "</div>"
      ],
      "text/plain": [
       "    studno name  grade          idnum\n",
       "0    10102  박미경      1  8405162123648\n",
       "1    10103  김영균      3  8103211063421\n",
       "2    10104  지은경      2  8004122298371\n",
       "3    10105  임유진      2  8301212196482\n",
       "4    10106  서재진      1  8511291186273\n",
       "5    10107  이광훈      4  8109131276431\n",
       "6    10108  류민정      2  8108192157498\n",
       "7    10201  김진영      2  8206062186327\n",
       "8    10202  오유석      4  7709121128379\n",
       "9    10203  하나리      1  8501092378641\n",
       "10   10204  윤진욱      3  7904021358671\n",
       "11   20101  이동훈      1  8312101128467\n",
       "12   20102  박동진      1  8511241639826\n",
       "13   20103  김진경      2  8302282169387\n",
       "14   20104  조명훈      1  8412141254963\n",
       "15   10110  홍길동      1  8501011143098\n",
       "16   10111   둘리      2  8202021234765"
      ]
     },
     "execution_count": 32,
     "metadata": {},
     "output_type": "execute_result"
    }
   ],
   "source": [
    "df = read_sql_table('student', columns=['studno', 'name', 'grade', 'idnum'], con=dbcon)\n",
    "df"
   ]
  },
  {
   "cell_type": "markdown",
   "metadata": {},
   "source": [
    "### 3. 데이터베이스 접속 해제  "
   ]
  },
  {
   "cell_type": "code",
   "execution_count": 33,
   "metadata": {},
   "outputs": [],
   "source": [
    "dbcon.close()"
   ]
  }
 ],
 "metadata": {
  "kernelspec": {
   "display_name": "Python 3",
   "language": "python",
   "name": "python3"
  },
  "language_info": {
   "codemirror_mode": {
    "name": "ipython",
    "version": 3
   },
   "file_extension": ".py",
   "mimetype": "text/x-python",
   "name": "python",
   "nbconvert_exporter": "python",
   "pygments_lexer": "ipython3",
   "version": "3.12.0"
  }
 },
 "nbformat": 4,
 "nbformat_minor": 2
}
