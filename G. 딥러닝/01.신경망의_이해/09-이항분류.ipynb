{
 "cells": [
  {
   "cell_type": "markdown",
   "metadata": {},
   "source": [
    "# 이항분류\n",
    "\n",
    "## #01. 준비작업\n",
    "\n",
    "### [1] 패키지 가져오기"
   ]
  },
  {
   "cell_type": "code",
   "execution_count": 1,
   "metadata": {},
   "outputs": [],
   "source": [
    "# 연결된 모듈이 업데이트 되면 즉시 자동 로드함\n",
    "%load_ext autoreload\n",
    "%autoreload 2\n",
    "\n",
    "from hossam.util import *\n",
    "from hossam.plot import *\n",
    "from hossam.classification import *\n",
    "from hossam.tensor import *\n",
    "\n",
    "from tensorflow.keras.models import Sequential\n",
    "from tensorflow.keras.layers import Dense\n",
    "from tensorflow.keras.callbacks import EarlyStopping, ReduceLROnPlateau"
   ]
  },
  {
   "cell_type": "markdown",
   "metadata": {},
   "source": [
    "### [2] 데이터 가져오기"
   ]
  },
  {
   "cell_type": "code",
   "execution_count": 2,
   "metadata": {},
   "outputs": [
    {
     "name": "stdout",
     "output_type": "stream",
     "text": [
      "<class 'pandas.core.frame.DataFrame'>\n",
      "RangeIndex: 200 entries, 0 to 199\n",
      "Data columns (total 3 columns):\n",
      " #   Column  Non-Null Count  Dtype   \n",
      "---  ------  --------------  -----   \n",
      " 0   dog     200 non-null    category\n",
      " 1   length  200 non-null    float64 \n",
      " 2   height  200 non-null    float64 \n",
      "dtypes: category(1), float64(2)\n",
      "memory usage: 3.6 KB\n",
      "None\n",
      "\n",
      "상위 5개 행\n",
      "+----+-------+----------+----------+\n",
      "|    | dog   |   length |   height |\n",
      "|----+-------+----------+----------|\n",
      "|  0 | d     |    55.01 |    29.27 |\n",
      "|  1 | d     |    59.01 |    29.39 |\n",
      "|  2 | d     |    56.53 |     28.5 |\n",
      "|  3 | d     |    53.66 |     28.5 |\n",
      "|  4 | d     |    49.67 |    31.97 |\n",
      "+----+-------+----------+----------+\n",
      "\n",
      "하위 5개 행\n",
      "+-----+-------+----------+----------+\n",
      "|     | dog   |   length |   height |\n",
      "|-----+-------+----------+----------|\n",
      "| 195 | j     |    50.95 |    52.37 |\n",
      "| 196 | j     |    51.86 |     52.4 |\n",
      "| 197 | j     |    54.24 |    47.82 |\n",
      "| 198 | j     |    53.13 |    50.22 |\n",
      "| 199 | j     |       53 |    51.18 |\n",
      "+-----+-------+----------+----------+\n",
      "\n",
      "기술통계\n",
      "+--------+---------+---------+---------+-------+---------+--------+--------+-------+-------+\n",
      "|        |   count |    mean |     std |   min |     25% |    50% |    75% |   max |   nan |\n",
      "|--------+---------+---------+---------+-------+---------+--------+--------+-------+-------|\n",
      "| length |     200 | 53.7948 | 5.50607 | 39.94 | 50.2225 | 53.445 |   56.9 | 68.31 |     0 |\n",
      "| height |     200 | 41.6754 | 10.0361 | 22.76 |  31.965 | 43.785 | 51.185 | 55.87 |     0 |\n",
      "+--------+---------+---------+---------+-------+---------+--------+--------+-------+-------+\n",
      "\n",
      "카테고리 정보\n",
      "+-------+---------+\n",
      "| dog   |   count |\n",
      "|-------+---------|\n",
      "| d     |     100 |\n",
      "| j     |     100 |\n",
      "+-------+---------+\n"
     ]
    }
   ],
   "source": [
    "origin = my_read_excel(path=\"https://data.hossam.kr/mldata/dogs.xlsx\", categories=['dog'])"
   ]
  },
  {
   "cell_type": "markdown",
   "metadata": {},
   "source": [
    "## #02. 데이터 전처리\n",
    "\n",
    "### [1] 종속변수 라벨링\n",
    "\n",
    "분류를 수행할 경우 종속변수가 라벨링이 되어 있어야 하며, 데이터 타입이 정수 형태로 설정되어야 한다."
   ]
  },
  {
   "cell_type": "code",
   "execution_count": 3,
   "metadata": {},
   "outputs": [
    {
     "name": "stdout",
     "output_type": "stream",
     "text": [
      "+-------+---------+\n",
      "| dog   |   label |\n",
      "|-------+---------|\n",
      "| d     |       0 |\n",
      "| j     |       1 |\n",
      "+-------+---------+\n"
     ]
    },
    {
     "data": {
      "text/html": [
       "<div>\n",
       "<style scoped>\n",
       "    .dataframe tbody tr th:only-of-type {\n",
       "        vertical-align: middle;\n",
       "    }\n",
       "\n",
       "    .dataframe tbody tr th {\n",
       "        vertical-align: top;\n",
       "    }\n",
       "\n",
       "    .dataframe thead th {\n",
       "        text-align: right;\n",
       "    }\n",
       "</style>\n",
       "<table border=\"1\" class=\"dataframe\">\n",
       "  <thead>\n",
       "    <tr style=\"text-align: right;\">\n",
       "      <th></th>\n",
       "      <th>dog</th>\n",
       "      <th>length</th>\n",
       "      <th>height</th>\n",
       "    </tr>\n",
       "  </thead>\n",
       "  <tbody>\n",
       "    <tr>\n",
       "      <th>0</th>\n",
       "      <td>0</td>\n",
       "      <td>55.01</td>\n",
       "      <td>29.27</td>\n",
       "    </tr>\n",
       "    <tr>\n",
       "      <th>1</th>\n",
       "      <td>0</td>\n",
       "      <td>59.01</td>\n",
       "      <td>29.39</td>\n",
       "    </tr>\n",
       "    <tr>\n",
       "      <th>2</th>\n",
       "      <td>0</td>\n",
       "      <td>56.53</td>\n",
       "      <td>28.50</td>\n",
       "    </tr>\n",
       "    <tr>\n",
       "      <th>3</th>\n",
       "      <td>0</td>\n",
       "      <td>53.66</td>\n",
       "      <td>28.50</td>\n",
       "    </tr>\n",
       "    <tr>\n",
       "      <th>4</th>\n",
       "      <td>0</td>\n",
       "      <td>49.67</td>\n",
       "      <td>31.97</td>\n",
       "    </tr>\n",
       "    <tr>\n",
       "      <th>...</th>\n",
       "      <td>...</td>\n",
       "      <td>...</td>\n",
       "      <td>...</td>\n",
       "    </tr>\n",
       "    <tr>\n",
       "      <th>195</th>\n",
       "      <td>1</td>\n",
       "      <td>50.95</td>\n",
       "      <td>52.37</td>\n",
       "    </tr>\n",
       "    <tr>\n",
       "      <th>196</th>\n",
       "      <td>1</td>\n",
       "      <td>51.86</td>\n",
       "      <td>52.40</td>\n",
       "    </tr>\n",
       "    <tr>\n",
       "      <th>197</th>\n",
       "      <td>1</td>\n",
       "      <td>54.24</td>\n",
       "      <td>47.82</td>\n",
       "    </tr>\n",
       "    <tr>\n",
       "      <th>198</th>\n",
       "      <td>1</td>\n",
       "      <td>53.13</td>\n",
       "      <td>50.22</td>\n",
       "    </tr>\n",
       "    <tr>\n",
       "      <th>199</th>\n",
       "      <td>1</td>\n",
       "      <td>53.00</td>\n",
       "      <td>51.18</td>\n",
       "    </tr>\n",
       "  </tbody>\n",
       "</table>\n",
       "<p>200 rows × 3 columns</p>\n",
       "</div>"
      ],
      "text/plain": [
       "     dog  length  height\n",
       "0      0   55.01   29.27\n",
       "1      0   59.01   29.39\n",
       "2      0   56.53   28.50\n",
       "3      0   53.66   28.50\n",
       "4      0   49.67   31.97\n",
       "..   ...     ...     ...\n",
       "195    1   50.95   52.37\n",
       "196    1   51.86   52.40\n",
       "197    1   54.24   47.82\n",
       "198    1   53.13   50.22\n",
       "199    1   53.00   51.18\n",
       "\n",
       "[200 rows x 3 columns]"
      ]
     },
     "execution_count": 3,
     "metadata": {},
     "output_type": "execute_result"
    }
   ],
   "source": [
    "df = my_labelling(origin, 'dog')\n",
    "df"
   ]
  },
  {
   "cell_type": "markdown",
   "metadata": {},
   "source": [
    "### [2] 훈련, 검증 데이터 분리"
   ]
  },
  {
   "cell_type": "code",
   "execution_count": 4,
   "metadata": {},
   "outputs": [
    {
     "data": {
      "text/plain": [
       "((160, 2), (40, 2), (160,), (40,))"
      ]
     },
     "execution_count": 4,
     "metadata": {},
     "output_type": "execute_result"
    }
   ],
   "source": [
    "x_train, x_test, y_train, y_test = my_train_test_split(data=df, yname='dog')\n",
    "x_train.shape, x_test.shape, y_train.shape, y_test.shape"
   ]
  },
  {
   "cell_type": "markdown",
   "metadata": {},
   "source": [
    "## #03. 훈련 모델 적합\n",
    "\n",
    "### [1] 모델 구성\n",
    "\n",
    "| 구분 | 모델 | 활성화 함수 | 옵티마이저 | 손실함수 | 평가지표 | 대표예제 |\n",
    "|--|--|--|--|--|--|--|\n",
    "| 분류 | 이항분류 | [relu,] sigmoid | rmsporp | binary_crossentropy | acc | 타이타닉 생존률 예측 |"
   ]
  },
  {
   "cell_type": "code",
   "execution_count": 6,
   "metadata": {},
   "outputs": [
    {
     "data": {
      "text/html": [
       "<pre style=\"white-space:pre;overflow-x:auto;line-height:normal;font-family:Menlo,'DejaVu Sans Mono',consolas,'Courier New',monospace\"><span style=\"font-weight: bold\">Model: \"sequential\"</span>\n",
       "</pre>\n"
      ],
      "text/plain": [
       "\u001b[1mModel: \"sequential\"\u001b[0m\n"
      ]
     },
     "metadata": {},
     "output_type": "display_data"
    },
    {
     "data": {
      "text/html": [
       "<pre style=\"white-space:pre;overflow-x:auto;line-height:normal;font-family:Menlo,'DejaVu Sans Mono',consolas,'Courier New',monospace\">┏━━━━━━━━━━━━━━━━━━━━━━━━━━━━━━━━━┳━━━━━━━━━━━━━━━━━━━━━━━━┳━━━━━━━━━━━━━━━┓\n",
       "┃<span style=\"font-weight: bold\"> Layer (type)                    </span>┃<span style=\"font-weight: bold\"> Output Shape           </span>┃<span style=\"font-weight: bold\">       Param # </span>┃\n",
       "┡━━━━━━━━━━━━━━━━━━━━━━━━━━━━━━━━━╇━━━━━━━━━━━━━━━━━━━━━━━━╇━━━━━━━━━━━━━━━┩\n",
       "│ dense (<span style=\"color: #0087ff; text-decoration-color: #0087ff\">Dense</span>)                   │ (<span style=\"color: #00d7ff; text-decoration-color: #00d7ff\">None</span>, <span style=\"color: #00af00; text-decoration-color: #00af00\">32</span>)             │            <span style=\"color: #00af00; text-decoration-color: #00af00\">96</span> │\n",
       "├─────────────────────────────────┼────────────────────────┼───────────────┤\n",
       "│ dense_1 (<span style=\"color: #0087ff; text-decoration-color: #0087ff\">Dense</span>)                 │ (<span style=\"color: #00d7ff; text-decoration-color: #00d7ff\">None</span>, <span style=\"color: #00af00; text-decoration-color: #00af00\">1</span>)              │            <span style=\"color: #00af00; text-decoration-color: #00af00\">33</span> │\n",
       "└─────────────────────────────────┴────────────────────────┴───────────────┘\n",
       "</pre>\n"
      ],
      "text/plain": [
       "┏━━━━━━━━━━━━━━━━━━━━━━━━━━━━━━━━━┳━━━━━━━━━━━━━━━━━━━━━━━━┳━━━━━━━━━━━━━━━┓\n",
       "┃\u001b[1m \u001b[0m\u001b[1mLayer (type)                   \u001b[0m\u001b[1m \u001b[0m┃\u001b[1m \u001b[0m\u001b[1mOutput Shape          \u001b[0m\u001b[1m \u001b[0m┃\u001b[1m \u001b[0m\u001b[1m      Param #\u001b[0m\u001b[1m \u001b[0m┃\n",
       "┡━━━━━━━━━━━━━━━━━━━━━━━━━━━━━━━━━╇━━━━━━━━━━━━━━━━━━━━━━━━╇━━━━━━━━━━━━━━━┩\n",
       "│ dense (\u001b[38;5;33mDense\u001b[0m)                   │ (\u001b[38;5;45mNone\u001b[0m, \u001b[38;5;34m32\u001b[0m)             │            \u001b[38;5;34m96\u001b[0m │\n",
       "├─────────────────────────────────┼────────────────────────┼───────────────┤\n",
       "│ dense_1 (\u001b[38;5;33mDense\u001b[0m)                 │ (\u001b[38;5;45mNone\u001b[0m, \u001b[38;5;34m1\u001b[0m)              │            \u001b[38;5;34m33\u001b[0m │\n",
       "└─────────────────────────────────┴────────────────────────┴───────────────┘\n"
      ]
     },
     "metadata": {},
     "output_type": "display_data"
    },
    {
     "data": {
      "text/html": [
       "<pre style=\"white-space:pre;overflow-x:auto;line-height:normal;font-family:Menlo,'DejaVu Sans Mono',consolas,'Courier New',monospace\"><span style=\"font-weight: bold\"> Total params: </span><span style=\"color: #00af00; text-decoration-color: #00af00\">129</span> (516.00 B)\n",
       "</pre>\n"
      ],
      "text/plain": [
       "\u001b[1m Total params: \u001b[0m\u001b[38;5;34m129\u001b[0m (516.00 B)\n"
      ]
     },
     "metadata": {},
     "output_type": "display_data"
    },
    {
     "data": {
      "text/html": [
       "<pre style=\"white-space:pre;overflow-x:auto;line-height:normal;font-family:Menlo,'DejaVu Sans Mono',consolas,'Courier New',monospace\"><span style=\"font-weight: bold\"> Trainable params: </span><span style=\"color: #00af00; text-decoration-color: #00af00\">129</span> (516.00 B)\n",
       "</pre>\n"
      ],
      "text/plain": [
       "\u001b[1m Trainable params: \u001b[0m\u001b[38;5;34m129\u001b[0m (516.00 B)\n"
      ]
     },
     "metadata": {},
     "output_type": "display_data"
    },
    {
     "data": {
      "text/html": [
       "<pre style=\"white-space:pre;overflow-x:auto;line-height:normal;font-family:Menlo,'DejaVu Sans Mono',consolas,'Courier New',monospace\"><span style=\"font-weight: bold\"> Non-trainable params: </span><span style=\"color: #00af00; text-decoration-color: #00af00\">0</span> (0.00 B)\n",
       "</pre>\n"
      ],
      "text/plain": [
       "\u001b[1m Non-trainable params: \u001b[0m\u001b[38;5;34m0\u001b[0m (0.00 B)\n"
      ]
     },
     "metadata": {},
     "output_type": "display_data"
    }
   ],
   "source": [
    "model = Sequential()\n",
    "model.add(Dense(32, activation='relu', input_shape=(x_train.shape[1], )))\n",
    "model.add(Dense(1, activation='sigmoid'))\n",
    "model.compile(optimizer='rmsprop', loss = 'binary_crossentropy', metrics = ['acc'])\n",
    "model.summary()"
   ]
  },
  {
   "cell_type": "markdown",
   "metadata": {},
   "source": [
    "### [2] 모델 학습"
   ]
  },
  {
   "cell_type": "code",
   "execution_count": 7,
   "metadata": {},
   "outputs": [],
   "source": [
    "result = model.fit(x_train, y_train, epochs = 500, validation_data = (x_test, y_test), verbose=0, callbacks = [\n",
    "    EarlyStopping(monitor = 'val_acc', patience=10, verbose = 0),\n",
    "    ReduceLROnPlateau(monitor= \"val_acc\", patience=5, min_lr=0.0001, verbose=0)\n",
    "])"
   ]
  },
  {
   "cell_type": "markdown",
   "metadata": {},
   "source": [
    "### [3] 학습 곡선 확인"
   ]
  },
  {
   "cell_type": "code",
   "execution_count": 10,
   "metadata": {},
   "outputs": [
    {
     "data": {
      "image/png": "[encoded data removed]",
      "text/plain": [
       "<Figure size 1400x500 with 2 Axes>"
      ]
     },
     "metadata": {},
     "output_type": "display_data"
    },
    {
     "name": "stdout",
     "output_type": "stream",
     "text": [
      "+----------+---------+----------+-----------+------------+-----------------+\n",
      "|   epochs |     acc |     loss |   val_acc |   val_loss |   learning_rate |\n",
      "|----------+---------+----------+-----------+------------+-----------------|\n",
      "|        1 |  0.4875 |  8.25244 |      0.55 |     6.0727 |           0.001 |\n",
      "|        2 |  0.4875 |  6.36636 |      0.55 |    4.78931 |           0.001 |\n",
      "|        3 |  0.4875 |  4.93503 |      0.55 |    3.66093 |           0.001 |\n",
      "|        4 |  0.4875 |  3.63542 |      0.55 |    2.60051 |           0.001 |\n",
      "|        5 |  0.4875 |   2.4031 |      0.55 |    1.59157 |           0.001 |\n",
      "|        6 |  0.4875 |  1.28203 |      0.55 |   0.758962 |           0.001 |\n",
      "|        7 |     0.5 | 0.716022 |      0.55 |    0.69745 |          0.0001 |\n",
      "|        8 | 0.53125 | 0.649407 |     0.575 |    0.63734 |          0.0001 |\n",
      "|        9 |  0.5375 | 0.585679 |     0.575 |   0.579969 |          0.0001 |\n",
      "|       10 |     0.6 | 0.526127 |       0.6 |   0.526337 |          0.0001 |\n",
      "|       11 |  0.6875 | 0.471625 |       0.6 |    0.47715 |          0.0001 |\n",
      "|       12 | 0.73125 | 0.422701 |      0.65 |   0.432844 |          0.0001 |\n",
      "|       13 | 0.79375 | 0.379596 |       0.7 |   0.393664 |          0.0001 |\n",
      "|       14 | 0.84375 | 0.342348 |     0.775 |   0.359677 |          0.0001 |\n",
      "|       15 |  0.8875 | 0.310838 |     0.775 |   0.330812 |          0.0001 |\n",
      "|       16 |  0.9125 | 0.284822 |     0.875 |   0.306902 |          0.0001 |\n",
      "|       17 | 0.93125 | 0.263955 |     0.975 |    0.28769 |          0.0001 |\n",
      "|       18 | 0.95625 | 0.247784 |     0.975 |   0.272734 |          0.0001 |\n",
      "|       19 | 0.96875 | 0.235717 |     0.975 |     0.2615 |          0.0001 |\n",
      "|       20 |  0.9875 | 0.227055 |     0.975 |   0.253299 |          0.0001 |\n",
      "|       21 |  0.9875 | 0.220934 |     0.975 |   0.247258 |          0.0001 |\n",
      "|       22 |       1 | 0.216448 |     0.975 |   0.242566 |          0.0001 |\n",
      "|       23 |       1 |  0.21281 |     0.975 |   0.238598 |          0.0001 |\n",
      "|       24 |       1 | 0.209508 |     0.975 |   0.234933 |          0.0001 |\n",
      "|       25 |       1 | 0.206295 |     0.975 |   0.231395 |          0.0001 |\n",
      "|       26 |       1 | 0.203105 |     0.975 |   0.227938 |          0.0001 |\n",
      "|       27 |       1 | 0.199934 |     0.975 |   0.224558 |          0.0001 |\n",
      "+----------+---------+----------+-----------+------------+-----------------+\n"
     ]
    }
   ],
   "source": [
    "tf_result(result, history_table=True)"
   ]
  },
  {
   "cell_type": "markdown",
   "metadata": {},
   "source": [
    "## #04. 성능평가\n",
    "\n",
    "### [1] 검증 데이터에 대한 예측 결과 산정\n",
    "\n",
    "sklearn의 경우 `predict()`의 결과가 1차 배열로 리턴되지만 tensor는 2차 배열로 리턴된다.\n",
    "\n",
    "sklearn의 성능평가 함수를 활용하기 위해서는 `predict()`의 결과를 1차 배열로 변환해야 한다."
   ]
  },
  {
   "cell_type": "code",
   "execution_count": 11,
   "metadata": {},
   "outputs": [
    {
     "name": "stdout",
     "output_type": "stream",
     "text": [
      "\u001b[1m2/2\u001b[0m \u001b[32m━━━━━━━━━━━━━━━━━━━━\u001b[0m\u001b[37m\u001b[0m \u001b[1m0s\u001b[0m 4ms/step \n",
      "40개의 검증 데이터가 1개의 경우의 수를 갖는다.\n",
      "[[0.3289887 ]\n",
      " [0.89047444]\n",
      " [0.89814794]\n",
      " [0.2336504 ]\n",
      " [0.78656256]\n",
      " [0.9133703 ]\n",
      " [0.27470586]\n",
      " [0.70429206]\n",
      " [0.13620436]\n",
      " [0.8760095 ]\n",
      " [0.22278957]\n",
      " [0.9145753 ]\n",
      " [0.91462004]\n",
      " [0.92309064]\n",
      " [0.2822167 ]\n",
      " [0.2093751 ]\n",
      " [0.07963486]\n",
      " [0.8486828 ]\n",
      " [0.2765107 ]\n",
      " [0.3178046 ]\n",
      " [0.86014843]\n",
      " [0.8768594 ]\n",
      " [0.33333316]\n",
      " [0.8644084 ]\n",
      " [0.14555722]\n",
      " [0.65361965]\n",
      " [0.8124561 ]\n",
      " [0.8115044 ]\n",
      " [0.90680325]\n",
      " [0.16956243]\n",
      " [0.33193615]\n",
      " [0.18775997]\n",
      " [0.84554243]\n",
      " [0.8936702 ]\n",
      " [0.17666416]\n",
      " [0.884696  ]\n",
      " [0.88592803]\n",
      " [0.3124375 ]\n",
      " [0.5245739 ]\n",
      " [0.8036274 ]]\n"
     ]
    }
   ],
   "source": [
    "test_pred = model.predict(x_test)\n",
    "data_count, case_count = test_pred.shape\n",
    "print(\"%d개의 검증 데이터가 %d개의 경우의 수를 갖는다.\" % (data_count, case_count))\n",
    "print(test_pred)"
   ]
  },
  {
   "cell_type": "markdown",
   "metadata": {},
   "source": [
    "### [2] 예측결과를 1차 배열로 변환\n",
    "\n",
    "> 이 내용을 모듈에 적용함"
   ]
  },
  {
   "cell_type": "code",
   "execution_count": 12,
   "metadata": {},
   "outputs": [
    {
     "data": {
      "text/plain": [
       "array([0.3289887 , 0.89047444, 0.89814794, 0.2336504 , 0.78656256,\n",
       "       0.9133703 , 0.27470586, 0.70429206, 0.13620436, 0.8760095 ,\n",
       "       0.22278957, 0.9145753 , 0.91462004, 0.92309064, 0.2822167 ,\n",
       "       0.2093751 , 0.07963486, 0.8486828 , 0.2765107 , 0.3178046 ,\n",
       "       0.86014843, 0.8768594 , 0.33333316, 0.8644084 , 0.14555722,\n",
       "       0.65361965, 0.8124561 , 0.8115044 , 0.90680325, 0.16956243,\n",
       "       0.33193615, 0.18775997, 0.84554243, 0.8936702 , 0.17666416,\n",
       "       0.884696  , 0.88592803, 0.3124375 , 0.5245739 , 0.8036274 ],\n",
       "      dtype=float32)"
      ]
     },
     "execution_count": 12,
     "metadata": {},
     "output_type": "execute_result"
    }
   ],
   "source": [
    "pred = test_pred.flatten()\n",
    "pred"
   ]
  },
  {
   "cell_type": "markdown",
   "metadata": {},
   "source": [
    "### [3] 분류 결과 확인"
   ]
  },
  {
   "cell_type": "code",
   "execution_count": null,
   "metadata": {},
   "outputs": [],
   "source": [
    "#my_classification_result(model, x_train=x_train, y_train=y_train, x_test=x_test, y_test=y_test)"
   ]
  }
 ],
 "metadata": {
  "kernelspec": {
   "display_name": "Python 3",
   "language": "python",
   "name": "python3"
  },
  "language_info": {
   "codemirror_mode": {
    "name": "ipython",
    "version": 3
   },
   "file_extension": ".py",
   "mimetype": "text/x-python",
   "name": "python",
   "nbconvert_exporter": "python",
   "pygments_lexer": "ipython3",
   "version": "3.11.7"
  }
 },
 "nbformat": 4,
 "nbformat_minor": 2
}
