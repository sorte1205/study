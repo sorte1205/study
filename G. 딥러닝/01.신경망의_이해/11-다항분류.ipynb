{
 "cells": [
  {
   "cell_type": "markdown",
   "metadata": {},
   "source": [
    "# 다항분류\n",
    "\n",
    "> 아이리스 데이터 셋\n",
    "\n",
    "## #01. 준비작업\n",
    "\n",
    "### [1] 패키지 가져오기"
   ]
  },
  {
   "cell_type": "code",
   "execution_count": 9,
   "metadata": {},
   "outputs": [
    {
     "name": "stdout",
     "output_type": "stream",
     "text": [
      "The autoreload extension is already loaded. To reload it, use:\n",
      "  %reload_ext autoreload\n"
     ]
    }
   ],
   "source": [
    "# 연결된 모듈이 업데이트 되면 즉시 자동 로드함\n",
    "%load_ext autoreload\n",
    "%autoreload 2\n",
    "\n",
    "from hossam.util import *\n",
    "from hossam.plot import *\n",
    "from hossam.tensor import *\n",
    "\n",
    "from tensorflow.keras.models import Sequential\n",
    "from tensorflow.keras.layers import Dense\n",
    "from tensorflow.keras.callbacks import EarlyStopping, ReduceLROnPlateau\n",
    "from tensorflow.keras.utils import to_categorical\n"
   ]
  },
  {
   "cell_type": "markdown",
   "metadata": {},
   "source": [
    "### [2] 데이터 가져오기\n"
   ]
  },
  {
   "cell_type": "code",
   "execution_count": 10,
   "metadata": {},
   "outputs": [
    {
     "name": "stdout",
     "output_type": "stream",
     "text": [
      "<class 'pandas.core.frame.DataFrame'>\n",
      "RangeIndex: 150 entries, 0 to 149\n",
      "Data columns (total 5 columns):\n",
      " #   Column        Non-Null Count  Dtype   \n",
      "---  ------        --------------  -----   \n",
      " 0   Sepal.Length  150 non-null    float64 \n",
      " 1   Sepal.Width   150 non-null    float64 \n",
      " 2   Petal.Length  150 non-null    float64 \n",
      " 3   Petal.Width   150 non-null    float64 \n",
      " 4   Species       150 non-null    category\n",
      "dtypes: category(1), float64(4)\n",
      "memory usage: 5.1 KB\n",
      "None\n",
      "\n",
      "상위 5개 행\n",
      "+----+----------------+---------------+----------------+---------------+-----------+\n",
      "|    |   Sepal.Length |   Sepal.Width |   Petal.Length |   Petal.Width | Species   |\n",
      "|----+----------------+---------------+----------------+---------------+-----------|\n",
      "|  0 |            5.1 |           3.5 |            1.4 |           0.2 | setosa    |\n",
      "|  1 |            4.9 |             3 |            1.4 |           0.2 | setosa    |\n",
      "|  2 |            4.7 |           3.2 |            1.3 |           0.2 | setosa    |\n",
      "|  3 |            4.6 |           3.1 |            1.5 |           0.2 | setosa    |\n",
      "|  4 |              5 |           3.6 |            1.4 |           0.2 | setosa    |\n",
      "+----+----------------+---------------+----------------+---------------+-----------+\n",
      "\n",
      "하위 5개 행\n",
      "+-----+----------------+---------------+----------------+---------------+-----------+\n",
      "|     |   Sepal.Length |   Sepal.Width |   Petal.Length |   Petal.Width | Species   |\n",
      "|-----+----------------+---------------+----------------+---------------+-----------|\n",
      "| 145 |            6.7 |             3 |            5.2 |           2.3 | virginica |\n",
      "| 146 |            6.3 |           2.5 |              5 |           1.9 | virginica |\n",
      "| 147 |            6.5 |             3 |            5.2 |             2 | virginica |\n",
      "| 148 |            6.2 |           3.4 |            5.4 |           2.3 | virginica |\n",
      "| 149 |            5.9 |             3 |            5.1 |           1.8 | virginica |\n",
      "+-----+----------------+---------------+----------------+---------------+-----------+\n",
      "\n",
      "기술통계\n",
      "+--------------+---------+---------+----------+-------+-------+-------+-------+-------+-------+\n",
      "|              |   count |    mean |      std |   min |   25% |   50% |   75% |   max |   nan |\n",
      "|--------------+---------+---------+----------+-------+-------+-------+-------+-------+-------|\n",
      "| Sepal.Length |     150 | 5.84333 | 0.828066 |   4.3 |   5.1 |   5.8 |   6.4 |   7.9 |     0 |\n",
      "| Sepal.Width  |     150 | 3.05733 | 0.435866 |     2 |   2.8 |     3 |   3.3 |   4.4 |     0 |\n",
      "| Petal.Length |     150 |   3.758 |   1.7653 |     1 |   1.6 |  4.35 |   5.1 |   6.9 |     0 |\n",
      "| Petal.Width  |     150 | 1.19933 | 0.762238 |   0.1 |   0.3 |   1.3 |   1.8 |   2.5 |     0 |\n",
      "+--------------+---------+---------+----------+-------+-------+-------+-------+-------+-------+\n",
      "\n",
      "카테고리 정보\n",
      "+------------+---------+\n",
      "| Species    |   count |\n",
      "|------------+---------|\n",
      "| setosa     |      50 |\n",
      "| versicolor |      50 |\n",
      "| virginica  |      50 |\n",
      "+------------+---------+\n"
     ]
    }
   ],
   "source": [
    "origin = my_read_excel(\n",
    "    path=\"https://data.hossam.kr/mldata/iris.xlsx\", categories=[\"Species\"]\n",
    ")"
   ]
  },
  {
   "cell_type": "markdown",
   "metadata": {},
   "source": [
    "## #02. 데이터 전처리\n",
    "\n",
    "### [1] 독립변수 표준화"
   ]
  },
  {
   "cell_type": "code",
   "execution_count": 11,
   "metadata": {},
   "outputs": [
    {
     "name": "stdout",
     "output_type": "stream",
     "text": [
      "+----+----------------+---------------+----------------+---------------+-----------+\n",
      "|    |   Sepal.Length |   Sepal.Width |   Petal.Length |   Petal.Width | Species   |\n",
      "|----+----------------+---------------+----------------+---------------+-----------|\n",
      "|  0 |      -0.900681 |         1.019 |       -1.34023 |      -1.31544 | setosa    |\n",
      "|  1 |       -1.14302 |     -0.131979 |       -1.34023 |      -1.31544 | setosa    |\n",
      "|  2 |       -1.38535 |      0.328414 |       -1.39706 |      -1.31544 | setosa    |\n",
      "|  3 |       -1.50652 |     0.0982173 |       -1.28339 |      -1.31544 | setosa    |\n",
      "|  4 |       -1.02185 |        1.2492 |       -1.34023 |      -1.31544 | setosa    |\n",
      "+----+----------------+---------------+----------------+---------------+-----------+\n"
     ]
    }
   ],
   "source": [
    "df = my_standard_scaler(origin, yname=\"Species\")\n",
    "my_pretty_table(df.head())"
   ]
  },
  {
   "cell_type": "markdown",
   "metadata": {},
   "source": [
    "### [2] 종속변수 라벨링\n",
    "\n",
    "여기서는 데이터 타입을 `int` 로 변경하는 것을 목적으로 한다.\n"
   ]
  },
  {
   "cell_type": "code",
   "execution_count": 12,
   "metadata": {},
   "outputs": [
    {
     "name": "stdout",
     "output_type": "stream",
     "text": [
      "+------------+---------+\n",
      "| Species    |   label |\n",
      "|------------+---------|\n",
      "| setosa     |       0 |\n",
      "| versicolor |       1 |\n",
      "| virginica  |       2 |\n",
      "+------------+---------+\n"
     ]
    }
   ],
   "source": [
    "df2 = my_labelling(df, \"Species\")"
   ]
  },
  {
   "cell_type": "markdown",
   "metadata": {},
   "source": [
    "### [3] 독립, 종속 변수 분리"
   ]
  },
  {
   "cell_type": "code",
   "execution_count": 13,
   "metadata": {},
   "outputs": [
    {
     "data": {
      "text/plain": [
       "((150, 4), (150,))"
      ]
     },
     "execution_count": 13,
     "metadata": {},
     "output_type": "execute_result"
    }
   ],
   "source": [
    "x = df2.drop([\"Species\"], axis=1)\n",
    "y = df2[\"Species\"]\n",
    "x.shape, y.shape"
   ]
  },
  {
   "cell_type": "markdown",
   "metadata": {},
   "source": [
    "### [4] 종속변수에 대한 `to_categorical()` 함수 적용\n",
    "\n",
    "> Tensorflow에서만 필요한 처리\n",
    "\n",
    "one-hot-encoding 처리를 수행한다.\n",
    "\n",
    "머신러닝에서 더미변수 처리와 같은 원리"
   ]
  },
  {
   "cell_type": "code",
   "execution_count": 14,
   "metadata": {},
   "outputs": [
    {
     "data": {
      "text/plain": [
       "array([[1., 0., 0.],\n",
       "       [1., 0., 0.],\n",
       "       [1., 0., 0.],\n",
       "       [1., 0., 0.],\n",
       "       [1., 0., 0.]])"
      ]
     },
     "execution_count": 14,
     "metadata": {},
     "output_type": "execute_result"
    }
   ],
   "source": [
    "y_cate = to_categorical(y)\n",
    "y_cate[:5]"
   ]
  },
  {
   "cell_type": "markdown",
   "metadata": {},
   "source": [
    "### [3] 훈련, 검증 데이터 분리\n"
   ]
  },
  {
   "cell_type": "code",
   "execution_count": 15,
   "metadata": {},
   "outputs": [
    {
     "data": {
      "text/plain": [
       "((120, 4), (30, 4), (120, 3), (30, 3))"
      ]
     },
     "execution_count": 15,
     "metadata": {},
     "output_type": "execute_result"
    }
   ],
   "source": [
    "x_train, x_test, y_train, y_test = my_train_test_split(data=x, ydata=y_cate)\n",
    "x_train.shape, x_test.shape, y_train.shape, y_test.shape"
   ]
  },
  {
   "cell_type": "markdown",
   "metadata": {},
   "source": [
    "## #03. 훈련 모델 적합\n",
    "\n",
    "### [1] 모델 구성\n",
    "\n",
    "| 구분 | 모델 | 활성화 함수 | 옵티마이저 | 손실함수 | 평가지표 | 대표예제 |\n",
    "|--|--|--|--|--|--|--|\n",
    "| 분류 | 다항분류 | [relu, ...] softmax | adam 혹은 rmsprop | categorical_crossentropy | acc | iris 분류 |\n"
   ]
  },
  {
   "cell_type": "code",
   "execution_count": 16,
   "metadata": {},
   "outputs": [
    {
     "data": {
      "text/plain": [
       "4"
      ]
     },
     "execution_count": 16,
     "metadata": {},
     "output_type": "execute_result"
    }
   ],
   "source": [
    "cols = x_train.shape[1]\n",
    "cols"
   ]
  },
  {
   "cell_type": "code",
   "execution_count": 17,
   "metadata": {},
   "outputs": [
    {
     "data": {
      "text/plain": [
       "3"
      ]
     },
     "execution_count": 17,
     "metadata": {},
     "output_type": "execute_result"
    }
   ],
   "source": [
    "classes = len(y_cate[0])\n",
    "classes"
   ]
  },
  {
   "cell_type": "code",
   "execution_count": 18,
   "metadata": {},
   "outputs": [
    {
     "data": {
      "text/html": [
       "<pre style=\"white-space:pre;overflow-x:auto;line-height:normal;font-family:Menlo,'DejaVu Sans Mono',consolas,'Courier New',monospace\"><span style=\"font-weight: bold\">Model: \"sequential\"</span>\n",
       "</pre>\n"
      ],
      "text/plain": [
       "\u001b[1mModel: \"sequential\"\u001b[0m\n"
      ]
     },
     "metadata": {},
     "output_type": "display_data"
    },
    {
     "data": {
      "text/html": [
       "<pre style=\"white-space:pre;overflow-x:auto;line-height:normal;font-family:Menlo,'DejaVu Sans Mono',consolas,'Courier New',monospace\">┏━━━━━━━━━━━━━━━━━━━━━━━━━━━━━━━━━┳━━━━━━━━━━━━━━━━━━━━━━━━┳━━━━━━━━━━━━━━━┓\n",
       "┃<span style=\"font-weight: bold\"> Layer (type)                    </span>┃<span style=\"font-weight: bold\"> Output Shape           </span>┃<span style=\"font-weight: bold\">       Param # </span>┃\n",
       "┡━━━━━━━━━━━━━━━━━━━━━━━━━━━━━━━━━╇━━━━━━━━━━━━━━━━━━━━━━━━╇━━━━━━━━━━━━━━━┩\n",
       "│ dense (<span style=\"color: #0087ff; text-decoration-color: #0087ff\">Dense</span>)                   │ (<span style=\"color: #00d7ff; text-decoration-color: #00d7ff\">None</span>, <span style=\"color: #00af00; text-decoration-color: #00af00\">64</span>)             │           <span style=\"color: #00af00; text-decoration-color: #00af00\">320</span> │\n",
       "├─────────────────────────────────┼────────────────────────┼───────────────┤\n",
       "│ dense_1 (<span style=\"color: #0087ff; text-decoration-color: #0087ff\">Dense</span>)                 │ (<span style=\"color: #00d7ff; text-decoration-color: #00d7ff\">None</span>, <span style=\"color: #00af00; text-decoration-color: #00af00\">3</span>)              │           <span style=\"color: #00af00; text-decoration-color: #00af00\">195</span> │\n",
       "└─────────────────────────────────┴────────────────────────┴───────────────┘\n",
       "</pre>\n"
      ],
      "text/plain": [
       "┏━━━━━━━━━━━━━━━━━━━━━━━━━━━━━━━━━┳━━━━━━━━━━━━━━━━━━━━━━━━┳━━━━━━━━━━━━━━━┓\n",
       "┃\u001b[1m \u001b[0m\u001b[1mLayer (type)                   \u001b[0m\u001b[1m \u001b[0m┃\u001b[1m \u001b[0m\u001b[1mOutput Shape          \u001b[0m\u001b[1m \u001b[0m┃\u001b[1m \u001b[0m\u001b[1m      Param #\u001b[0m\u001b[1m \u001b[0m┃\n",
       "┡━━━━━━━━━━━━━━━━━━━━━━━━━━━━━━━━━╇━━━━━━━━━━━━━━━━━━━━━━━━╇━━━━━━━━━━━━━━━┩\n",
       "│ dense (\u001b[38;5;33mDense\u001b[0m)                   │ (\u001b[38;5;45mNone\u001b[0m, \u001b[38;5;34m64\u001b[0m)             │           \u001b[38;5;34m320\u001b[0m │\n",
       "├─────────────────────────────────┼────────────────────────┼───────────────┤\n",
       "│ dense_1 (\u001b[38;5;33mDense\u001b[0m)                 │ (\u001b[38;5;45mNone\u001b[0m, \u001b[38;5;34m3\u001b[0m)              │           \u001b[38;5;34m195\u001b[0m │\n",
       "└─────────────────────────────────┴────────────────────────┴───────────────┘\n"
      ]
     },
     "metadata": {},
     "output_type": "display_data"
    },
    {
     "data": {
      "text/html": [
       "<pre style=\"white-space:pre;overflow-x:auto;line-height:normal;font-family:Menlo,'DejaVu Sans Mono',consolas,'Courier New',monospace\"><span style=\"font-weight: bold\"> Total params: </span><span style=\"color: #00af00; text-decoration-color: #00af00\">515</span> (2.01 KB)\n",
       "</pre>\n"
      ],
      "text/plain": [
       "\u001b[1m Total params: \u001b[0m\u001b[38;5;34m515\u001b[0m (2.01 KB)\n"
      ]
     },
     "metadata": {},
     "output_type": "display_data"
    },
    {
     "data": {
      "text/html": [
       "<pre style=\"white-space:pre;overflow-x:auto;line-height:normal;font-family:Menlo,'DejaVu Sans Mono',consolas,'Courier New',monospace\"><span style=\"font-weight: bold\"> Trainable params: </span><span style=\"color: #00af00; text-decoration-color: #00af00\">515</span> (2.01 KB)\n",
       "</pre>\n"
      ],
      "text/plain": [
       "\u001b[1m Trainable params: \u001b[0m\u001b[38;5;34m515\u001b[0m (2.01 KB)\n"
      ]
     },
     "metadata": {},
     "output_type": "display_data"
    },
    {
     "data": {
      "text/html": [
       "<pre style=\"white-space:pre;overflow-x:auto;line-height:normal;font-family:Menlo,'DejaVu Sans Mono',consolas,'Courier New',monospace\"><span style=\"font-weight: bold\"> Non-trainable params: </span><span style=\"color: #00af00; text-decoration-color: #00af00\">0</span> (0.00 B)\n",
       "</pre>\n"
      ],
      "text/plain": [
       "\u001b[1m Non-trainable params: \u001b[0m\u001b[38;5;34m0\u001b[0m (0.00 B)\n"
      ]
     },
     "metadata": {},
     "output_type": "display_data"
    }
   ],
   "source": [
    "model = Sequential()\n",
    "model.add(Dense(64, activation=\"relu\", input_shape=(cols,)))\n",
    "model.add(Dense(classes, activation=\"softmax\"))\n",
    "model.compile(optimizer=\"rmsprop\", loss=\"categorical_crossentropy\", metrics=[\"acc\"])\n",
    "model.summary()"
   ]
  },
  {
   "cell_type": "markdown",
   "metadata": {},
   "source": [
    "### [2] 모델 학습"
   ]
  },
  {
   "cell_type": "code",
   "execution_count": 19,
   "metadata": {},
   "outputs": [],
   "source": [
    "result = model.fit(\n",
    "    x_train,\n",
    "    y_train,\n",
    "    epochs=500,\n",
    "    validation_data=(x_test, y_test),\n",
    "    verbose=0,\n",
    "    callbacks=[\n",
    "        EarlyStopping(monitor=\"val_loss\", patience=10, verbose=0),\n",
    "        ReduceLROnPlateau(monitor=\"val_loss\", patience=5, min_lr=0.0001, verbose=0),\n",
    "    ],\n",
    ")"
   ]
  },
  {
   "cell_type": "code",
   "execution_count": 20,
   "metadata": {},
   "outputs": [
    {
     "name": "stdout",
     "output_type": "stream",
     "text": [
      "\u001b[1m1/1\u001b[0m \u001b[32m━━━━━━━━━━━━━━━━━━━━\u001b[0m\u001b[37m\u001b[0m \u001b[1m0s\u001b[0m 63ms/step - acc: 1.0000 - loss: 0.0125\n",
      "손실률: 0.01%, 정확도: 1.00%\n"
     ]
    }
   ],
   "source": [
    "ev = model.evaluate(x_test, y_test)\n",
    "print(\"손실률: %0.2f%%, 정확도: %0.2f%%\" % (ev[0], ev[1]))"
   ]
  },
  {
   "cell_type": "markdown",
   "metadata": {},
   "source": [
    "### [3] 학습 곡선 확인"
   ]
  },
  {
   "cell_type": "code",
   "execution_count": 21,
   "metadata": {},
   "outputs": [
    {
     "data": {
      "image/png": "[encoded data removed]",
      "text/plain": [
       "<Figure size 1400x500 with 2 Axes>"
      ]
     },
     "metadata": {},
     "output_type": "display_data"
    }
   ],
   "source": [
    "tf_result(result=result)"
   ]
  }
 ],
 "metadata": {
  "kernelspec": {
   "display_name": "Python 3",
   "language": "python",
   "name": "python3"
  },
  "language_info": {
   "codemirror_mode": {
    "name": "ipython",
    "version": 3
   },
   "file_extension": ".py",
   "mimetype": "text/x-python",
   "name": "python",
   "nbconvert_exporter": "python",
   "pygments_lexer": "ipython3",
   "version": "3.11.7"
  }
 },
 "nbformat": 4,
 "nbformat_minor": 2
}
