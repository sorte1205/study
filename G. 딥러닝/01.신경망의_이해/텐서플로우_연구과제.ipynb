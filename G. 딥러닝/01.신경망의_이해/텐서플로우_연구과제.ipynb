{
 "cells": [
  {
   "cell_type": "code",
   "execution_count": 2,
   "metadata": {},
   "outputs": [],
   "source": [
    "# 연결된 모듈이 업데이트 되면 즉시 자동 로드함\n",
    "%load_ext autoreload\n",
    "%autoreload 2\n",
    "\n",
    "from hossam.util import *\n",
    "from hossam.plot import *\n",
    "from hossam.tensor import *"
   ]
  },
  {
   "cell_type": "markdown",
   "metadata": {},
   "source": [
    "### [2] 데이터셋 준비하기"
   ]
  },
  {
   "cell_type": "code",
   "execution_count": 4,
   "metadata": {},
   "outputs": [
    {
     "name": "stdout",
     "output_type": "stream",
     "text": [
      "<class 'pandas.core.frame.DataFrame'>\n",
      "RangeIndex: 506 entries, 0 to 505\n",
      "Data columns (total 14 columns):\n",
      " #   Column   Non-Null Count  Dtype  \n",
      "---  ------   --------------  -----  \n",
      " 0   CRIM     506 non-null    float64\n",
      " 1   ZN       506 non-null    float64\n",
      " 2   INDUS    506 non-null    float64\n",
      " 3   CHAS     506 non-null    int64  \n",
      " 4   NOX      506 non-null    float64\n",
      " 5   RM       506 non-null    float64\n",
      " 6   AGE      506 non-null    float64\n",
      " 7   DIS      506 non-null    float64\n",
      " 8   RAD      506 non-null    int64  \n",
      " 9   TAX      506 non-null    int64  \n",
      " 10  PTRATIO  506 non-null    float64\n",
      " 11  B        506 non-null    float64\n",
      " 12  LSTAT    506 non-null    float64\n",
      " 13  MEDV     506 non-null    float64\n",
      "dtypes: float64(11), int64(3)\n",
      "memory usage: 55.5 KB\n",
      "None\n",
      "\n",
      "상위 5개 행\n",
      "+----+---------+------+---------+--------+-------+-------+-------+--------+-------+-------+-----------+--------+---------+--------+\n",
      "|    |    CRIM |   ZN |   INDUS |   CHAS |   NOX |    RM |   AGE |    DIS |   RAD |   TAX |   PTRATIO |      B |   LSTAT |   MEDV |\n",
      "|----+---------+------+---------+--------+-------+-------+-------+--------+-------+-------+-----------+--------+---------+--------|\n",
      "|  0 | 0.00632 |   18 |    2.31 |      0 | 0.538 | 6.575 |  65.2 |   4.09 |     1 |   296 |      15.3 |  396.9 |    4.98 |     24 |\n",
      "|  1 | 0.02731 |    0 |    7.07 |      0 | 0.469 | 6.421 |  78.9 | 4.9671 |     2 |   242 |      17.8 |  396.9 |    9.14 |   21.6 |\n",
      "|  2 | 0.02729 |    0 |    7.07 |      0 | 0.469 | 7.185 |  61.1 | 4.9671 |     2 |   242 |      17.8 | 392.83 |    4.03 |   34.7 |\n",
      "|  3 | 0.03237 |    0 |    2.18 |      0 | 0.458 | 6.998 |  45.8 | 6.0622 |     3 |   222 |      18.7 | 394.63 |    2.94 |   33.4 |\n",
      "|  4 | 0.06905 |    0 |    2.18 |      0 | 0.458 | 7.147 |  54.2 | 6.0622 |     3 |   222 |      18.7 |  396.9 |    5.33 |   36.2 |\n",
      "+----+---------+------+---------+--------+-------+-------+-------+--------+-------+-------+-----------+--------+---------+--------+\n",
      "\n",
      "하위 5개 행\n",
      "+-----+---------+------+---------+--------+-------+-------+-------+--------+-------+-------+-----------+--------+---------+--------+\n",
      "|     |    CRIM |   ZN |   INDUS |   CHAS |   NOX |    RM |   AGE |    DIS |   RAD |   TAX |   PTRATIO |      B |   LSTAT |   MEDV |\n",
      "|-----+---------+------+---------+--------+-------+-------+-------+--------+-------+-------+-----------+--------+---------+--------|\n",
      "| 501 | 0.06263 |    0 |   11.93 |      0 | 0.573 | 6.593 |  69.1 | 2.4786 |     1 |   273 |        21 | 391.99 |    9.67 |   22.4 |\n",
      "| 502 | 0.04527 |    0 |   11.93 |      0 | 0.573 |  6.12 |  76.7 | 2.2875 |     1 |   273 |        21 |  396.9 |    9.08 |   20.6 |\n",
      "| 503 | 0.06076 |    0 |   11.93 |      0 | 0.573 | 6.976 |    91 | 2.1675 |     1 |   273 |        21 |  396.9 |    5.64 |   23.9 |\n",
      "| 504 | 0.10959 |    0 |   11.93 |      0 | 0.573 | 6.794 |  89.3 | 2.3889 |     1 |   273 |        21 | 393.45 |    6.48 |     22 |\n",
      "| 505 | 0.04741 |    0 |   11.93 |      0 | 0.573 |  6.03 |  80.8 |  2.505 |     1 |   273 |        21 |  396.9 |    7.88 |   11.9 |\n",
      "+-----+---------+------+---------+--------+-------+-------+-------+--------+-------+-------+-----------+--------+---------+--------+\n",
      "\n",
      "기술통계\n",
      "+---------+---------+----------+----------+---------+----------+---------+---------+---------+-------+\n",
      "|         |   count |     mean |      std |     min |      25% |     50% |     75% |     max |   nan |\n",
      "|---------+---------+----------+----------+---------+----------+---------+---------+---------+-------|\n",
      "| CRIM    |     506 |  3.61352 |  8.60155 | 0.00632 | 0.082045 | 0.25651 | 3.67708 | 88.9762 |     0 |\n",
      "| ZN      |     506 |  11.3636 |  23.3225 |       0 |        0 |       0 |    12.5 |     100 |     0 |\n",
      "| INDUS   |     506 |  11.1368 |  6.86035 |    0.46 |     5.19 |    9.69 |    18.1 |   27.74 |     0 |\n",
      "| CHAS    |     506 |  0.06917 | 0.253994 |       0 |        0 |       0 |       0 |       1 |     0 |\n",
      "| NOX     |     506 | 0.554695 | 0.115878 |   0.385 |    0.449 |   0.538 |   0.624 |   0.871 |     0 |\n",
      "| RM      |     506 |  6.28463 | 0.702617 |   3.561 |   5.8855 |  6.2085 |  6.6235 |    8.78 |     0 |\n",
      "| AGE     |     506 |  68.5749 |  28.1489 |     2.9 |   45.025 |    77.5 |  94.075 |     100 |     0 |\n",
      "| DIS     |     506 |  3.79504 |  2.10571 |  1.1296 |  2.10018 | 3.20745 | 5.18843 | 12.1265 |     0 |\n",
      "| RAD     |     506 |  9.54941 |  8.70726 |       1 |        4 |       5 |      24 |      24 |     0 |\n",
      "| TAX     |     506 |  408.237 |  168.537 |     187 |      279 |     330 |     666 |     711 |     0 |\n",
      "| PTRATIO |     506 |  18.4555 |  2.16495 |    12.6 |     17.4 |   19.05 |    20.2 |      22 |     0 |\n",
      "| B       |     506 |  356.674 |  91.2949 |    0.32 |  375.377 |  391.44 | 396.225 |   396.9 |     0 |\n",
      "| LSTAT   |     506 |  12.6531 |  7.14106 |    1.73 |     6.95 |   11.36 |  16.955 |   37.97 |     0 |\n",
      "| MEDV    |     506 |  22.5328 |   9.1971 |       5 |   17.025 |    21.2 |      25 |      50 |     0 |\n",
      "+---------+---------+----------+----------+---------+----------+---------+---------+---------+-------+\n"
     ]
    }
   ],
   "source": [
    "origin = my_read_excel(\"https://data.hossam.kr/mldata/boston.xlsx\")"
   ]
  },
  {
   "cell_type": "markdown",
   "metadata": {},
   "source": [
    "## #02. 데이터 전처리\n",
    "\n",
    "### [1] 데이터 스케일링"
   ]
  },
  {
   "cell_type": "code",
   "execution_count": 5,
   "metadata": {},
   "outputs": [
    {
     "name": "stdout",
     "output_type": "stream",
     "text": [
      "+----+-------------+------+-----------+--------+----------+----------+----------+----------+-----------+-----------+-----------+----------+-----------+--------+\n",
      "|    |        CRIM |   ZN |     INDUS |   CHAS |      NOX |       RM |      AGE |      DIS |       RAD |       TAX |   PTRATIO |        B |     LSTAT |   MEDV |\n",
      "|----+-------------+------+-----------+--------+----------+----------+----------+----------+-----------+-----------+-----------+----------+-----------+--------|\n",
      "|  0 |           0 | 0.18 | 0.0678152 |      0 | 0.314815 | 0.577505 | 0.641607 | 0.269203 |         0 |  0.208015 |  0.287234 |        1 | 0.0896799 |     24 |\n",
      "|  1 | 0.000235923 |    0 |  0.242302 |      0 |  0.17284 | 0.547998 | 0.782698 | 0.348962 | 0.0434783 |  0.104962 |  0.553191 |        1 |   0.20447 |   21.6 |\n",
      "|  2 | 0.000235698 |    0 |  0.242302 |      0 |  0.17284 | 0.694386 | 0.599382 | 0.348962 | 0.0434783 |  0.104962 |  0.553191 | 0.989737 | 0.0634658 |   34.7 |\n",
      "|  3 | 0.000292796 |    0 | 0.0630499 |      0 | 0.150206 | 0.658555 | 0.441813 | 0.448545 | 0.0869565 | 0.0667939 |  0.648936 | 0.994276 | 0.0333885 |   33.4 |\n",
      "|  4 |  0.00070507 |    0 | 0.0630499 |      0 | 0.150206 | 0.687105 | 0.528321 | 0.448545 | 0.0869565 | 0.0667939 |  0.648936 |        1 | 0.0993377 |   36.2 |\n",
      "+----+-------------+------+-----------+--------+----------+----------+----------+----------+-----------+-----------+-----------+----------+-----------+--------+\n"
     ]
    }
   ],
   "source": [
    "df = my_minmax_scaler(data=origin, yname=\"MEDV\")\n",
    "\n",
    "my_pretty_table(data=df.head())"
   ]
  },
  {
   "cell_type": "markdown",
   "metadata": {},
   "source": [
    "### [2] 훈련/검증 데이터 분할\n"
   ]
  },
  {
   "cell_type": "code",
   "execution_count": 9,
   "metadata": {},
   "outputs": [],
   "source": [
    "x_train, x_test, y_train, y_test = my_train_test_split(data=df, yname=\"MEDV\")\n",
    "rows, cols = x_train.shape"
   ]
  },
  {
   "cell_type": "markdown",
   "metadata": {},
   "source": [
    "## #03. 하이퍼파라미터 튜닝\n",
    "\n",
    "### [1] 훈련 모델 적합\n",
    "\n",
    "튜닝할 파라미터를 설정하는 콜백함수를 정의해야 한다. (람다식 불가~!!!)"
   ]
  },
  {
   "cell_type": "code",
   "execution_count": 7,
   "metadata": {},
   "outputs": [],
   "source": [
    "def tf_build(hp) -> Sequential:\n",
    "    model = Sequential()\n",
    "\n",
    "    model.add(\n",
    "        Dense(\n",
    "            units=hp.Choice(\"units\", values=[32, 64, 128]),\n",
    "            activation=\"relu\",\n",
    "            input_shape=(cols,),\n",
    "        )\n",
    "    )\n",
    "    model.add(\n",
    "        Dense(\n",
    "            units=hp.Choice(\"units\", values=[16, 32, 64]),\n",
    "            activation=\"relu\",\n",
    "        )\n",
    "    )\n",
    "    model.add(Dense(1, activation=\"linear\"))\n",
    "\n",
    "    model.compile(\n",
    "        optimizer=Adam(hp.Choice(\"learning_rate\", values=[1e-2, 1e-3, 1e-4])),\n",
    "        loss=\"mse\",\n",
    "        metrics=[\"mae\"],\n",
    "    )\n",
    "\n",
    "    return model"
   ]
  },
  {
   "cell_type": "markdown",
   "metadata": {},
   "source": [
    "### [2] 튜너를 인스턴스화하고 하이퍼튜닝 수행하기\n",
    "\n",
    "튜너를 인스턴스화하여 하이퍼튜닝을 수행한다.\n",
    "- Keras Tuner에는 RandomSearch, Hyperband, BayesianOptimization 및 Sklearn의 네 가지 튜너가 있다.\n",
    "\n",
    "- Hyperband 튜너를 인스턴스화하려면 최적화할 하이퍼모델인 objective, 및 훈련할 최대 epoch 수(max_epochs)를 지정해야 한다."
   ]
  },
  {
   "cell_type": "code",
   "execution_count": 10,
   "metadata": {},
   "outputs": [
    {
     "data": {
      "text/plain": [
       "<keras_tuner.src.tuners.hyperband.Hyperband at 0x210c15bcf50>"
      ]
     },
     "execution_count": 10,
     "metadata": {},
     "output_type": "execute_result"
    }
   ],
   "source": [
    "tuner = Hyperband(\n",
    "    hypermodel=tf_build,    # 하이퍼파라미터를 튜닝하기 위한 모델 생성 함수\n",
    "    objective=\"val_mae\",    # 최적화 기준값\n",
    "    max_epochs=10,\n",
    "    factor=3,\n",
    "    seed=get_random_state(),\n",
    "    directory=\"E:\\\\DataScience\\\\MainCourse\\\\tensor_hyperband\",\n",
    "    project_name=\"tf_hyperband_%s\" % dt.now().strftime(\"%Y%m%d%H%M%S\"),\n",
    ")\n",
    "\n",
    "tuner"
   ]
  },
  {
   "cell_type": "code",
   "execution_count": 11,
   "metadata": {},
   "outputs": [
    {
     "name": "stdout",
     "output_type": "stream",
     "text": [
      "Trial 9 Complete [00h 00m 04s]\n",
      "val_mae: 22.278467178344727\n",
      "\n",
      "Best val_mae So Far: 6.3813796043396\n",
      "Total elapsed time: 00h 00m 26s\n",
      "\n",
      "The hyperparameter search is complete. The optimal number of units in the first densely-connected\n",
      "layer is 64 and the optimal learning rate for the optimizer\n",
      "is 0.01.\n",
      "\n"
     ]
    }
   ],
   "source": [
    "tuner.search(\n",
    "    x_train, y_train, epochs=10, batch_size=32, validation_data=(x_test, y_test)\n",
    ")\n",
    "\n",
    "# Get the optimal hyperparameters\n",
    "best_hps = tuner.get_best_hyperparameters()\n",
    "\n",
    "if not best_hps:\n",
    "    raise ValueError(\"No best hyperparameters found.\")\n",
    "\n",
    "print(\n",
    "    f\"\"\"\n",
    "The hyperparameter search is complete. The optimal number of units in the first densely-connected\n",
    "layer is {best_hps[0].get('units')} and the optimal learning rate for the optimizer\n",
    "is {best_hps[0].get('learning_rate')}.\n",
    "\"\"\"\n",
    ")"
   ]
  },
  {
   "cell_type": "markdown",
   "metadata": {},
   "source": [
    "### [3] 학습 및 결과 평가\n",
    "\n",
    "도출된 하이퍼 파라미터가 적용된 새로운 모델을 생성하고, 학습을 별도로 수행해야 한다."
   ]
  },
  {
   "cell_type": "code",
   "execution_count": 12,
   "metadata": {},
   "outputs": [
    {
     "name": "stdout",
     "output_type": "stream",
     "text": [
      "+-------+---------+---------+\n",
      "|       |    loss |     mae |\n",
      "|-------+---------+---------|\n",
      "| train | 7.30355 |  2.0115 |\n",
      "| test  | 18.4019 | 2.91882 |\n",
      "+-------+---------+---------+\n"
     ]
    },
    {
     "data": {
      "image/png": "[encoded data removed]",
      "text/plain": [
       "<Figure size 1400x500 with 2 Axes>"
      ]
     },
     "metadata": {},
     "output_type": "display_data"
    }
   ],
   "source": [
    "model = tuner.hypermodel.build(best_hps[0])\n",
    "result = tf_train(model, x_train, y_train, x_test, y_test)\n",
    "tf_result(result)"
   ]
  }
 ],
 "metadata": {
  "kernelspec": {
   "display_name": "Python 3",
   "language": "python",
   "name": "python3"
  },
  "language_info": {
   "codemirror_mode": {
    "name": "ipython",
    "version": 3
   },
   "file_extension": ".py",
   "mimetype": "text/x-python",
   "name": "python",
   "nbconvert_exporter": "python",
   "pygments_lexer": "ipython3",
   "version": "3.11.7"
  }
 },
 "nbformat": 4,
 "nbformat_minor": 2
}
