{
  "nbformat": 4,
  "nbformat_minor": 0,
  "metadata": {
    "colab": {
      "provenance": [],
      "gpuType": "T4"
    },
    "kernelspec": {
      "name": "python3",
      "display_name": "Python 3"
    },
    "language_info": {
      "name": "python"
    },
    "accelerator": "GPU"
  },
  "cells": [
    {
      "cell_type": "markdown",
      "source": [
        "# 딥러닝을 이용한 고객 이탈 예측\n",
        "\n",
        "## #1. Pytorch를 이용한 딥러닝\n",
        "## #2. 딥러닝 이론\n",
        "## #3. 미니 프로젝트\n",
        "\n",
        "유통업이란?\n",
        "  생산된 상품을 소비자에게 전달하기 위한 모든 활동:\n",
        "  제조업체, 도매업자, 소매업자, 유통채널, 마케팅 및 판매, 전자상거래, 로지스틱스 등\n",
        "\n",
        "유통업계 현황\n",
        "  이마롯쿠 (국내 유통 3강인 이마트, 롯데마트, 쿠팡을 의미)\n",
        "  쿠팡, 이커머스서 '리테일' 기업으로 변신 중\n",
        "\n",
        "  \n",
        "## 딥러닝 기초수학\n"
      ],
      "metadata": {
        "id": "7a8fXFTevI3W"
      }
    },
    {
      "cell_type": "code",
      "source": [
        "import torch\n",
        "import numpy as np"
      ],
      "metadata": {
        "id": "B3NSdXLe6UtI"
      },
      "execution_count": 8,
      "outputs": []
    },
    {
      "cell_type": "code",
      "source": [
        "data = [[1,2], [3,4]]\n",
        "tensor = torch.tensor(data, dtype=torch.float)\n",
        "# 딥러닝은 dtype 이 실수가 아니면 돌아가지 않음."
      ],
      "metadata": {
        "id": "Vt12kJWC6oKB"
      },
      "execution_count": 9,
      "outputs": []
    },
    {
      "cell_type": "code",
      "source": [
        "print(tensor.dtype,'\\n',tensor)"
      ],
      "metadata": {
        "id": "rRL0V-GS6yLT",
        "outputId": "812acbe9-e51e-40c5-ba8a-103136eb60bb",
        "colab": {
          "base_uri": "https://localhost:8080/"
        }
      },
      "execution_count": 10,
      "outputs": [
        {
          "output_type": "stream",
          "name": "stdout",
          "text": [
            "torch.float32 \n",
            " tensor([[1., 2.],\n",
            "        [3., 4.]])\n"
          ]
        }
      ]
    },
    {
      "cell_type": "code",
      "source": [
        "np_array = np.array(data, dtype=float)\n",
        "tensor1 = torch.from_numpy(np_array)\n",
        "\n",
        "print(tensor1)"
      ],
      "metadata": {
        "id": "1Dc_VGCt7Ys6",
        "outputId": "81068ea5-5e56-44e6-d847-e2ac3a24c7fb",
        "colab": {
          "base_uri": "https://localhost:8080/"
        }
      },
      "execution_count": 11,
      "outputs": [
        {
          "output_type": "stream",
          "name": "stdout",
          "text": [
            "tensor([[1., 2.],\n",
            "        [3., 4.]], dtype=torch.float64)\n"
          ]
        }
      ]
    },
    {
      "cell_type": "code",
      "source": [
        "#np_array = np.array(data)\n",
        "#tensor1 = torch.from_numpy(np_array, dtype=torch.float)\n",
        "\n",
        "#print(tensor1)"
      ],
      "metadata": {
        "id": "TObXlxAG-McZ"
      },
      "execution_count": 12,
      "outputs": []
    },
    {
      "cell_type": "code",
      "source": [
        "ones = torch.ones_like(tensor)\n",
        "rands=torch.rand_like(tensor)\n",
        "print(ones, '\\n', rands)"
      ],
      "metadata": {
        "colab": {
          "base_uri": "https://localhost:8080/"
        },
        "id": "v-g9Qm3E-Zbk",
        "outputId": "1c262d60-e306-43f0-bf3d-b3585f1d8015"
      },
      "execution_count": 13,
      "outputs": [
        {
          "output_type": "stream",
          "name": "stdout",
          "text": [
            "tensor([[1., 1.],\n",
            "        [1., 1.]]) \n",
            " tensor([[0.7733, 0.4626],\n",
            "        [0.1960, 0.7098]])\n"
          ]
        }
      ]
    },
    {
      "cell_type": "code",
      "source": [
        "tensor.dtype #data type\n",
        "tensor.shape #data shape\n",
        "tensor.size() # data shape\n",
        "\n",
        "tensor.device # device 확인"
      ],
      "metadata": {
        "colab": {
          "base_uri": "https://localhost:8080/"
        },
        "id": "CSmYrz0t-9fI",
        "outputId": "a5b54085-664c-48bb-e0b7-f59304d57542"
      },
      "execution_count": 14,
      "outputs": [
        {
          "output_type": "execute_result",
          "data": {
            "text/plain": [
              "device(type='cpu')"
            ]
          },
          "metadata": {},
          "execution_count": 14
        }
      ]
    },
    {
      "cell_type": "code",
      "source": [
        "if torch.cuda.is_available():\n",
        "  tensor = tensor.to('cuda')\n",
        "  print(f\"Device tensor is sored on: {tensor.device}\")"
      ],
      "metadata": {
        "colab": {
          "base_uri": "https://localhost:8080/"
        },
        "id": "9CSTzjq0_7Vg",
        "outputId": "5fab837d-69cb-4fcb-9ace-f64928997a37"
      },
      "execution_count": 16,
      "outputs": [
        {
          "output_type": "stream",
          "name": "stdout",
          "text": [
            "Device tensor is sored on: cuda:0\n"
          ]
        }
      ]
    },
    {
      "cell_type": "markdown",
      "source": [
        "인덱싱, 슬라이싱"
      ],
      "metadata": {
        "id": "Uf_JsnHyATYA"
      }
    },
    {
      "cell_type": "code",
      "source": [
        "data = [[1,2,3],[4,5,6],[7,8,9]]\n",
        "\n",
        "tensor2 = torch.tensor(data)"
      ],
      "metadata": {
        "id": "1adB3c0vAV1w"
      },
      "execution_count": 17,
      "outputs": []
    },
    {
      "cell_type": "code",
      "source": [
        "tensor2[0,1]"
      ],
      "metadata": {
        "colab": {
          "base_uri": "https://localhost:8080/"
        },
        "id": "m-7JOliuAkWw",
        "outputId": "899ffae0-fab7-4e8b-ec70-838a6092bcd7"
      },
      "execution_count": 19,
      "outputs": [
        {
          "output_type": "execute_result",
          "data": {
            "text/plain": [
              "tensor(2)"
            ]
          },
          "metadata": {},
          "execution_count": 19
        }
      ]
    },
    {
      "cell_type": "code",
      "source": [
        "tensor2[:2,]"
      ],
      "metadata": {
        "colab": {
          "base_uri": "https://localhost:8080/"
        },
        "id": "nTgtI-25Aqhm",
        "outputId": "bdfc1e22-f84d-4142-d6e2-dddc4a7889af"
      },
      "execution_count": 20,
      "outputs": [
        {
          "output_type": "execute_result",
          "data": {
            "text/plain": [
              "tensor([[1, 2, 3],\n",
              "        [4, 5, 6]])"
            ]
          },
          "metadata": {},
          "execution_count": 20
        }
      ]
    },
    {
      "cell_type": "code",
      "source": [
        "tensor_new = torch.cat([tensor2, tensor2])\n",
        "print(tensor_new.shape)\n",
        "print(tensor_new)"
      ],
      "metadata": {
        "colab": {
          "base_uri": "https://localhost:8080/"
        },
        "id": "nnhgSbaGAuCN",
        "outputId": "15c8cf1b-3dc3-4129-bd0a-30dd6a4464ec"
      },
      "execution_count": 23,
      "outputs": [
        {
          "output_type": "stream",
          "name": "stdout",
          "text": [
            "torch.Size([6, 3])\n",
            "tensor([[1, 2, 3],\n",
            "        [4, 5, 6],\n",
            "        [7, 8, 9],\n",
            "        [1, 2, 3],\n",
            "        [4, 5, 6],\n",
            "        [7, 8, 9]])\n"
          ]
        }
      ]
    },
    {
      "cell_type": "code",
      "source": [
        "tensor_new2 = torch.cat([tensor2, tensor2], dim=1) # axis=1 도 같은 결과\n",
        "print(tensor_new2.shape)\n",
        "print(tensor_new2)\n"
      ],
      "metadata": {
        "colab": {
          "base_uri": "https://localhost:8080/"
        },
        "id": "7Pe4_5jiA_xo",
        "outputId": "860533ba-2152-4a39-a1f3-357bdb1bb43a"
      },
      "execution_count": 28,
      "outputs": [
        {
          "output_type": "stream",
          "name": "stdout",
          "text": [
            "torch.Size([3, 6])\n",
            "tensor([[1, 2, 3, 1, 2, 3],\n",
            "        [4, 5, 6, 4, 5, 6],\n",
            "        [7, 8, 9, 7, 8, 9]])\n"
          ]
        }
      ]
    },
    {
      "cell_type": "code",
      "source": [
        "tensor+tensor"
      ],
      "metadata": {
        "colab": {
          "base_uri": "https://localhost:8080/"
        },
        "id": "DDuwBQEMBaO8",
        "outputId": "da98159b-3376-452b-c3dc-0a5b549565d8"
      },
      "execution_count": 29,
      "outputs": [
        {
          "output_type": "execute_result",
          "data": {
            "text/plain": [
              "tensor([[2., 4.],\n",
              "        [6., 8.]], device='cuda:0')"
            ]
          },
          "metadata": {},
          "execution_count": 29
        }
      ]
    },
    {
      "cell_type": "code",
      "source": [
        "3*tensor"
      ],
      "metadata": {
        "colab": {
          "base_uri": "https://localhost:8080/"
        },
        "id": "TGBfRPqgBc1A",
        "outputId": "402503fc-b2ef-49fb-c843-646e26d286bb"
      },
      "execution_count": 30,
      "outputs": [
        {
          "output_type": "execute_result",
          "data": {
            "text/plain": [
              "tensor([[ 3.,  6.],\n",
              "        [ 9., 12.]], device='cuda:0')"
            ]
          },
          "metadata": {},
          "execution_count": 30
        }
      ]
    },
    {
      "cell_type": "markdown",
      "source": [
        "#### Elementwise 곱\n",
        "> 같은 자리에 있는 것들 끼리 곱한다"
      ],
      "metadata": {
        "id": "DLrY6JkZBqta"
      }
    },
    {
      "cell_type": "code",
      "source": [
        "tensor.mul(tensor)"
      ],
      "metadata": {
        "colab": {
          "base_uri": "https://localhost:8080/"
        },
        "id": "EQtCHOtWCToQ",
        "outputId": "4e8cf77c-8d0a-4fd1-8b9a-533037e11e13"
      },
      "execution_count": 31,
      "outputs": [
        {
          "output_type": "execute_result",
          "data": {
            "text/plain": [
              "tensor([[ 1.,  4.],\n",
              "        [ 9., 16.]], device='cuda:0')"
            ]
          },
          "metadata": {},
          "execution_count": 31
        }
      ]
    },
    {
      "cell_type": "markdown",
      "source": [
        "#### 내적\n",
        "> 행렬곱"
      ],
      "metadata": {
        "id": "FnCu1NW7CfdR"
      }
    },
    {
      "cell_type": "code",
      "source": [
        "tensor.matmul(tensor)"
      ],
      "metadata": {
        "colab": {
          "base_uri": "https://localhost:8080/"
        },
        "id": "EvyTkV3UCbKI",
        "outputId": "0fd7b76b-36db-43fe-9899-782c0c7dfc2e"
      },
      "execution_count": 32,
      "outputs": [
        {
          "output_type": "execute_result",
          "data": {
            "text/plain": [
              "tensor([[ 7., 10.],\n",
              "        [15., 22.]], device='cuda:0')"
            ]
          },
          "metadata": {},
          "execution_count": 32
        }
      ]
    },
    {
      "cell_type": "code",
      "source": [
        "tensor@tensor"
      ],
      "metadata": {
        "colab": {
          "base_uri": "https://localhost:8080/"
        },
        "id": "5aDkJZlgCjmC",
        "outputId": "2475b486-96a8-4645-d8ff-8cb14d2bd1a6"
      },
      "execution_count": 33,
      "outputs": [
        {
          "output_type": "execute_result",
          "data": {
            "text/plain": [
              "tensor([[ 7., 10.],\n",
              "        [15., 22.]], device='cuda:0')"
            ]
          },
          "metadata": {},
          "execution_count": 33
        }
      ]
    },
    {
      "cell_type": "markdown",
      "source": [
        "### 최대값, argmax"
      ],
      "metadata": {
        "id": "F2vtBnTPCuVA"
      }
    },
    {
      "cell_type": "code",
      "source": [
        "tensor2"
      ],
      "metadata": {
        "colab": {
          "base_uri": "https://localhost:8080/"
        },
        "id": "rt5AtGb4Cz0c",
        "outputId": "33b3ce07-2ddd-4a34-9eae-3df0f88a279d"
      },
      "execution_count": 34,
      "outputs": [
        {
          "output_type": "execute_result",
          "data": {
            "text/plain": [
              "tensor([[1, 2, 3],\n",
              "        [4, 5, 6],\n",
              "        [7, 8, 9]])"
            ]
          },
          "metadata": {},
          "execution_count": 34
        }
      ]
    },
    {
      "cell_type": "code",
      "source": [
        "tensor2.max()"
      ],
      "metadata": {
        "colab": {
          "base_uri": "https://localhost:8080/"
        },
        "id": "cdWpiRb9C124",
        "outputId": "34007085-8a6c-42c5-bf2d-eb0f5c74ee48"
      },
      "execution_count": 35,
      "outputs": [
        {
          "output_type": "execute_result",
          "data": {
            "text/plain": [
              "tensor(9)"
            ]
          },
          "metadata": {},
          "execution_count": 35
        }
      ]
    },
    {
      "cell_type": "code",
      "source": [
        "tensor2.max(dim=0) # 같은 열 중에서 최대 값"
      ],
      "metadata": {
        "colab": {
          "base_uri": "https://localhost:8080/"
        },
        "id": "XXxxgWk7DCl8",
        "outputId": "f72ccebe-17df-4329-be27-e6a7e4ec61fd"
      },
      "execution_count": 37,
      "outputs": [
        {
          "output_type": "execute_result",
          "data": {
            "text/plain": [
              "torch.return_types.max(\n",
              "values=tensor([7, 8, 9]),\n",
              "indices=tensor([2, 2, 2]))"
            ]
          },
          "metadata": {},
          "execution_count": 37
        }
      ]
    },
    {
      "cell_type": "code",
      "source": [
        "tensor2.max(dim=1) # 같은 행에서 최대 값"
      ],
      "metadata": {
        "colab": {
          "base_uri": "https://localhost:8080/"
        },
        "id": "jdi0NTzHDL9_",
        "outputId": "7008f1c5-afa3-4edc-e397-e8b117982c98"
      },
      "execution_count": 38,
      "outputs": [
        {
          "output_type": "execute_result",
          "data": {
            "text/plain": [
              "torch.return_types.max(\n",
              "values=tensor([3, 6, 9]),\n",
              "indices=tensor([2, 2, 2]))"
            ]
          },
          "metadata": {},
          "execution_count": 38
        }
      ]
    },
    {
      "cell_type": "code",
      "source": [
        "tensor2.argmax() # max값의 위치 (index)"
      ],
      "metadata": {
        "colab": {
          "base_uri": "https://localhost:8080/"
        },
        "id": "9beVuVivDYFy",
        "outputId": "cd26e33f-b14c-41cc-f3fb-5be6dacb954e"
      },
      "execution_count": 39,
      "outputs": [
        {
          "output_type": "execute_result",
          "data": {
            "text/plain": [
              "tensor(8)"
            ]
          },
          "metadata": {},
          "execution_count": 39
        }
      ]
    },
    {
      "cell_type": "markdown",
      "source": [
        "tensor의 위치 값\n",
        "\n",
        "([0, 1, 2]\n",
        "\n",
        "[3, 4, 5]\n",
        "\n",
        "[6, 7, 8])"
      ],
      "metadata": {
        "id": "HIWcrNAYDirR"
      }
    },
    {
      "cell_type": "code",
      "source": [
        "tensor4 = torch.tensor ([[1., 2., 3., 10.], [4., 5., 6., 11.], [7., 8., 9., 12.]])"
      ],
      "metadata": {
        "id": "Og2fDKv7D7hE"
      },
      "execution_count": 46,
      "outputs": []
    },
    {
      "cell_type": "code",
      "source": [
        "print(tensor4)\n",
        "print(tensor4.shape)"
      ],
      "metadata": {
        "colab": {
          "base_uri": "https://localhost:8080/"
        },
        "id": "_b0SbqidEQst",
        "outputId": "0960559b-5d8f-4133-b801-42750a86a1f7"
      },
      "execution_count": 47,
      "outputs": [
        {
          "output_type": "stream",
          "name": "stdout",
          "text": [
            "tensor([[ 1.,  2.,  3., 10.],\n",
            "        [ 4.,  5.,  6., 11.],\n",
            "        [ 7.,  8.,  9., 12.]])\n",
            "torch.Size([3, 4])\n"
          ]
        }
      ]
    },
    {
      "cell_type": "code",
      "source": [
        "tensor4.max(dim=0)"
      ],
      "metadata": {
        "colab": {
          "base_uri": "https://localhost:8080/"
        },
        "id": "Skebc8laEV1o",
        "outputId": "94cc31f6-897f-4b18-efb7-9fffa80a8376"
      },
      "execution_count": 48,
      "outputs": [
        {
          "output_type": "execute_result",
          "data": {
            "text/plain": [
              "torch.return_types.max(\n",
              "values=tensor([ 7.,  8.,  9., 12.]),\n",
              "indices=tensor([2, 2, 2, 2]))"
            ]
          },
          "metadata": {},
          "execution_count": 48
        }
      ]
    },
    {
      "cell_type": "markdown",
      "source": [
        "\n",
        "### Reshape"
      ],
      "metadata": {
        "id": "pSl15YoYE4lf"
      }
    },
    {
      "cell_type": "code",
      "source": [
        "tensor4"
      ],
      "metadata": {
        "colab": {
          "base_uri": "https://localhost:8080/"
        },
        "id": "UFUIHVJoFP9F",
        "outputId": "21bdc719-2c9e-4c01-d9b7-18e12a53d2fa"
      },
      "execution_count": 49,
      "outputs": [
        {
          "output_type": "execute_result",
          "data": {
            "text/plain": [
              "tensor([[ 1.,  2.,  3., 10.],\n",
              "        [ 4.,  5.,  6., 11.],\n",
              "        [ 7.,  8.,  9., 12.]])"
            ]
          },
          "metadata": {},
          "execution_count": 49
        }
      ]
    },
    {
      "cell_type": "code",
      "source": [
        "tensor4.reshape(2,6)"
      ],
      "metadata": {
        "colab": {
          "base_uri": "https://localhost:8080/"
        },
        "id": "zKwQB8h_FbR3",
        "outputId": "6f7b7132-1712-46d9-8e9f-ce1aa616c2d5"
      },
      "execution_count": 52,
      "outputs": [
        {
          "output_type": "execute_result",
          "data": {
            "text/plain": [
              "tensor([[ 1.,  2.,  3., 10.,  4.,  5.],\n",
              "        [ 6., 11.,  7.,  8.,  9., 12.]])"
            ]
          },
          "metadata": {},
          "execution_count": 52
        }
      ]
    },
    {
      "cell_type": "code",
      "source": [
        "tensor4.reshape(4, -1) # -1로 해주면, 4에 맞는 값으로 자동 바꿔줌"
      ],
      "metadata": {
        "colab": {
          "base_uri": "https://localhost:8080/"
        },
        "id": "tQ6uJA0PFk6_",
        "outputId": "e84a997d-2205-423a-e280-0ebe4bc3b2cc"
      },
      "execution_count": 54,
      "outputs": [
        {
          "output_type": "execute_result",
          "data": {
            "text/plain": [
              "tensor([[ 1.,  2.,  3.],\n",
              "        [10.,  4.,  5.],\n",
              "        [ 6., 11.,  7.],\n",
              "        [ 8.,  9., 12.]])"
            ]
          },
          "metadata": {},
          "execution_count": 54
        }
      ]
    },
    {
      "cell_type": "code",
      "source": [
        "tensor4.view(2,6)"
      ],
      "metadata": {
        "colab": {
          "base_uri": "https://localhost:8080/"
        },
        "id": "wbNXYRsJFpWE",
        "outputId": "f3b589a7-40ce-48b6-e2ff-6acc7aac5f85"
      },
      "execution_count": 55,
      "outputs": [
        {
          "output_type": "execute_result",
          "data": {
            "text/plain": [
              "tensor([[ 1.,  2.,  3., 10.,  4.,  5.],\n",
              "        [ 6., 11.,  7.,  8.,  9., 12.]])"
            ]
          },
          "metadata": {},
          "execution_count": 55
        }
      ]
    },
    {
      "cell_type": "code",
      "source": [
        "tensor4.shape"
      ],
      "metadata": {
        "colab": {
          "base_uri": "https://localhost:8080/"
        },
        "id": "LTl-4jJ9F0lf",
        "outputId": "83334844-60a8-47dd-d816-5ab85f12d64d"
      },
      "execution_count": 56,
      "outputs": [
        {
          "output_type": "execute_result",
          "data": {
            "text/plain": [
              "torch.Size([3, 4])"
            ]
          },
          "metadata": {},
          "execution_count": 56
        }
      ]
    },
    {
      "cell_type": "code",
      "source": [
        "tensor_new4 = torch.unsqueeze(tensor4, dim=0) # size 표현을 인덱스로 봤을때 0번째가 1\n",
        "print(tensor_new4, '\\n',tensor_new4.shape)\n"
      ],
      "metadata": {
        "colab": {
          "base_uri": "https://localhost:8080/"
        },
        "id": "zR1WX1vVGFjq",
        "outputId": "30aa2a18-8566-498d-87b4-711db67ddc1c"
      },
      "execution_count": 64,
      "outputs": [
        {
          "output_type": "stream",
          "name": "stdout",
          "text": [
            "tensor([[[ 1.,  2.,  3., 10.],\n",
            "         [ 4.,  5.,  6., 11.],\n",
            "         [ 7.,  8.,  9., 12.]]]) \n",
            " torch.Size([1, 3, 4])\n"
          ]
        }
      ]
    },
    {
      "cell_type": "code",
      "source": [
        "tensor_new4 = torch.unsqueeze(tensor4, dim=1) # size 표현을 인덱스로 봤을때 1번째가 1\n",
        "print(tensor_new4, '\\n',tensor_new4.shape)\n",
        "# 맨 밖 괄호 입장에서는 리스트 3개\n",
        "# 그 안쪽 괄호 입장에서는 리스트 1개\n",
        "# 맨 안쪽 괄호 입장에서는 원소 4 개"
      ],
      "metadata": {
        "colab": {
          "base_uri": "https://localhost:8080/"
        },
        "id": "S6g1VsX5GcnI",
        "outputId": "79ebaaa5-0f43-4bb3-e66b-9f47ac1bf9bd"
      },
      "execution_count": 61,
      "outputs": [
        {
          "output_type": "stream",
          "name": "stdout",
          "text": [
            "tensor([[[ 1.,  2.,  3., 10.]],\n",
            "\n",
            "        [[ 4.,  5.,  6., 11.]],\n",
            "\n",
            "        [[ 7.,  8.,  9., 12.]]]) \n",
            " torch.Size([3, 1, 4])\n"
          ]
        }
      ]
    },
    {
      "cell_type": "code",
      "source": [
        "tensor_new4 = torch.unsqueeze(tensor4, dim=2) # size 표현을 인덱스로 봤을때 2번째가 1\n",
        "print(tensor_new4, '\\n',tensor_new4.shape)"
      ],
      "metadata": {
        "colab": {
          "base_uri": "https://localhost:8080/"
        },
        "id": "S71rRiL8GoGk",
        "outputId": "78115c59-2b60-4b7f-dd0f-0322ed54166e"
      },
      "execution_count": 63,
      "outputs": [
        {
          "output_type": "stream",
          "name": "stdout",
          "text": [
            "tensor([[[ 1.],\n",
            "         [ 2.],\n",
            "         [ 3.],\n",
            "         [10.]],\n",
            "\n",
            "        [[ 4.],\n",
            "         [ 5.],\n",
            "         [ 6.],\n",
            "         [11.]],\n",
            "\n",
            "        [[ 7.],\n",
            "         [ 8.],\n",
            "         [ 9.],\n",
            "         [12.]]]) \n",
            " torch.Size([3, 4, 1])\n"
          ]
        }
      ]
    },
    {
      "cell_type": "code",
      "source": [
        "tensor_new4_1 = torch.squeeze(tensor_new4, dim=0) # shape 인덱스 0이 1 -> 맨 바깥쪽 괄호가 의미가 없음. -> squeeze (reshape)해보자\n",
        "print(tensor_new4_1.shape, '\\n', tensor_new4_1)"
      ],
      "metadata": {
        "colab": {
          "base_uri": "https://localhost:8080/"
        },
        "id": "iutjdZpjHu02",
        "outputId": "7d8b7a35-8e23-4047-b0cc-65aa01163bf4"
      },
      "execution_count": 65,
      "outputs": [
        {
          "output_type": "stream",
          "name": "stdout",
          "text": [
            "torch.Size([3, 4]) \n",
            " tensor([[ 1.,  2.,  3., 10.],\n",
            "        [ 4.,  5.,  6., 11.],\n",
            "        [ 7.,  8.,  9., 12.]])\n"
          ]
        }
      ]
    },
    {
      "cell_type": "markdown",
      "source": [
        "### 브로드캐스팅"
      ],
      "metadata": {
        "id": "ww8-VVdVIOuu"
      }
    },
    {
      "cell_type": "code",
      "source": [
        "m1 = torch.FloatTensor([3,3])\n",
        "m2 = torch.FloatTensor([2,2])\n",
        "print(m1+m2)"
      ],
      "metadata": {
        "colab": {
          "base_uri": "https://localhost:8080/"
        },
        "id": "U4jnnT7JIRmP",
        "outputId": "9249347f-6365-4926-e8f5-afeb87b00d01"
      },
      "execution_count": 66,
      "outputs": [
        {
          "output_type": "stream",
          "name": "stdout",
          "text": [
            "tensor([5., 5.])\n"
          ]
        }
      ]
    },
    {
      "cell_type": "code",
      "source": [
        "m1= torch.FloatTensor([1,2, 3, 4]) # 1차원 벡터에\n",
        "m2 = torch.FloatTensor([3])  # 스칼라를 더함.\n",
        "print(m1+m2)                 # 차원이 다른데도, 연산이 되어 벡터로 만들어짐."
      ],
      "metadata": {
        "colab": {
          "base_uri": "https://localhost:8080/"
        },
        "id": "4_CyRsUJIaZT",
        "outputId": "3b0fc211-f5ea-435e-d793-788648a301b0"
      },
      "execution_count": 68,
      "outputs": [
        {
          "output_type": "stream",
          "name": "stdout",
          "text": [
            "tensor([4., 5., 6., 7.])\n"
          ]
        }
      ]
    },
    {
      "cell_type": "code",
      "source": [
        "m1= torch.FloatTensor([[1,2], [3, 4]]) # 2차원 행렬\n",
        "m2 = torch.FloatTensor([3,4])  # 1차원 벡터\n",
        "print(m1+m2)                 # 차원이 다른데도, 연산이 되어 벡터로 만들어짐."
      ],
      "metadata": {
        "colab": {
          "base_uri": "https://localhost:8080/"
        },
        "id": "DI_9hS5lIxY7",
        "outputId": "8b44da3b-1b89-42bb-fdba-cc1cab2b2847"
      },
      "execution_count": 73,
      "outputs": [
        {
          "output_type": "stream",
          "name": "stdout",
          "text": [
            "tensor([[4., 6.],\n",
            "        [6., 8.]])\n"
          ]
        }
      ]
    },
    {
      "cell_type": "markdown",
      "source": [
        "> 과제\n",
        "\n",
        "![image.png](data:image/png;base64,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)"
      ],
      "metadata": {
        "id": "sU0pASR9KTIV"
      }
    },
    {
      "cell_type": "code",
      "source": [
        "x = torch.tensor([1,2,-1,4], dtype = torch.float).reshape(4,1)\n",
        "y = torch.tensor([-2,4,1,0], dtype = torch.float).reshape(4,1)\n",
        "\n",
        "print(x+y)\n",
        "print(x-y)\n",
        "print(-2*x)"
      ],
      "metadata": {
        "colab": {
          "base_uri": "https://localhost:8080/"
        },
        "id": "cZdEkkLvKf3e",
        "outputId": "0d72fe9f-5abb-4d91-df03-40830d7198b3"
      },
      "execution_count": 80,
      "outputs": [
        {
          "output_type": "stream",
          "name": "stdout",
          "text": [
            "tensor([[-1.],\n",
            "        [ 6.],\n",
            "        [ 0.],\n",
            "        [ 4.]])\n",
            "tensor([[ 3.],\n",
            "        [-2.],\n",
            "        [-2.],\n",
            "        [ 4.]])\n",
            "tensor([[-2.],\n",
            "        [-4.],\n",
            "        [ 2.],\n",
            "        [-8.]])\n"
          ]
        }
      ]
    }
  ]
}