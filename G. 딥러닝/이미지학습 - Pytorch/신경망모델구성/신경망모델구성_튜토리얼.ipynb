{
 "cells": [
  {
   "cell_type": "markdown",
   "metadata": {},
   "source": [
    "신경망 모델 구성하기"
   ]
  },
  {
   "cell_type": "code",
   "execution_count": 6,
   "metadata": {},
   "outputs": [],
   "source": [
    "import os #dir 파일 경로 확인\n",
    "import torch \n",
    "from torch import nn # nn구성 함수가 들어있는 라이브러리\n",
    "from torch.utils.data import DataLoader \n",
    "from torchvision import datasets, transforms \n"
   ]
  },
  {
   "cell_type": "markdown",
   "metadata": {},
   "source": [
    "학습을 위한 장치 얻기"
   ]
  },
  {
   "cell_type": "code",
   "execution_count": 7,
   "metadata": {},
   "outputs": [
    {
     "name": "stdout",
     "output_type": "stream",
     "text": [
      "Using cuda device\n"
     ]
    }
   ],
   "source": [
    "device = (\n",
    "    \"cuda\"\n",
    "    if torch.cuda.is_available()\n",
    "    else \"mps\"\n",
    "    if torch.backends.mps.is_available()\n",
    "    else \"cpu\"\n",
    ")\n",
    "print(f\"Using {device} device\")"
   ]
  },
  {
   "cell_type": "markdown",
   "metadata": {},
   "source": [
    "클래스 정의하기"
   ]
  },
  {
   "cell_type": "code",
   "execution_count": 8,
   "metadata": {},
   "outputs": [],
   "source": [
    "class NeuralNetwork(nn.Module):\n",
    "    def __init__(self):\n",
    "        super().__init__()\n",
    "        self.flatten = nn.Flatten()\n",
    "        # sequential : 연산 여러개를 한꺼번에 -> 순차적으로. \n",
    "        self.linear_relu_stack = nn.Sequential(\n",
    "            nn.Linear(28*28, 512),\n",
    "            nn.ReLU(),\n",
    "            nn.Linear(512,512),\n",
    "            nn.ReLU(),\n",
    "            nn.Linear(512,10),\n",
    "        )\n",
    "    \n",
    "    def forward(self, x):\n",
    "        x = self.flatten(x)\n",
    "        logits = self.linear_relu_stack(x)\n",
    "        return logits"
   ]
  },
  {
   "cell_type": "markdown",
   "metadata": {},
   "source": [
    "NeuralNetwork 인스턴스 생성"
   ]
  },
  {
   "cell_type": "code",
   "execution_count": 4,
   "metadata": {},
   "outputs": [
    {
     "name": "stdout",
     "output_type": "stream",
     "text": [
      "NeuralNetwork(\n",
      "  (flatten): Flatten(start_dim=1, end_dim=-1)\n",
      "  (linear_relu_stack): Sequential(\n",
      "    (0): Linear(in_features=784, out_features=512, bias=True)\n",
      "    (1): ReLU()\n",
      "    (2): Linear(in_features=512, out_features=512, bias=True)\n",
      "    (3): ReLU()\n",
      "    (4): Linear(in_features=512, out_features=10, bias=True)\n",
      "  )\n",
      ")\n"
     ]
    }
   ],
   "source": [
    "model = NeuralNetwork().to(device)\n",
    "print(model)"
   ]
  },
  {
   "cell_type": "code",
   "execution_count": 10,
   "metadata": {},
   "outputs": [
    {
     "data": {
      "text/plain": [
       "Parameter containing:\n",
       "tensor([[-0.0093, -0.0192, -0.0436,  ..., -0.0309,  0.0049, -0.0173],\n",
       "        [ 0.0308, -0.0388,  0.0223,  ..., -0.0384, -0.0067, -0.0225],\n",
       "        [-0.0029,  0.0354,  0.0136,  ..., -0.0046, -0.0165, -0.0157],\n",
       "        ...,\n",
       "        [-0.0253, -0.0278,  0.0052,  ..., -0.0390, -0.0310,  0.0253],\n",
       "        [ 0.0436,  0.0025, -0.0069,  ..., -0.0265, -0.0349,  0.0317],\n",
       "        [-0.0310,  0.0421,  0.0227,  ..., -0.0020,  0.0308, -0.0126]],\n",
       "       device='cuda:0', requires_grad=True)"
      ]
     },
     "execution_count": 10,
     "metadata": {},
     "output_type": "execute_result"
    }
   ],
   "source": [
    "model.linear_relu_stack[2].weight"
   ]
  },
  {
   "cell_type": "markdown",
   "metadata": {},
   "source": [
    "모델을 사용하기 위해 입력 데이터 전달"
   ]
  },
  {
   "cell_type": "code",
   "execution_count": 5,
   "metadata": {},
   "outputs": [
    {
     "name": "stdout",
     "output_type": "stream",
     "text": [
      "Predicted class: tensor([3], device='cuda:0')\n"
     ]
    }
   ],
   "source": [
    "# 데이터입력값\n",
    "X = torch.rand(1, 28, 28, device = device)\n",
    "# 원시 예측값 (2차원 텐서 반환. dim=0: 각 class에 대한 raw_pred 10개, dim=1: 각 출력의 개별 값)\n",
    "logits = model(X)\n",
    "# 예측 확률\n",
    "# 원시 예측값을 소프트맥스 함수를 사용하여 확률로 변환.  dim=1은 각 샘플에 대해 소프트맥스 함수를 적용하고자 하는 축을 지정\n",
    "#dim=0이면 각 열을 기준으로 소프트맥스가 계산되고, dim=1이면 각 행을 기준으로 소프트맥스가 계산.\n",
    "pred_probab = nn.Softmax(dim = 1)(logits)\n",
    "# argmax는 가장 큰 값을 갖는 텐서의 인덱스를 출력하는 함수. 여기서 1은 기준 축을 의미.\n",
    "y_pred = pred_probab.argmax(1)\n",
    "print(f\"Predicted class: {y_pred}\")"
   ]
  },
  {
   "cell_type": "markdown",
   "metadata": {},
   "source": [
    "모델 계층 (Layer)"
   ]
  },
  {
   "cell_type": "code",
   "execution_count": 9,
   "metadata": {},
   "outputs": [
    {
     "name": "stdout",
     "output_type": "stream",
     "text": [
      "torch.Size([3, 28, 28])\n"
     ]
    }
   ],
   "source": [
    "# 28*28 크기의 이미지 3개로 구성된 미니배치 가져오기\n",
    "input_image = torch.rand(3,28,28)\n",
    "print(input_image.size())"
   ]
  },
  {
   "cell_type": "markdown",
   "metadata": {},
   "source": [
    "nn.Flatten"
   ]
  },
  {
   "cell_type": "code",
   "execution_count": 10,
   "metadata": {},
   "outputs": [
    {
     "name": "stdout",
     "output_type": "stream",
     "text": [
      "torch.Size([3, 784])\n"
     ]
    }
   ],
   "source": [
    "flatten = nn.Flatten()\n",
    "# nn.Flatten 계층을 초기화해, 28*28의 2D 이미지를 784픽셀의 연속된 배열로 변환\n",
    "# dim=0 의 미니배치차원(torch.Size([3, 784]에서 3을 의미)은 유지    \n",
    "flat_image = flatten(input_image)\n",
    "print(flat_image.size())"
   ]
  },
  {
   "cell_type": "markdown",
   "metadata": {},
   "source": [
    "nn.Linear\n",
    "> 저장된 가중치 (weight)와 편향(bias)을 사용해 입력에 선형변환을 적용"
   ]
  },
  {
   "cell_type": "code",
   "execution_count": 11,
   "metadata": {},
   "outputs": [
    {
     "name": "stdout",
     "output_type": "stream",
     "text": [
      "torch.Size([3, 20])\n"
     ]
    }
   ],
   "source": [
    "layer1= nn.Linear(in_features=28*28, out_features =20)\n",
    "hidden1 = layer1(flat_image)\n",
    "print(hidden1.size())"
   ]
  },
  {
   "cell_type": "markdown",
   "metadata": {},
   "source": [
    "nn.ReLU\n",
    "\n",
    "> 음수는 0으로 대체됨"
   ]
  },
  {
   "cell_type": "code",
   "execution_count": 12,
   "metadata": {},
   "outputs": [
    {
     "name": "stdout",
     "output_type": "stream",
     "text": [
      "Before ReLU: tensor([[ 0.2896, -0.2576, -0.5705, -0.0360, -0.2172, -0.2067, -0.0269,  0.3022,\n",
      "          0.5741,  0.4558,  0.0926, -0.6318,  0.6971, -0.3391, -0.0194, -0.2867,\n",
      "          0.2350, -0.2284,  0.3050, -0.3578],\n",
      "        [ 0.2483,  0.0979, -0.7292, -0.1237, -0.0335,  0.0503,  0.2763,  0.5774,\n",
      "          0.1041,  0.2437,  0.4904, -0.4468,  0.4251, -0.4840, -0.4445, -0.5006,\n",
      "          0.1947, -0.2053,  0.6312, -0.5017],\n",
      "        [ 0.5822,  0.2414, -0.5770, -0.0181,  0.1839,  0.1270,  0.3097, -0.0236,\n",
      "         -0.0910,  0.1575, -0.0762, -0.5402,  0.5960, -0.1332, -0.0810, -0.2235,\n",
      "          0.0468, -0.3239,  0.5517, -0.2793]], grad_fn=<AddmmBackward0>)\n",
      "\n",
      "\n",
      "After ReLU: tensor([[0.2896, 0.0000, 0.0000, 0.0000, 0.0000, 0.0000, 0.0000, 0.3022, 0.5741,\n",
      "         0.4558, 0.0926, 0.0000, 0.6971, 0.0000, 0.0000, 0.0000, 0.2350, 0.0000,\n",
      "         0.3050, 0.0000],\n",
      "        [0.2483, 0.0979, 0.0000, 0.0000, 0.0000, 0.0503, 0.2763, 0.5774, 0.1041,\n",
      "         0.2437, 0.4904, 0.0000, 0.4251, 0.0000, 0.0000, 0.0000, 0.1947, 0.0000,\n",
      "         0.6312, 0.0000],\n",
      "        [0.5822, 0.2414, 0.0000, 0.0000, 0.1839, 0.1270, 0.3097, 0.0000, 0.0000,\n",
      "         0.1575, 0.0000, 0.0000, 0.5960, 0.0000, 0.0000, 0.0000, 0.0468, 0.0000,\n",
      "         0.5517, 0.0000]], grad_fn=<ReluBackward0>)\n"
     ]
    }
   ],
   "source": [
    "print(f\"Before ReLU: {hidden1}\\n\\n\")\n",
    "hidden1 = nn.ReLU()(hidden1)\n",
    "print(f\"After ReLU: {hidden1}\")"
   ]
  },
  {
   "cell_type": "markdown",
   "metadata": {},
   "source": [
    "nn.Sequential\n",
    "> 순서를 갖는 모듈의 컨테이너"
   ]
  },
  {
   "cell_type": "code",
   "execution_count": 14,
   "metadata": {},
   "outputs": [],
   "source": [
    "seq_modules = nn.Sequential(\n",
    "    flatten,\n",
    "    layer1,\n",
    "    nn.ReLU(),\n",
    "    nn.Linear(20,10)\n",
    ")\n",
    "input_image = torch.rand(3, 28, 28)\n",
    "logits = seq_modules(input_image) # logits 값은 [-infty, infty] 범위."
   ]
  },
  {
   "cell_type": "markdown",
   "metadata": {},
   "source": [
    "nn.Softmax\n",
    "\n",
    "> logits는 모델의 각 class에 대한 예측 확률을 나타내도록 [0,1] 범위로 비례하여 조정됨. dim 매개변수는 값의 합이 1이 되는 차원을 나타냄."
   ]
  },
  {
   "cell_type": "code",
   "execution_count": 15,
   "metadata": {},
   "outputs": [],
   "source": [
    "softmax = nn.Softmax(dim=1)\n",
    "pred_probab = softmax(logits)"
   ]
  },
  {
   "cell_type": "markdown",
   "metadata": {},
   "source": [
    "모델 매개변수"
   ]
  },
  {
   "cell_type": "code",
   "execution_count": 17,
   "metadata": {},
   "outputs": [
    {
     "name": "stdout",
     "output_type": "stream",
     "text": [
      "Model structure: NeuralNetwork(\n",
      "  (flatten): Flatten(start_dim=1, end_dim=-1)\n",
      "  (linear_relu_stack): Sequential(\n",
      "    (0): Linear(in_features=784, out_features=512, bias=True)\n",
      "    (1): ReLU()\n",
      "    (2): Linear(in_features=512, out_features=512, bias=True)\n",
      "    (3): ReLU()\n",
      "    (4): Linear(in_features=512, out_features=10, bias=True)\n",
      "  )\n",
      ")\n",
      "\n",
      "\n",
      "Layer: linear_relu_stack.0.weight | Size: torch.Size([512, 784]) | Values: tensor([[-0.0239,  0.0170, -0.0193,  ..., -0.0325,  0.0263, -0.0120],\n",
      "        [-0.0329, -0.0105, -0.0104,  ..., -0.0248,  0.0233, -0.0348]],\n",
      "       device='cuda:0', grad_fn=<SliceBackward0>) \n",
      "\n",
      "Layer: linear_relu_stack.0.bias | Size: torch.Size([512]) | Values: tensor([-0.0209,  0.0047], device='cuda:0', grad_fn=<SliceBackward0>) \n",
      "\n",
      "Layer: linear_relu_stack.2.weight | Size: torch.Size([512, 512]) | Values: tensor([[-0.0271, -0.0153, -0.0226,  ...,  0.0021, -0.0315, -0.0240],\n",
      "        [-0.0398,  0.0101, -0.0177,  ..., -0.0317,  0.0219, -0.0017]],\n",
      "       device='cuda:0', grad_fn=<SliceBackward0>) \n",
      "\n",
      "Layer: linear_relu_stack.2.bias | Size: torch.Size([512]) | Values: tensor([-0.0006,  0.0003], device='cuda:0', grad_fn=<SliceBackward0>) \n",
      "\n",
      "Layer: linear_relu_stack.4.weight | Size: torch.Size([10, 512]) | Values: tensor([[ 0.0235, -0.0385,  0.0145,  ...,  0.0041,  0.0070, -0.0102],\n",
      "        [-0.0339,  0.0096, -0.0045,  ..., -0.0005, -0.0410,  0.0282]],\n",
      "       device='cuda:0', grad_fn=<SliceBackward0>) \n",
      "\n",
      "Layer: linear_relu_stack.4.bias | Size: torch.Size([10]) | Values: tensor([-0.0171, -0.0306], device='cuda:0', grad_fn=<SliceBackward0>) \n",
      "\n"
     ]
    }
   ],
   "source": [
    "print(f\"Model structure: {model}\\n\\n\")\n",
    "# nn.moule을 상속하면, 모델 객체 내부의 모든 필드들이 자동으로 추적됨. parameters() 및 named_parameters() 메소드로 모든 매개변수에 접근 가능.\n",
    "# 각 매개변수들마다 매개변수의 크기와 값 출력\n",
    "for name, param in model.named_parameters():\n",
    "    print(f\"Layer: {name} | Size: {param.size()} | Values: {param[:2]} \\n\")"
   ]
  },
  {
   "cell_type": "code",
   "execution_count": null,
   "metadata": {},
   "outputs": [],
   "source": []
  }
 ],
 "metadata": {
  "kernelspec": {
   "display_name": "myAnaconda",
   "language": "python",
   "name": "python3"
  },
  "language_info": {
   "codemirror_mode": {
    "name": "ipython",
    "version": 3
   },
   "file_extension": ".py",
   "mimetype": "text/x-python",
   "name": "python",
   "nbconvert_exporter": "python",
   "pygments_lexer": "ipython3",
   "version": "3.9.7"
  }
 },
 "nbformat": 4,
 "nbformat_minor": 2
}
