{
 "cells": [
  {
   "cell_type": "code",
   "execution_count": 9,
   "metadata": {},
   "outputs": [],
   "source": [
    "import torch.nn as nn\n",
    "import torch.nn.functional as F # 파라미터가 없는 함수들 모임\n",
    "import torch"
   ]
  },
  {
   "cell_type": "code",
   "execution_count": 2,
   "metadata": {},
   "outputs": [
    {
     "name": "stdout",
     "output_type": "stream",
     "text": [
      "Using cuda device\n"
     ]
    }
   ],
   "source": [
    "device = (\n",
    "    \"cuda\"\n",
    "    if torch.cuda.is_available()\n",
    "    else \"mps\"\n",
    "    if torch.backends.mps.is_available()\n",
    "    else \"cpu\"\n",
    ")\n",
    "print(f\"Using {device} device\")"
   ]
  },
  {
   "cell_type": "code",
   "execution_count": 3,
   "metadata": {},
   "outputs": [],
   "source": [
    "# 오류가 났던 모델\n",
    "class Net(nn.Module):\n",
    "    def __init__(self):\n",
    "        super().__init__() # 32*32\n",
    "        self.conv1 = nn.Conv2d(1, 6, 5) #32-(5)+1 =28\n",
    "        self.pool1 = nn.MaxPool2d(2, 2) \n",
    "        self.conv2 = nn.Conv2d(6, 16, 5)\n",
    "        self.pool2 = nn.MaxPool2d(2, 2)\n",
    "        self.fc1= nn.Linear(400, out_features=120)\n",
    "        self.fc2 = nn.Linear(120, 84)\n",
    "        self.fc3 = nn.Linear(84, 10)\n",
    "    \n",
    "    def forward(self, x):\n",
    "        x = self.pool1(F.relu(self.conv1(x)))  # 6, 14, 14\n",
    "        x = self.pool2(F.relu(self.conv2(x))) #16, 5, 5\n",
    "        x = torch.flatten(x,1)  # 400\n",
    "        x = self.fc2(F.relu(self.fc1(x))) # 84\n",
    "        x = self.fc3(F.relu(x)) # 10\n",
    "        return x"
   ]
  },
  {
   "cell_type": "code",
   "execution_count": 6,
   "metadata": {},
   "outputs": [],
   "source": [
    "# 수정한 모델\n",
    "class Net(nn.Module):\n",
    "    def __init__(self):\n",
    "        super().__init__()\n",
    "        self.conv1 = nn.Conv2d(1, 6, 5)\n",
    "        self.pool1 = nn.MaxPool2d(2, 2) \n",
    "        self.conv2 = nn.Conv2d(6, 16, 5)\n",
    "        self.pool2 = nn.MaxPool2d(2, 2)\n",
    "        self.fc1= nn.Linear(400, out_features=120)\n",
    "        self.fc2 = nn.Linear(120, 84)\n",
    "        self.fc3 = nn.Linear(84, 10)\n",
    "    \n",
    "    def forward(self, x):\n",
    "        x = self.pool1(F.relu(self.conv1(x)))  # 6, 14, 14\n",
    "        x = self.pool2(F.relu(self.conv2(x))) #16, 5, 5\n",
    "        x = torch.flatten(x,0)  # 400\n",
    "        x = self.fc2(F.relu(self.fc1(x))) # 84\n",
    "        x = self.fc3(F.relu(x)) # 10\n",
    "        return x"
   ]
  },
  {
   "cell_type": "markdown",
   "metadata": {},
   "source": [
    "https://pytorch.org/docs/stable/generated/torch.flatten.html\n",
    "> flatten을 쓰는 법!\n",
    "> dim = 0은 가장 밖. 그것부터 flatten할 것인지에 대한 뜻."
   ]
  },
  {
   "cell_type": "markdown",
   "metadata": {},
   "source": [
    "결과를 이렇게 하나 하나 확인해볼 수 있다!"
   ]
  },
  {
   "cell_type": "code",
   "execution_count": 12,
   "metadata": {},
   "outputs": [
    {
     "name": "stdout",
     "output_type": "stream",
     "text": [
      "after conv1 tensor([[ 0.1767,  0.5099,  0.2811,  0.1192,  0.2436,  0.2181,  0.2618,  0.3569,\n",
      "          0.1170,  0.4378,  0.1879,  0.2645,  0.2526,  0.1127,  0.4620,  0.3147,\n",
      "          0.2179, -0.1752,  0.4312,  0.2890,  0.2204,  0.1696,  0.2275,  0.5134,\n",
      "          0.1934,  0.2623, -0.0919,  0.4461],\n",
      "        [ 0.1105,  0.2790,  0.2349,  0.3074,  0.0452,  0.4467,  0.2779,  0.2666,\n",
      "          0.3471,  0.1146,  0.3940,  0.1031,  0.5431, -0.0803,  0.1840,  0.3206,\n",
      "          0.4485,  0.0346,  0.1839,  0.0809,  0.3556,  0.2699,  0.1056,  0.2724,\n",
      "          0.1099,  0.2503,  0.1501,  0.2629]], grad_fn=<SliceBackward0>)\n",
      "after pool1 tensor([[0.5099, 0.3074, 0.4467, 0.3569, 0.4378, 0.3940, 0.5431, 0.4620, 0.4485,\n",
      "         0.4312, 0.3556, 0.5134, 0.2623, 0.4461],\n",
      "        [0.2270, 0.4986, 0.4605, 0.3856, 0.5990, 0.5626, 0.4731, 0.4172, 0.4538,\n",
      "         0.3046, 0.4045, 0.7254, 0.6088, 0.3371]], grad_fn=<SliceBackward0>)\n"
     ]
    }
   ],
   "source": [
    "input_image = torch.rand(3, 1, 32, 32)\n",
    "conv1 = nn.Conv2d(1, 6, 5)\n",
    "pool1 = nn.MaxPool2d(2,2)\n",
    "x = conv1(input_image)\n",
    "print(\"after conv1\", x[0,0,0:2])\n",
    "x = pool1(x)\n",
    "print(\"after pool1\", x[0,0,0:2])\n"
   ]
  },
  {
   "cell_type": "code",
   "execution_count": 7,
   "metadata": {},
   "outputs": [
    {
     "name": "stdout",
     "output_type": "stream",
     "text": [
      "Net(\n",
      "  (conv1): Conv2d(1, 6, kernel_size=(5, 5), stride=(1, 1))\n",
      "  (pool1): MaxPool2d(kernel_size=2, stride=2, padding=0, dilation=1, ceil_mode=False)\n",
      "  (conv2): Conv2d(6, 16, kernel_size=(5, 5), stride=(1, 1))\n",
      "  (pool2): MaxPool2d(kernel_size=2, stride=2, padding=0, dilation=1, ceil_mode=False)\n",
      "  (fc1): Linear(in_features=400, out_features=120, bias=True)\n",
      "  (fc2): Linear(in_features=120, out_features=84, bias=True)\n",
      "  (fc3): Linear(in_features=84, out_features=10, bias=True)\n",
      ")\n"
     ]
    }
   ],
   "source": [
    "model = Net().to(device)\n",
    "print(model)"
   ]
  },
  {
   "cell_type": "code",
   "execution_count": 8,
   "metadata": {},
   "outputs": [
    {
     "data": {
      "text/plain": [
       "tensor([ 0.0967, -0.0296, -0.1176, -0.0413,  0.0529,  0.0548, -0.0302,  0.0478,\n",
       "        -0.0653, -0.1082], device='cuda:0', grad_fn=<ViewBackward0>)"
      ]
     },
     "execution_count": 8,
     "metadata": {},
     "output_type": "execute_result"
    }
   ],
   "source": [
    "# 데이터입력값\n",
    "X = torch.rand(1, 32, 32, device = device) # torch.rand(3,1,32,32) 첫번째는 배치 사이즈\n",
    "# 원시 예측값 (2차원 텐서 반환. dim=0: 각 class에 대한 raw_pred 10개, dim=1: 각 출력의 개별 값)\n",
    "logits = model(X)\n",
    "logits"
   ]
  }
 ],
 "metadata": {
  "kernelspec": {
   "display_name": "myAnaconda",
   "language": "python",
   "name": "python3"
  },
  "language_info": {
   "codemirror_mode": {
    "name": "ipython",
    "version": 3
   },
   "file_extension": ".py",
   "mimetype": "text/x-python",
   "name": "python",
   "nbconvert_exporter": "python",
   "pygments_lexer": "ipython3",
   "version": "3.9.7"
  }
 },
 "nbformat": 4,
 "nbformat_minor": 2
}
